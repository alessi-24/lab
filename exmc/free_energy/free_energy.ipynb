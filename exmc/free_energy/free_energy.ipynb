{
 "cells": [
  {
   "cell_type": "code",
   "execution_count": 1,
   "metadata": {},
   "outputs": [
    {
     "data": {
      "text/plain": [
       "Plots.GRBackend()"
      ]
     },
     "metadata": {},
     "output_type": "display_data"
    }
   ],
   "source": [
    "using Distributions\n",
    "using Random\n",
    "using LinearAlgebra\n",
    "using Plots\n",
    "using StatsBase\n",
    "using LaTeXStrings\n",
    "using DataFrames\n",
    "using CSV\n",
    "using Base.Threads\n",
    "using HDF5\n",
    "gr()"
   ]
  },
  {
   "attachments": {},
   "cell_type": "markdown",
   "metadata": {},
   "source": [
    "データ読み込み"
   ]
  },
  {
   "cell_type": "code",
   "execution_count": 2,
   "metadata": {},
   "outputs": [
    {
     "data": {
      "text/plain": [
       "10×40 Matrix{Float64}:\n",
       " -0.02809    0.01011    0.1769    …  0.0998   0.1298  0.10785  0.1206\n",
       "  0.00808    0.1775    -0.001215     0.09985  0.1298  0.10785  0.1206\n",
       "  0.176     -0.000458  -0.02922      0.09985  0.1296  0.10785  0.1206\n",
       " -0.002375  -0.02817    0.04483      0.0999   0.1296  0.10785  0.12054\n",
       " -0.02744   -0.002033  -0.05557      0.0999   0.1296  0.10785  0.12054\n",
       " -0.001781  -0.05432    0.0395    …  0.1      0.1296  0.1079   0.12054\n",
       " -0.000969   0.04068    0.005753     0.1      0.1295  0.1079   0.12054\n",
       "  0.0412     0.00824    0.1753       0.1      0.1295  0.1079   0.12054\n",
       "  0.008316   0.1755    -0.0671       0.10004  0.1295  0.1079   0.12054\n",
       "  0.00904   -0.0659    -0.02821      0.10004  0.1295  0.1079   0.12054"
      ]
     },
     "metadata": {},
     "output_type": "display_data"
    }
   ],
   "source": [
    "para_df = CSV.read(\"/Users/test/home/lab_research_1/exmc/result/chi/B40.csv\", DataFrame)\n",
    "para = Matrix(para_df[:,:])"
   ]
  },
  {
   "cell_type": "code",
   "execution_count": null,
   "metadata": {},
   "outputs": [],
   "source": []
  }
 ],
 "metadata": {
  "kernelspec": {
   "display_name": "Julia 1.6.2",
   "language": "julia",
   "name": "julia-1.6"
  },
  "language_info": {
   "file_extension": ".jl",
   "mimetype": "application/julia",
   "name": "julia",
   "version": "1.6.2"
  },
  "orig_nbformat": 4
 },
 "nbformat": 4,
 "nbformat_minor": 2
}
