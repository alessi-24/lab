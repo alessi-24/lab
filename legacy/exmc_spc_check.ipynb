{
 "cells": [
  {
   "cell_type": "code",
   "execution_count": 1,
   "metadata": {},
   "outputs": [
    {
     "data": {
      "text/plain": [
       "Plots.GRBackend()"
      ]
     },
     "execution_count": 1,
     "metadata": {},
     "output_type": "execute_result"
    }
   ],
   "source": [
    "using Distributions\n",
    "using Random\n",
    "using LinearAlgebra\n",
    "using Plots\n",
    "using StatsBase\n",
    "using LaTeXStrings\n",
    "using DataFrames\n",
    "using CSV\n",
    "using Base.Threads\n",
    "using HDF5\n",
    "gr()"
   ]
  },
  {
   "cell_type": "code",
   "execution_count": 2,
   "metadata": {},
   "outputs": [
    {
     "data": {
      "text/plain": [
       "ini (generic function with 1 method)"
      ]
     },
     "execution_count": 2,
     "metadata": {},
     "output_type": "execute_result"
    }
   ],
   "source": [
    "#各種結晶場パラメータ\n",
    "function ini()\n",
    "    # Hund's Rule Ground J-Multiplet Ce3+ n4f=1\n",
    "    n4f = 1.0\n",
    "    L = 3.0\n",
    "    S = 0.5\n",
    "    J = L - S\n",
    "    g = 1.0 + (J * (J + 1.0) + S * (S + 1.0) - L * (L + 1.0)) / (2.0 * J * (J + 1.0))\n",
    "    Jz = [2.5, 1.5, 0.5, -0.5, -1.5, -2.5]\n",
    "    return J, g, Jz\n",
    "end"
   ]
  },
  {
   "cell_type": "code",
   "execution_count": 3,
   "metadata": {},
   "outputs": [
    {
     "data": {
      "text/plain": [
       "Onn_make (generic function with 1 method)"
      ]
     },
     "execution_count": 3,
     "metadata": {},
     "output_type": "execute_result"
    }
   ],
   "source": [
    "#結晶場行列\n",
    "function Onn_make(B40)\n",
    "    # O40\n",
    "    O40_vec_x = [60.0, -180.0, 120.0, 120.0, -180.0, 60.0]\n",
    "    O40_vec = O40_vec_x * B40\n",
    "    O40 = diagm(0 => O40_vec)\n",
    "    Onn = O40\n",
    "    # O44\n",
    "    B44 = 5 * B40\n",
    "    O44_value = sqrt(120.0 * 24.0) * B44 / 2.0\n",
    "    Onn[5,1] = O44_value\n",
    "    Onn[6,2] = O44_value\n",
    "    Onn[1,5] = O44_value\n",
    "    Onn[2,6] = O44_value\n",
    "    return Onn\n",
    "end"
   ]
  },
  {
   "cell_type": "code",
   "execution_count": 6,
   "metadata": {},
   "outputs": [
    {
     "data": {
      "text/plain": [
       "temp (generic function with 1 method)"
      ]
     },
     "execution_count": 6,
     "metadata": {},
     "output_type": "execute_result"
    }
   ],
   "source": [
    "#温度配列\n",
    "function temp()\n",
    "    Temp_table_spc = collect(0.2:0.2:70) # length 350\n",
    "    return Temp_table_spc\n",
    "end"
   ]
  },
  {
   "cell_type": "code",
   "execution_count": 8,
   "metadata": {},
   "outputs": [
    {
     "data": {
      "text/plain": [
       "spc (generic function with 1 method)"
      ]
     },
     "execution_count": 8,
     "metadata": {},
     "output_type": "execute_result"
    }
   ],
   "source": [
    "# 比熱\n",
    "function spc(Onn)\n",
    "    #パラメータ読み込み\n",
    "    _, g, _ = ini()\n",
    "\n",
    "    # 非対角要素\n",
    "    Hmag_vec_1 = sqrt.([5,8,9,8,5]) * (1 + 1*im) * 5 * g * 0.67171 / 2\n",
    "    Hmag_1 = diagm(1 => Hmag_vec_1)\n",
    "    Hmag_2 = diagm(-1 => conj.(Hmag_vec_1))\n",
    "    Hmag = Hmag_1 + Hmag_2\n",
    "\n",
    "    #結晶場＋磁場ハミルトニアンの行列要素\n",
    "    H = Onn + Hmag\n",
    "\n",
    "    eigval, eigvec = eigen(H)\n",
    "\n",
    "    Temp_table_spc = temp()\n",
    "    SpcHeat_Temp = zeros(length(Temp_table_spc))\n",
    "    \n",
    "    @inbounds for (i, Temp) in enumerate(Temp_table_spc)\n",
    "        eigval_2 = - eigval / Temp\n",
    "        eigval_2_max = maximum(eigval_2)\n",
    "        eigval_ratio = eigval_2 .- eigval_2_max\n",
    "        exp_eigval = exp.(eigval_ratio)\n",
    "\n",
    "        Z0 = sum(exp_eigval)\n",
    "        Z1 = sum(eigval_2 .* exp_eigval)\n",
    "        Z2 = sum(eigval_2.^2 .* exp_eigval)\n",
    "        \n",
    "        SpcHeat=(- (Z1/Z0)^2 + (Z2/Z0) )*8.31441\n",
    "        SpcHeat_Temp[i] = SpcHeat\n",
    "    end\n",
    "    return SpcHeat_Temp, Hmag\n",
    "end"
   ]
  },
  {
   "cell_type": "code",
   "execution_count": 21,
   "metadata": {},
   "outputs": [
    {
     "data": {
      "text/plain": [
       "spc2 (generic function with 1 method)"
      ]
     },
     "execution_count": 21,
     "metadata": {},
     "output_type": "execute_result"
    }
   ],
   "source": [
    "# 磁化率\n",
    "function spc2(Onn)\n",
    "    J, g, Jz = ini()\n",
    "    Temp_table = temp()\n",
    "    n = length(Temp_table)\n",
    "    \n",
    "    magfield = 5\n",
    "    magdir = [1,1,0]\n",
    "    nor_magdir = magdir / sqrt(sum(magdir.^2))\n",
    "\n",
    "# 対角要素 0\n",
    "\n",
    "# 非対角要素\n",
    "    Hmag_vec_1 = sqrt.((J .+ Jz) .* (J .- Jz .+ 1)) * (nor_magdir[1]+nor_magdir[2]*im)*magfield*g*0.67171/2\n",
    "    Hmag_vec_1 = Hmag_vec_1[1:5]\n",
    "    Hmag_1 = diagm(1 => Hmag_vec_1)\n",
    "    \n",
    "    Hmag_vec_2 = conj.(Hmag_vec_1)\n",
    "    Hmag_2 = diagm(-1 => Hmag_vec_2)\n",
    "    \n",
    "    Hmag = Hmag_1 + Hmag_2\n",
    "\n",
    "# 結晶場＋磁場ハミルトニアンの行列要素\n",
    "    H = Onn + Hmag\n",
    "\n",
    "    eigval, eigvec = eigen(H)\n",
    "\n",
    "    SpcHeat_Temp = zeros(n)\n",
    "    for (i, Temp) in enumerate(Temp_table)\n",
    "        eigval_2 = - eigval / Temp\n",
    "        eigval_2_max = maximum(eigval_2)\n",
    "        eigval_ratio = eigval_2 .- eigval_2_max\n",
    "        exp_eigval = exp.(eigval_ratio)\n",
    "\n",
    "        Z0 = sum(exp_eigval)\n",
    "        Z1 = sum(eigval_2 .* exp_eigval)\n",
    "        Z2 = sum(eigval_2.^2 .* exp_eigval)\n",
    "        \n",
    "        #比熱\n",
    "        SpcHeat=(- (Z1/Z0)^2 + (Z2/Z0) )*8.31441\n",
    "        SpcHeat_Temp[i] = SpcHeat\n",
    "    end\n",
    "    return SpcHeat_Temp, Hmag\n",
    "end"
   ]
  },
  {
   "cell_type": "code",
   "execution_count": null,
   "metadata": {},
   "outputs": [],
   "source": [
    "noise = "
   ]
  },
  {
   "cell_type": "code",
   "execution_count": null,
   "metadata": {},
   "outputs": [],
   "source": [
    "rand([-1,1]) * noise * randn(n)"
   ]
  }
 ],
 "metadata": {
  "kernelspec": {
   "display_name": "Julia 36 Threads 1.9.0",
   "language": "julia",
   "name": "julia-36-threads-1.9"
  },
  "language_info": {
   "file_extension": ".jl",
   "mimetype": "application/julia",
   "name": "julia",
   "version": "1.9.0"
  },
  "orig_nbformat": 4
 },
 "nbformat": 4,
 "nbformat_minor": 2
}
