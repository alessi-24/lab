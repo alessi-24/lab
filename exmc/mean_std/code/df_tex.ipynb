{
 "cells": [
  {
   "cell_type": "code",
   "execution_count": 2,
   "metadata": {},
   "outputs": [],
   "source": [
    "import pandas as pd"
   ]
  },
  {
   "cell_type": "code",
   "execution_count": 19,
   "metadata": {},
   "outputs": [],
   "source": [
    "pd.options.display.float_format = '{:.5g}'.format"
   ]
  },
  {
   "cell_type": "code",
   "execution_count": 17,
   "metadata": {},
   "outputs": [],
   "source": [
    "df1 = pd.read_csv('/Users/nishimura/home/lab/exmc/mean_std/df/data1.csv')"
   ]
  },
  {
   "cell_type": "code",
   "execution_count": 21,
   "metadata": {},
   "outputs": [
    {
     "data": {
      "text/html": [
       "<div>\n",
       "<style scoped>\n",
       "    .dataframe tbody tr th:only-of-type {\n",
       "        vertical-align: middle;\n",
       "    }\n",
       "\n",
       "    .dataframe tbody tr th {\n",
       "        vertical-align: top;\n",
       "    }\n",
       "\n",
       "    .dataframe thead th {\n",
       "        text-align: right;\n",
       "    }\n",
       "</style>\n",
       "<table border=\"1\" class=\"dataframe\">\n",
       "  <thead>\n",
       "    <tr style=\"text-align: right;\">\n",
       "      <th></th>\n",
       "      <th>name</th>\n",
       "      <th>mean</th>\n",
       "      <th>std</th>\n",
       "      <th>F</th>\n",
       "    </tr>\n",
       "  </thead>\n",
       "  <tbody>\n",
       "    <tr>\n",
       "      <th>0</th>\n",
       "      <td>mag</td>\n",
       "      <td>0.11666</td>\n",
       "      <td>9.0105e-05</td>\n",
       "      <td>-292.46</td>\n",
       "    </tr>\n",
       "    <tr>\n",
       "      <th>1</th>\n",
       "      <td>spc</td>\n",
       "      <td>0.11671</td>\n",
       "      <td>5.3365e-06</td>\n",
       "      <td>-703.63</td>\n",
       "    </tr>\n",
       "    <tr>\n",
       "      <th>2</th>\n",
       "      <td>int</td>\n",
       "      <td>0.11676</td>\n",
       "      <td>4.2991e-05</td>\n",
       "      <td>-1011.1</td>\n",
       "    </tr>\n",
       "    <tr>\n",
       "      <th>3</th>\n",
       "      <td>(sum)</td>\n",
       "      <td>NaN</td>\n",
       "      <td>NaN</td>\n",
       "      <td>-996.09</td>\n",
       "    </tr>\n",
       "  </tbody>\n",
       "</table>\n",
       "</div>"
      ],
      "text/plain": [
       "    name    mean        std       F\n",
       "0    mag 0.11666 9.0105e-05 -292.46\n",
       "1    spc 0.11671 5.3365e-06 -703.63\n",
       "2    int 0.11676 4.2991e-05 -1011.1\n",
       "3  (sum)     NaN        NaN -996.09"
      ]
     },
     "execution_count": 21,
     "metadata": {},
     "output_type": "execute_result"
    }
   ],
   "source": [
    "df1"
   ]
  },
  {
   "cell_type": "code",
   "execution_count": 28,
   "metadata": {},
   "outputs": [
    {
     "name": "stdout",
     "output_type": "stream",
     "text": [
      "\\begin{tabular}{lrrr}\n",
      "\\toprule\n",
      "name & mean & std & F \\\\\n",
      "\\midrule\n",
      "MAG & 0.11666 & 9.0105e-05 & -292.46 \\\\\n",
      "SPC & 0.11671 & 5.3365e-06 & -703.63 \\\\\n",
      "INT & 0.11676 & 4.2991e-05 & -1011.1 \\\\\n",
      "(SUM) & NaN & NaN & -996.09 \\\\\n",
      "\\bottomrule\n",
      "\\end{tabular}\n",
      "\n"
     ]
    }
   ],
   "source": [
    "print(df1.to_latex(\n",
    "    index=False,\n",
    "    formatters={\"name\": str.upper},\n",
    "    float_format=\"{:.5g}\".format,\n",
    "    )\n",
    ")  "
   ]
  },
  {
   "cell_type": "code",
   "execution_count": 30,
   "metadata": {},
   "outputs": [],
   "source": [
    "df2 = pd.read_csv('/Users/nishimura/home/lab/exmc/mean_std/df/data2.csv')\n",
    "df3 = pd.read_csv('/Users/nishimura/home/lab/exmc/mean_std/df/data3.csv')"
   ]
  },
  {
   "cell_type": "code",
   "execution_count": 31,
   "metadata": {},
   "outputs": [
    {
     "name": "stdout",
     "output_type": "stream",
     "text": [
      "\\begin{tabular}{lrrr}\n",
      "\\toprule\n",
      "name & mean & std & F \\\\\n",
      "\\midrule\n",
      "MAG & 0.11657 & 0.00028155 & 98.531 \\\\\n",
      "SPC & 0.11673 & 1.5778e-05 & -304.6 \\\\\n",
      "INT & 0.11687 & 0.00014486 & -210.57 \\\\\n",
      "(SUM) & NaN & NaN & -206.06 \\\\\n",
      "\\bottomrule\n",
      "\\end{tabular}\n",
      "\n"
     ]
    }
   ],
   "source": [
    "print(df2.to_latex(\n",
    "    index=False,\n",
    "    formatters={\"name\": str.upper},\n",
    "    float_format=\"{:.5g}\".format,\n",
    "    )\n",
    ")  "
   ]
  },
  {
   "cell_type": "code",
   "execution_count": 32,
   "metadata": {},
   "outputs": [
    {
     "name": "stdout",
     "output_type": "stream",
     "text": [
      "\\begin{tabular}{lrrr}\n",
      "\\toprule\n",
      "name & mean & std & F \\\\\n",
      "\\midrule\n",
      "MAG & 0.11622 & 0.00091182 & 500.94 \\\\\n",
      "SPC & 0.11679 & 5.2442e-05 & 96.298 \\\\\n",
      "INT & 0.11726 & 0.00045662 & 591.58 \\\\\n",
      "(SUM) & NaN & NaN & 597.24 \\\\\n",
      "\\bottomrule\n",
      "\\end{tabular}\n",
      "\n"
     ]
    }
   ],
   "source": [
    "print(df3.to_latex(\n",
    "    index=False,\n",
    "    formatters={\"name\": str.upper},\n",
    "    float_format=\"{:.5g}\".format,\n",
    "    )\n",
    ")  "
   ]
  },
  {
   "cell_type": "code",
   "execution_count": null,
   "metadata": {},
   "outputs": [],
   "source": []
  }
 ],
 "metadata": {
  "kernelspec": {
   "display_name": "Python 3",
   "language": "python",
   "name": "python3"
  },
  "language_info": {
   "codemirror_mode": {
    "name": "ipython",
    "version": 3
   },
   "file_extension": ".py",
   "mimetype": "text/x-python",
   "name": "python",
   "nbconvert_exporter": "python",
   "pygments_lexer": "ipython3",
   "version": "3.11.3"
  },
  "orig_nbformat": 4
 },
 "nbformat": 4,
 "nbformat_minor": 2
}
