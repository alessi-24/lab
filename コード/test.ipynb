{
 "cells": [
  {
   "attachments": {},
   "cell_type": "markdown",
   "metadata": {},
   "source": [
    "# 結晶場中における局在4f電子系の波動関数と熱力学的物理量の計算"
   ]
  },
  {
   "attachments": {},
   "cell_type": "markdown",
   "metadata": {},
   "source": [
    "松村先生の結晶場生成コード\n",
    "\n",
    "mathmaticaで書いてあるものをjuliaに変換\n",
    "\n",
    "```https://home.hiroshima-u.ac.jp/tmatsu/Matsumura/Home.html```"
   ]
  },
  {
   "attachments": {},
   "cell_type": "markdown",
   "metadata": {},
   "source": [
    "## 各種演算子の定義と自由イオンの行列計算"
   ]
  },
  {
   "attachments": {},
   "cell_type": "markdown",
   "metadata": {},
   "source": [
    "### Stevens factors"
   ]
  },
  {
   "cell_type": "code",
   "execution_count": 1,
   "metadata": {},
   "outputs": [
    {
     "data": {
      "text/plain": [
       "13860"
      ]
     },
     "metadata": {},
     "output_type": "display_data"
    }
   ],
   "source": [
    "\n",
    "stvfac = Dict{Tuple{Int64, Int64}, Float64}()\n",
    "llwf4 = Dict{Float64, Int64}()\n",
    "llwf6 = Dict{Float64, Int64}()\n",
    "\n",
    "stvfac[(1, 0)] = 1.0\n",
    "stvfac[(2, 0)] = 2.0\n",
    "stvfac[(3, 0)] = 3.0\n",
    "stvfac[(4, 0)] = 4.0\n",
    "stvfac[(5, 0)] = 5.0\n",
    "stvfac[(6, 0)] = 6.0\n",
    "stvfac[(7, 0)] = 7.0\n",
    "stvfac[(8, 0)] = 8.0\n",
    "stvfac[(9, 0)] = 9.0\n",
    "stvfac[(10, 0)] = 10.0\n",
    "stvfac[(11, 0)] = 11.0\n",
    "stvfac[(12, 0)] = 12.0\n",
    "stvfac[(13, 0)] = 13.0\n",
    "\n",
    "stvfac[(1, 2)] = -2.0 / 5.0 / 7.0\n",
    "stvfac[(2, 2)] = -4.0 * 13.0 / 9.0 / 25.0 / 11.0\n",
    "stvfac[(3, 2)] = -7.0 / 9.0 / 121.0\n",
    "stvfac[(4, 2)] = 14.0 / 15.0 / 121.0\n",
    "stvfac[(5, 2)] = 13.0 / 9.0 / 35.0\n",
    "stvfac[(6, 2)] = 0.0\n",
    "stvfac[(7, 2)] = 0.0\n",
    "stvfac[(8, 2)] = -1.0 / 99.0\n",
    "stvfac[(9, 2)] = -2.0 / 9.0 / 35.0\n",
    "stvfac[(10, 2)] = -1.0 / 18.0 / 25.0\n",
    "stvfac[(11, 2)] = 4.0 / 63.0 / 25.0\n",
    "stvfac[(12, 2)] = 1.0 / 99.0\n",
    "stvfac[(13, 2)] = 2.0 / 63.0\n",
    "\n",
    "stvfac[(1, 4)] = 2.0 / 9.0 / 35.0\n",
    "stvfac[(2, 4)] = -4.0 / 45.0 / 121.0\n",
    "stvfac[(3, 4)] = -8.0 * 17.0 / 27.0 / 11.0^3 / 13.0\n",
    "stvfac[(4, 4)] = 8.0 * 7.0 * 17.0 / 27.0 / 5.0 / 11.0^3 / 13.0\n",
    "stvfac[(5, 4)] = 26.0 / 45.0 / 33.0 / 7.0\n",
    "stvfac[(6, 4)] = 0.0\n",
    "stvfac[(7, 4)] = 0.0\n",
    "stvfac[(8, 4)] = 2.0 / 27.0 / 5.0 / 121.0\n",
    "stvfac[(9, 4)] = -8.0 / 27.0 / 5.0 / 77.0 / 13.0\n",
    "stvfac[(10, 4)] = -1.0 / 210.0 / 11.0 / 13.0\n",
    "stvfac[(11, 4)] = 2.0 / 45.0 / 77.0 / 13.0\n",
    "stvfac[(12, 4)] = 8.0 / 81.0 / 5.0 / 121.0\n",
    "stvfac[(13, 4)] = -2.0 / 15.0 / 77.0\n",
    "\n",
    "stvfac[(1, 6)] = 0.0\n",
    "stvfac[(2, 6)] = 16.0 * 17.0 / 81.0 / 35.0 / 121.0 / 13.0\n",
    "stvfac[(3, 6)] = -5.0 * 17.0 * 19.0 / 27.0 / 7.0 / 11.0^3 / 13.0^2\n",
    "stvfac[(4, 6)] = 8.0 * 17.0 * 19.0 / 27.0 / 7.0 / 11.0^3 / 13.0^2\n",
    "stvfac[(5, 6)] = 0.0\n",
    "stvfac[(6, 6)] = 0.0\n",
    "stvfac[(7, 6)] = 0.0\n",
    "stvfac[(8, 6)] = -1.0 / 81.0 / 7.0 / 121.0 / 13.0\n",
    "stvfac[(9, 6)] = 4.0 / 27.0 / 7.0 / 121.0 / 13.0^2\n",
    "stvfac[(10, 6)] = -5.0 / 27.0 / 7.0 / 121.0 / 13.0^2\n",
    "stvfac[(11, 6)] = 8.0 / 27.0 / 7.0 / 121.0 / 13.0^2\n",
    "stvfac[(12, 6)] = -5.0 / 81.0 / 7.0 / 121.0 / 13.0\n",
    "stvfac[(13, 6)] = 4.0 / 27.0 / 77.0 / 13.0\n",
    "\n",
    "llwf4[2.0] = 12\n",
    "llwf6[2.0] = 0\n",
    "llwf4[5.0 / 2.0] = 60\n",
    "llwf6[5.0 / 2.0] = 0\n",
    "llwf4[3.0] = 15\n",
    "llwf6[3.0] = 180\n",
    "llwf4[7.0 / 2.0] = 60\n",
    "llwf6[7.0 / 2.0] = 1260\n",
    "llwf4[4.0] = 60\n",
    "llwf6[4.0] = 1260\n",
    "llwf4[9.0 / 2.0] = 60\n",
    "llwf6[9.0 / 2.0] = 2520\n",
    "llwf4[5.0] = 14\n",
    "llwf6[5.0] = 1260\n",
    "llwf4[11.0 / 2.0] = 60\n",
    "llwf6[11.0 / 2.0] = 3780\n",
    "llwf4[6.0] = 60\n",
    "llwf6[6.0] = 7560\n",
    "llwf4[13.0 / 2.0] = 60\n",
    "llwf6[13.0 / 2.0] = 7560\n",
    "llwf4[7.0] = 60\n",
    "llwf6[7.0] = 3780\n",
    "llwf4[15.0 / 2.0] = 60\n",
    "llwf6[15.0 / 2.0] = 13860\n",
    "llwf4[8.0] = 60\n",
    "llwf6[8.0] = 13860\n"
   ]
  },
  {
   "cell_type": "code",
   "execution_count": 12,
   "metadata": {},
   "outputs": [
    {
     "data": {
      "text/plain": [
       "jm (generic function with 1 method)"
      ]
     },
     "metadata": {},
     "output_type": "display_data"
    }
   ],
   "source": [
    "function jp(j, m, n)\n",
    "    prod = 1\n",
    "    for k in m:(m+n-1)\n",
    "        prod *= sqrt((j - k) * (j + k + 1))\n",
    "    end\n",
    "    return prod\n",
    "end\n",
    "\n",
    "function jm(j, m, n)\n",
    "    prod = 1\n",
    "    for k in m:(m-n+1):-1\n",
    "        prod *= sqrt((j + k) * (j - k + 1))\n",
    "    end\n",
    "    return prod\n",
    "end\n"
   ]
  },
  {
   "attachments": {},
   "cell_type": "markdown",
   "metadata": {},
   "source": [
    "### Conventional operator equivalents for CEF by Hutchings"
   ]
  },
  {
   "cell_type": "code",
   "execution_count": 14,
   "metadata": {},
   "outputs": [
    {
     "data": {
      "text/plain": [
       "o66min (generic function with 1 method)"
      ]
     },
     "metadata": {},
     "output_type": "display_data"
    }
   ],
   "source": [
    "function o20(j, m)\n",
    "    return 3 * m^2 - j * (j + 1)\n",
    "end\n",
    "\n",
    "function o40(j, m)\n",
    "    return 35 * m^4 - 30 * j * (j + 1) * m^2 + 25 * m^2 - 6 * j * (j + 1) + 3 * j^2 * (j + 1)^2\n",
    "end\n",
    "\n",
    "function o60(j, m)\n",
    "    return 231 * m^6 - 315 * j * (j + 1) * m^4 + 735 * m^4 + 105 * j^2 * (j + 1)^2 * m^2 - 525 * j * (j + 1) * m^2 + 294 * m^2 - 5 * j^3 * (j + 1)^3 + 40 * j^2 * (j + 1)^2 - 60 * j * (j + 1)\n",
    "end\n",
    "\n",
    "function o22pls(j, m)\n",
    "    return 1/2 * jp(j, m, 2)\n",
    "end\n",
    "\n",
    "function o22min(j, m)\n",
    "    return 1/2 * jm(j, m, 2)\n",
    "end\n",
    "\n",
    "function o42pls(j, m)\n",
    "    return 1/4 * jp(j, m, 2) * (7 * ((m + 2)^2 + m^2) - 2 * j * (j + 1) - 10)\n",
    "end\n",
    "\n",
    "function o42min(j, m)\n",
    "    return 1/4 * jm(j, m, 2) * (7 * ((m - 2)^2 + m^2) - 2 * j * (j + 1) - 10)\n",
    "end\n",
    "\n",
    "function o44pls(j, m)\n",
    "    return 1/2 * jp(j, m, 4)\n",
    "end\n",
    "\n",
    "function o44min(j, m)\n",
    "    return 1/2 * jm(j, m, 4)\n",
    "end\n",
    "\n",
    "function o62pls(j, m)\n",
    "    return 1/4 * jp(j, m, 2) * (33 * ((m + 2)^4 + m^4) - (18 * j * (j + 1) + 123) * ((m + 2)^2 + m^2) + 2 * j^2 * (j + 1)^2 + 20 * j * (j + 1) + 2 * 102)\n",
    "end\n",
    "\n",
    "function o62min(j, m)\n",
    "    return 1/4 * jm(j, m, 2) * (33 * ((m - 2)^4 + m^4) - (18 * j * (j + 1) + 123) * ((m - 2)^2 + m^2) + 2 * j^2 * (j + 1)^2 + 20 * j * (j + 1) + 2 * 102)\n",
    "end\n",
    "\n",
    "function o64pls(j, m)\n",
    "    return 1/4 * jp(j, m, 4) * (11 * ((m + 4)^2 + m^2) - 2 * j * (j + 1) - 2 * 38)\n",
    "end\n",
    "\n",
    "function o64min(j, m)\n",
    "    return 1/4 * jm(j, m, 4) * (11 * ((m - 4)^2 + m^2) - 2 * j * (j + 1) - 2 * 38)\n",
    "end\n",
    "\n",
    "function o66pls(j, m)\n",
    "    return 1/2 * jp(j, m, 6)\n",
    "end\n",
    "\n",
    "function o66min(j, m)\n",
    "    return 1/2 * jm(j, m, 6)\n",
    "end\n"
   ]
  },
  {
   "cell_type": "code",
   "execution_count": 9,
   "metadata": {},
   "outputs": [],
   "source": [
    "using Plots"
   ]
  },
  {
   "cell_type": "code",
   "execution_count": 11,
   "metadata": {},
   "outputs": [
    {
     "ename": "UndefVarError",
     "evalue": "UndefVarError: eljx not defined",
     "output_type": "error",
     "traceback": [
      "UndefVarError: eljx not defined\n",
      "\n",
      "Stacktrace:\n",
      " [1] top-level scope\n",
      "   @ ~/home/研究/コード/test.ipynb:4"
     ]
    }
   ],
   "source": [
    "hhh = 10\n",
    "hhhdirec = [1, 1, 0] / sqrt(2)\n",
    "temp = 5\n",
    "da = (dcef + g * 0.67171 * (hhh + 0.000001) * dot(hhhdirec, [eljx, eljy, eljz]))\n",
    "valsa, vecsa = eig(da)\n",
    "za = sum(exp(-valsa[i] / temp) for i in 1:2 * J + 1)\n",
    "magx = -g * sum((conj(vecsa[i]) ⋅ eljx ⋅ vecsa[i]) * exp(-valsa[i] / temp) / za for i in 1:2 * J + 1)\n",
    "magy = -g * sum((conj(vecsa[i]) ⋅ eljy ⋅ vecsa[i]) * exp(-valsa[i] / temp) / za for i in 1:2 * J + 1)\n",
    "magz = -g * sum((conj(vecsa[i]) ⋅ eljz ⋅ vecsa[i]) * exp(-valsa[i] / temp) / za for i in 1:2 * J + 1)\n",
    "mag = [magx, magy, magz] ⋅ hhhdirec\n",
    "chi = mag / hhh * 0.5585\n"
   ]
  },
  {
   "cell_type": "code",
   "execution_count": 10,
   "metadata": {},
   "outputs": [
    {
     "ename": "UndefVarError",
     "evalue": "UndefVarError: eljx not defined",
     "output_type": "error",
     "traceback": [
      "UndefVarError: eljx not defined\n",
      "\n",
      "Stacktrace:\n",
      " [1] top-level scope\n",
      "   @ ~/home/研究/コード/test.ipynb:3"
     ]
    }
   ],
   "source": [
    "hhh = 0.01\n",
    "hhhdirec = [1, 1, 0] / sqrt(2)\n",
    "da = (dcef + g * 0.67171 * (hhh + 0.000001) * dot(hhhdirec, [eljx, eljy, eljz]))\n",
    "valsa, vecsa = eig(da)\n",
    "magans = []\n",
    "start = 0.2\n",
    "finish = 70\n",
    "step = 0.2\n",
    "ii = 0\n",
    "\n",
    "while ii <= (finish - start) / step\n",
    "    temp = start + step * ii\n",
    "    za = sum(exp(-valsa[i] / temp) for i in 1:2 * J + 1)\n",
    "    magx = -g * sum((conj(vecsa[i]) ⋅ eljx ⋅ vecsa[i]) * exp(-valsa[i] / temp) / za for i in 1:2 * J + 1)\n",
    "    magy = -g * sum((conj(vecsa[i]) ⋅ eljy ⋅ vecsa[i]) * exp(-valsa[i] / temp) / za for i in 1:2 * J + 1)\n",
    "    magz = -g * sum((conj(vecsa[i]) ⋅ eljz ⋅ vecsa[i]) * exp(-valsa[i] / temp) / za for i in 1:2 * J + 1)\n",
    "    mag = chop([magx, magy, magz] ⋅ hhhdirec)\n",
    "    push!(magans, (temp, mag))\n",
    "    ii += 1\n",
    "end\n",
    "\n",
    "chi = [(magans[i][1], magans[i][2] / hhh * 0.5585) for i in 1:length(magans)]\n",
    "chiinv = [(magans[i][1], 1 / (magans[i][2] / hhh * 0.5585)) for i in 1:length(magans)]\n",
    "plot([chiinv[i][1] for i in 1:length(chiinv)], [chiinv[i][2] for i in 1:length(chiinv)], linestyle = :solid, xlim = (0, 70), ylim = (0, 90))\n"
   ]
  },
  {
   "cell_type": "code",
   "execution_count": null,
   "metadata": {},
   "outputs": [],
   "source": []
  }
 ],
 "metadata": {
  "kernelspec": {
   "display_name": "Julia 1.6.2",
   "language": "julia",
   "name": "julia-1.6"
  },
  "language_info": {
   "file_extension": ".jl",
   "mimetype": "application/julia",
   "name": "julia",
   "version": "1.6.2"
  },
  "orig_nbformat": 4
 },
 "nbformat": 4,
 "nbformat_minor": 2
}
