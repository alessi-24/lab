{
 "cells": [
  {
   "cell_type": "markdown",
   "id": "c04fcf4b",
   "metadata": {},
   "source": [
    "# package"
   ]
  },
  {
   "cell_type": "code",
   "execution_count": 5,
   "id": "1548d3af",
   "metadata": {
    "ExecuteTime": {
     "end_time": "2022-01-20T17:41:25.435000+09:00",
     "start_time": "2022-01-20T08:41:12.340Z"
    }
   },
   "outputs": [
    {
     "data": {
      "text/plain": [
       "Plots.GRBackend()"
      ]
     },
     "execution_count": 5,
     "metadata": {},
     "output_type": "execute_result"
    }
   ],
   "source": [
    "using Distributions\n",
    "using Random\n",
    "using LinearAlgebra\n",
    "using Plots\n",
    "using StatsBase\n",
    "using LaTeXStrings\n",
    "#using ProgressBars\n",
    "#using ProgressMeter\n",
    "using DataFrames\n",
    "using CSV\n",
    "using Base.Threads\n",
    "#using StatsPlots\n",
    "#using Latexify\n",
    "gr()"
   ]
  },
  {
   "cell_type": "code",
   "execution_count": 6,
   "id": "a3ca28e6",
   "metadata": {
    "ExecuteTime": {
     "end_time": "2022-01-20T17:42:09.272000+09:00",
     "start_time": "2022-01-20T08:41:59.933Z"
    }
   },
   "outputs": [
    {
     "data": {
      "text/plain": [
       "36"
      ]
     },
     "execution_count": 6,
     "metadata": {},
     "output_type": "execute_result"
    }
   ],
   "source": [
    "Threads.nthreads()"
   ]
  },
  {
   "cell_type": "code",
   "execution_count": 94,
   "id": "ab923ebf",
   "metadata": {
    "ExecuteTime": {
     "end_time": "2022-01-24T16:33:37.462000+09:00",
     "start_time": "2022-01-24T07:33:37.280Z"
    }
   },
   "outputs": [
    {
     "data": {
      "text/plain": [
       "\"/Users/nishimurarei/home/lab/data/cubic_data/int/1_001/\""
      ]
     },
     "execution_count": 94,
     "metadata": {},
     "output_type": "execute_result"
    }
   ],
   "source": [
    "path = \"/Users/nishimurarei/home/lab/data/cubic_data/int/1_001/\""
   ]
  },
  {
   "cell_type": "markdown",
   "id": "4fdcf59d",
   "metadata": {},
   "source": [
    "# フォワードモデル"
   ]
  },
  {
   "cell_type": "code",
   "execution_count": 7,
   "id": "40e20db0",
   "metadata": {
    "ExecuteTime": {
     "end_time": "2022-01-20T17:43:35.990000+09:00",
     "start_time": "2022-01-20T08:43:35.466Z"
    }
   },
   "outputs": [
    {
     "data": {
      "text/plain": [
       "(2.5, 0.8571428571428572, [2.5, 1.5, 0.5, -0.5, -1.5, -2.5])"
      ]
     },
     "execution_count": 7,
     "metadata": {},
     "output_type": "execute_result"
    }
   ],
   "source": [
    "function ini()\n",
    "    # Hund's Rule Ground J-Multiplet Ce3+ n4f=1\n",
    "    n4f = 1\n",
    "    L = 3\n",
    "    S = 1 / 2\n",
    "    J = L - S\n",
    "    g = 1 + (J * (J + 1) + S * (S + 1) - L * (L + 1)) / (2 * J * (J + 1))\n",
    "    Jz = [5 / 2, 3 / 2, 1 / 2, -1 / 2, -3 / 2, -5 / 2]\n",
    "    return J, g, Jz\n",
    "end\n",
    "J, g, Jz = ini()"
   ]
  },
  {
   "cell_type": "code",
   "execution_count": 8,
   "id": "8aa3584d",
   "metadata": {
    "ExecuteTime": {
     "end_time": "2022-01-20T17:43:36.924000+09:00",
     "start_time": "2022-01-20T08:43:36.721Z"
    }
   },
   "outputs": [
    {
     "data": {
      "text/plain": [
       "0.1167"
      ]
     },
     "execution_count": 8,
     "metadata": {},
     "output_type": "execute_result"
    }
   ],
   "source": [
    "#B20_true = 4\n",
    "B40_true = 0.1167\n",
    "#B44_true = 3"
   ]
  },
  {
   "cell_type": "code",
   "execution_count": 9,
   "id": "e8d7ccb7",
   "metadata": {
    "ExecuteTime": {
     "end_time": "2022-01-20T17:43:44.501000+09:00",
     "start_time": "2022-01-20T08:43:43.282Z"
    }
   },
   "outputs": [
    {
     "data": {
      "text/plain": [
       "Onn_make (generic function with 1 method)"
      ]
     },
     "execution_count": 9,
     "metadata": {},
     "output_type": "execute_result"
    }
   ],
   "source": [
    "function Onn_make(B40)\n",
    "    # O20は不要\n",
    "    #=\n",
    "    # O20\n",
    "    O20_vec = (3 * Jz.^2 .- J*(J+1)) * B20\n",
    "    O20 = diagm(0 => O20_vec)\n",
    "    =#\n",
    "    \n",
    "    B44 = 5 * B40\n",
    "    \n",
    "    # O40\n",
    "    O40_vec = (35 * Jz.^4 - 30 * J * (J + 1) * Jz.^2 + 25 * Jz.^2 .- 6 * J * (J + 1) .+ 3 * J^2 * (J + 1)^2) * B40\n",
    "    O40 = diagm(0 => O40_vec)\n",
    "    \n",
    "    # O44\n",
    "    O44 = zeros(6, 6)\n",
    "\n",
    "    Jz_vec_1 = Jz[1] .- collect(0:3)\n",
    "    O44[5,1] = sqrt(prod(J .+ Jz_vec_1) * prod((J + 1) .- Jz_vec_1)) * B44 / 2\n",
    "\n",
    "    Jz_vec_2 = Jz[2] .- collect(0:3)\n",
    "    O44[6,2] = sqrt(prod(J .+ Jz_vec_2) * prod((J + 1) .- Jz_vec_2)) * B44 / 2\n",
    "\n",
    "    Jz_vec_5 = Jz[5] .+ collect(0:3)\n",
    "    O44[1,5] = sqrt(prod(J .- Jz_vec_5) * prod((J + 1) .+ Jz_vec_5)) * B44 / 2\n",
    "\n",
    "    Jz_vec_6 = Jz[6] .+ collect(0:3)\n",
    "    O44[2,6] = sqrt(prod(J .- Jz_vec_6) * prod((J + 1) .+ Jz_vec_6)) * B44 / 2\n",
    "\n",
    "    Onn = O40 + O44\n",
    "\n",
    "    return Onn\n",
    "end"
   ]
  },
  {
   "cell_type": "code",
   "execution_count": 10,
   "id": "e1d222dd",
   "metadata": {
    "ExecuteTime": {
     "end_time": "2022-01-20T17:43:54.592000+09:00",
     "start_time": "2022-01-20T08:43:54.188Z"
    }
   },
   "outputs": [
    {
     "data": {
      "text/plain": [
       "([0.2, 0.4, 0.6, 0.8, 1.0, 1.2, 1.4, 1.6, 1.8, 2.0  …  68.2, 68.4, 68.6, 68.8, 69.0, 69.2, 69.4, 69.6, 69.8, 70.0], [0.2, 0.4, 0.6, 0.8, 1.0, 1.2, 1.4, 1.6, 1.8, 2.0  …  68.2, 68.4, 68.6, 68.8, 69.0, 69.2, 69.4, 69.6, 69.8, 70.0], 350, 350)"
      ]
     },
     "execution_count": 10,
     "metadata": {},
     "output_type": "execute_result"
    }
   ],
   "source": [
    "function para()\n",
    "    Temp_table_chi= collect(0.2:0.2:70) # length 350\n",
    "    n_chi = length(Temp_table_chi)\n",
    "    \n",
    "    #Temp_table_spc = collect(0.5:0.1:50) # length 496\n",
    "    Temp_table_spc = collect(0.2:0.2:70) # length 350\n",
    "    n_spc = length(Temp_table_spc)\n",
    "    \n",
    "    return Temp_table_chi, Temp_table_spc, n_chi, n_spc\n",
    "end\n",
    "\n",
    "Temp_table_chi, Temp_table_spc, n_chi, n_spc = para()"
   ]
  },
  {
   "cell_type": "code",
   "execution_count": 11,
   "id": "3338a318",
   "metadata": {
    "ExecuteTime": {
     "end_time": "2022-01-20T17:44:02.964000+09:00",
     "start_time": "2022-01-20T08:44:02.846Z"
    }
   },
   "outputs": [
    {
     "data": {
      "text/plain": [
       "chi (generic function with 1 method)"
      ]
     },
     "execution_count": 11,
     "metadata": {},
     "output_type": "execute_result"
    }
   ],
   "source": [
    "# 磁化率\n",
    "function chi(Onn)\n",
    "    magfield = 0.01\n",
    "    magdir = [0,0,1]\n",
    "    nor_magdir = magdir / sqrt(sum(magdir.^2))\n",
    "    \n",
    "    # 対角要素\n",
    "    Hmag_vec_0 = Jz * nor_magdir[3] * magfield * g * 0.67171\n",
    "    Hmag = diagm(0 => Hmag_vec_0)\n",
    "    \n",
    "    # 非対角要素はmagdir[x,y]が0なので0\n",
    "    \n",
    "    # 結晶場＋磁場ハミルトニアンの行列要素\n",
    "    H = Onn + Hmag\n",
    "\n",
    "    eigval, eigvec = eigen(H)\n",
    "\n",
    "    chi_inv_Temp = zeros(n_chi)\n",
    "    for (i, Temp) in enumerate(Temp_table_chi)\n",
    "        eigval_2 = - eigval / Temp\n",
    "        eigval_2_max = maximum(eigval_2)\n",
    "        eigval_ratio = eigval_2 .- eigval_2_max\n",
    "        exp_eigval = exp.(eigval_ratio)\n",
    "        sumexp = sum(exp_eigval)\n",
    "\n",
    "        mag_z = zeros(6)\n",
    "        for i in 1:6\n",
    "            eigvec_check = eigvec[:,i]\n",
    "            mag_z[i] = eigvec_check' * (eigvec_check .* Jz) * exp_eigval[i] / sumexp\n",
    "        end\n",
    "\n",
    "        Jmag_z = sum(mag_z) * g * (-1)\n",
    "        Jmag = Jmag_z\n",
    "\n",
    "        chi = Jmag / magfield * 0.5585\n",
    "        chi_inv = 1 / chi\n",
    "        chi_inv_Temp[i] = chi_inv\n",
    "    end\n",
    "    return chi_inv_Temp\n",
    "end"
   ]
  },
  {
   "cell_type": "code",
   "execution_count": 12,
   "id": "b93617a6",
   "metadata": {
    "ExecuteTime": {
     "end_time": "2022-01-20T17:44:03.451000+09:00",
     "start_time": "2022-01-20T08:44:03.354Z"
    }
   },
   "outputs": [
    {
     "data": {
      "text/plain": [
       "spc (generic function with 1 method)"
      ]
     },
     "execution_count": 12,
     "metadata": {},
     "output_type": "execute_result"
    }
   ],
   "source": [
    "# 比熱\n",
    "function spc(Onn)\n",
    "    magfield = 5\n",
    "    magdir = [1,1,0]\n",
    "    nor_magdir = magdir / sqrt(sum(magdir.^2))\n",
    "    # 対角要素 0\n",
    "\n",
    "    # 非対角要素\n",
    "    Hmag_vec_1 = sqrt.((J .+ Jz) .* (J .- Jz .+ 1)) * (nor_magdir[1]+nor_magdir[2]*im)*magfield*g*0.67171/2\n",
    "    Hmag_vec_1 = Hmag_vec_1[1:5]\n",
    "    Hmag_1 = diagm(1 => Hmag_vec_1)\n",
    "    \n",
    "    Hmag_vec_2 = conj.(Hmag_vec_1)\n",
    "    Hmag_2 = diagm(-1 => Hmag_vec_2)\n",
    "    \n",
    "    Hmag = Hmag_1 + Hmag_2\n",
    "\n",
    "    #結晶場＋磁場ハミルトニアンの行列要素\n",
    "    H = Onn + Hmag\n",
    "\n",
    "    eigval, eigvec = eigen(H)\n",
    "\n",
    "    SpcHeat_Temp = zeros(n_spc)\n",
    "    for (i, Temp) in enumerate(Temp_table_spc)\n",
    "        eigval_2 = - eigval / Temp\n",
    "        eigval_2_max = maximum(eigval_2)\n",
    "        eigval_ratio = eigval_2 .- eigval_2_max\n",
    "        exp_eigval = exp.(eigval_ratio)\n",
    "\n",
    "        Z0 = sum(exp_eigval)\n",
    "        Z1 = sum(eigval_2 .* exp_eigval)\n",
    "        Z2 = sum(eigval_2.^2 .* exp_eigval)\n",
    "        \n",
    "        SpcHeat=(- (Z1/Z0)^2 + (Z2/Z0) )*8.31441\n",
    "        SpcHeat_Temp[i] = SpcHeat\n",
    "    end\n",
    "    return SpcHeat_Temp\n",
    "end"
   ]
  },
  {
   "cell_type": "markdown",
   "id": "2cb1bff7",
   "metadata": {},
   "source": [
    "# データ作成"
   ]
  },
  {
   "cell_type": "code",
   "execution_count": 13,
   "id": "2b62f111",
   "metadata": {
    "ExecuteTime": {
     "end_time": "2022-01-20T17:44:48.208000+09:00",
     "start_time": "2022-01-20T08:44:48.202Z"
    }
   },
   "outputs": [
    {
     "data": {
      "text/plain": [
       "1"
      ]
     },
     "execution_count": 13,
     "metadata": {},
     "output_type": "execute_result"
    }
   ],
   "source": [
    "#gaussian noise std\n",
    "noise_chi = 10^1\n",
    "noise_spc = 10^0"
   ]
  },
  {
   "cell_type": "code",
   "execution_count": 14,
   "id": "49af4612",
   "metadata": {
    "ExecuteTime": {
     "end_time": "2022-01-20T17:45:54.544000+09:00",
     "start_time": "2022-01-20T08:45:54.535Z"
    }
   },
   "outputs": [
    {
     "data": {
      "text/plain": [
       "1.0"
      ]
     },
     "execution_count": 14,
     "metadata": {},
     "output_type": "execute_result"
    }
   ],
   "source": [
    "b_chi = (1 / noise_chi)^2\n",
    "b_spc = (1 / noise_spc)^2"
   ]
  },
  {
   "cell_type": "code",
   "execution_count": 15,
   "id": "a74ab936",
   "metadata": {
    "ExecuteTime": {
     "end_time": "2022-01-20T17:46:07.134000+09:00",
     "start_time": "2022-01-20T08:46:07.034Z"
    }
   },
   "outputs": [
    {
     "data": {
      "text/plain": [
       "making_data (generic function with 1 method)"
      ]
     },
     "execution_count": 15,
     "metadata": {},
     "output_type": "execute_result"
    }
   ],
   "source": [
    "function making_data()\n",
    "    \n",
    "    d_chi = Normal(0,noise_chi)\n",
    "    chi_inv_Temp = chi(Onn_make(B40_true))\n",
    "    chi_inv_Temp_noise = chi_inv_Temp + rand(d_chi,n_chi)\n",
    "    \n",
    "    d_spc = Normal(0,noise_spc)\n",
    "    SpcHeat_Temp = spc(Onn_make(B40_true))\n",
    "    SpcHeat_Temp_noise = SpcHeat_Temp + rand(d_spc,n_spc)\n",
    "    \n",
    "    return chi_inv_Temp, chi_inv_Temp_noise, SpcHeat_Temp, SpcHeat_Temp_noise\n",
    "end"
   ]
  },
  {
   "cell_type": "code",
   "execution_count": 16,
   "id": "ec6415f2",
   "metadata": {
    "ExecuteTime": {
     "end_time": "2022-01-20T17:46:16.248000+09:00",
     "start_time": "2022-01-20T08:46:12.349Z"
    }
   },
   "outputs": [
    {
     "data": {
      "text/plain": [
       "([1.0142098958967294, 1.9698907987548453, 2.8722754814654956, 3.7256615033986065, 4.533926703861032, 5.300555018574956, 6.028682004468414, 6.721136550981254, 7.380477230718577, 8.009023734337188  …  86.32067293585246, 86.56483755431333, 86.80903037778333, 87.05325115358977, 87.29749963202654, 87.54177556640121, 87.78607871277933, 88.03040883012414, 88.274765680143, 88.5191490273593], [10.569998688304263, -3.9225959128647916, -3.6331673445945802, 9.205255606831129, -3.7795817027532843, 0.012481216853323929, 16.05578228712641, 5.040582669241241, 18.835909513093014, 10.41804066865907  …  77.56341564137875, 82.15135113244264, 87.43853012957271, 84.18178703835301, 87.06983666551211, 91.66141368462948, 79.78147336704188, 81.222228563321, 81.349444349571, 94.02438737470098], [2.0459508683416062e-7, 0.007781692852308807, 0.18450030396517358, 0.7549227999732644, 1.5747619137726376, 2.3742479457198407, 2.9941230896750977, 3.394038269972245, 3.5980299505842, 3.651784803576995  …  0.8261628686392347, 0.8213102596619112, 0.8164989646979957, 0.8117285317731043, 0.8069985148376806, 0.802308473678521, 0.7976579738317414, 0.7930465864971546, 0.7884738884540304, 0.7839394619782328], [0.5127854206498315, 0.6605024357888741, -0.4512171018179151, 3.1461799300827398, 1.419658014836408, 1.4187683674230915, 3.790036307552916, 4.009661626008628, 2.7957172132699357, 5.124965028938936  …  1.1687948717582775, 0.957365908099182, 0.19448049606588502, 1.3466688952926098, -0.7459572679610353, 2.394965922606331, 0.14682316915506455, 0.8082958615816398, 0.17898215896423264, 2.306917442033588])"
      ]
     },
     "execution_count": 16,
     "metadata": {},
     "output_type": "execute_result"
    }
   ],
   "source": [
    "chi_inv_Temp, chi_inv_Temp_noise, SpcHeat_Temp, SpcHeat_Temp_noise = making_data()"
   ]
  },
  {
   "cell_type": "markdown",
   "id": "0f2d4267",
   "metadata": {},
   "source": [
    "# 作成データ可視化"
   ]
  },
  {
   "cell_type": "code",
   "execution_count": 17,
   "id": "9a82bf79",
   "metadata": {
    "ExecuteTime": {
     "end_time": "2022-01-24T16:35:10.886000+09:00",
     "start_time": "2022-01-24T07:35:10.863Z"
    }
   },
   "outputs": [
    {
     "data": {
      "image/png": "[encoded data removed]",
      "image/svg+xml": [
       "<?xml version=\"1.0\" encoding=\"utf-8\"?>\n",
       "<svg xmlns=\"http://www.w3.org/2000/svg\" xmlns:xlink=\"http://www.w3.org/1999/xlink\" width=\"600\" height=\"400\" viewBox=\"0 0 2400 1600\">\n",
       "<defs>\n",
       "  <clipPath id=\"clip780\">\n",
       "    <rect x=\"0\" y=\"0\" width=\"2400\" height=\"1600\"/>\n",
       "  </clipPath>\n",
       "</defs>\n",
       "<path clip-path=\"url(#clip780)\" d=\"M0 1600 L2400 1600 L2400 0 L0 0  Z\" fill=\"#ffffff\" fill-rule=\"evenodd\" fill-opacity=\"1\"/>\n",
       "<defs>\n",
       "  <clipPath id=\"clip781\">\n",
       "    <rect x=\"480\" y=\"0\" width=\"1681\" height=\"1600\"/>\n",
       "  </clipPath>\n",
       "</defs>\n",
       "<path clip-path=\"url(#clip780)\" d=\"M273.454 1405.9 L2352.76 1405.9 L2352.76 47.2441 L273.454 47.2441  Z\" fill=\"#ffffff\" fill-rule=\"evenodd\" fill-opacity=\"1\"/>\n",
       "<defs>\n",
       "  <clipPath id=\"clip782\">\n",
       "    <rect x=\"273\" y=\"47\" width=\"2080\" height=\"1360\"/>\n",
       "  </clipPath>\n",
       "</defs>\n",
       "<polyline clip-path=\"url(#clip782)\" style=\"stroke:#000000; stroke-linecap:round; stroke-linejoin:round; stroke-width:2; stroke-opacity:0.1; fill:none\" points=\"326.681,1405.9 326.681,47.2441 \"/>\n",
       "<polyline clip-path=\"url(#clip782)\" style=\"stroke:#000000; stroke-linecap:round; stroke-linejoin:round; stroke-width:2; stroke-opacity:0.1; fill:none\" points=\"888.746,1405.9 888.746,47.2441 \"/>\n",
       "<polyline clip-path=\"url(#clip782)\" style=\"stroke:#000000; stroke-linecap:round; stroke-linejoin:round; stroke-width:2; stroke-opacity:0.1; fill:none\" points=\"1450.81,1405.9 1450.81,47.2441 \"/>\n",
       "<polyline clip-path=\"url(#clip782)\" style=\"stroke:#000000; stroke-linecap:round; stroke-linejoin:round; stroke-width:2; stroke-opacity:0.1; fill:none\" points=\"2012.88,1405.9 2012.88,47.2441 \"/>\n",
       "<polyline clip-path=\"url(#clip780)\" style=\"stroke:#000000; stroke-linecap:round; stroke-linejoin:round; stroke-width:4; stroke-opacity:1; fill:none\" points=\"273.454,1405.9 2352.76,1405.9 \"/>\n",
       "<polyline clip-path=\"url(#clip780)\" style=\"stroke:#000000; stroke-linecap:round; stroke-linejoin:round; stroke-width:4; stroke-opacity:1; fill:none\" points=\"326.681,1405.9 326.681,1387 \"/>\n",
       "<polyline clip-path=\"url(#clip780)\" style=\"stroke:#000000; stroke-linecap:round; stroke-linejoin:round; stroke-width:4; stroke-opacity:1; fill:none\" points=\"888.746,1405.9 888.746,1387 \"/>\n",
       "<polyline clip-path=\"url(#clip780)\" style=\"stroke:#000000; stroke-linecap:round; stroke-linejoin:round; stroke-width:4; stroke-opacity:1; fill:none\" points=\"1450.81,1405.9 1450.81,1387 \"/>\n",
       "<polyline clip-path=\"url(#clip780)\" style=\"stroke:#000000; stroke-linecap:round; stroke-linejoin:round; stroke-width:4; stroke-opacity:1; fill:none\" points=\"2012.88,1405.9 2012.88,1387 \"/>\n",
       "<path clip-path=\"url(#clip780)\" d=\"M326.681 1442.68 Q321.265 1442.68 318.522 1448.03 Q315.813 1453.34 315.813 1464.03 Q315.813 1474.69 318.522 1480.04 Q321.265 1485.35 326.681 1485.35 Q332.133 1485.35 334.841 1480.04 Q337.584 1474.69 337.584 1464.03 Q337.584 1453.34 334.841 1448.03 Q332.133 1442.68 326.681 1442.68 M326.681 1437.12 Q335.397 1437.12 339.98 1444.03 Q344.598 1450.91 344.598 1464.03 Q344.598 1477.12 339.98 1484.03 Q335.397 1490.91 326.681 1490.91 Q317.966 1490.91 313.348 1484.03 Q308.765 1477.12 308.765 1464.03 Q308.765 1450.91 313.348 1444.03 Q317.966 1437.12 326.681 1437.12 Z\" fill=\"#000000\" fill-rule=\"nonzero\" fill-opacity=\"1\" /><path clip-path=\"url(#clip780)\" d=\"M856.906 1484 L881.385 1484 L881.385 1489.9 L848.469 1489.9 L848.469 1484 Q852.462 1479.87 859.337 1472.92 Q866.246 1465.94 868.017 1463.93 Q871.385 1460.14 872.705 1457.54 Q874.059 1454.9 874.059 1452.37 Q874.059 1448.23 871.142 1445.63 Q868.26 1443.03 863.607 1443.03 Q860.309 1443.03 856.628 1444.17 Q852.982 1445.32 848.816 1447.64 L848.816 1440.56 Q853.052 1438.86 856.732 1437.99 Q860.413 1437.12 863.468 1437.12 Q871.524 1437.12 876.316 1441.15 Q881.107 1445.18 881.107 1451.91 Q881.107 1455.11 879.892 1457.99 Q878.711 1460.84 875.552 1464.73 Q874.684 1465.73 870.031 1470.56 Q865.378 1475.35 856.906 1484 Z\" fill=\"#000000\" fill-rule=\"nonzero\" fill-opacity=\"1\" /><path clip-path=\"url(#clip780)\" d=\"M911.107 1442.68 Q905.69 1442.68 902.947 1448.03 Q900.239 1453.34 900.239 1464.03 Q900.239 1474.69 902.947 1480.04 Q905.69 1485.35 911.107 1485.35 Q916.558 1485.35 919.267 1480.04 Q922.01 1474.69 922.01 1464.03 Q922.01 1453.34 919.267 1448.03 Q916.558 1442.68 911.107 1442.68 M911.107 1437.12 Q919.822 1437.12 924.406 1444.03 Q929.024 1450.91 929.024 1464.03 Q929.024 1477.12 924.406 1484.03 Q919.822 1490.91 911.107 1490.91 Q902.392 1490.91 897.774 1484.03 Q893.191 1477.12 893.191 1464.03 Q893.191 1450.91 897.774 1444.03 Q902.392 1437.12 911.107 1437.12 Z\" fill=\"#000000\" fill-rule=\"nonzero\" fill-opacity=\"1\" /><path clip-path=\"url(#clip780)\" d=\"M1433.07 1444.17 L1415.36 1471.84 L1433.07 1471.84 L1433.07 1444.17 M1431.23 1438.06 L1440.05 1438.06 L1440.05 1471.84 L1447.44 1471.84 L1447.44 1477.68 L1440.05 1477.68 L1440.05 1489.9 L1433.07 1489.9 L1433.07 1477.68 L1409.67 1477.68 L1409.67 1470.91 L1431.23 1438.06 Z\" fill=\"#000000\" fill-rule=\"nonzero\" fill-opacity=\"1\" /><path clip-path=\"url(#clip780)\" d=\"M1474.04 1442.68 Q1468.62 1442.68 1465.88 1448.03 Q1463.17 1453.34 1463.17 1464.03 Q1463.17 1474.69 1465.88 1480.04 Q1468.62 1485.35 1474.04 1485.35 Q1479.49 1485.35 1482.2 1480.04 Q1484.94 1474.69 1484.94 1464.03 Q1484.94 1453.34 1482.2 1448.03 Q1479.49 1442.68 1474.04 1442.68 M1474.04 1437.12 Q1482.76 1437.12 1487.34 1444.03 Q1491.96 1450.91 1491.96 1464.03 Q1491.96 1477.12 1487.34 1484.03 Q1482.76 1490.91 1474.04 1490.91 Q1465.32 1490.91 1460.71 1484.03 Q1456.12 1477.12 1456.12 1464.03 Q1456.12 1450.91 1460.71 1444.03 Q1465.32 1437.12 1474.04 1437.12 Z\" fill=\"#000000\" fill-rule=\"nonzero\" fill-opacity=\"1\" /><path clip-path=\"url(#clip780)\" d=\"M1990.98 1461.18 Q1986.26 1461.18 1983.48 1464.41 Q1980.74 1467.64 1980.74 1473.27 Q1980.74 1478.86 1983.48 1482.12 Q1986.26 1485.35 1990.98 1485.35 Q1995.71 1485.35 1998.45 1482.12 Q2001.23 1478.86 2001.23 1473.27 Q2001.23 1467.64 1998.45 1464.41 Q1995.71 1461.18 1990.98 1461.18 M2004.91 1439.21 L2004.91 1445.59 Q2002.27 1444.34 1999.56 1443.68 Q1996.89 1443.03 1994.25 1443.03 Q1987.3 1443.03 1983.62 1447.71 Q1979.98 1452.4 1979.46 1461.88 Q1981.5 1458.86 1984.59 1457.26 Q1987.68 1455.63 1991.4 1455.63 Q1999.21 1455.63 2003.73 1460.39 Q2008.27 1465.11 2008.27 1473.27 Q2008.27 1481.25 2003.55 1486.08 Q1998.83 1490.91 1990.98 1490.91 Q1981.99 1490.91 1977.23 1484.03 Q1972.48 1477.12 1972.48 1464.03 Q1972.48 1451.74 1978.31 1444.45 Q1984.14 1437.12 1993.97 1437.12 Q1996.61 1437.12 1999.28 1437.64 Q2001.99 1438.16 2004.91 1439.21 Z\" fill=\"#000000\" fill-rule=\"nonzero\" fill-opacity=\"1\" /><path clip-path=\"url(#clip780)\" d=\"M2035.36 1442.68 Q2029.94 1442.68 2027.2 1448.03 Q2024.49 1453.34 2024.49 1464.03 Q2024.49 1474.69 2027.2 1480.04 Q2029.94 1485.35 2035.36 1485.35 Q2040.81 1485.35 2043.52 1480.04 Q2046.26 1474.69 2046.26 1464.03 Q2046.26 1453.34 2043.52 1448.03 Q2040.81 1442.68 2035.36 1442.68 M2035.36 1437.12 Q2044.07 1437.12 2048.66 1444.03 Q2053.27 1450.91 2053.27 1464.03 Q2053.27 1477.12 2048.66 1484.03 Q2044.07 1490.91 2035.36 1490.91 Q2026.64 1490.91 2022.02 1484.03 Q2017.44 1477.12 2017.44 1464.03 Q2017.44 1450.91 2022.02 1444.03 Q2026.64 1437.12 2035.36 1437.12 Z\" fill=\"#000000\" fill-rule=\"nonzero\" fill-opacity=\"1\" /><path clip-path=\"url(#clip780)\" d=\"M1277.53 1520.58 Q1277.53 1521.19 1277.4 1521.71 L1275.6 1533.17 Q1275.5 1534.04 1275.31 1534.36 Q1275.15 1534.69 1274.63 1534.69 Q1273.83 1534.69 1273.83 1533.85 Q1273.83 1533.36 1274.02 1532.59 Q1274.57 1528.95 1274.57 1527.31 Q1274.57 1526.22 1274.34 1525.41 Q1274.15 1524.57 1273.83 1523.99 Q1273.54 1523.41 1272.86 1523.03 Q1272.18 1522.64 1271.54 1522.41 Q1270.89 1522.19 1269.74 1522.09 Q1268.58 1521.96 1267.58 1521.93 Q1266.58 1521.9 1264.94 1521.9 Q1261.36 1521.9 1260.78 1522.03 Q1260.17 1522.19 1259.85 1522.67 Q1259.56 1523.12 1259.24 1524.48 L1250.48 1559.48 L1250.22 1560.87 Q1250.22 1561.64 1250.7 1561.9 Q1251.18 1562.16 1252.67 1562.32 Q1254.79 1562.48 1256.89 1562.48 Q1256.95 1562.48 1257.08 1562.48 Q1257.79 1562.48 1258.08 1562.51 Q1258.37 1562.51 1258.66 1562.58 Q1258.95 1562.64 1259.01 1562.8 Q1259.11 1562.93 1259.11 1563.19 Q1259.11 1563.8 1258.85 1564.12 Q1258.59 1564.41 1258.33 1564.48 Q1258.11 1564.51 1257.66 1564.51 Q1256.76 1564.51 1254.82 1564.44 Q1252.89 1564.38 1251.93 1564.38 L1246.45 1564.31 L1240.85 1564.38 Q1239.98 1564.38 1238.14 1564.44 Q1236.31 1564.51 1235.44 1564.51 Q1234.31 1564.51 1234.31 1563.7 Q1234.31 1562.8 1234.73 1562.64 Q1235.18 1562.48 1237.08 1562.48 Q1239.75 1562.48 1241.2 1562.35 Q1242.65 1562.22 1243.42 1561.77 Q1244.23 1561.32 1244.45 1560.87 Q1244.68 1560.39 1244.94 1559.29 L1253.79 1524.09 Q1254.05 1523.32 1254.05 1522.7 Q1254.05 1522.38 1253.95 1522.25 Q1253.89 1522.12 1253.47 1522.03 Q1253.05 1521.9 1252.18 1521.9 L1249.61 1521.9 Q1246.97 1521.9 1245.32 1522.03 Q1243.71 1522.12 1242.17 1522.61 Q1240.65 1523.09 1239.75 1523.77 Q1238.88 1524.44 1237.92 1525.83 Q1236.95 1527.21 1236.24 1528.89 Q1235.56 1530.56 1234.6 1533.3 Q1234.28 1534.2 1234.08 1534.46 Q1233.92 1534.69 1233.47 1534.69 Q1233.15 1534.69 1232.89 1534.49 Q1232.67 1534.27 1232.67 1533.98 Q1232.99 1532.91 1233.05 1532.79 L1237.01 1521.16 Q1237.34 1520.22 1237.63 1520.06 Q1237.95 1519.87 1239.14 1519.87 L1275.73 1519.87 Q1276.31 1519.87 1276.5 1519.87 Q1276.69 1519.87 1277.01 1519.93 Q1277.34 1520 1277.43 1520.16 Q1277.53 1520.32 1277.53 1520.58 Z\" fill=\"#000000\" fill-rule=\"nonzero\" fill-opacity=\"1\" /><path clip-path=\"url(#clip780)\" d=\"M1284.55 1548.02 Q1284.55 1536.88 1288.7 1527.89 Q1290.47 1524.12 1292.95 1520.97 Q1295.43 1517.81 1297.07 1516.42 Q1298.72 1515.04 1299.17 1515.04 Q1299.81 1515.04 1299.84 1515.68 Q1299.84 1516.01 1298.97 1516.81 Q1288.35 1527.63 1288.38 1548.02 Q1288.38 1568.47 1298.72 1578.87 Q1299.84 1580 1299.84 1580.35 Q1299.84 1581 1299.17 1581 Q1298.72 1581 1297.14 1579.68 Q1295.56 1578.36 1293.11 1575.33 Q1290.66 1572.3 1288.89 1568.6 Q1284.55 1559.61 1284.55 1548.02 Z\" fill=\"#000000\" fill-rule=\"nonzero\" fill-opacity=\"1\" /><path clip-path=\"url(#clip780)\" d=\"M1362.05 1520.19 Q1362.05 1520.61 1361.95 1520.9 Q1361.85 1521.16 1361.63 1521.29 Q1361.4 1521.42 1361.27 1521.45 Q1361.15 1521.48 1360.86 1521.51 Q1359.47 1521.64 1358.5 1521.87 Q1357.57 1522.09 1355.25 1523.25 Q1352.97 1524.41 1350.1 1526.5 L1338.57 1535.43 L1336.64 1536.94 Q1336.64 1537.04 1336.7 1537.23 Q1336.77 1537.39 1336.83 1537.62 Q1336.93 1537.81 1336.96 1537.87 L1346.33 1559.48 Q1347.07 1561.22 1347.97 1561.83 Q1348.88 1562.45 1350.9 1562.48 Q1351.23 1562.48 1351.35 1562.51 Q1351.52 1562.51 1351.74 1562.58 Q1352 1562.61 1352.1 1562.77 Q1352.22 1562.93 1352.22 1563.19 Q1352.22 1564.51 1351.03 1564.51 Q1350.29 1564.51 1347.78 1564.41 Q1345.27 1564.31 1344.56 1564.31 Q1343.24 1564.31 1340.53 1564.41 Q1337.83 1564.51 1336.51 1564.51 Q1335.57 1564.51 1335.57 1563.77 Q1335.57 1563.16 1335.8 1562.87 Q1336.06 1562.54 1336.28 1562.51 Q1336.51 1562.48 1337.02 1562.48 Q1337.41 1562.48 1337.83 1562.45 Q1338.28 1562.38 1338.92 1562.22 Q1339.6 1562.03 1340.02 1561.58 Q1340.47 1561.09 1340.47 1560.42 Q1340.47 1559.87 1339.66 1558.1 L1332.03 1540.35 L1322.21 1548.02 L1319.57 1558.39 Q1319.5 1558.78 1319.34 1559.45 Q1319.18 1560.13 1319.05 1560.61 Q1318.96 1561.09 1318.96 1561.29 Q1318.96 1561.71 1319.21 1561.96 Q1319.5 1562.22 1320.21 1562.35 Q1320.92 1562.45 1321.47 1562.48 Q1322.05 1562.48 1323.24 1562.48 Q1324.72 1562.48 1324.98 1562.74 Q1325.11 1562.9 1325.11 1563.19 Q1325.11 1563.64 1324.98 1563.96 Q1324.85 1564.25 1324.59 1564.35 Q1324.37 1564.44 1324.21 1564.48 Q1324.04 1564.51 1323.79 1564.51 Q1323.11 1564.51 1321.66 1564.44 Q1320.24 1564.38 1319.5 1564.38 L1315.28 1564.31 L1306.91 1564.51 Q1305.91 1564.51 1305.91 1563.7 Q1305.91 1563.09 1306.17 1562.83 Q1306.43 1562.54 1306.72 1562.51 Q1307.01 1562.48 1307.75 1562.48 Q1309.36 1562.48 1310.32 1562.38 Q1311.29 1562.29 1311.9 1562.16 Q1312.55 1562 1312.87 1561.54 Q1313.22 1561.09 1313.38 1560.71 Q1313.55 1560.29 1313.77 1559.35 L1322.6 1523.93 Q1322.85 1522.87 1322.85 1522.7 Q1322.85 1522.16 1322.53 1521.96 Q1322.24 1521.74 1321.4 1521.64 Q1319.79 1521.51 1318.57 1521.51 Q1317.76 1521.51 1317.44 1521.48 Q1317.15 1521.45 1316.89 1521.29 Q1316.67 1521.09 1316.67 1520.71 Q1316.67 1519.45 1317.99 1519.45 L1326.49 1519.65 L1334.93 1519.45 Q1335.86 1519.45 1335.86 1520.19 Q1335.86 1521.13 1335.41 1521.32 Q1334.99 1521.51 1333.61 1521.51 Q1331.19 1521.51 1330.1 1521.84 Q1329.04 1522.12 1328.71 1522.64 Q1328.42 1523.12 1328.07 1524.54 L1322.79 1545.7 L1348.52 1525.93 Q1350.9 1523.93 1350.9 1522.9 Q1350.9 1522.22 1350.42 1521.93 Q1349.97 1521.61 1348.84 1521.51 Q1348.04 1521.38 1348.04 1520.77 Q1348.04 1520.16 1348.26 1519.87 Q1348.52 1519.55 1348.71 1519.52 Q1348.94 1519.45 1349.29 1519.45 Q1350.49 1519.45 1352.97 1519.55 Q1355.45 1519.65 1356.64 1519.65 Q1357.44 1519.65 1359.02 1519.55 Q1360.6 1519.45 1361.31 1519.45 Q1361.66 1519.45 1361.85 1519.71 Q1362.05 1519.93 1362.05 1520.19 Z\" fill=\"#000000\" fill-rule=\"nonzero\" fill-opacity=\"1\" /><path clip-path=\"url(#clip780)\" d=\"M1368.22 1580.35 Q1368.22 1580.03 1369.05 1579.23 Q1379.68 1568.4 1379.68 1548.02 Q1379.68 1527.57 1369.47 1517.23 Q1368.22 1516.04 1368.22 1515.68 Q1368.22 1515.04 1368.86 1515.04 Q1369.31 1515.04 1370.89 1516.36 Q1372.5 1517.68 1374.91 1520.71 Q1377.36 1523.74 1379.17 1527.44 Q1383.51 1536.42 1383.51 1548.02 Q1383.51 1559.16 1379.36 1568.15 Q1377.59 1571.92 1375.11 1575.07 Q1372.63 1578.23 1370.99 1579.61 Q1369.34 1581 1368.86 1581 Q1368.22 1581 1368.22 1580.35 Z\" fill=\"#000000\" fill-rule=\"nonzero\" fill-opacity=\"1\" /><polyline clip-path=\"url(#clip782)\" style=\"stroke:#000000; stroke-linecap:round; stroke-linejoin:round; stroke-width:2; stroke-opacity:0.1; fill:none\" points=\"273.454,1198.05 2352.76,1198.05 \"/>\n",
       "<polyline clip-path=\"url(#clip782)\" style=\"stroke:#000000; stroke-linecap:round; stroke-linejoin:round; stroke-width:2; stroke-opacity:0.1; fill:none\" points=\"273.454,943.149 2352.76,943.149 \"/>\n",
       "<polyline clip-path=\"url(#clip782)\" style=\"stroke:#000000; stroke-linecap:round; stroke-linejoin:round; stroke-width:2; stroke-opacity:0.1; fill:none\" points=\"273.454,688.252 2352.76,688.252 \"/>\n",
       "<polyline clip-path=\"url(#clip782)\" style=\"stroke:#000000; stroke-linecap:round; stroke-linejoin:round; stroke-width:2; stroke-opacity:0.1; fill:none\" points=\"273.454,433.355 2352.76,433.355 \"/>\n",
       "<polyline clip-path=\"url(#clip782)\" style=\"stroke:#000000; stroke-linecap:round; stroke-linejoin:round; stroke-width:2; stroke-opacity:0.1; fill:none\" points=\"273.454,178.458 2352.76,178.458 \"/>\n",
       "<polyline clip-path=\"url(#clip780)\" style=\"stroke:#000000; stroke-linecap:round; stroke-linejoin:round; stroke-width:4; stroke-opacity:1; fill:none\" points=\"273.454,1405.9 273.454,47.2441 \"/>\n",
       "<polyline clip-path=\"url(#clip780)\" style=\"stroke:#000000; stroke-linecap:round; stroke-linejoin:round; stroke-width:4; stroke-opacity:1; fill:none\" points=\"273.454,1198.05 292.352,1198.05 \"/>\n",
       "<polyline clip-path=\"url(#clip780)\" style=\"stroke:#000000; stroke-linecap:round; stroke-linejoin:round; stroke-width:4; stroke-opacity:1; fill:none\" points=\"273.454,943.149 292.352,943.149 \"/>\n",
       "<polyline clip-path=\"url(#clip780)\" style=\"stroke:#000000; stroke-linecap:round; stroke-linejoin:round; stroke-width:4; stroke-opacity:1; fill:none\" points=\"273.454,688.252 292.352,688.252 \"/>\n",
       "<polyline clip-path=\"url(#clip780)\" style=\"stroke:#000000; stroke-linecap:round; stroke-linejoin:round; stroke-width:4; stroke-opacity:1; fill:none\" points=\"273.454,433.355 292.352,433.355 \"/>\n",
       "<polyline clip-path=\"url(#clip780)\" style=\"stroke:#000000; stroke-linecap:round; stroke-linejoin:round; stroke-width:4; stroke-opacity:1; fill:none\" points=\"273.454,178.458 292.352,178.458 \"/>\n",
       "<path clip-path=\"url(#clip780)\" d=\"M219.537 1176.74 Q214.121 1176.74 211.378 1182.09 Q208.669 1187.4 208.669 1198.1 Q208.669 1208.76 211.378 1214.1 Q214.121 1219.42 219.537 1219.42 Q224.989 1219.42 227.697 1214.1 Q230.44 1208.76 230.44 1198.1 Q230.44 1187.4 227.697 1182.09 Q224.989 1176.74 219.537 1176.74 M219.537 1171.19 Q228.253 1171.19 232.836 1178.1 Q237.454 1184.97 237.454 1198.1 Q237.454 1211.19 232.836 1218.1 Q228.253 1224.97 219.537 1224.97 Q210.822 1224.97 206.204 1218.1 Q201.621 1211.19 201.621 1198.1 Q201.621 1184.97 206.204 1178.1 Q210.822 1171.19 219.537 1171.19 Z\" fill=\"#000000\" fill-rule=\"nonzero\" fill-opacity=\"1\" /><path clip-path=\"url(#clip780)\" d=\"M166.829 963.166 L191.308 963.166 L191.308 969.069 L158.392 969.069 L158.392 963.166 Q162.385 959.034 169.26 952.09 Q176.17 945.111 177.94 943.097 Q181.308 939.312 182.628 936.708 Q183.982 934.069 183.982 931.534 Q183.982 927.402 181.065 924.798 Q178.183 922.194 173.531 922.194 Q170.232 922.194 166.552 923.34 Q162.906 924.486 158.739 926.812 L158.739 919.729 Q162.975 918.027 166.656 917.159 Q170.336 916.291 173.392 916.291 Q181.447 916.291 186.239 920.319 Q191.031 924.347 191.031 931.083 Q191.031 934.277 189.815 937.159 Q188.635 940.006 185.475 943.895 Q184.607 944.902 179.954 949.729 Q175.301 954.52 166.829 963.166 Z\" fill=\"#000000\" fill-rule=\"nonzero\" fill-opacity=\"1\" /><path clip-path=\"url(#clip780)\" d=\"M206.1 917.229 L233.635 917.229 L233.635 923.132 L212.524 923.132 L212.524 935.84 Q214.051 935.319 215.579 935.076 Q217.107 934.798 218.635 934.798 Q227.315 934.798 232.385 939.555 Q237.454 944.312 237.454 952.437 Q237.454 960.805 232.246 965.458 Q227.037 970.076 217.558 970.076 Q214.294 970.076 210.892 969.52 Q207.524 968.965 203.912 967.854 L203.912 960.805 Q207.037 962.506 210.371 963.34 Q213.704 964.173 217.419 964.173 Q223.426 964.173 226.933 961.013 Q230.44 957.854 230.44 952.437 Q230.44 947.02 226.933 943.861 Q223.426 940.701 217.419 940.701 Q214.607 940.701 211.794 941.326 Q209.017 941.951 206.1 943.27 L206.1 917.229 Z\" fill=\"#000000\" fill-rule=\"nonzero\" fill-opacity=\"1\" /><path clip-path=\"url(#clip780)\" d=\"M159.364 662.332 L186.899 662.332 L186.899 668.235 L165.788 668.235 L165.788 680.943 Q167.315 680.422 168.843 680.179 Q170.371 679.901 171.899 679.901 Q180.579 679.901 185.649 684.658 Q190.718 689.415 190.718 697.54 Q190.718 705.908 185.51 710.561 Q180.301 715.179 170.822 715.179 Q167.558 715.179 164.156 714.623 Q160.788 714.068 157.177 712.957 L157.177 705.908 Q160.302 707.609 163.635 708.443 Q166.968 709.276 170.683 709.276 Q176.69 709.276 180.197 706.116 Q183.704 702.957 183.704 697.54 Q183.704 692.123 180.197 688.964 Q176.69 685.804 170.683 685.804 Q167.871 685.804 165.058 686.429 Q162.281 687.054 159.364 688.373 L159.364 662.332 Z\" fill=\"#000000\" fill-rule=\"nonzero\" fill-opacity=\"1\" /><path clip-path=\"url(#clip780)\" d=\"M219.537 666.95 Q214.121 666.95 211.378 672.297 Q208.669 677.61 208.669 688.304 Q208.669 698.964 211.378 704.311 Q214.121 709.623 219.537 709.623 Q224.989 709.623 227.697 704.311 Q230.44 698.964 230.44 688.304 Q230.44 677.61 227.697 672.297 Q224.989 666.95 219.537 666.95 M219.537 661.394 Q228.253 661.394 232.836 668.304 Q237.454 675.179 237.454 688.304 Q237.454 701.394 232.836 708.304 Q228.253 715.179 219.537 715.179 Q210.822 715.179 206.204 708.304 Q201.621 701.394 201.621 688.304 Q201.621 675.179 206.204 668.304 Q210.822 661.394 219.537 661.394 Z\" fill=\"#000000\" fill-rule=\"nonzero\" fill-opacity=\"1\" /><path clip-path=\"url(#clip780)\" d=\"M159.017 407.435 L192.35 407.435 L192.35 410.421 L173.531 459.275 L166.204 459.275 L183.913 413.338 L159.017 413.338 L159.017 407.435 Z\" fill=\"#000000\" fill-rule=\"nonzero\" fill-opacity=\"1\" /><path clip-path=\"url(#clip780)\" d=\"M206.1 407.435 L233.635 407.435 L233.635 413.338 L212.524 413.338 L212.524 426.046 Q214.051 425.525 215.579 425.282 Q217.107 425.004 218.635 425.004 Q227.315 425.004 232.385 429.761 Q237.454 434.518 237.454 442.643 Q237.454 451.011 232.246 455.664 Q227.037 460.282 217.558 460.282 Q214.294 460.282 210.892 459.726 Q207.524 459.171 203.912 458.06 L203.912 451.011 Q207.037 452.713 210.371 453.546 Q213.704 454.379 217.419 454.379 Q223.426 454.379 226.933 451.22 Q230.44 448.06 230.44 442.643 Q230.44 437.227 226.933 434.067 Q223.426 430.907 217.419 430.907 Q214.607 430.907 211.794 431.532 Q209.017 432.157 206.1 433.477 L206.1 407.435 Z\" fill=\"#000000\" fill-rule=\"nonzero\" fill-opacity=\"1\" /><path clip-path=\"url(#clip780)\" d=\"M115.267 198.475 L126.725 198.475 L126.725 158.927 L114.26 161.427 L114.26 155.038 L126.656 152.538 L133.67 152.538 L133.67 198.475 L145.128 198.475 L145.128 204.378 L115.267 204.378 L115.267 198.475 Z\" fill=\"#000000\" fill-rule=\"nonzero\" fill-opacity=\"1\" /><path clip-path=\"url(#clip780)\" d=\"M174.295 157.156 Q168.878 157.156 166.135 162.503 Q163.427 167.816 163.427 178.51 Q163.427 189.17 166.135 194.517 Q168.878 199.83 174.295 199.83 Q179.746 199.83 182.454 194.517 Q185.197 189.17 185.197 178.51 Q185.197 167.816 182.454 162.503 Q179.746 157.156 174.295 157.156 M174.295 151.601 Q183.01 151.601 187.593 158.51 Q192.211 165.385 192.211 178.51 Q192.211 191.601 187.593 198.51 Q183.01 205.385 174.295 205.385 Q165.579 205.385 160.961 198.51 Q156.378 191.601 156.378 178.51 Q156.378 165.385 160.961 158.51 Q165.579 151.601 174.295 151.601 Z\" fill=\"#000000\" fill-rule=\"nonzero\" fill-opacity=\"1\" /><path clip-path=\"url(#clip780)\" d=\"M219.537 157.156 Q214.121 157.156 211.378 162.503 Q208.669 167.816 208.669 178.51 Q208.669 189.17 211.378 194.517 Q214.121 199.83 219.537 199.83 Q224.989 199.83 227.697 194.517 Q230.44 189.17 230.44 178.51 Q230.44 167.816 227.697 162.503 Q224.989 157.156 219.537 157.156 M219.537 151.601 Q228.253 151.601 232.836 158.51 Q237.454 165.385 237.454 178.51 Q237.454 191.601 232.836 198.51 Q228.253 205.385 219.537 205.385 Q210.822 205.385 206.204 198.51 Q201.621 191.601 201.621 178.51 Q201.621 165.385 206.204 158.51 Q210.822 151.601 219.537 151.601 Z\" fill=\"#000000\" fill-rule=\"nonzero\" fill-opacity=\"1\" /><path clip-path=\"url(#clip780)\" d=\"M28.4354 938.683 L26.3743 938.683 Q26.3743 930.76 22.1553 926.67 Q22.1553 925.543 22.4129 925.349 Q22.6706 925.156 23.8622 925.156 L60.8667 925.156 Q62.8313 925.156 63.4432 924.19 Q64.0551 923.224 64.0551 919.005 L64.0551 916.912 L66.0841 916.912 Q65.8909 919.23 65.8909 927.604 Q65.8909 935.977 66.0841 938.264 L64.0551 938.264 L64.0551 936.171 Q64.0551 932.016 63.4754 931.018 Q62.8635 930.019 60.8667 930.019 L26.6963 930.019 Q28.4354 933.465 28.4354 938.683 Z\" fill=\"#000000\" fill-rule=\"nonzero\" fill-opacity=\"1\" /><path clip-path=\"url(#clip780)\" d=\"M81.6395 906.019 Q81.3175 906.019 80.6089 905.761 L18.3872 882.476 Q18.3228 882.476 17.9685 882.315 Q17.6143 882.154 17.3888 882.057 Q17.1312 881.961 16.938 881.768 Q16.7447 881.542 16.7447 881.285 Q16.7447 880.64 17.5499 880.64 Q17.6143 880.64 18.3872 880.834 L80.6734 904.183 Q81.8006 904.569 82.1226 904.827 Q82.4447 905.052 82.4447 905.439 Q82.4447 906.019 81.6395 906.019 Z\" fill=\"#000000\" fill-rule=\"nonzero\" fill-opacity=\"1\" /><path clip-path=\"url(#clip780)\" d=\"M37.904 836.414 Q38.1294 836.189 38.4515 836.189 Q38.7735 836.189 39.5143 836.93 L57.0987 852.614 Q78.1613 846.624 78.1613 843.339 Q78.1613 842.34 77.3884 841.31 Q76.6476 840.247 75.5204 839.828 Q74.9729 839.667 74.7797 839.506 Q74.5864 839.345 74.5864 838.894 Q74.5864 838.121 75.3272 838.121 Q75.7136 838.121 76.3578 838.476 Q77.0341 838.83 77.7748 839.474 Q78.5478 840.118 79.0631 841.245 Q79.6106 842.373 79.6106 843.725 Q79.6106 845.4 79.2241 846.753 Q78.8376 848.105 78.3545 848.878 Q77.8714 849.651 77.0019 850.36 Q76.1645 851.036 75.6492 851.294 Q75.1661 851.519 74.3288 851.905 Q72.5253 852.678 70.5285 853.387 Q68.5317 854.095 67.0825 854.546 Q65.6332 854.997 61.1888 856.382 L78.1613 871.487 Q78.8698 872.195 78.8698 872.549 Q78.8698 872.839 78.6122 873.097 Q78.3867 873.355 78.0969 873.355 Q77.7748 873.355 77.0341 872.614 L60.0938 857.445 Q59.8684 857.219 59.6751 857.091 Q59.4819 856.962 59.4175 856.962 L59.3531 856.93 Q59.192 856.93 57.1309 857.509 Q55.0697 858.089 51.8813 859.152 Q48.6607 860.182 46.3097 861.149 Q44.7316 861.76 43.7654 862.179 Q42.7993 862.598 41.35 863.339 Q39.9007 864.047 39.16 864.788 Q38.3871 865.529 38.3871 866.205 Q38.3871 866.43 38.4837 866.785 Q38.5803 867.139 38.8379 867.719 Q39.0634 868.266 39.7075 868.814 Q40.3194 869.361 41.2212 869.715 Q41.9297 870.005 41.9297 870.553 Q41.9297 870.907 41.7687 871.132 Q41.6076 871.326 41.4466 871.326 L41.2856 871.358 Q40.7059 871.358 39.7397 870.81 Q38.7735 870.263 37.8718 868.91 Q36.9378 867.558 36.9378 865.818 Q36.9378 864.176 37.3243 862.823 Q37.7107 861.471 38.1616 860.73 Q38.6125 859.957 39.4498 859.281 Q40.255 858.604 40.6415 858.411 Q40.9957 858.186 41.7365 857.831 Q44.2485 856.736 46.4063 856.028 Q48.5319 855.287 55.2629 853.162 L38.4515 838.057 Q37.6463 837.381 37.6463 836.994 Q37.6463 836.64 37.904 836.414 Z\" fill=\"#000000\" fill-rule=\"nonzero\" fill-opacity=\"1\" /><path clip-path=\"url(#clip780)\" d=\"M49.5947 827.709 Q38.4515 827.709 29.466 823.554 Q25.6979 821.783 22.5418 819.303 Q19.3856 816.823 18.0007 815.181 Q16.6159 813.538 16.6159 813.087 Q16.6159 812.443 17.26 812.411 Q17.5821 812.411 18.3872 813.28 Q29.2084 823.908 49.5947 823.876 Q70.0454 823.876 80.4479 813.538 Q81.5751 812.411 81.9294 812.411 Q82.5735 812.411 82.5735 813.087 Q82.5735 813.538 81.2531 815.116 Q79.9326 816.694 76.9053 819.142 Q73.8779 821.59 70.1742 823.361 Q61.1888 827.709 49.5947 827.709 Z\" fill=\"#000000\" fill-rule=\"nonzero\" fill-opacity=\"1\" /><path clip-path=\"url(#clip780)\" d=\"M56.6478 753.356 Q56.9054 753.356 57.9038 753.646 Q58.9022 753.936 60.4481 754.644 Q61.994 755.32 63.411 756.287 Q64.7959 757.221 65.8264 758.766 Q66.8248 760.28 66.8248 762.019 Q66.8248 764.338 65.2789 765.884 Q63.7331 767.43 61.4142 767.43 Q60.1582 767.43 57.775 766.56 Q46.8894 762.47 42.9925 762.47 Q38.3871 762.47 38.3871 766.045 Q38.3871 768.074 39.2244 769.91 Q40.0618 771.745 41.2212 772.937 Q42.3806 774.129 43.701 775.063 Q45.0215 775.997 45.891 776.415 Q46.7606 776.802 47.147 776.898 L63.0567 780.86 Q64.4094 781.182 65.0535 781.407 Q65.6976 781.633 66.2451 782.245 Q66.8248 782.856 66.8248 783.823 Q66.8248 784.628 66.3417 785.207 Q65.8587 785.755 65.0213 785.755 Q64.8925 785.755 64.2162 785.594 Q63.5398 785.433 62.6059 785.207 Q61.6719 784.982 61.1244 784.885 Q56.7444 783.726 56.1325 783.565 L48.4675 781.729 Q44.6672 780.731 42.9925 780.731 Q38.3871 780.731 38.3871 784.306 Q38.3871 786.077 39.0634 787.752 Q39.7075 789.394 40.6093 790.521 Q41.511 791.649 42.7671 792.679 Q43.9909 793.678 44.8282 794.193 Q45.6334 794.676 46.4385 795.062 L49.7235 795.9 Q50.6253 796.093 54.1357 797.027 L60.0938 798.476 Q64.5382 799.507 64.9569 799.732 Q65.8587 800.054 66.3417 800.763 Q66.8248 801.471 66.8248 802.18 Q66.8248 802.985 66.3417 803.533 Q65.8587 804.08 65.0213 804.08 Q64.8925 804.08 64.4094 803.983 Q63.9263 803.887 63.25 803.726 Q62.5737 803.565 62.1872 803.5 L46.9538 799.668 Q44.1841 798.959 43.3146 798.798 Q42.4128 798.605 41.4144 798.605 Q38.3871 798.605 38.3871 800.666 Q38.3871 802.341 40.3838 803.436 Q42.3806 804.531 46.2453 805.465 Q47.3081 805.755 47.5335 805.948 Q47.759 806.109 47.759 806.592 Q47.7268 807.397 47.0826 807.397 Q46.9216 807.397 45.891 807.14 Q44.8604 806.882 43.3146 806.399 Q41.7365 805.884 40.7059 805.336 Q40.0296 805.014 39.5787 804.724 Q39.1278 804.434 38.4193 803.855 Q37.7107 803.275 37.3243 802.405 Q36.9378 801.536 36.9378 800.473 Q36.9378 798.122 38.4515 796.383 Q39.9651 794.612 42.6704 794.386 Q36.9378 790.103 36.9378 784.112 Q36.9378 780.731 38.6447 778.702 Q40.2872 776.802 43.3146 776.576 Q36.9378 772.132 36.9378 765.82 Q36.9378 762.18 38.8379 760.216 Q40.7059 758.251 43.9909 758.251 Q45.6978 758.251 48.9506 759.121 Q52.1712 759.99 53.7815 760.57 Q55.3917 761.15 58.4835 762.277 Q61.4465 763.468 63.1856 763.468 Q64.3128 763.468 64.8281 763.082 Q65.3434 762.696 65.3434 761.858 Q65.3434 760.57 64.6026 759.443 Q63.8297 758.316 62.5737 757.51 Q61.2854 756.673 59.9972 756.126 Q58.6767 755.578 57.1953 755.159 Q56.3901 754.902 56.1969 754.773 Q56.0037 754.612 56.0037 754.161 Q56.0037 753.356 56.6478 753.356 Z\" fill=\"#000000\" fill-rule=\"nonzero\" fill-opacity=\"1\" /><path clip-path=\"url(#clip780)\" d=\"M48.081 720.743 Q51.5915 720.743 55.0697 722.289 Q58.5157 723.835 61.0922 726.315 Q63.6364 728.763 65.2467 731.983 Q66.8248 735.204 66.8248 738.424 Q66.8248 743.03 63.7009 746.025 Q60.5447 748.988 55.6494 748.988 Q51.0762 748.988 46.7284 746.444 Q42.3484 743.867 39.6431 739.745 Q36.9378 735.622 36.9378 731.307 Q36.9378 726.766 39.9973 723.771 Q43.0569 720.743 48.081 720.743 M45.5045 725.574 Q42.3806 725.574 40.3838 727.088 Q38.3871 728.601 38.3871 731.371 Q38.3871 732.176 38.6447 733.11 Q38.8701 734.044 39.4821 735.268 Q40.094 736.46 41.3822 737.812 Q42.6382 739.133 44.4418 740.292 Q46.825 741.806 51.205 742.965 Q55.5528 744.093 58.1615 744.093 Q61.7685 744.093 63.572 742.418 Q65.3434 740.743 65.3434 738.36 Q65.3434 736.041 63.7331 733.593 Q62.0906 731.114 59.2887 729.407 Q56.3901 727.7 52.139 726.637 Q47.8556 725.574 45.5045 725.574 Z\" fill=\"#000000\" fill-rule=\"nonzero\" fill-opacity=\"1\" /><path clip-path=\"url(#clip780)\" d=\"M21.0281 703.206 L59.1598 712.707 Q60.6735 713.094 62.316 713.094 Q65.3434 713.094 65.3434 711.097 Q65.3434 710.163 64.7314 709.39 Q64.0873 708.617 62.8313 708.037 Q61.5431 707.425 60.3192 707.039 Q59.0954 706.62 57.1953 706.105 Q56.4545 705.944 56.2291 705.783 Q56.0037 705.622 56.0037 705.171 Q56.0037 704.366 56.6478 704.366 Q60.6091 705.171 63.1212 706.363 Q66.8248 708.102 66.8248 711.322 Q66.8248 713.738 65.1501 715.541 Q63.4432 717.313 60.7379 717.313 Q59.7073 717.313 58.4835 716.991 L25.5047 708.681 L24.2165 708.456 Q23.8622 708.456 23.669 708.585 Q23.4757 708.714 23.2825 709.487 Q23.0893 710.227 23.0893 711.709 Q23.0893 712.321 23.0571 712.611 Q23.0249 712.868 22.8638 713.126 Q22.7028 713.351 22.3485 713.351 Q21.7688 713.351 21.4468 713.126 Q21.1247 712.868 21.0603 712.675 Q20.9959 712.482 20.9637 712.095 Q20.9315 711.548 20.7704 709.712 Q20.5772 707.876 20.4484 706.298 Q20.3196 704.72 20.3196 704.044 Q20.3196 703.657 20.5128 703.464 Q20.6738 703.239 20.8671 703.206 L21.0281 703.206 Z\" fill=\"#000000\" fill-rule=\"nonzero\" fill-opacity=\"1\" /><path clip-path=\"url(#clip780)\" d=\"M81.6395 697.855 Q81.3175 697.855 80.6089 697.597 L18.3872 674.312 Q18.3228 674.312 17.9685 674.151 Q17.6143 673.99 17.3888 673.893 Q17.1312 673.797 16.938 673.603 Q16.7447 673.378 16.7447 673.12 Q16.7447 672.476 17.5499 672.476 Q17.6143 672.476 18.3872 672.67 L80.6734 696.019 Q81.8006 696.405 82.1226 696.663 Q82.4447 696.888 82.4447 697.275 Q82.4447 697.855 81.6395 697.855 Z\" fill=\"#000000\" fill-rule=\"nonzero\" fill-opacity=\"1\" /><path clip-path=\"url(#clip780)\" d=\"M58.4513 640.102 Q58.7412 639.844 59.031 639.844 Q59.3209 639.844 60.1582 640.489 Q60.9956 641.1 62.1228 642.421 Q63.25 643.741 64.3128 645.448 Q65.3756 647.155 66.0841 649.667 Q66.8248 652.179 66.8248 654.82 Q66.8248 659.554 63.4432 662.389 Q60.0616 665.19 54.8765 665.19 Q51.5593 665.19 48.6285 664.095 Q45.6656 663 43.5722 661.229 Q41.4788 659.426 39.9651 657.171 Q38.4193 654.885 37.6785 652.501 Q36.9378 650.118 36.9378 647.896 Q36.9378 644.643 38.5803 642.743 Q40.2228 640.843 42.5416 640.843 Q43.0891 640.843 43.7654 641.004 Q44.4418 641.133 45.5045 641.584 Q46.5673 642.002 47.6301 643.097 Q48.6607 644.192 49.337 645.803 Q50.8507 649.377 50.8507 655.883 L50.8507 659.393 Q55.0053 660.424 57.7106 660.424 Q58.7734 660.424 59.8684 660.231 Q60.9312 660.038 62.2838 659.522 Q63.6364 658.975 64.506 657.751 Q65.3434 656.495 65.3434 654.691 Q65.3434 654.112 65.3112 653.5 Q65.2789 652.856 64.9247 651.245 Q64.5704 649.603 63.9585 648.154 Q63.3466 646.704 62.0262 644.869 Q60.6735 643.001 58.8378 641.519 Q58.1615 641.004 58.1615 640.65 Q58.1615 640.36 58.4513 640.102 M42.5416 643.033 Q40.7703 643.033 39.5787 644.353 Q38.3871 645.641 38.3871 647.896 Q38.3871 648.604 38.5481 649.474 Q38.7091 650.344 39.3854 651.793 Q40.0618 653.21 41.189 654.466 Q42.284 655.722 44.4418 656.978 Q46.5673 658.234 49.4015 658.975 L49.4015 656.269 Q49.4015 655.335 49.4015 654.659 Q49.3693 653.983 49.2404 652.501 Q49.1116 650.988 48.8862 649.893 Q48.6285 648.798 48.1132 647.413 Q47.5979 646.028 46.9216 645.158 Q46.2131 644.257 45.0859 643.645 Q43.9587 643.033 42.5416 643.033 Z\" fill=\"#000000\" fill-rule=\"nonzero\" fill-opacity=\"1\" /><path clip-path=\"url(#clip780)\" d=\"M56.6478 582.038 Q56.9054 582.038 57.9038 582.328 Q58.9022 582.618 60.4481 583.326 Q61.994 584.002 63.411 584.969 Q64.7959 585.903 65.8264 587.448 Q66.8248 588.962 66.8248 590.701 Q66.8248 593.02 65.2789 594.566 Q63.7331 596.112 61.4142 596.112 Q60.1582 596.112 57.775 595.242 Q46.8894 591.152 42.9925 591.152 Q38.3871 591.152 38.3871 594.727 Q38.3871 596.756 39.2244 598.592 Q40.0618 600.427 41.2212 601.619 Q42.3806 602.811 43.701 603.745 Q45.0215 604.679 45.891 605.097 Q46.7606 605.484 47.147 605.58 L63.0567 609.542 Q64.4094 609.864 65.0535 610.089 Q65.6976 610.315 66.2451 610.927 Q66.8248 611.538 66.8248 612.505 Q66.8248 613.31 66.3417 613.889 Q65.8587 614.437 65.0213 614.437 Q64.8925 614.437 64.2162 614.276 Q63.5398 614.115 62.6059 613.889 Q61.6719 613.664 61.1244 613.567 Q56.7444 612.408 56.1325 612.247 L48.4675 610.411 Q44.6672 609.413 42.9925 609.413 Q38.3871 609.413 38.3871 612.988 Q38.3871 614.759 39.0634 616.434 Q39.7075 618.076 40.6093 619.203 Q41.511 620.331 42.7671 621.361 Q43.9909 622.36 44.8282 622.875 Q45.6334 623.358 46.4385 623.744 L49.7235 624.582 Q50.6253 624.775 54.1357 625.709 L60.0938 627.158 Q64.5382 628.189 64.9569 628.414 Q65.8587 628.736 66.3417 629.445 Q66.8248 630.153 66.8248 630.862 Q66.8248 631.667 66.3417 632.215 Q65.8587 632.762 65.0213 632.762 Q64.8925 632.762 64.4094 632.665 Q63.9263 632.569 63.25 632.408 Q62.5737 632.247 62.1872 632.182 L46.9538 628.35 Q44.1841 627.641 43.3146 627.48 Q42.4128 627.287 41.4144 627.287 Q38.3871 627.287 38.3871 629.348 Q38.3871 631.023 40.3838 632.118 Q42.3806 633.213 46.2453 634.147 Q47.3081 634.437 47.5335 634.63 Q47.759 634.791 47.759 635.274 Q47.7268 636.079 47.0826 636.079 Q46.9216 636.079 45.891 635.822 Q44.8604 635.564 43.3146 635.081 Q41.7365 634.566 40.7059 634.018 Q40.0296 633.696 39.5787 633.406 Q39.1278 633.116 38.4193 632.537 Q37.7107 631.957 37.3243 631.087 Q36.9378 630.218 36.9378 629.155 Q36.9378 626.804 38.4515 625.065 Q39.9651 623.294 42.6704 623.068 Q36.9378 618.785 36.9378 612.794 Q36.9378 609.413 38.6447 607.384 Q40.2872 605.484 43.3146 605.258 Q36.9378 600.814 36.9378 594.502 Q36.9378 590.862 38.8379 588.898 Q40.7059 586.933 43.9909 586.933 Q45.6978 586.933 48.9506 587.803 Q52.1712 588.672 53.7815 589.252 Q55.3917 589.832 58.4835 590.959 Q61.4465 592.15 63.1856 592.15 Q64.3128 592.15 64.8281 591.764 Q65.3434 591.378 65.3434 590.54 Q65.3434 589.252 64.6026 588.125 Q63.8297 586.998 62.5737 586.192 Q61.2854 585.355 59.9972 584.808 Q58.6767 584.26 57.1953 583.841 Q56.3901 583.584 56.1969 583.455 Q56.0037 583.294 56.0037 582.843 Q56.0037 582.038 56.6478 582.038 Z\" fill=\"#000000\" fill-rule=\"nonzero\" fill-opacity=\"1\" /><path clip-path=\"url(#clip780)\" d=\"M56.6478 545.077 Q60.8023 545.914 63.1856 547.042 Q66.8248 548.877 66.8248 551.937 Q66.8248 554.062 65.6332 555.673 Q64.4094 557.251 62.3804 557.798 Q63.1856 558.41 63.7331 558.958 Q64.2806 559.473 65.1179 560.471 Q65.9231 561.47 66.3739 562.822 Q66.8248 564.143 66.8248 565.657 Q66.8248 566.816 66.5994 567.879 Q66.4062 568.942 65.8587 570.069 Q65.2789 571.164 64.4094 571.969 Q63.5398 572.742 62.1228 573.257 Q60.7057 573.772 58.9022 573.772 Q56.6478 573.772 53.5882 572.903 Q50.5287 572.001 45.0537 569.94 Q42.1551 568.813 40.5448 568.813 Q39.8041 568.813 39.321 568.974 Q38.8379 569.135 38.6769 569.457 Q38.4837 569.747 38.4515 569.94 Q38.3871 570.133 38.3871 570.455 Q38.3871 572.452 40.416 574.191 Q42.445 575.93 46.5673 577.122 Q47.3725 577.379 47.5657 577.541 Q47.759 577.702 47.759 578.185 Q47.7268 578.99 47.0826 578.99 Q46.825 578.99 45.8266 578.7 Q44.796 578.41 43.2823 577.734 Q41.7365 577.025 40.3516 576.059 Q38.9346 575.093 37.9362 573.579 Q36.9378 572.033 36.9378 570.262 Q36.9378 567.847 38.5159 566.365 Q40.0618 564.851 42.3484 564.851 Q43.7654 564.851 46.5029 565.979 Q56.0037 569.553 59.965 569.553 Q65.3434 569.553 65.3434 565.463 Q65.3434 564.111 64.7959 562.855 Q64.2484 561.566 63.4754 560.729 Q62.7025 559.892 61.8651 559.248 Q61.0278 558.571 60.4803 558.281 Q59.9328 557.959 59.804 557.927 L39.9651 553 Q39.1922 552.806 38.6769 552.452 Q38.1294 552.066 37.9362 551.615 Q37.7429 551.164 37.7107 550.906 Q37.6463 550.649 37.6463 550.423 Q37.6463 549.618 38.1294 549.071 Q38.6125 548.491 39.4498 548.491 Q39.6109 548.491 40.3838 548.684 Q41.1246 548.845 42.2196 549.103 Q43.2823 549.36 43.8621 549.489 Q47.92 550.52 48.3387 550.616 L55.4562 552.452 Q55.8748 552.549 57.2275 552.871 Q58.5801 553.161 59.2887 553.322 Q59.965 553.483 60.899 553.644 Q61.8007 553.773 62.316 553.773 Q63.9263 553.773 64.6348 553.29 Q65.3434 552.806 65.3434 551.744 Q65.3434 550.745 64.667 549.972 Q63.9585 549.167 62.6059 548.555 Q61.221 547.943 60.0938 547.589 Q58.9666 547.235 57.1953 546.784 Q56.4223 546.623 56.2291 546.494 Q56.0037 546.333 56.0037 545.882 Q56.0037 545.077 56.6478 545.077 Z\" fill=\"#000000\" fill-rule=\"nonzero\" fill-opacity=\"1\" /><path clip-path=\"url(#clip780)\" d=\"M81.9294 539.789 Q81.6073 539.789 80.8022 538.951 Q69.981 528.323 49.5947 528.323 Q29.144 528.323 18.8059 538.533 Q17.6143 539.789 17.26 539.789 Q16.6159 539.789 16.6159 539.145 Q16.6159 538.694 17.9363 537.116 Q19.2568 535.505 22.2841 533.09 Q25.3115 530.642 29.0151 528.839 Q38.0006 524.491 49.5947 524.491 Q60.7379 524.491 69.7234 528.645 Q73.4914 530.417 76.6476 532.897 Q79.8038 535.376 81.1886 537.019 Q82.5735 538.661 82.5735 539.145 Q82.5735 539.789 81.9294 539.789 Z\" fill=\"#000000\" fill-rule=\"nonzero\" fill-opacity=\"1\" /><polyline clip-path=\"url(#clip782)\" style=\"stroke:#ff0000; stroke-linecap:round; stroke-linejoin:round; stroke-width:4; stroke-opacity:1; fill:none\" points=\"332.302,1090.28 337.923,1238.04 343.543,1235.09 349.164,1104.19 354.785,1236.58 360.405,1197.92 366.026,1034.34 371.647,1146.65 377.267,1006 382.888,1091.82 388.509,1027.36 394.129,888.238 399.75,1099.28 405.371,1188.69 410.991,1074.89 416.612,1030.79 422.232,1088.72 427.853,1048.88 433.474,1367.45 439.094,1125.5 444.715,1230.86 450.336,1096.04 455.956,1152.35 461.577,1038.51 467.198,1162.85 472.818,974.363 478.439,849.769 484.06,1143.83 489.68,1263.33 495.301,1035.68 500.922,1096.95 506.542,1071.57 512.163,1123.04 517.783,1036.84 523.404,1017.73 529.025,1041.91 534.645,1053.09 540.266,1119.55 545.887,1248.91 551.507,986.655 557.128,1102.12 562.749,983.039 568.369,1008.86 573.99,930.956 579.611,926.696 585.231,1006.98 590.852,932.837 596.472,946.215 602.093,962.077 607.714,901.644 613.334,925.52 618.955,1057.18 624.576,1077.58 630.196,1138.85 635.817,938.023 641.438,890.588 647.058,902.669 652.679,1064.65 658.3,1086.75 663.92,1106.82 669.541,883.282 675.162,953.649 680.782,1071.43 686.403,1035.75 692.023,1183.63 697.644,952.528 703.265,936.278 708.885,1044.61 714.506,771.429 720.127,1019.24 725.747,823.605 731.368,1032.84 736.989,985.81 742.609,836.055 748.23,1032.41 753.851,943.839 759.471,933.409 765.092,1073.92 770.713,825.184 776.333,1014.27 781.954,878.83 787.574,755.374 793.195,873.044 798.816,1049.38 804.436,1055.2 810.057,734.89 815.678,917.328 821.298,857.018 826.919,1101.84 832.54,878.57 838.16,933.14 843.781,939.327 849.402,1004.77 855.022,915.185 860.643,959.621 866.264,859.585 871.884,842.972 877.505,1053.49 883.125,792.344 888.746,797.91 894.367,1022.11 899.987,895.784 905.608,956.497 911.229,1086.29 916.849,812.543 922.47,1021.05 928.091,923.901 933.711,815.038 939.332,833.548 944.953,861.992 950.573,786.569 956.194,954.478 961.815,1048.11 967.435,792.156 973.056,852.226 978.676,980.531 984.297,731.154 989.918,884.721 995.538,890.959 1001.16,1011.45 1006.78,1032.71 1012.4,877.342 1018.02,759.403 1023.64,985.753 1029.26,928.884 1034.88,864.589 1040.5,909.135 1046.12,855.786 1051.74,882.955 1057.37,768.574 1062.99,687.431 1068.61,955.619 1074.23,733.194 1079.85,772.102 1085.47,896.245 1091.09,750.416 1096.71,964.403 1102.33,1004.99 1107.95,661.071 1113.57,703.023 1119.19,1032.8 1124.81,649.995 1130.43,822.58 1136.05,745.04 1141.68,747.513 1147.3,637.253 1152.92,1011.87 1158.54,732.483 1164.16,786.865 1169.78,1004.33 1175.4,781.154 1181.02,841.794 1186.64,749.325 1192.26,828.907 1197.88,793.122 1203.5,815.603 1209.12,774.885 1214.74,608.978 1220.36,845.32 1225.98,745.697 1231.61,721.564 1237.23,754.901 1242.85,843.989 1248.47,757.957 1254.09,723.437 1259.71,498.328 1265.33,653.933 1270.95,831.17 1276.57,840.606 1282.19,527.205 1287.81,588.751 1293.43,745.165 1299.05,715.326 1304.67,871.789 1310.29,682.068 1315.92,837.477 1321.54,735.689 1327.16,771.643 1332.78,784.784 1338.4,624.612 1344.02,696.196 1349.64,665.128 1355.26,752.455 1360.88,796.888 1366.5,808.609 1372.12,652.904 1377.74,594.555 1383.36,723.732 1388.98,726.925 1394.6,717.346 1400.22,733.853 1405.85,572.917 1411.47,662.376 1417.09,633.402 1422.71,686.518 1428.33,651.189 1433.95,371.429 1439.57,688.879 1445.19,610.72 1450.81,540.198 1456.43,553.292 1462.05,652.604 1467.67,571.184 1473.29,754.661 1478.91,586.553 1484.53,636.383 1490.16,732.062 1495.78,710.82 1501.4,669.134 1507.02,874.053 1512.64,739.528 1518.26,729.823 1523.88,669.559 1529.5,688.445 1535.12,679.361 1540.74,719.438 1546.36,738.205 1551.98,684.437 1557.6,724.887 1563.22,745.047 1568.84,437.756 1574.46,588.321 1580.09,496.877 1585.71,721.334 1591.33,586.983 1596.95,684.964 1602.57,739.965 1608.19,628.297 1613.81,480.592 1619.43,518.294 1625.05,396.439 1630.67,705.384 1636.29,661.94 1641.91,452.892 1647.53,632.311 1653.15,669.48 1658.77,551.173 1664.4,632.694 1670.02,702.891 1675.64,562.465 1681.26,706.925 1686.88,598.831 1692.5,475.132 1698.12,554.676 1703.74,689.296 1709.36,575.404 1714.98,626.923 1720.6,426.272 1726.22,408.23 1731.84,593.605 1737.46,452.197 1743.08,535.706 1748.71,585.434 1754.33,594.666 1759.95,671.119 1765.57,407.617 1771.19,484.463 1776.81,412.508 1782.43,485.596 1788.05,604.386 1793.67,350.63 1799.29,533.401 1804.91,553.951 1810.53,561.912 1816.15,436.463 1821.77,249.272 1827.39,418.049 1833.01,567.344 1838.64,556.32 1844.26,625.252 1849.88,363.486 1855.5,502.868 1861.12,586.779 1866.74,478.576 1872.36,592.648 1877.98,472.546 1883.6,322.243 1889.22,365.816 1894.84,470.402 1900.46,523.445 1906.08,340.832 1911.7,532.065 1917.32,481.357 1922.95,428.212 1928.57,360.017 1934.19,532.397 1939.81,354.38 1945.43,573.84 1951.05,564.705 1956.67,511.753 1962.29,676.524 1967.91,404.577 1973.53,656.305 1979.15,336.092 1984.77,320.833 1990.39,139.565 1996.01,282.601 2001.63,405.994 2007.25,437.811 2012.88,117.421 2018.5,440.988 2024.12,308.176 2029.74,411.985 2035.36,338.433 2040.98,562.117 2046.6,681.807 2052.22,330.447 2057.84,418.874 2063.46,261.69 2069.08,388.782 2074.7,390.378 2080.32,540.532 2085.94,285.747 2091.56,520.594 2097.19,112.872 2102.81,403.682 2108.43,405.883 2114.05,312.022 2119.67,336.176 2125.29,309.094 2130.91,369.131 2136.53,374.604 2142.15,354.751 2147.77,362.335 2153.39,292.416 2159.01,362.336 2164.63,309.23 2170.25,660.038 2175.87,462.044 2181.49,342.366 2187.12,385.918 2192.74,370.944 2198.36,273.44 2203.98,444.906 2209.6,235.122 2215.22,85.6966 2220.84,301.622 2226.46,225.271 2232.08,223.859 2237.7,425.224 2243.32,407.219 2248.94,360.441 2254.56,306.533 2260.18,339.739 2265.8,310.293 2271.43,263.477 2277.05,384.604 2282.67,369.914 2288.29,368.617 2293.91,239.385 \"/>\n",
       "<path clip-path=\"url(#clip780)\" d=\"M1954.63 1360.61 L2283.45 1360.61 L2283.45 1231.01 L1954.63 1231.01  Z\" fill=\"#ffffff\" fill-rule=\"evenodd\" fill-opacity=\"1\"/>\n",
       "<polyline clip-path=\"url(#clip780)\" style=\"stroke:#000000; stroke-linecap:round; stroke-linejoin:round; stroke-width:4; stroke-opacity:1; fill:none\" points=\"1954.63,1360.61 2283.45,1360.61 2283.45,1231.01 1954.63,1231.01 1954.63,1360.61 \"/>\n",
       "<polyline clip-path=\"url(#clip780)\" style=\"stroke:#ff0000; stroke-linecap:round; stroke-linejoin:round; stroke-width:5; stroke-opacity:1; fill:none\" points=\"1977.73,1295.81 2116.35,1295.81 \"/>\n",
       "<path clip-path=\"url(#clip780)\" d=\"M2164.89 1291.23 Q2166.88 1287.64 2169.66 1285.93 Q2172.44 1284.22 2176.2 1284.22 Q2181.26 1284.22 2184.01 1287.78 Q2186.76 1291.31 2186.76 1297.85 L2186.76 1317.41 L2181.41 1317.41 L2181.41 1298.02 Q2181.41 1293.37 2179.76 1291.11 Q2178.11 1288.85 2174.72 1288.85 Q2170.59 1288.85 2168.18 1291.6 Q2165.78 1294.35 2165.78 1299.1 L2165.78 1317.41 L2160.43 1317.41 L2160.43 1298.02 Q2160.43 1293.34 2158.78 1291.11 Q2157.13 1288.85 2153.69 1288.85 Q2149.61 1288.85 2147.21 1291.63 Q2144.8 1294.38 2144.8 1299.1 L2144.8 1317.41 L2139.45 1317.41 L2139.45 1285 L2144.8 1285 L2144.8 1290.04 Q2146.63 1287.06 2149.17 1285.64 Q2151.72 1284.22 2155.22 1284.22 Q2158.75 1284.22 2161.21 1286.02 Q2163.7 1287.81 2164.89 1291.23 Z\" fill=\"#000000\" fill-rule=\"nonzero\" fill-opacity=\"1\" /><path clip-path=\"url(#clip780)\" d=\"M2212.11 1301.12 Q2205.66 1301.12 2203.17 1302.6 Q2200.68 1304.07 2200.68 1307.63 Q2200.68 1310.47 2202.53 1312.15 Q2204.41 1313.79 2207.62 1313.79 Q2212.05 1313.79 2214.71 1310.67 Q2217.4 1307.52 2217.4 1302.31 L2217.4 1301.12 L2212.11 1301.12 M2222.73 1298.92 L2222.73 1317.41 L2217.4 1317.41 L2217.4 1312.49 Q2215.58 1315.44 2212.86 1316.86 Q2210.14 1318.25 2206.21 1318.25 Q2201.23 1318.25 2198.28 1315.47 Q2195.35 1312.67 2195.35 1307.98 Q2195.35 1302.51 2199 1299.73 Q2202.67 1296.95 2209.94 1296.95 L2217.4 1296.95 L2217.4 1296.43 Q2217.4 1292.76 2214.97 1290.76 Q2212.57 1288.74 2208.2 1288.74 Q2205.42 1288.74 2202.79 1289.4 Q2200.16 1290.07 2197.73 1291.4 L2197.73 1286.48 Q2200.65 1285.35 2203.4 1284.8 Q2206.15 1284.22 2208.75 1284.22 Q2215.78 1284.22 2219.25 1287.87 Q2222.73 1291.51 2222.73 1298.92 Z\" fill=\"#000000\" fill-rule=\"nonzero\" fill-opacity=\"1\" /><path clip-path=\"url(#clip780)\" d=\"M2255.02 1300.83 Q2255.02 1295.04 2252.62 1291.86 Q2250.24 1288.68 2245.93 1288.68 Q2241.65 1288.68 2239.25 1291.86 Q2236.88 1295.04 2236.88 1300.83 Q2236.88 1306.59 2239.25 1309.77 Q2241.65 1312.96 2245.93 1312.96 Q2250.24 1312.96 2252.62 1309.77 Q2255.02 1306.59 2255.02 1300.83 M2260.34 1313.39 Q2260.34 1321.66 2256.67 1325.69 Q2252.99 1329.74 2245.41 1329.74 Q2242.61 1329.74 2240.12 1329.3 Q2237.63 1328.9 2235.28 1328.03 L2235.28 1322.85 Q2237.63 1324.12 2239.91 1324.73 Q2242.2 1325.34 2244.57 1325.34 Q2249.81 1325.34 2252.41 1322.59 Q2255.02 1319.87 2255.02 1314.34 L2255.02 1311.71 Q2253.37 1314.58 2250.79 1315.99 Q2248.22 1317.41 2244.63 1317.41 Q2238.67 1317.41 2235.02 1312.87 Q2231.38 1308.33 2231.38 1300.83 Q2231.38 1293.31 2235.02 1288.77 Q2238.67 1284.22 2244.63 1284.22 Q2248.22 1284.22 2250.79 1285.64 Q2253.37 1287.06 2255.02 1289.92 L2255.02 1285 L2260.34 1285 L2260.34 1313.39 Z\" fill=\"#000000\" fill-rule=\"nonzero\" fill-opacity=\"1\" /></svg>\n"
      ],
      "text/html": [
       "<?xml version=\"1.0\" encoding=\"utf-8\"?>\n",
       "<svg xmlns=\"http://www.w3.org/2000/svg\" xmlns:xlink=\"http://www.w3.org/1999/xlink\" width=\"600\" height=\"400\" viewBox=\"0 0 2400 1600\">\n",
       "<defs>\n",
       "  <clipPath id=\"clip830\">\n",
       "    <rect x=\"0\" y=\"0\" width=\"2400\" height=\"1600\"/>\n",
       "  </clipPath>\n",
       "</defs>\n",
       "<path clip-path=\"url(#clip830)\" d=\"M0 1600 L2400 1600 L2400 0 L0 0  Z\" fill=\"#ffffff\" fill-rule=\"evenodd\" fill-opacity=\"1\"/>\n",
       "<defs>\n",
       "  <clipPath id=\"clip831\">\n",
       "    <rect x=\"480\" y=\"0\" width=\"1681\" height=\"1600\"/>\n",
       "  </clipPath>\n",
       "</defs>\n",
       "<defs>\n",
       "  <clipPath id=\"clip832\">\n",
       "    <rect x=\"273\" y=\"47\" width=\"2080\" height=\"1360\"/>\n",
       "  </clipPath>\n",
       "</defs>\n",
       "<path clip-path=\"url(#clip830)\" d=\"M273.454 1405.9 L2352.76 1405.9 L2352.76 47.2441 L273.454 47.2441  Z\" fill=\"#ffffff\" fill-rule=\"evenodd\" fill-opacity=\"1\"/>\n",
       "<polyline clip-path=\"url(#clip832)\" style=\"stroke:#000000; stroke-linecap:round; stroke-linejoin:round; stroke-width:2; stroke-opacity:0.1; fill:none\" points=\"326.681,1405.9 326.681,47.2441 \"/>\n",
       "<polyline clip-path=\"url(#clip832)\" style=\"stroke:#000000; stroke-linecap:round; stroke-linejoin:round; stroke-width:2; stroke-opacity:0.1; fill:none\" points=\"888.746,1405.9 888.746,47.2441 \"/>\n",
       "<polyline clip-path=\"url(#clip832)\" style=\"stroke:#000000; stroke-linecap:round; stroke-linejoin:round; stroke-width:2; stroke-opacity:0.1; fill:none\" points=\"1450.81,1405.9 1450.81,47.2441 \"/>\n",
       "<polyline clip-path=\"url(#clip832)\" style=\"stroke:#000000; stroke-linecap:round; stroke-linejoin:round; stroke-width:2; stroke-opacity:0.1; fill:none\" points=\"2012.88,1405.9 2012.88,47.2441 \"/>\n",
       "<polyline clip-path=\"url(#clip830)\" style=\"stroke:#000000; stroke-linecap:round; stroke-linejoin:round; stroke-width:4; stroke-opacity:1; fill:none\" points=\"273.454,1405.9 2352.76,1405.9 \"/>\n",
       "<polyline clip-path=\"url(#clip830)\" style=\"stroke:#000000; stroke-linecap:round; stroke-linejoin:round; stroke-width:4; stroke-opacity:1; fill:none\" points=\"326.681,1405.9 326.681,1387 \"/>\n",
       "<polyline clip-path=\"url(#clip830)\" style=\"stroke:#000000; stroke-linecap:round; stroke-linejoin:round; stroke-width:4; stroke-opacity:1; fill:none\" points=\"888.746,1405.9 888.746,1387 \"/>\n",
       "<polyline clip-path=\"url(#clip830)\" style=\"stroke:#000000; stroke-linecap:round; stroke-linejoin:round; stroke-width:4; stroke-opacity:1; fill:none\" points=\"1450.81,1405.9 1450.81,1387 \"/>\n",
       "<polyline clip-path=\"url(#clip830)\" style=\"stroke:#000000; stroke-linecap:round; stroke-linejoin:round; stroke-width:4; stroke-opacity:1; fill:none\" points=\"2012.88,1405.9 2012.88,1387 \"/>\n",
       "<path clip-path=\"url(#clip830)\" d=\"M326.681 1442.68 Q321.265 1442.68 318.522 1448.03 Q315.813 1453.34 315.813 1464.03 Q315.813 1474.69 318.522 1480.04 Q321.265 1485.35 326.681 1485.35 Q332.133 1485.35 334.841 1480.04 Q337.584 1474.69 337.584 1464.03 Q337.584 1453.34 334.841 1448.03 Q332.133 1442.68 326.681 1442.68 M326.681 1437.12 Q335.397 1437.12 339.98 1444.03 Q344.598 1450.91 344.598 1464.03 Q344.598 1477.12 339.98 1484.03 Q335.397 1490.91 326.681 1490.91 Q317.966 1490.91 313.348 1484.03 Q308.765 1477.12 308.765 1464.03 Q308.765 1450.91 313.348 1444.03 Q317.966 1437.12 326.681 1437.12 Z\" fill=\"#000000\" fill-rule=\"nonzero\" fill-opacity=\"1\" /><path clip-path=\"url(#clip830)\" d=\"M856.906 1484 L881.385 1484 L881.385 1489.9 L848.469 1489.9 L848.469 1484 Q852.462 1479.87 859.337 1472.92 Q866.246 1465.94 868.017 1463.93 Q871.385 1460.14 872.705 1457.54 Q874.059 1454.9 874.059 1452.37 Q874.059 1448.23 871.142 1445.63 Q868.26 1443.03 863.607 1443.03 Q860.309 1443.03 856.628 1444.17 Q852.982 1445.32 848.816 1447.64 L848.816 1440.56 Q853.052 1438.86 856.732 1437.99 Q860.413 1437.12 863.468 1437.12 Q871.524 1437.12 876.316 1441.15 Q881.107 1445.18 881.107 1451.91 Q881.107 1455.11 879.892 1457.99 Q878.711 1460.84 875.552 1464.73 Q874.684 1465.73 870.031 1470.56 Q865.378 1475.35 856.906 1484 Z\" fill=\"#000000\" fill-rule=\"nonzero\" fill-opacity=\"1\" /><path clip-path=\"url(#clip830)\" d=\"M911.107 1442.68 Q905.69 1442.68 902.947 1448.03 Q900.239 1453.34 900.239 1464.03 Q900.239 1474.69 902.947 1480.04 Q905.69 1485.35 911.107 1485.35 Q916.558 1485.35 919.267 1480.04 Q922.01 1474.69 922.01 1464.03 Q922.01 1453.34 919.267 1448.03 Q916.558 1442.68 911.107 1442.68 M911.107 1437.12 Q919.822 1437.12 924.406 1444.03 Q929.024 1450.91 929.024 1464.03 Q929.024 1477.12 924.406 1484.03 Q919.822 1490.91 911.107 1490.91 Q902.392 1490.91 897.774 1484.03 Q893.191 1477.12 893.191 1464.03 Q893.191 1450.91 897.774 1444.03 Q902.392 1437.12 911.107 1437.12 Z\" fill=\"#000000\" fill-rule=\"nonzero\" fill-opacity=\"1\" /><path clip-path=\"url(#clip830)\" d=\"M1433.07 1444.17 L1415.36 1471.84 L1433.07 1471.84 L1433.07 1444.17 M1431.23 1438.06 L1440.05 1438.06 L1440.05 1471.84 L1447.44 1471.84 L1447.44 1477.68 L1440.05 1477.68 L1440.05 1489.9 L1433.07 1489.9 L1433.07 1477.68 L1409.67 1477.68 L1409.67 1470.91 L1431.23 1438.06 Z\" fill=\"#000000\" fill-rule=\"nonzero\" fill-opacity=\"1\" /><path clip-path=\"url(#clip830)\" d=\"M1474.04 1442.68 Q1468.62 1442.68 1465.88 1448.03 Q1463.17 1453.34 1463.17 1464.03 Q1463.17 1474.69 1465.88 1480.04 Q1468.62 1485.35 1474.04 1485.35 Q1479.49 1485.35 1482.2 1480.04 Q1484.94 1474.69 1484.94 1464.03 Q1484.94 1453.34 1482.2 1448.03 Q1479.49 1442.68 1474.04 1442.68 M1474.04 1437.12 Q1482.76 1437.12 1487.34 1444.03 Q1491.96 1450.91 1491.96 1464.03 Q1491.96 1477.12 1487.34 1484.03 Q1482.76 1490.91 1474.04 1490.91 Q1465.32 1490.91 1460.71 1484.03 Q1456.12 1477.12 1456.12 1464.03 Q1456.12 1450.91 1460.71 1444.03 Q1465.32 1437.12 1474.04 1437.12 Z\" fill=\"#000000\" fill-rule=\"nonzero\" fill-opacity=\"1\" /><path clip-path=\"url(#clip830)\" d=\"M1990.98 1461.18 Q1986.26 1461.18 1983.48 1464.41 Q1980.74 1467.64 1980.74 1473.27 Q1980.74 1478.86 1983.48 1482.12 Q1986.26 1485.35 1990.98 1485.35 Q1995.71 1485.35 1998.45 1482.12 Q2001.23 1478.86 2001.23 1473.27 Q2001.23 1467.64 1998.45 1464.41 Q1995.71 1461.18 1990.98 1461.18 M2004.91 1439.21 L2004.91 1445.59 Q2002.27 1444.34 1999.56 1443.68 Q1996.89 1443.03 1994.25 1443.03 Q1987.3 1443.03 1983.62 1447.71 Q1979.98 1452.4 1979.46 1461.88 Q1981.5 1458.86 1984.59 1457.26 Q1987.68 1455.63 1991.4 1455.63 Q1999.21 1455.63 2003.73 1460.39 Q2008.27 1465.11 2008.27 1473.27 Q2008.27 1481.25 2003.55 1486.08 Q1998.83 1490.91 1990.98 1490.91 Q1981.99 1490.91 1977.23 1484.03 Q1972.48 1477.12 1972.48 1464.03 Q1972.48 1451.74 1978.31 1444.45 Q1984.14 1437.12 1993.97 1437.12 Q1996.61 1437.12 1999.28 1437.64 Q2001.99 1438.16 2004.91 1439.21 Z\" fill=\"#000000\" fill-rule=\"nonzero\" fill-opacity=\"1\" /><path clip-path=\"url(#clip830)\" d=\"M2035.36 1442.68 Q2029.94 1442.68 2027.2 1448.03 Q2024.49 1453.34 2024.49 1464.03 Q2024.49 1474.69 2027.2 1480.04 Q2029.94 1485.35 2035.36 1485.35 Q2040.81 1485.35 2043.52 1480.04 Q2046.26 1474.69 2046.26 1464.03 Q2046.26 1453.34 2043.52 1448.03 Q2040.81 1442.68 2035.36 1442.68 M2035.36 1437.12 Q2044.07 1437.12 2048.66 1444.03 Q2053.27 1450.91 2053.27 1464.03 Q2053.27 1477.12 2048.66 1484.03 Q2044.07 1490.91 2035.36 1490.91 Q2026.64 1490.91 2022.02 1484.03 Q2017.44 1477.12 2017.44 1464.03 Q2017.44 1450.91 2022.02 1444.03 Q2026.64 1437.12 2035.36 1437.12 Z\" fill=\"#000000\" fill-rule=\"nonzero\" fill-opacity=\"1\" /><path clip-path=\"url(#clip830)\" d=\"M1277.53 1520.58 Q1277.53 1521.19 1277.4 1521.71 L1275.6 1533.17 Q1275.5 1534.04 1275.31 1534.36 Q1275.15 1534.69 1274.63 1534.69 Q1273.83 1534.69 1273.83 1533.85 Q1273.83 1533.36 1274.02 1532.59 Q1274.57 1528.95 1274.57 1527.31 Q1274.57 1526.22 1274.34 1525.41 Q1274.15 1524.57 1273.83 1523.99 Q1273.54 1523.41 1272.86 1523.03 Q1272.18 1522.64 1271.54 1522.41 Q1270.89 1522.19 1269.74 1522.09 Q1268.58 1521.96 1267.58 1521.93 Q1266.58 1521.9 1264.94 1521.9 Q1261.36 1521.9 1260.78 1522.03 Q1260.17 1522.19 1259.85 1522.67 Q1259.56 1523.12 1259.24 1524.48 L1250.48 1559.48 L1250.22 1560.87 Q1250.22 1561.64 1250.7 1561.9 Q1251.18 1562.16 1252.67 1562.32 Q1254.79 1562.48 1256.89 1562.48 Q1256.95 1562.48 1257.08 1562.48 Q1257.79 1562.48 1258.08 1562.51 Q1258.37 1562.51 1258.66 1562.58 Q1258.95 1562.64 1259.01 1562.8 Q1259.11 1562.93 1259.11 1563.19 Q1259.11 1563.8 1258.85 1564.12 Q1258.59 1564.41 1258.33 1564.48 Q1258.11 1564.51 1257.66 1564.51 Q1256.76 1564.51 1254.82 1564.44 Q1252.89 1564.38 1251.93 1564.38 L1246.45 1564.31 L1240.85 1564.38 Q1239.98 1564.38 1238.14 1564.44 Q1236.31 1564.51 1235.44 1564.51 Q1234.31 1564.51 1234.31 1563.7 Q1234.31 1562.8 1234.73 1562.64 Q1235.18 1562.48 1237.08 1562.48 Q1239.75 1562.48 1241.2 1562.35 Q1242.65 1562.22 1243.42 1561.77 Q1244.23 1561.32 1244.45 1560.87 Q1244.68 1560.39 1244.94 1559.29 L1253.79 1524.09 Q1254.05 1523.32 1254.05 1522.7 Q1254.05 1522.38 1253.95 1522.25 Q1253.89 1522.12 1253.47 1522.03 Q1253.05 1521.9 1252.18 1521.9 L1249.61 1521.9 Q1246.97 1521.9 1245.32 1522.03 Q1243.71 1522.12 1242.17 1522.61 Q1240.65 1523.09 1239.75 1523.77 Q1238.88 1524.44 1237.92 1525.83 Q1236.95 1527.21 1236.24 1528.89 Q1235.56 1530.56 1234.6 1533.3 Q1234.28 1534.2 1234.08 1534.46 Q1233.92 1534.69 1233.47 1534.69 Q1233.15 1534.69 1232.89 1534.49 Q1232.67 1534.27 1232.67 1533.98 Q1232.99 1532.91 1233.05 1532.79 L1237.01 1521.16 Q1237.34 1520.22 1237.63 1520.06 Q1237.95 1519.87 1239.14 1519.87 L1275.73 1519.87 Q1276.31 1519.87 1276.5 1519.87 Q1276.69 1519.87 1277.01 1519.93 Q1277.34 1520 1277.43 1520.16 Q1277.53 1520.32 1277.53 1520.58 Z\" fill=\"#000000\" fill-rule=\"nonzero\" fill-opacity=\"1\" /><path clip-path=\"url(#clip830)\" d=\"M1284.55 1548.02 Q1284.55 1536.88 1288.7 1527.89 Q1290.47 1524.12 1292.95 1520.97 Q1295.43 1517.81 1297.07 1516.42 Q1298.72 1515.04 1299.17 1515.04 Q1299.81 1515.04 1299.84 1515.68 Q1299.84 1516.01 1298.97 1516.81 Q1288.35 1527.63 1288.38 1548.02 Q1288.38 1568.47 1298.72 1578.87 Q1299.84 1580 1299.84 1580.35 Q1299.84 1581 1299.17 1581 Q1298.72 1581 1297.14 1579.68 Q1295.56 1578.36 1293.11 1575.33 Q1290.66 1572.3 1288.89 1568.6 Q1284.55 1559.61 1284.55 1548.02 Z\" fill=\"#000000\" fill-rule=\"nonzero\" fill-opacity=\"1\" /><path clip-path=\"url(#clip830)\" d=\"M1362.05 1520.19 Q1362.05 1520.61 1361.95 1520.9 Q1361.85 1521.16 1361.63 1521.29 Q1361.4 1521.42 1361.27 1521.45 Q1361.15 1521.48 1360.86 1521.51 Q1359.47 1521.64 1358.5 1521.87 Q1357.57 1522.09 1355.25 1523.25 Q1352.97 1524.41 1350.1 1526.5 L1338.57 1535.43 L1336.64 1536.94 Q1336.64 1537.04 1336.7 1537.23 Q1336.77 1537.39 1336.83 1537.62 Q1336.93 1537.81 1336.96 1537.87 L1346.33 1559.48 Q1347.07 1561.22 1347.97 1561.83 Q1348.88 1562.45 1350.9 1562.48 Q1351.23 1562.48 1351.35 1562.51 Q1351.52 1562.51 1351.74 1562.58 Q1352 1562.61 1352.1 1562.77 Q1352.22 1562.93 1352.22 1563.19 Q1352.22 1564.51 1351.03 1564.51 Q1350.29 1564.51 1347.78 1564.41 Q1345.27 1564.31 1344.56 1564.31 Q1343.24 1564.31 1340.53 1564.41 Q1337.83 1564.51 1336.51 1564.51 Q1335.57 1564.51 1335.57 1563.77 Q1335.57 1563.16 1335.8 1562.87 Q1336.06 1562.54 1336.28 1562.51 Q1336.51 1562.48 1337.02 1562.48 Q1337.41 1562.48 1337.83 1562.45 Q1338.28 1562.38 1338.92 1562.22 Q1339.6 1562.03 1340.02 1561.58 Q1340.47 1561.09 1340.47 1560.42 Q1340.47 1559.87 1339.66 1558.1 L1332.03 1540.35 L1322.21 1548.02 L1319.57 1558.39 Q1319.5 1558.78 1319.34 1559.45 Q1319.18 1560.13 1319.05 1560.61 Q1318.96 1561.09 1318.96 1561.29 Q1318.96 1561.71 1319.21 1561.96 Q1319.5 1562.22 1320.21 1562.35 Q1320.92 1562.45 1321.47 1562.48 Q1322.05 1562.48 1323.24 1562.48 Q1324.72 1562.48 1324.98 1562.74 Q1325.11 1562.9 1325.11 1563.19 Q1325.11 1563.64 1324.98 1563.96 Q1324.85 1564.25 1324.59 1564.35 Q1324.37 1564.44 1324.21 1564.48 Q1324.04 1564.51 1323.79 1564.51 Q1323.11 1564.51 1321.66 1564.44 Q1320.24 1564.38 1319.5 1564.38 L1315.28 1564.31 L1306.91 1564.51 Q1305.91 1564.51 1305.91 1563.7 Q1305.91 1563.09 1306.17 1562.83 Q1306.43 1562.54 1306.72 1562.51 Q1307.01 1562.48 1307.75 1562.48 Q1309.36 1562.48 1310.32 1562.38 Q1311.29 1562.29 1311.9 1562.16 Q1312.55 1562 1312.87 1561.54 Q1313.22 1561.09 1313.38 1560.71 Q1313.55 1560.29 1313.77 1559.35 L1322.6 1523.93 Q1322.85 1522.87 1322.85 1522.7 Q1322.85 1522.16 1322.53 1521.96 Q1322.24 1521.74 1321.4 1521.64 Q1319.79 1521.51 1318.57 1521.51 Q1317.76 1521.51 1317.44 1521.48 Q1317.15 1521.45 1316.89 1521.29 Q1316.67 1521.09 1316.67 1520.71 Q1316.67 1519.45 1317.99 1519.45 L1326.49 1519.65 L1334.93 1519.45 Q1335.86 1519.45 1335.86 1520.19 Q1335.86 1521.13 1335.41 1521.32 Q1334.99 1521.51 1333.61 1521.51 Q1331.19 1521.51 1330.1 1521.84 Q1329.04 1522.12 1328.71 1522.64 Q1328.42 1523.12 1328.07 1524.54 L1322.79 1545.7 L1348.52 1525.93 Q1350.9 1523.93 1350.9 1522.9 Q1350.9 1522.22 1350.42 1521.93 Q1349.97 1521.61 1348.84 1521.51 Q1348.04 1521.38 1348.04 1520.77 Q1348.04 1520.16 1348.26 1519.87 Q1348.52 1519.55 1348.71 1519.52 Q1348.94 1519.45 1349.29 1519.45 Q1350.49 1519.45 1352.97 1519.55 Q1355.45 1519.65 1356.64 1519.65 Q1357.44 1519.65 1359.02 1519.55 Q1360.6 1519.45 1361.31 1519.45 Q1361.66 1519.45 1361.85 1519.71 Q1362.05 1519.93 1362.05 1520.19 Z\" fill=\"#000000\" fill-rule=\"nonzero\" fill-opacity=\"1\" /><path clip-path=\"url(#clip830)\" d=\"M1368.22 1580.35 Q1368.22 1580.03 1369.05 1579.23 Q1379.68 1568.4 1379.68 1548.02 Q1379.68 1527.57 1369.47 1517.23 Q1368.22 1516.04 1368.22 1515.68 Q1368.22 1515.04 1368.86 1515.04 Q1369.31 1515.04 1370.89 1516.36 Q1372.5 1517.68 1374.91 1520.71 Q1377.36 1523.74 1379.17 1527.44 Q1383.51 1536.42 1383.51 1548.02 Q1383.51 1559.16 1379.36 1568.15 Q1377.59 1571.92 1375.11 1575.07 Q1372.63 1578.23 1370.99 1579.61 Q1369.34 1581 1368.86 1581 Q1368.22 1581 1368.22 1580.35 Z\" fill=\"#000000\" fill-rule=\"nonzero\" fill-opacity=\"1\" /><polyline clip-path=\"url(#clip832)\" style=\"stroke:#000000; stroke-linecap:round; stroke-linejoin:round; stroke-width:2; stroke-opacity:0.1; fill:none\" points=\"273.454,1198.05 2352.76,1198.05 \"/>\n",
       "<polyline clip-path=\"url(#clip832)\" style=\"stroke:#000000; stroke-linecap:round; stroke-linejoin:round; stroke-width:2; stroke-opacity:0.1; fill:none\" points=\"273.454,943.149 2352.76,943.149 \"/>\n",
       "<polyline clip-path=\"url(#clip832)\" style=\"stroke:#000000; stroke-linecap:round; stroke-linejoin:round; stroke-width:2; stroke-opacity:0.1; fill:none\" points=\"273.454,688.252 2352.76,688.252 \"/>\n",
       "<polyline clip-path=\"url(#clip832)\" style=\"stroke:#000000; stroke-linecap:round; stroke-linejoin:round; stroke-width:2; stroke-opacity:0.1; fill:none\" points=\"273.454,433.355 2352.76,433.355 \"/>\n",
       "<polyline clip-path=\"url(#clip832)\" style=\"stroke:#000000; stroke-linecap:round; stroke-linejoin:round; stroke-width:2; stroke-opacity:0.1; fill:none\" points=\"273.454,178.458 2352.76,178.458 \"/>\n",
       "<polyline clip-path=\"url(#clip830)\" style=\"stroke:#000000; stroke-linecap:round; stroke-linejoin:round; stroke-width:4; stroke-opacity:1; fill:none\" points=\"273.454,1405.9 273.454,47.2441 \"/>\n",
       "<polyline clip-path=\"url(#clip830)\" style=\"stroke:#000000; stroke-linecap:round; stroke-linejoin:round; stroke-width:4; stroke-opacity:1; fill:none\" points=\"273.454,1198.05 292.352,1198.05 \"/>\n",
       "<polyline clip-path=\"url(#clip830)\" style=\"stroke:#000000; stroke-linecap:round; stroke-linejoin:round; stroke-width:4; stroke-opacity:1; fill:none\" points=\"273.454,943.149 292.352,943.149 \"/>\n",
       "<polyline clip-path=\"url(#clip830)\" style=\"stroke:#000000; stroke-linecap:round; stroke-linejoin:round; stroke-width:4; stroke-opacity:1; fill:none\" points=\"273.454,688.252 292.352,688.252 \"/>\n",
       "<polyline clip-path=\"url(#clip830)\" style=\"stroke:#000000; stroke-linecap:round; stroke-linejoin:round; stroke-width:4; stroke-opacity:1; fill:none\" points=\"273.454,433.355 292.352,433.355 \"/>\n",
       "<polyline clip-path=\"url(#clip830)\" style=\"stroke:#000000; stroke-linecap:round; stroke-linejoin:round; stroke-width:4; stroke-opacity:1; fill:none\" points=\"273.454,178.458 292.352,178.458 \"/>\n",
       "<path clip-path=\"url(#clip830)\" d=\"M219.537 1176.74 Q214.121 1176.74 211.378 1182.09 Q208.669 1187.4 208.669 1198.1 Q208.669 1208.76 211.378 1214.1 Q214.121 1219.42 219.537 1219.42 Q224.989 1219.42 227.697 1214.1 Q230.44 1208.76 230.44 1198.1 Q230.44 1187.4 227.697 1182.09 Q224.989 1176.74 219.537 1176.74 M219.537 1171.19 Q228.253 1171.19 232.836 1178.1 Q237.454 1184.97 237.454 1198.1 Q237.454 1211.19 232.836 1218.1 Q228.253 1224.97 219.537 1224.97 Q210.822 1224.97 206.204 1218.1 Q201.621 1211.19 201.621 1198.1 Q201.621 1184.97 206.204 1178.1 Q210.822 1171.19 219.537 1171.19 Z\" fill=\"#000000\" fill-rule=\"nonzero\" fill-opacity=\"1\" /><path clip-path=\"url(#clip830)\" d=\"M166.829 963.166 L191.308 963.166 L191.308 969.069 L158.392 969.069 L158.392 963.166 Q162.385 959.034 169.26 952.09 Q176.17 945.111 177.94 943.097 Q181.308 939.312 182.628 936.708 Q183.982 934.069 183.982 931.534 Q183.982 927.402 181.065 924.798 Q178.183 922.194 173.531 922.194 Q170.232 922.194 166.552 923.34 Q162.906 924.486 158.739 926.812 L158.739 919.729 Q162.975 918.027 166.656 917.159 Q170.336 916.291 173.392 916.291 Q181.447 916.291 186.239 920.319 Q191.031 924.347 191.031 931.083 Q191.031 934.277 189.815 937.159 Q188.635 940.006 185.475 943.895 Q184.607 944.902 179.954 949.729 Q175.301 954.52 166.829 963.166 Z\" fill=\"#000000\" fill-rule=\"nonzero\" fill-opacity=\"1\" /><path clip-path=\"url(#clip830)\" d=\"M206.1 917.229 L233.635 917.229 L233.635 923.132 L212.524 923.132 L212.524 935.84 Q214.051 935.319 215.579 935.076 Q217.107 934.798 218.635 934.798 Q227.315 934.798 232.385 939.555 Q237.454 944.312 237.454 952.437 Q237.454 960.805 232.246 965.458 Q227.037 970.076 217.558 970.076 Q214.294 970.076 210.892 969.52 Q207.524 968.965 203.912 967.854 L203.912 960.805 Q207.037 962.506 210.371 963.34 Q213.704 964.173 217.419 964.173 Q223.426 964.173 226.933 961.013 Q230.44 957.854 230.44 952.437 Q230.44 947.02 226.933 943.861 Q223.426 940.701 217.419 940.701 Q214.607 940.701 211.794 941.326 Q209.017 941.951 206.1 943.27 L206.1 917.229 Z\" fill=\"#000000\" fill-rule=\"nonzero\" fill-opacity=\"1\" /><path clip-path=\"url(#clip830)\" d=\"M159.364 662.332 L186.899 662.332 L186.899 668.235 L165.788 668.235 L165.788 680.943 Q167.315 680.422 168.843 680.179 Q170.371 679.901 171.899 679.901 Q180.579 679.901 185.649 684.658 Q190.718 689.415 190.718 697.54 Q190.718 705.908 185.51 710.561 Q180.301 715.179 170.822 715.179 Q167.558 715.179 164.156 714.623 Q160.788 714.068 157.177 712.957 L157.177 705.908 Q160.302 707.609 163.635 708.443 Q166.968 709.276 170.683 709.276 Q176.69 709.276 180.197 706.116 Q183.704 702.957 183.704 697.54 Q183.704 692.123 180.197 688.964 Q176.69 685.804 170.683 685.804 Q167.871 685.804 165.058 686.429 Q162.281 687.054 159.364 688.373 L159.364 662.332 Z\" fill=\"#000000\" fill-rule=\"nonzero\" fill-opacity=\"1\" /><path clip-path=\"url(#clip830)\" d=\"M219.537 666.95 Q214.121 666.95 211.378 672.297 Q208.669 677.61 208.669 688.304 Q208.669 698.964 211.378 704.311 Q214.121 709.623 219.537 709.623 Q224.989 709.623 227.697 704.311 Q230.44 698.964 230.44 688.304 Q230.44 677.61 227.697 672.297 Q224.989 666.95 219.537 666.95 M219.537 661.394 Q228.253 661.394 232.836 668.304 Q237.454 675.179 237.454 688.304 Q237.454 701.394 232.836 708.304 Q228.253 715.179 219.537 715.179 Q210.822 715.179 206.204 708.304 Q201.621 701.394 201.621 688.304 Q201.621 675.179 206.204 668.304 Q210.822 661.394 219.537 661.394 Z\" fill=\"#000000\" fill-rule=\"nonzero\" fill-opacity=\"1\" /><path clip-path=\"url(#clip830)\" d=\"M159.017 407.435 L192.35 407.435 L192.35 410.421 L173.531 459.275 L166.204 459.275 L183.913 413.338 L159.017 413.338 L159.017 407.435 Z\" fill=\"#000000\" fill-rule=\"nonzero\" fill-opacity=\"1\" /><path clip-path=\"url(#clip830)\" d=\"M206.1 407.435 L233.635 407.435 L233.635 413.338 L212.524 413.338 L212.524 426.046 Q214.051 425.525 215.579 425.282 Q217.107 425.004 218.635 425.004 Q227.315 425.004 232.385 429.761 Q237.454 434.518 237.454 442.643 Q237.454 451.011 232.246 455.664 Q227.037 460.282 217.558 460.282 Q214.294 460.282 210.892 459.726 Q207.524 459.171 203.912 458.06 L203.912 451.011 Q207.037 452.713 210.371 453.546 Q213.704 454.379 217.419 454.379 Q223.426 454.379 226.933 451.22 Q230.44 448.06 230.44 442.643 Q230.44 437.227 226.933 434.067 Q223.426 430.907 217.419 430.907 Q214.607 430.907 211.794 431.532 Q209.017 432.157 206.1 433.477 L206.1 407.435 Z\" fill=\"#000000\" fill-rule=\"nonzero\" fill-opacity=\"1\" /><path clip-path=\"url(#clip830)\" d=\"M115.267 198.475 L126.725 198.475 L126.725 158.927 L114.26 161.427 L114.26 155.038 L126.656 152.538 L133.67 152.538 L133.67 198.475 L145.128 198.475 L145.128 204.378 L115.267 204.378 L115.267 198.475 Z\" fill=\"#000000\" fill-rule=\"nonzero\" fill-opacity=\"1\" /><path clip-path=\"url(#clip830)\" d=\"M174.295 157.156 Q168.878 157.156 166.135 162.503 Q163.427 167.816 163.427 178.51 Q163.427 189.17 166.135 194.517 Q168.878 199.83 174.295 199.83 Q179.746 199.83 182.454 194.517 Q185.197 189.17 185.197 178.51 Q185.197 167.816 182.454 162.503 Q179.746 157.156 174.295 157.156 M174.295 151.601 Q183.01 151.601 187.593 158.51 Q192.211 165.385 192.211 178.51 Q192.211 191.601 187.593 198.51 Q183.01 205.385 174.295 205.385 Q165.579 205.385 160.961 198.51 Q156.378 191.601 156.378 178.51 Q156.378 165.385 160.961 158.51 Q165.579 151.601 174.295 151.601 Z\" fill=\"#000000\" fill-rule=\"nonzero\" fill-opacity=\"1\" /><path clip-path=\"url(#clip830)\" d=\"M219.537 157.156 Q214.121 157.156 211.378 162.503 Q208.669 167.816 208.669 178.51 Q208.669 189.17 211.378 194.517 Q214.121 199.83 219.537 199.83 Q224.989 199.83 227.697 194.517 Q230.44 189.17 230.44 178.51 Q230.44 167.816 227.697 162.503 Q224.989 157.156 219.537 157.156 M219.537 151.601 Q228.253 151.601 232.836 158.51 Q237.454 165.385 237.454 178.51 Q237.454 191.601 232.836 198.51 Q228.253 205.385 219.537 205.385 Q210.822 205.385 206.204 198.51 Q201.621 191.601 201.621 178.51 Q201.621 165.385 206.204 158.51 Q210.822 151.601 219.537 151.601 Z\" fill=\"#000000\" fill-rule=\"nonzero\" fill-opacity=\"1\" /><path clip-path=\"url(#clip830)\" d=\"M28.4354 938.683 L26.3743 938.683 Q26.3743 930.76 22.1553 926.67 Q22.1553 925.543 22.4129 925.349 Q22.6706 925.156 23.8622 925.156 L60.8667 925.156 Q62.8313 925.156 63.4432 924.19 Q64.0551 923.224 64.0551 919.005 L64.0551 916.912 L66.0841 916.912 Q65.8909 919.23 65.8909 927.604 Q65.8909 935.977 66.0841 938.264 L64.0551 938.264 L64.0551 936.171 Q64.0551 932.016 63.4754 931.018 Q62.8635 930.019 60.8667 930.019 L26.6963 930.019 Q28.4354 933.465 28.4354 938.683 Z\" fill=\"#000000\" fill-rule=\"nonzero\" fill-opacity=\"1\" /><path clip-path=\"url(#clip830)\" d=\"M81.6395 906.019 Q81.3175 906.019 80.6089 905.761 L18.3872 882.476 Q18.3228 882.476 17.9685 882.315 Q17.6143 882.154 17.3888 882.057 Q17.1312 881.961 16.938 881.768 Q16.7447 881.542 16.7447 881.285 Q16.7447 880.64 17.5499 880.64 Q17.6143 880.64 18.3872 880.834 L80.6734 904.183 Q81.8006 904.569 82.1226 904.827 Q82.4447 905.052 82.4447 905.439 Q82.4447 906.019 81.6395 906.019 Z\" fill=\"#000000\" fill-rule=\"nonzero\" fill-opacity=\"1\" /><path clip-path=\"url(#clip830)\" d=\"M37.904 836.414 Q38.1294 836.189 38.4515 836.189 Q38.7735 836.189 39.5143 836.93 L57.0987 852.614 Q78.1613 846.624 78.1613 843.339 Q78.1613 842.34 77.3884 841.31 Q76.6476 840.247 75.5204 839.828 Q74.9729 839.667 74.7797 839.506 Q74.5864 839.345 74.5864 838.894 Q74.5864 838.121 75.3272 838.121 Q75.7136 838.121 76.3578 838.476 Q77.0341 838.83 77.7748 839.474 Q78.5478 840.118 79.0631 841.245 Q79.6106 842.373 79.6106 843.725 Q79.6106 845.4 79.2241 846.753 Q78.8376 848.105 78.3545 848.878 Q77.8714 849.651 77.0019 850.36 Q76.1645 851.036 75.6492 851.294 Q75.1661 851.519 74.3288 851.905 Q72.5253 852.678 70.5285 853.387 Q68.5317 854.095 67.0825 854.546 Q65.6332 854.997 61.1888 856.382 L78.1613 871.487 Q78.8698 872.195 78.8698 872.549 Q78.8698 872.839 78.6122 873.097 Q78.3867 873.355 78.0969 873.355 Q77.7748 873.355 77.0341 872.614 L60.0938 857.445 Q59.8684 857.219 59.6751 857.091 Q59.4819 856.962 59.4175 856.962 L59.3531 856.93 Q59.192 856.93 57.1309 857.509 Q55.0697 858.089 51.8813 859.152 Q48.6607 860.182 46.3097 861.149 Q44.7316 861.76 43.7654 862.179 Q42.7993 862.598 41.35 863.339 Q39.9007 864.047 39.16 864.788 Q38.3871 865.529 38.3871 866.205 Q38.3871 866.43 38.4837 866.785 Q38.5803 867.139 38.8379 867.719 Q39.0634 868.266 39.7075 868.814 Q40.3194 869.361 41.2212 869.715 Q41.9297 870.005 41.9297 870.553 Q41.9297 870.907 41.7687 871.132 Q41.6076 871.326 41.4466 871.326 L41.2856 871.358 Q40.7059 871.358 39.7397 870.81 Q38.7735 870.263 37.8718 868.91 Q36.9378 867.558 36.9378 865.818 Q36.9378 864.176 37.3243 862.823 Q37.7107 861.471 38.1616 860.73 Q38.6125 859.957 39.4498 859.281 Q40.255 858.604 40.6415 858.411 Q40.9957 858.186 41.7365 857.831 Q44.2485 856.736 46.4063 856.028 Q48.5319 855.287 55.2629 853.162 L38.4515 838.057 Q37.6463 837.381 37.6463 836.994 Q37.6463 836.64 37.904 836.414 Z\" fill=\"#000000\" fill-rule=\"nonzero\" fill-opacity=\"1\" /><path clip-path=\"url(#clip830)\" d=\"M49.5947 827.709 Q38.4515 827.709 29.466 823.554 Q25.6979 821.783 22.5418 819.303 Q19.3856 816.823 18.0007 815.181 Q16.6159 813.538 16.6159 813.087 Q16.6159 812.443 17.26 812.411 Q17.5821 812.411 18.3872 813.28 Q29.2084 823.908 49.5947 823.876 Q70.0454 823.876 80.4479 813.538 Q81.5751 812.411 81.9294 812.411 Q82.5735 812.411 82.5735 813.087 Q82.5735 813.538 81.2531 815.116 Q79.9326 816.694 76.9053 819.142 Q73.8779 821.59 70.1742 823.361 Q61.1888 827.709 49.5947 827.709 Z\" fill=\"#000000\" fill-rule=\"nonzero\" fill-opacity=\"1\" /><path clip-path=\"url(#clip830)\" d=\"M56.6478 753.356 Q56.9054 753.356 57.9038 753.646 Q58.9022 753.936 60.4481 754.644 Q61.994 755.32 63.411 756.287 Q64.7959 757.221 65.8264 758.766 Q66.8248 760.28 66.8248 762.019 Q66.8248 764.338 65.2789 765.884 Q63.7331 767.43 61.4142 767.43 Q60.1582 767.43 57.775 766.56 Q46.8894 762.47 42.9925 762.47 Q38.3871 762.47 38.3871 766.045 Q38.3871 768.074 39.2244 769.91 Q40.0618 771.745 41.2212 772.937 Q42.3806 774.129 43.701 775.063 Q45.0215 775.997 45.891 776.415 Q46.7606 776.802 47.147 776.898 L63.0567 780.86 Q64.4094 781.182 65.0535 781.407 Q65.6976 781.633 66.2451 782.245 Q66.8248 782.856 66.8248 783.823 Q66.8248 784.628 66.3417 785.207 Q65.8587 785.755 65.0213 785.755 Q64.8925 785.755 64.2162 785.594 Q63.5398 785.433 62.6059 785.207 Q61.6719 784.982 61.1244 784.885 Q56.7444 783.726 56.1325 783.565 L48.4675 781.729 Q44.6672 780.731 42.9925 780.731 Q38.3871 780.731 38.3871 784.306 Q38.3871 786.077 39.0634 787.752 Q39.7075 789.394 40.6093 790.521 Q41.511 791.649 42.7671 792.679 Q43.9909 793.678 44.8282 794.193 Q45.6334 794.676 46.4385 795.062 L49.7235 795.9 Q50.6253 796.093 54.1357 797.027 L60.0938 798.476 Q64.5382 799.507 64.9569 799.732 Q65.8587 800.054 66.3417 800.763 Q66.8248 801.471 66.8248 802.18 Q66.8248 802.985 66.3417 803.533 Q65.8587 804.08 65.0213 804.08 Q64.8925 804.08 64.4094 803.983 Q63.9263 803.887 63.25 803.726 Q62.5737 803.565 62.1872 803.5 L46.9538 799.668 Q44.1841 798.959 43.3146 798.798 Q42.4128 798.605 41.4144 798.605 Q38.3871 798.605 38.3871 800.666 Q38.3871 802.341 40.3838 803.436 Q42.3806 804.531 46.2453 805.465 Q47.3081 805.755 47.5335 805.948 Q47.759 806.109 47.759 806.592 Q47.7268 807.397 47.0826 807.397 Q46.9216 807.397 45.891 807.14 Q44.8604 806.882 43.3146 806.399 Q41.7365 805.884 40.7059 805.336 Q40.0296 805.014 39.5787 804.724 Q39.1278 804.434 38.4193 803.855 Q37.7107 803.275 37.3243 802.405 Q36.9378 801.536 36.9378 800.473 Q36.9378 798.122 38.4515 796.383 Q39.9651 794.612 42.6704 794.386 Q36.9378 790.103 36.9378 784.112 Q36.9378 780.731 38.6447 778.702 Q40.2872 776.802 43.3146 776.576 Q36.9378 772.132 36.9378 765.82 Q36.9378 762.18 38.8379 760.216 Q40.7059 758.251 43.9909 758.251 Q45.6978 758.251 48.9506 759.121 Q52.1712 759.99 53.7815 760.57 Q55.3917 761.15 58.4835 762.277 Q61.4465 763.468 63.1856 763.468 Q64.3128 763.468 64.8281 763.082 Q65.3434 762.696 65.3434 761.858 Q65.3434 760.57 64.6026 759.443 Q63.8297 758.316 62.5737 757.51 Q61.2854 756.673 59.9972 756.126 Q58.6767 755.578 57.1953 755.159 Q56.3901 754.902 56.1969 754.773 Q56.0037 754.612 56.0037 754.161 Q56.0037 753.356 56.6478 753.356 Z\" fill=\"#000000\" fill-rule=\"nonzero\" fill-opacity=\"1\" /><path clip-path=\"url(#clip830)\" d=\"M48.081 720.743 Q51.5915 720.743 55.0697 722.289 Q58.5157 723.835 61.0922 726.315 Q63.6364 728.763 65.2467 731.983 Q66.8248 735.204 66.8248 738.424 Q66.8248 743.03 63.7009 746.025 Q60.5447 748.988 55.6494 748.988 Q51.0762 748.988 46.7284 746.444 Q42.3484 743.867 39.6431 739.745 Q36.9378 735.622 36.9378 731.307 Q36.9378 726.766 39.9973 723.771 Q43.0569 720.743 48.081 720.743 M45.5045 725.574 Q42.3806 725.574 40.3838 727.088 Q38.3871 728.601 38.3871 731.371 Q38.3871 732.176 38.6447 733.11 Q38.8701 734.044 39.4821 735.268 Q40.094 736.46 41.3822 737.812 Q42.6382 739.133 44.4418 740.292 Q46.825 741.806 51.205 742.965 Q55.5528 744.093 58.1615 744.093 Q61.7685 744.093 63.572 742.418 Q65.3434 740.743 65.3434 738.36 Q65.3434 736.041 63.7331 733.593 Q62.0906 731.114 59.2887 729.407 Q56.3901 727.7 52.139 726.637 Q47.8556 725.574 45.5045 725.574 Z\" fill=\"#000000\" fill-rule=\"nonzero\" fill-opacity=\"1\" /><path clip-path=\"url(#clip830)\" d=\"M21.0281 703.206 L59.1598 712.707 Q60.6735 713.094 62.316 713.094 Q65.3434 713.094 65.3434 711.097 Q65.3434 710.163 64.7314 709.39 Q64.0873 708.617 62.8313 708.037 Q61.5431 707.425 60.3192 707.039 Q59.0954 706.62 57.1953 706.105 Q56.4545 705.944 56.2291 705.783 Q56.0037 705.622 56.0037 705.171 Q56.0037 704.366 56.6478 704.366 Q60.6091 705.171 63.1212 706.363 Q66.8248 708.102 66.8248 711.322 Q66.8248 713.738 65.1501 715.541 Q63.4432 717.313 60.7379 717.313 Q59.7073 717.313 58.4835 716.991 L25.5047 708.681 L24.2165 708.456 Q23.8622 708.456 23.669 708.585 Q23.4757 708.714 23.2825 709.487 Q23.0893 710.227 23.0893 711.709 Q23.0893 712.321 23.0571 712.611 Q23.0249 712.868 22.8638 713.126 Q22.7028 713.351 22.3485 713.351 Q21.7688 713.351 21.4468 713.126 Q21.1247 712.868 21.0603 712.675 Q20.9959 712.482 20.9637 712.095 Q20.9315 711.548 20.7704 709.712 Q20.5772 707.876 20.4484 706.298 Q20.3196 704.72 20.3196 704.044 Q20.3196 703.657 20.5128 703.464 Q20.6738 703.239 20.8671 703.206 L21.0281 703.206 Z\" fill=\"#000000\" fill-rule=\"nonzero\" fill-opacity=\"1\" /><path clip-path=\"url(#clip830)\" d=\"M81.6395 697.855 Q81.3175 697.855 80.6089 697.597 L18.3872 674.312 Q18.3228 674.312 17.9685 674.151 Q17.6143 673.99 17.3888 673.893 Q17.1312 673.797 16.938 673.603 Q16.7447 673.378 16.7447 673.12 Q16.7447 672.476 17.5499 672.476 Q17.6143 672.476 18.3872 672.67 L80.6734 696.019 Q81.8006 696.405 82.1226 696.663 Q82.4447 696.888 82.4447 697.275 Q82.4447 697.855 81.6395 697.855 Z\" fill=\"#000000\" fill-rule=\"nonzero\" fill-opacity=\"1\" /><path clip-path=\"url(#clip830)\" d=\"M58.4513 640.102 Q58.7412 639.844 59.031 639.844 Q59.3209 639.844 60.1582 640.489 Q60.9956 641.1 62.1228 642.421 Q63.25 643.741 64.3128 645.448 Q65.3756 647.155 66.0841 649.667 Q66.8248 652.179 66.8248 654.82 Q66.8248 659.554 63.4432 662.389 Q60.0616 665.19 54.8765 665.19 Q51.5593 665.19 48.6285 664.095 Q45.6656 663 43.5722 661.229 Q41.4788 659.426 39.9651 657.171 Q38.4193 654.885 37.6785 652.501 Q36.9378 650.118 36.9378 647.896 Q36.9378 644.643 38.5803 642.743 Q40.2228 640.843 42.5416 640.843 Q43.0891 640.843 43.7654 641.004 Q44.4418 641.133 45.5045 641.584 Q46.5673 642.002 47.6301 643.097 Q48.6607 644.192 49.337 645.803 Q50.8507 649.377 50.8507 655.883 L50.8507 659.393 Q55.0053 660.424 57.7106 660.424 Q58.7734 660.424 59.8684 660.231 Q60.9312 660.038 62.2838 659.522 Q63.6364 658.975 64.506 657.751 Q65.3434 656.495 65.3434 654.691 Q65.3434 654.112 65.3112 653.5 Q65.2789 652.856 64.9247 651.245 Q64.5704 649.603 63.9585 648.154 Q63.3466 646.704 62.0262 644.869 Q60.6735 643.001 58.8378 641.519 Q58.1615 641.004 58.1615 640.65 Q58.1615 640.36 58.4513 640.102 M42.5416 643.033 Q40.7703 643.033 39.5787 644.353 Q38.3871 645.641 38.3871 647.896 Q38.3871 648.604 38.5481 649.474 Q38.7091 650.344 39.3854 651.793 Q40.0618 653.21 41.189 654.466 Q42.284 655.722 44.4418 656.978 Q46.5673 658.234 49.4015 658.975 L49.4015 656.269 Q49.4015 655.335 49.4015 654.659 Q49.3693 653.983 49.2404 652.501 Q49.1116 650.988 48.8862 649.893 Q48.6285 648.798 48.1132 647.413 Q47.5979 646.028 46.9216 645.158 Q46.2131 644.257 45.0859 643.645 Q43.9587 643.033 42.5416 643.033 Z\" fill=\"#000000\" fill-rule=\"nonzero\" fill-opacity=\"1\" /><path clip-path=\"url(#clip830)\" d=\"M56.6478 582.038 Q56.9054 582.038 57.9038 582.328 Q58.9022 582.618 60.4481 583.326 Q61.994 584.002 63.411 584.969 Q64.7959 585.903 65.8264 587.448 Q66.8248 588.962 66.8248 590.701 Q66.8248 593.02 65.2789 594.566 Q63.7331 596.112 61.4142 596.112 Q60.1582 596.112 57.775 595.242 Q46.8894 591.152 42.9925 591.152 Q38.3871 591.152 38.3871 594.727 Q38.3871 596.756 39.2244 598.592 Q40.0618 600.427 41.2212 601.619 Q42.3806 602.811 43.701 603.745 Q45.0215 604.679 45.891 605.097 Q46.7606 605.484 47.147 605.58 L63.0567 609.542 Q64.4094 609.864 65.0535 610.089 Q65.6976 610.315 66.2451 610.927 Q66.8248 611.538 66.8248 612.505 Q66.8248 613.31 66.3417 613.889 Q65.8587 614.437 65.0213 614.437 Q64.8925 614.437 64.2162 614.276 Q63.5398 614.115 62.6059 613.889 Q61.6719 613.664 61.1244 613.567 Q56.7444 612.408 56.1325 612.247 L48.4675 610.411 Q44.6672 609.413 42.9925 609.413 Q38.3871 609.413 38.3871 612.988 Q38.3871 614.759 39.0634 616.434 Q39.7075 618.076 40.6093 619.203 Q41.511 620.331 42.7671 621.361 Q43.9909 622.36 44.8282 622.875 Q45.6334 623.358 46.4385 623.744 L49.7235 624.582 Q50.6253 624.775 54.1357 625.709 L60.0938 627.158 Q64.5382 628.189 64.9569 628.414 Q65.8587 628.736 66.3417 629.445 Q66.8248 630.153 66.8248 630.862 Q66.8248 631.667 66.3417 632.215 Q65.8587 632.762 65.0213 632.762 Q64.8925 632.762 64.4094 632.665 Q63.9263 632.569 63.25 632.408 Q62.5737 632.247 62.1872 632.182 L46.9538 628.35 Q44.1841 627.641 43.3146 627.48 Q42.4128 627.287 41.4144 627.287 Q38.3871 627.287 38.3871 629.348 Q38.3871 631.023 40.3838 632.118 Q42.3806 633.213 46.2453 634.147 Q47.3081 634.437 47.5335 634.63 Q47.759 634.791 47.759 635.274 Q47.7268 636.079 47.0826 636.079 Q46.9216 636.079 45.891 635.822 Q44.8604 635.564 43.3146 635.081 Q41.7365 634.566 40.7059 634.018 Q40.0296 633.696 39.5787 633.406 Q39.1278 633.116 38.4193 632.537 Q37.7107 631.957 37.3243 631.087 Q36.9378 630.218 36.9378 629.155 Q36.9378 626.804 38.4515 625.065 Q39.9651 623.294 42.6704 623.068 Q36.9378 618.785 36.9378 612.794 Q36.9378 609.413 38.6447 607.384 Q40.2872 605.484 43.3146 605.258 Q36.9378 600.814 36.9378 594.502 Q36.9378 590.862 38.8379 588.898 Q40.7059 586.933 43.9909 586.933 Q45.6978 586.933 48.9506 587.803 Q52.1712 588.672 53.7815 589.252 Q55.3917 589.832 58.4835 590.959 Q61.4465 592.15 63.1856 592.15 Q64.3128 592.15 64.8281 591.764 Q65.3434 591.378 65.3434 590.54 Q65.3434 589.252 64.6026 588.125 Q63.8297 586.998 62.5737 586.192 Q61.2854 585.355 59.9972 584.808 Q58.6767 584.26 57.1953 583.841 Q56.3901 583.584 56.1969 583.455 Q56.0037 583.294 56.0037 582.843 Q56.0037 582.038 56.6478 582.038 Z\" fill=\"#000000\" fill-rule=\"nonzero\" fill-opacity=\"1\" /><path clip-path=\"url(#clip830)\" d=\"M56.6478 545.077 Q60.8023 545.914 63.1856 547.042 Q66.8248 548.877 66.8248 551.937 Q66.8248 554.062 65.6332 555.673 Q64.4094 557.251 62.3804 557.798 Q63.1856 558.41 63.7331 558.958 Q64.2806 559.473 65.1179 560.471 Q65.9231 561.47 66.3739 562.822 Q66.8248 564.143 66.8248 565.657 Q66.8248 566.816 66.5994 567.879 Q66.4062 568.942 65.8587 570.069 Q65.2789 571.164 64.4094 571.969 Q63.5398 572.742 62.1228 573.257 Q60.7057 573.772 58.9022 573.772 Q56.6478 573.772 53.5882 572.903 Q50.5287 572.001 45.0537 569.94 Q42.1551 568.813 40.5448 568.813 Q39.8041 568.813 39.321 568.974 Q38.8379 569.135 38.6769 569.457 Q38.4837 569.747 38.4515 569.94 Q38.3871 570.133 38.3871 570.455 Q38.3871 572.452 40.416 574.191 Q42.445 575.93 46.5673 577.122 Q47.3725 577.379 47.5657 577.541 Q47.759 577.702 47.759 578.185 Q47.7268 578.99 47.0826 578.99 Q46.825 578.99 45.8266 578.7 Q44.796 578.41 43.2823 577.734 Q41.7365 577.025 40.3516 576.059 Q38.9346 575.093 37.9362 573.579 Q36.9378 572.033 36.9378 570.262 Q36.9378 567.847 38.5159 566.365 Q40.0618 564.851 42.3484 564.851 Q43.7654 564.851 46.5029 565.979 Q56.0037 569.553 59.965 569.553 Q65.3434 569.553 65.3434 565.463 Q65.3434 564.111 64.7959 562.855 Q64.2484 561.566 63.4754 560.729 Q62.7025 559.892 61.8651 559.248 Q61.0278 558.571 60.4803 558.281 Q59.9328 557.959 59.804 557.927 L39.9651 553 Q39.1922 552.806 38.6769 552.452 Q38.1294 552.066 37.9362 551.615 Q37.7429 551.164 37.7107 550.906 Q37.6463 550.649 37.6463 550.423 Q37.6463 549.618 38.1294 549.071 Q38.6125 548.491 39.4498 548.491 Q39.6109 548.491 40.3838 548.684 Q41.1246 548.845 42.2196 549.103 Q43.2823 549.36 43.8621 549.489 Q47.92 550.52 48.3387 550.616 L55.4562 552.452 Q55.8748 552.549 57.2275 552.871 Q58.5801 553.161 59.2887 553.322 Q59.965 553.483 60.899 553.644 Q61.8007 553.773 62.316 553.773 Q63.9263 553.773 64.6348 553.29 Q65.3434 552.806 65.3434 551.744 Q65.3434 550.745 64.667 549.972 Q63.9585 549.167 62.6059 548.555 Q61.221 547.943 60.0938 547.589 Q58.9666 547.235 57.1953 546.784 Q56.4223 546.623 56.2291 546.494 Q56.0037 546.333 56.0037 545.882 Q56.0037 545.077 56.6478 545.077 Z\" fill=\"#000000\" fill-rule=\"nonzero\" fill-opacity=\"1\" /><path clip-path=\"url(#clip830)\" d=\"M81.9294 539.789 Q81.6073 539.789 80.8022 538.951 Q69.981 528.323 49.5947 528.323 Q29.144 528.323 18.8059 538.533 Q17.6143 539.789 17.26 539.789 Q16.6159 539.789 16.6159 539.145 Q16.6159 538.694 17.9363 537.116 Q19.2568 535.505 22.2841 533.09 Q25.3115 530.642 29.0151 528.839 Q38.0006 524.491 49.5947 524.491 Q60.7379 524.491 69.7234 528.645 Q73.4914 530.417 76.6476 532.897 Q79.8038 535.376 81.1886 537.019 Q82.5735 538.661 82.5735 539.145 Q82.5735 539.789 81.9294 539.789 Z\" fill=\"#000000\" fill-rule=\"nonzero\" fill-opacity=\"1\" /><polyline clip-path=\"url(#clip832)\" style=\"stroke:#ff0000; stroke-linecap:round; stroke-linejoin:round; stroke-width:4; stroke-opacity:1; fill:none\" points=\"332.302,1090.28 337.923,1238.04 343.543,1235.09 349.164,1104.19 354.785,1236.58 360.405,1197.92 366.026,1034.34 371.647,1146.65 377.267,1006 382.888,1091.82 388.509,1027.36 394.129,888.238 399.75,1099.28 405.371,1188.69 410.991,1074.89 416.612,1030.79 422.232,1088.72 427.853,1048.88 433.474,1367.45 439.094,1125.5 444.715,1230.86 450.336,1096.04 455.956,1152.35 461.577,1038.51 467.198,1162.85 472.818,974.363 478.439,849.769 484.06,1143.83 489.68,1263.33 495.301,1035.68 500.922,1096.95 506.542,1071.57 512.163,1123.04 517.783,1036.84 523.404,1017.73 529.025,1041.91 534.645,1053.09 540.266,1119.55 545.887,1248.91 551.507,986.655 557.128,1102.12 562.749,983.039 568.369,1008.86 573.99,930.956 579.611,926.696 585.231,1006.98 590.852,932.837 596.472,946.215 602.093,962.077 607.714,901.644 613.334,925.52 618.955,1057.18 624.576,1077.58 630.196,1138.85 635.817,938.023 641.438,890.588 647.058,902.669 652.679,1064.65 658.3,1086.75 663.92,1106.82 669.541,883.282 675.162,953.649 680.782,1071.43 686.403,1035.75 692.023,1183.63 697.644,952.528 703.265,936.278 708.885,1044.61 714.506,771.429 720.127,1019.24 725.747,823.605 731.368,1032.84 736.989,985.81 742.609,836.055 748.23,1032.41 753.851,943.839 759.471,933.409 765.092,1073.92 770.713,825.184 776.333,1014.27 781.954,878.83 787.574,755.374 793.195,873.044 798.816,1049.38 804.436,1055.2 810.057,734.89 815.678,917.328 821.298,857.018 826.919,1101.84 832.54,878.57 838.16,933.14 843.781,939.327 849.402,1004.77 855.022,915.185 860.643,959.621 866.264,859.585 871.884,842.972 877.505,1053.49 883.125,792.344 888.746,797.91 894.367,1022.11 899.987,895.784 905.608,956.497 911.229,1086.29 916.849,812.543 922.47,1021.05 928.091,923.901 933.711,815.038 939.332,833.548 944.953,861.992 950.573,786.569 956.194,954.478 961.815,1048.11 967.435,792.156 973.056,852.226 978.676,980.531 984.297,731.154 989.918,884.721 995.538,890.959 1001.16,1011.45 1006.78,1032.71 1012.4,877.342 1018.02,759.403 1023.64,985.753 1029.26,928.884 1034.88,864.589 1040.5,909.135 1046.12,855.786 1051.74,882.955 1057.37,768.574 1062.99,687.431 1068.61,955.619 1074.23,733.194 1079.85,772.102 1085.47,896.245 1091.09,750.416 1096.71,964.403 1102.33,1004.99 1107.95,661.071 1113.57,703.023 1119.19,1032.8 1124.81,649.995 1130.43,822.58 1136.05,745.04 1141.68,747.513 1147.3,637.253 1152.92,1011.87 1158.54,732.483 1164.16,786.865 1169.78,1004.33 1175.4,781.154 1181.02,841.794 1186.64,749.325 1192.26,828.907 1197.88,793.122 1203.5,815.603 1209.12,774.885 1214.74,608.978 1220.36,845.32 1225.98,745.697 1231.61,721.564 1237.23,754.901 1242.85,843.989 1248.47,757.957 1254.09,723.437 1259.71,498.328 1265.33,653.933 1270.95,831.17 1276.57,840.606 1282.19,527.205 1287.81,588.751 1293.43,745.165 1299.05,715.326 1304.67,871.789 1310.29,682.068 1315.92,837.477 1321.54,735.689 1327.16,771.643 1332.78,784.784 1338.4,624.612 1344.02,696.196 1349.64,665.128 1355.26,752.455 1360.88,796.888 1366.5,808.609 1372.12,652.904 1377.74,594.555 1383.36,723.732 1388.98,726.925 1394.6,717.346 1400.22,733.853 1405.85,572.917 1411.47,662.376 1417.09,633.402 1422.71,686.518 1428.33,651.189 1433.95,371.429 1439.57,688.879 1445.19,610.72 1450.81,540.198 1456.43,553.292 1462.05,652.604 1467.67,571.184 1473.29,754.661 1478.91,586.553 1484.53,636.383 1490.16,732.062 1495.78,710.82 1501.4,669.134 1507.02,874.053 1512.64,739.528 1518.26,729.823 1523.88,669.559 1529.5,688.445 1535.12,679.361 1540.74,719.438 1546.36,738.205 1551.98,684.437 1557.6,724.887 1563.22,745.047 1568.84,437.756 1574.46,588.321 1580.09,496.877 1585.71,721.334 1591.33,586.983 1596.95,684.964 1602.57,739.965 1608.19,628.297 1613.81,480.592 1619.43,518.294 1625.05,396.439 1630.67,705.384 1636.29,661.94 1641.91,452.892 1647.53,632.311 1653.15,669.48 1658.77,551.173 1664.4,632.694 1670.02,702.891 1675.64,562.465 1681.26,706.925 1686.88,598.831 1692.5,475.132 1698.12,554.676 1703.74,689.296 1709.36,575.404 1714.98,626.923 1720.6,426.272 1726.22,408.23 1731.84,593.605 1737.46,452.197 1743.08,535.706 1748.71,585.434 1754.33,594.666 1759.95,671.119 1765.57,407.617 1771.19,484.463 1776.81,412.508 1782.43,485.596 1788.05,604.386 1793.67,350.63 1799.29,533.401 1804.91,553.951 1810.53,561.912 1816.15,436.463 1821.77,249.272 1827.39,418.049 1833.01,567.344 1838.64,556.32 1844.26,625.252 1849.88,363.486 1855.5,502.868 1861.12,586.779 1866.74,478.576 1872.36,592.648 1877.98,472.546 1883.6,322.243 1889.22,365.816 1894.84,470.402 1900.46,523.445 1906.08,340.832 1911.7,532.065 1917.32,481.357 1922.95,428.212 1928.57,360.017 1934.19,532.397 1939.81,354.38 1945.43,573.84 1951.05,564.705 1956.67,511.753 1962.29,676.524 1967.91,404.577 1973.53,656.305 1979.15,336.092 1984.77,320.833 1990.39,139.565 1996.01,282.601 2001.63,405.994 2007.25,437.811 2012.88,117.421 2018.5,440.988 2024.12,308.176 2029.74,411.985 2035.36,338.433 2040.98,562.117 2046.6,681.807 2052.22,330.447 2057.84,418.874 2063.46,261.69 2069.08,388.782 2074.7,390.378 2080.32,540.532 2085.94,285.747 2091.56,520.594 2097.19,112.872 2102.81,403.682 2108.43,405.883 2114.05,312.022 2119.67,336.176 2125.29,309.094 2130.91,369.131 2136.53,374.604 2142.15,354.751 2147.77,362.335 2153.39,292.416 2159.01,362.336 2164.63,309.23 2170.25,660.038 2175.87,462.044 2181.49,342.366 2187.12,385.918 2192.74,370.944 2198.36,273.44 2203.98,444.906 2209.6,235.122 2215.22,85.6966 2220.84,301.622 2226.46,225.271 2232.08,223.859 2237.7,425.224 2243.32,407.219 2248.94,360.441 2254.56,306.533 2260.18,339.739 2265.8,310.293 2271.43,263.477 2277.05,384.604 2282.67,369.914 2288.29,368.617 2293.91,239.385 \"/>\n",
       "<path clip-path=\"url(#clip830)\" d=\"M1954.63 1360.61 L2283.45 1360.61 L2283.45 1231.01 L1954.63 1231.01  Z\" fill=\"#ffffff\" fill-rule=\"evenodd\" fill-opacity=\"1\"/>\n",
       "<polyline clip-path=\"url(#clip830)\" style=\"stroke:#000000; stroke-linecap:round; stroke-linejoin:round; stroke-width:4; stroke-opacity:1; fill:none\" points=\"1954.63,1360.61 2283.45,1360.61 2283.45,1231.01 1954.63,1231.01 1954.63,1360.61 \"/>\n",
       "<polyline clip-path=\"url(#clip830)\" style=\"stroke:#ff0000; stroke-linecap:round; stroke-linejoin:round; stroke-width:5; stroke-opacity:1; fill:none\" points=\"1977.73,1295.81 2116.35,1295.81 \"/>\n",
       "<path clip-path=\"url(#clip830)\" d=\"M2164.89 1291.23 Q2166.88 1287.64 2169.66 1285.93 Q2172.44 1284.22 2176.2 1284.22 Q2181.26 1284.22 2184.01 1287.78 Q2186.76 1291.31 2186.76 1297.85 L2186.76 1317.41 L2181.41 1317.41 L2181.41 1298.02 Q2181.41 1293.37 2179.76 1291.11 Q2178.11 1288.85 2174.72 1288.85 Q2170.59 1288.85 2168.18 1291.6 Q2165.78 1294.35 2165.78 1299.1 L2165.78 1317.41 L2160.43 1317.41 L2160.43 1298.02 Q2160.43 1293.34 2158.78 1291.11 Q2157.13 1288.85 2153.69 1288.85 Q2149.61 1288.85 2147.21 1291.63 Q2144.8 1294.38 2144.8 1299.1 L2144.8 1317.41 L2139.45 1317.41 L2139.45 1285 L2144.8 1285 L2144.8 1290.04 Q2146.63 1287.06 2149.17 1285.64 Q2151.72 1284.22 2155.22 1284.22 Q2158.75 1284.22 2161.21 1286.02 Q2163.7 1287.81 2164.89 1291.23 Z\" fill=\"#000000\" fill-rule=\"nonzero\" fill-opacity=\"1\" /><path clip-path=\"url(#clip830)\" d=\"M2212.11 1301.12 Q2205.66 1301.12 2203.17 1302.6 Q2200.68 1304.07 2200.68 1307.63 Q2200.68 1310.47 2202.53 1312.15 Q2204.41 1313.79 2207.62 1313.79 Q2212.05 1313.79 2214.71 1310.67 Q2217.4 1307.52 2217.4 1302.31 L2217.4 1301.12 L2212.11 1301.12 M2222.73 1298.92 L2222.73 1317.41 L2217.4 1317.41 L2217.4 1312.49 Q2215.58 1315.44 2212.86 1316.86 Q2210.14 1318.25 2206.21 1318.25 Q2201.23 1318.25 2198.28 1315.47 Q2195.35 1312.67 2195.35 1307.98 Q2195.35 1302.51 2199 1299.73 Q2202.67 1296.95 2209.94 1296.95 L2217.4 1296.95 L2217.4 1296.43 Q2217.4 1292.76 2214.97 1290.76 Q2212.57 1288.74 2208.2 1288.74 Q2205.42 1288.74 2202.79 1289.4 Q2200.16 1290.07 2197.73 1291.4 L2197.73 1286.48 Q2200.65 1285.35 2203.4 1284.8 Q2206.15 1284.22 2208.75 1284.22 Q2215.78 1284.22 2219.25 1287.87 Q2222.73 1291.51 2222.73 1298.92 Z\" fill=\"#000000\" fill-rule=\"nonzero\" fill-opacity=\"1\" /><path clip-path=\"url(#clip830)\" d=\"M2255.02 1300.83 Q2255.02 1295.04 2252.62 1291.86 Q2250.24 1288.68 2245.93 1288.68 Q2241.65 1288.68 2239.25 1291.86 Q2236.88 1295.04 2236.88 1300.83 Q2236.88 1306.59 2239.25 1309.77 Q2241.65 1312.96 2245.93 1312.96 Q2250.24 1312.96 2252.62 1309.77 Q2255.02 1306.59 2255.02 1300.83 M2260.34 1313.39 Q2260.34 1321.66 2256.67 1325.69 Q2252.99 1329.74 2245.41 1329.74 Q2242.61 1329.74 2240.12 1329.3 Q2237.63 1328.9 2235.28 1328.03 L2235.28 1322.85 Q2237.63 1324.12 2239.91 1324.73 Q2242.2 1325.34 2244.57 1325.34 Q2249.81 1325.34 2252.41 1322.59 Q2255.02 1319.87 2255.02 1314.34 L2255.02 1311.71 Q2253.37 1314.58 2250.79 1315.99 Q2248.22 1317.41 2244.63 1317.41 Q2238.67 1317.41 2235.02 1312.87 Q2231.38 1308.33 2231.38 1300.83 Q2231.38 1293.31 2235.02 1288.77 Q2238.67 1284.22 2244.63 1284.22 Q2248.22 1284.22 2250.79 1285.64 Q2253.37 1287.06 2255.02 1289.92 L2255.02 1285 L2260.34 1285 L2260.34 1313.39 Z\" fill=\"#000000\" fill-rule=\"nonzero\" fill-opacity=\"1\" /></svg>\n"
      ]
     },
     "execution_count": 17,
     "metadata": {},
     "output_type": "execute_result"
    }
   ],
   "source": [
    "#chi\n",
    "\n",
    "plot(Temp_table_chi, chi_inv_Temp_noise,label=\"mag\",color=\"red\")\n",
    "plot!(xlabel=L\"T(K)\",ylabel=L\"1/\\chi(mol/emu)\")\n",
    "plot!(legendfontsize=10,xtickfont=font(12), ytickfont=font(12))\n",
    "plot!(legend=:bottomright)"
   ]
  },
  {
   "cell_type": "code",
   "execution_count": 18,
   "id": "5210e642",
   "metadata": {
    "ExecuteTime": {
     "end_time": "2022-01-24T16:35:11.824000+09:00",
     "start_time": "2022-01-24T07:35:11.457Z"
    }
   },
   "outputs": [],
   "source": [
    "#save_path_chi = path * \"data_chi_1.pdf\"\n",
    "#savefig(save_path_chi)"
   ]
  },
  {
   "cell_type": "code",
   "execution_count": 19,
   "id": "7ff30699",
   "metadata": {
    "ExecuteTime": {
     "end_time": "2022-01-24T16:35:12.544000+09:00",
     "start_time": "2022-01-24T07:35:12.517Z"
    }
   },
   "outputs": [
    {
     "data": {
      "image/png": "[encoded data removed]",
      "image/svg+xml": [
       "<?xml version=\"1.0\" encoding=\"utf-8\"?>\n",
       "<svg xmlns=\"http://www.w3.org/2000/svg\" xmlns:xlink=\"http://www.w3.org/1999/xlink\" width=\"600\" height=\"400\" viewBox=\"0 0 2400 1600\">\n",
       "<defs>\n",
       "  <clipPath id=\"clip870\">\n",
       "    <rect x=\"0\" y=\"0\" width=\"2400\" height=\"1600\"/>\n",
       "  </clipPath>\n",
       "</defs>\n",
       "<path clip-path=\"url(#clip870)\" d=\"M0 1600 L2400 1600 L2400 0 L0 0  Z\" fill=\"#ffffff\" fill-rule=\"evenodd\" fill-opacity=\"1\"/>\n",
       "<defs>\n",
       "  <clipPath id=\"clip871\">\n",
       "    <rect x=\"480\" y=\"0\" width=\"1681\" height=\"1600\"/>\n",
       "  </clipPath>\n",
       "</defs>\n",
       "<defs>\n",
       "  <clipPath id=\"clip872\">\n",
       "    <rect x=\"273\" y=\"47\" width=\"2080\" height=\"1360\"/>\n",
       "  </clipPath>\n",
       "</defs>\n",
       "<path clip-path=\"url(#clip870)\" d=\"M188.038 1405.9 L2352.76 1405.9 L2352.76 47.2441 L188.038 47.2441  Z\" fill=\"#ffffff\" fill-rule=\"evenodd\" fill-opacity=\"1\"/>\n",
       "<defs>\n",
       "  <clipPath id=\"clip873\">\n",
       "    <rect x=\"188\" y=\"47\" width=\"2166\" height=\"1360\"/>\n",
       "  </clipPath>\n",
       "</defs>\n",
       "<polyline clip-path=\"url(#clip873)\" style=\"stroke:#000000; stroke-linecap:round; stroke-linejoin:round; stroke-width:2; stroke-opacity:0.1; fill:none\" points=\"243.452,1405.9 243.452,47.2441 \"/>\n",
       "<polyline clip-path=\"url(#clip873)\" style=\"stroke:#000000; stroke-linecap:round; stroke-linejoin:round; stroke-width:2; stroke-opacity:0.1; fill:none\" points=\"828.606,1405.9 828.606,47.2441 \"/>\n",
       "<polyline clip-path=\"url(#clip873)\" style=\"stroke:#000000; stroke-linecap:round; stroke-linejoin:round; stroke-width:2; stroke-opacity:0.1; fill:none\" points=\"1413.76,1405.9 1413.76,47.2441 \"/>\n",
       "<polyline clip-path=\"url(#clip873)\" style=\"stroke:#000000; stroke-linecap:round; stroke-linejoin:round; stroke-width:2; stroke-opacity:0.1; fill:none\" points=\"1998.91,1405.9 1998.91,47.2441 \"/>\n",
       "<polyline clip-path=\"url(#clip870)\" style=\"stroke:#000000; stroke-linecap:round; stroke-linejoin:round; stroke-width:4; stroke-opacity:1; fill:none\" points=\"188.038,1405.9 2352.76,1405.9 \"/>\n",
       "<polyline clip-path=\"url(#clip870)\" style=\"stroke:#000000; stroke-linecap:round; stroke-linejoin:round; stroke-width:4; stroke-opacity:1; fill:none\" points=\"243.452,1405.9 243.452,1387 \"/>\n",
       "<polyline clip-path=\"url(#clip870)\" style=\"stroke:#000000; stroke-linecap:round; stroke-linejoin:round; stroke-width:4; stroke-opacity:1; fill:none\" points=\"828.606,1405.9 828.606,1387 \"/>\n",
       "<polyline clip-path=\"url(#clip870)\" style=\"stroke:#000000; stroke-linecap:round; stroke-linejoin:round; stroke-width:4; stroke-opacity:1; fill:none\" points=\"1413.76,1405.9 1413.76,1387 \"/>\n",
       "<polyline clip-path=\"url(#clip870)\" style=\"stroke:#000000; stroke-linecap:round; stroke-linejoin:round; stroke-width:4; stroke-opacity:1; fill:none\" points=\"1998.91,1405.9 1998.91,1387 \"/>\n",
       "<path clip-path=\"url(#clip870)\" d=\"M243.452 1442.68 Q238.035 1442.68 235.292 1448.03 Q232.584 1453.34 232.584 1464.03 Q232.584 1474.69 235.292 1480.04 Q238.035 1485.35 243.452 1485.35 Q248.903 1485.35 251.611 1480.04 Q254.355 1474.69 254.355 1464.03 Q254.355 1453.34 251.611 1448.03 Q248.903 1442.68 243.452 1442.68 M243.452 1437.12 Q252.167 1437.12 256.75 1444.03 Q261.368 1450.91 261.368 1464.03 Q261.368 1477.12 256.75 1484.03 Q252.167 1490.91 243.452 1490.91 Q234.737 1490.91 230.119 1484.03 Q225.535 1477.12 225.535 1464.03 Q225.535 1450.91 230.119 1444.03 Q234.737 1437.12 243.452 1437.12 Z\" fill=\"#000000\" fill-rule=\"nonzero\" fill-opacity=\"1\" /><path clip-path=\"url(#clip870)\" d=\"M796.766 1484 L821.245 1484 L821.245 1489.9 L788.328 1489.9 L788.328 1484 Q792.321 1479.87 799.196 1472.92 Q806.106 1465.94 807.877 1463.93 Q811.245 1460.14 812.564 1457.54 Q813.918 1454.9 813.918 1452.37 Q813.918 1448.23 811.002 1445.63 Q808.12 1443.03 803.467 1443.03 Q800.168 1443.03 796.488 1444.17 Q792.842 1445.32 788.675 1447.64 L788.675 1440.56 Q792.911 1438.86 796.592 1437.99 Q800.272 1437.12 803.328 1437.12 Q811.384 1437.12 816.175 1441.15 Q820.967 1445.18 820.967 1451.91 Q820.967 1455.11 819.752 1457.99 Q818.571 1460.84 815.411 1464.73 Q814.543 1465.73 809.89 1470.56 Q805.238 1475.35 796.766 1484 Z\" fill=\"#000000\" fill-rule=\"nonzero\" fill-opacity=\"1\" /><path clip-path=\"url(#clip870)\" d=\"M850.967 1442.68 Q845.55 1442.68 842.807 1448.03 Q840.099 1453.34 840.099 1464.03 Q840.099 1474.69 842.807 1480.04 Q845.55 1485.35 850.967 1485.35 Q856.418 1485.35 859.126 1480.04 Q861.869 1474.69 861.869 1464.03 Q861.869 1453.34 859.126 1448.03 Q856.418 1442.68 850.967 1442.68 M850.967 1437.12 Q859.682 1437.12 864.265 1444.03 Q868.883 1450.91 868.883 1464.03 Q868.883 1477.12 864.265 1484.03 Q859.682 1490.91 850.967 1490.91 Q842.251 1490.91 837.633 1484.03 Q833.05 1477.12 833.05 1464.03 Q833.05 1450.91 837.633 1444.03 Q842.251 1437.12 850.967 1437.12 Z\" fill=\"#000000\" fill-rule=\"nonzero\" fill-opacity=\"1\" /><path clip-path=\"url(#clip870)\" d=\"M1396.02 1444.17 L1378.31 1471.84 L1396.02 1471.84 L1396.02 1444.17 M1394.18 1438.06 L1403 1438.06 L1403 1471.84 L1410.39 1471.84 L1410.39 1477.68 L1403 1477.68 L1403 1489.9 L1396.02 1489.9 L1396.02 1477.68 L1372.61 1477.68 L1372.61 1470.91 L1394.18 1438.06 Z\" fill=\"#000000\" fill-rule=\"nonzero\" fill-opacity=\"1\" /><path clip-path=\"url(#clip870)\" d=\"M1436.99 1442.68 Q1431.57 1442.68 1428.83 1448.03 Q1426.12 1453.34 1426.12 1464.03 Q1426.12 1474.69 1428.83 1480.04 Q1431.57 1485.35 1436.99 1485.35 Q1442.44 1485.35 1445.15 1480.04 Q1447.89 1474.69 1447.89 1464.03 Q1447.89 1453.34 1445.15 1448.03 Q1442.44 1442.68 1436.99 1442.68 M1436.99 1437.12 Q1445.7 1437.12 1450.29 1444.03 Q1454.91 1450.91 1454.91 1464.03 Q1454.91 1477.12 1450.29 1484.03 Q1445.7 1490.91 1436.99 1490.91 Q1428.27 1490.91 1423.66 1484.03 Q1419.07 1477.12 1419.07 1464.03 Q1419.07 1450.91 1423.66 1444.03 Q1428.27 1437.12 1436.99 1437.12 Z\" fill=\"#000000\" fill-rule=\"nonzero\" fill-opacity=\"1\" /><path clip-path=\"url(#clip870)\" d=\"M1977.02 1461.18 Q1972.3 1461.18 1969.52 1464.41 Q1966.78 1467.64 1966.78 1473.27 Q1966.78 1478.86 1969.52 1482.12 Q1972.3 1485.35 1977.02 1485.35 Q1981.74 1485.35 1984.49 1482.12 Q1987.26 1478.86 1987.26 1473.27 Q1987.26 1467.64 1984.49 1464.41 Q1981.74 1461.18 1977.02 1461.18 M1990.94 1439.21 L1990.94 1445.59 Q1988.31 1444.34 1985.6 1443.68 Q1982.92 1443.03 1980.28 1443.03 Q1973.34 1443.03 1969.66 1447.71 Q1966.01 1452.4 1965.49 1461.88 Q1967.54 1458.86 1970.63 1457.26 Q1973.72 1455.63 1977.44 1455.63 Q1985.25 1455.63 1989.76 1460.39 Q1994.31 1465.11 1994.31 1473.27 Q1994.31 1481.25 1989.59 1486.08 Q1984.87 1490.91 1977.02 1490.91 Q1968.03 1490.91 1963.27 1484.03 Q1958.51 1477.12 1958.51 1464.03 Q1958.51 1451.74 1964.35 1444.45 Q1970.18 1437.12 1980.01 1437.12 Q1982.65 1437.12 1985.32 1437.64 Q1988.03 1438.16 1990.94 1439.21 Z\" fill=\"#000000\" fill-rule=\"nonzero\" fill-opacity=\"1\" /><path clip-path=\"url(#clip870)\" d=\"M2021.4 1442.68 Q2015.98 1442.68 2013.24 1448.03 Q2010.53 1453.34 2010.53 1464.03 Q2010.53 1474.69 2013.24 1480.04 Q2015.98 1485.35 2021.4 1485.35 Q2026.85 1485.35 2029.56 1480.04 Q2032.3 1474.69 2032.3 1464.03 Q2032.3 1453.34 2029.56 1448.03 Q2026.85 1442.68 2021.4 1442.68 M2021.4 1437.12 Q2030.11 1437.12 2034.69 1444.03 Q2039.31 1450.91 2039.31 1464.03 Q2039.31 1477.12 2034.69 1484.03 Q2030.11 1490.91 2021.4 1490.91 Q2012.68 1490.91 2008.06 1484.03 Q2003.48 1477.12 2003.48 1464.03 Q2003.48 1450.91 2008.06 1444.03 Q2012.68 1437.12 2021.4 1437.12 Z\" fill=\"#000000\" fill-rule=\"nonzero\" fill-opacity=\"1\" /><path clip-path=\"url(#clip870)\" d=\"M1234.82 1520.58 Q1234.82 1521.19 1234.69 1521.71 L1232.89 1533.17 Q1232.79 1534.04 1232.6 1534.36 Q1232.44 1534.69 1231.92 1534.69 Q1231.12 1534.69 1231.12 1533.85 Q1231.12 1533.36 1231.31 1532.59 Q1231.86 1528.95 1231.86 1527.31 Q1231.86 1526.22 1231.63 1525.41 Q1231.44 1524.57 1231.12 1523.99 Q1230.83 1523.41 1230.15 1523.03 Q1229.47 1522.64 1228.83 1522.41 Q1228.19 1522.19 1227.03 1522.09 Q1225.87 1521.96 1224.87 1521.93 Q1223.87 1521.9 1222.23 1521.9 Q1218.65 1521.9 1218.07 1522.03 Q1217.46 1522.19 1217.14 1522.67 Q1216.85 1523.12 1216.53 1524.48 L1207.77 1559.48 L1207.51 1560.87 Q1207.51 1561.64 1207.99 1561.9 Q1208.48 1562.16 1209.96 1562.32 Q1212.08 1562.48 1214.18 1562.48 Q1214.24 1562.48 1214.37 1562.48 Q1215.08 1562.48 1215.37 1562.51 Q1215.66 1562.51 1215.95 1562.58 Q1216.24 1562.64 1216.3 1562.8 Q1216.4 1562.93 1216.4 1563.19 Q1216.4 1563.8 1216.14 1564.12 Q1215.88 1564.41 1215.63 1564.48 Q1215.4 1564.51 1214.95 1564.51 Q1214.05 1564.51 1212.12 1564.44 Q1210.18 1564.38 1209.22 1564.38 L1203.74 1564.31 L1198.14 1564.38 Q1197.27 1564.38 1195.43 1564.44 Q1193.6 1564.51 1192.73 1564.51 Q1191.6 1564.51 1191.6 1563.7 Q1191.6 1562.8 1192.02 1562.64 Q1192.47 1562.48 1194.37 1562.48 Q1197.04 1562.48 1198.49 1562.35 Q1199.94 1562.22 1200.72 1561.77 Q1201.52 1561.32 1201.75 1560.87 Q1201.97 1560.39 1202.23 1559.29 L1211.09 1524.09 Q1211.34 1523.32 1211.34 1522.7 Q1211.34 1522.38 1211.25 1522.25 Q1211.18 1522.12 1210.76 1522.03 Q1210.34 1521.9 1209.48 1521.9 L1206.9 1521.9 Q1204.26 1521.9 1202.62 1522.03 Q1201 1522.12 1199.46 1522.61 Q1197.95 1523.09 1197.04 1523.77 Q1196.17 1524.44 1195.21 1525.83 Q1194.24 1527.21 1193.53 1528.89 Q1192.86 1530.56 1191.89 1533.3 Q1191.57 1534.2 1191.38 1534.46 Q1191.21 1534.69 1190.76 1534.69 Q1190.44 1534.69 1190.18 1534.49 Q1189.96 1534.27 1189.96 1533.98 Q1190.28 1532.91 1190.34 1532.79 L1194.31 1521.16 Q1194.63 1520.22 1194.92 1520.06 Q1195.24 1519.87 1196.43 1519.87 L1233.02 1519.87 Q1233.6 1519.87 1233.79 1519.87 Q1233.98 1519.87 1234.31 1519.93 Q1234.63 1520 1234.72 1520.16 Q1234.82 1520.32 1234.82 1520.58 Z\" fill=\"#000000\" fill-rule=\"nonzero\" fill-opacity=\"1\" /><path clip-path=\"url(#clip870)\" d=\"M1241.84 1548.02 Q1241.84 1536.88 1245.99 1527.89 Q1247.76 1524.12 1250.24 1520.97 Q1252.72 1517.81 1254.36 1516.42 Q1256.01 1515.04 1256.46 1515.04 Q1257.1 1515.04 1257.13 1515.68 Q1257.13 1516.01 1256.27 1516.81 Q1245.64 1527.63 1245.67 1548.02 Q1245.67 1568.47 1256.01 1578.87 Q1257.13 1580 1257.13 1580.35 Q1257.13 1581 1256.46 1581 Q1256.01 1581 1254.43 1579.68 Q1252.85 1578.36 1250.4 1575.33 Q1247.96 1572.3 1246.18 1568.6 Q1241.84 1559.61 1241.84 1548.02 Z\" fill=\"#000000\" fill-rule=\"nonzero\" fill-opacity=\"1\" /><path clip-path=\"url(#clip870)\" d=\"M1319.34 1520.19 Q1319.34 1520.61 1319.24 1520.9 Q1319.15 1521.16 1318.92 1521.29 Q1318.7 1521.42 1318.57 1521.45 Q1318.44 1521.48 1318.15 1521.51 Q1316.76 1521.64 1315.8 1521.87 Q1314.86 1522.09 1312.54 1523.25 Q1310.26 1524.41 1307.39 1526.5 L1295.86 1535.43 L1293.93 1536.94 Q1293.93 1537.04 1293.99 1537.23 Q1294.06 1537.39 1294.12 1537.62 Q1294.22 1537.81 1294.25 1537.87 L1303.62 1559.48 Q1304.36 1561.22 1305.27 1561.83 Q1306.17 1562.45 1308.2 1562.48 Q1308.52 1562.48 1308.65 1562.51 Q1308.81 1562.51 1309.03 1562.58 Q1309.29 1562.61 1309.39 1562.77 Q1309.52 1562.93 1309.52 1563.19 Q1309.52 1564.51 1308.32 1564.51 Q1307.58 1564.51 1305.07 1564.41 Q1302.56 1564.31 1301.85 1564.31 Q1300.53 1564.31 1297.83 1564.41 Q1295.12 1564.51 1293.8 1564.51 Q1292.87 1564.51 1292.87 1563.77 Q1292.87 1563.16 1293.09 1562.87 Q1293.35 1562.54 1293.57 1562.51 Q1293.8 1562.48 1294.32 1562.48 Q1294.7 1562.48 1295.12 1562.45 Q1295.57 1562.38 1296.22 1562.22 Q1296.89 1562.03 1297.31 1561.58 Q1297.76 1561.09 1297.76 1560.42 Q1297.76 1559.87 1296.96 1558.1 L1289.32 1540.35 L1279.5 1548.02 L1276.86 1558.39 Q1276.8 1558.78 1276.63 1559.45 Q1276.47 1560.13 1276.34 1560.61 Q1276.25 1561.09 1276.25 1561.29 Q1276.25 1561.71 1276.51 1561.96 Q1276.8 1562.22 1277.5 1562.35 Q1278.21 1562.45 1278.76 1562.48 Q1279.34 1562.48 1280.53 1562.48 Q1282.01 1562.48 1282.27 1562.74 Q1282.4 1562.9 1282.4 1563.19 Q1282.4 1563.64 1282.27 1563.96 Q1282.14 1564.25 1281.88 1564.35 Q1281.66 1564.44 1281.5 1564.48 Q1281.34 1564.51 1281.08 1564.51 Q1280.4 1564.51 1278.95 1564.44 Q1277.54 1564.38 1276.8 1564.38 L1272.58 1564.31 L1264.2 1564.51 Q1263.2 1564.51 1263.2 1563.7 Q1263.2 1563.09 1263.46 1562.83 Q1263.72 1562.54 1264.01 1562.51 Q1264.3 1562.48 1265.04 1562.48 Q1266.65 1562.48 1267.62 1562.38 Q1268.58 1562.29 1269.19 1562.16 Q1269.84 1562 1270.16 1561.54 Q1270.52 1561.09 1270.68 1560.71 Q1270.84 1560.29 1271.06 1559.35 L1279.89 1523.93 Q1280.14 1522.87 1280.14 1522.7 Q1280.14 1522.16 1279.82 1521.96 Q1279.53 1521.74 1278.7 1521.64 Q1277.09 1521.51 1275.86 1521.51 Q1275.06 1521.51 1274.73 1521.48 Q1274.44 1521.45 1274.19 1521.29 Q1273.96 1521.09 1273.96 1520.71 Q1273.96 1519.45 1275.28 1519.45 L1283.78 1519.65 L1292.22 1519.45 Q1293.16 1519.45 1293.16 1520.19 Q1293.16 1521.13 1292.7 1521.32 Q1292.29 1521.51 1290.9 1521.51 Q1288.49 1521.51 1287.39 1521.84 Q1286.33 1522.12 1286.01 1522.64 Q1285.72 1523.12 1285.36 1524.54 L1280.08 1545.7 L1305.81 1525.93 Q1308.2 1523.93 1308.2 1522.9 Q1308.2 1522.22 1307.71 1521.93 Q1307.26 1521.61 1306.13 1521.51 Q1305.33 1521.38 1305.33 1520.77 Q1305.33 1520.16 1305.56 1519.87 Q1305.81 1519.55 1306.01 1519.52 Q1306.23 1519.45 1306.59 1519.45 Q1307.78 1519.45 1310.26 1519.55 Q1312.74 1519.65 1313.93 1519.65 Q1314.73 1519.65 1316.31 1519.55 Q1317.89 1519.45 1318.6 1519.45 Q1318.95 1519.45 1319.15 1519.71 Q1319.34 1519.93 1319.34 1520.19 Z\" fill=\"#000000\" fill-rule=\"nonzero\" fill-opacity=\"1\" /><path clip-path=\"url(#clip870)\" d=\"M1325.51 1580.35 Q1325.51 1580.03 1326.35 1579.23 Q1336.97 1568.4 1336.97 1548.02 Q1336.97 1527.57 1326.76 1517.23 Q1325.51 1516.04 1325.51 1515.68 Q1325.51 1515.04 1326.15 1515.04 Q1326.6 1515.04 1328.18 1516.36 Q1329.79 1517.68 1332.21 1520.71 Q1334.65 1523.74 1336.46 1527.44 Q1340.81 1536.42 1340.81 1548.02 Q1340.81 1559.16 1336.65 1568.15 Q1334.88 1571.92 1332.4 1575.07 Q1329.92 1578.23 1328.28 1579.61 Q1326.64 1581 1326.15 1581 Q1325.51 1581 1325.51 1580.35 Z\" fill=\"#000000\" fill-rule=\"nonzero\" fill-opacity=\"1\" /><polyline clip-path=\"url(#clip873)\" style=\"stroke:#000000; stroke-linecap:round; stroke-linejoin:round; stroke-width:2; stroke-opacity:0.1; fill:none\" points=\"188.038,1190.39 2352.76,1190.39 \"/>\n",
       "<polyline clip-path=\"url(#clip873)\" style=\"stroke:#000000; stroke-linecap:round; stroke-linejoin:round; stroke-width:2; stroke-opacity:0.1; fill:none\" points=\"188.038,930.409 2352.76,930.409 \"/>\n",
       "<polyline clip-path=\"url(#clip873)\" style=\"stroke:#000000; stroke-linecap:round; stroke-linejoin:round; stroke-width:2; stroke-opacity:0.1; fill:none\" points=\"188.038,670.427 2352.76,670.427 \"/>\n",
       "<polyline clip-path=\"url(#clip873)\" style=\"stroke:#000000; stroke-linecap:round; stroke-linejoin:round; stroke-width:2; stroke-opacity:0.1; fill:none\" points=\"188.038,410.444 2352.76,410.444 \"/>\n",
       "<polyline clip-path=\"url(#clip873)\" style=\"stroke:#000000; stroke-linecap:round; stroke-linejoin:round; stroke-width:2; stroke-opacity:0.1; fill:none\" points=\"188.038,150.462 2352.76,150.462 \"/>\n",
       "<polyline clip-path=\"url(#clip870)\" style=\"stroke:#000000; stroke-linecap:round; stroke-linejoin:round; stroke-width:4; stroke-opacity:1; fill:none\" points=\"188.038,1405.9 188.038,47.2441 \"/>\n",
       "<polyline clip-path=\"url(#clip870)\" style=\"stroke:#000000; stroke-linecap:round; stroke-linejoin:round; stroke-width:4; stroke-opacity:1; fill:none\" points=\"188.038,1190.39 206.935,1190.39 \"/>\n",
       "<polyline clip-path=\"url(#clip870)\" style=\"stroke:#000000; stroke-linecap:round; stroke-linejoin:round; stroke-width:4; stroke-opacity:1; fill:none\" points=\"188.038,930.409 206.935,930.409 \"/>\n",
       "<polyline clip-path=\"url(#clip870)\" style=\"stroke:#000000; stroke-linecap:round; stroke-linejoin:round; stroke-width:4; stroke-opacity:1; fill:none\" points=\"188.038,670.427 206.935,670.427 \"/>\n",
       "<polyline clip-path=\"url(#clip870)\" style=\"stroke:#000000; stroke-linecap:round; stroke-linejoin:round; stroke-width:4; stroke-opacity:1; fill:none\" points=\"188.038,410.444 206.935,410.444 \"/>\n",
       "<polyline clip-path=\"url(#clip870)\" style=\"stroke:#000000; stroke-linecap:round; stroke-linejoin:round; stroke-width:4; stroke-opacity:1; fill:none\" points=\"188.038,150.462 206.935,150.462 \"/>\n",
       "<path clip-path=\"url(#clip870)\" d=\"M134.121 1169.09 Q128.705 1169.09 125.961 1174.44 Q123.253 1179.75 123.253 1190.44 Q123.253 1201.1 125.961 1206.45 Q128.705 1211.76 134.121 1211.76 Q139.573 1211.76 142.281 1206.45 Q145.024 1201.1 145.024 1190.44 Q145.024 1179.75 142.281 1174.44 Q139.573 1169.09 134.121 1169.09 M134.121 1163.53 Q142.836 1163.53 147.42 1170.44 Q152.038 1177.32 152.038 1190.44 Q152.038 1203.53 147.42 1210.44 Q142.836 1217.32 134.121 1217.32 Q125.406 1217.32 120.788 1210.44 Q116.205 1203.53 116.205 1190.44 Q116.205 1177.32 120.788 1170.44 Q125.406 1163.53 134.121 1163.53 Z\" fill=\"#000000\" fill-rule=\"nonzero\" fill-opacity=\"1\" /><path clip-path=\"url(#clip870)\" d=\"M127.559 950.427 L152.038 950.427 L152.038 956.329 L119.121 956.329 L119.121 950.427 Q123.114 946.295 129.989 939.35 Q136.899 932.371 138.67 930.357 Q142.038 926.572 143.357 923.968 Q144.711 921.329 144.711 918.795 Q144.711 914.663 141.795 912.059 Q138.913 909.455 134.26 909.455 Q130.961 909.455 127.281 910.6 Q123.635 911.746 119.468 914.073 L119.468 906.989 Q123.705 905.288 127.385 904.42 Q131.066 903.552 134.121 903.552 Q142.177 903.552 146.968 907.58 Q151.76 911.607 151.76 918.343 Q151.76 921.538 150.545 924.42 Q149.364 927.267 146.204 931.156 Q145.336 932.163 140.684 936.989 Q136.031 941.781 127.559 950.427 Z\" fill=\"#000000\" fill-rule=\"nonzero\" fill-opacity=\"1\" /><path clip-path=\"url(#clip870)\" d=\"M137.663 650.618 L119.955 678.291 L137.663 678.291 L137.663 650.618 M135.823 644.507 L144.642 644.507 L144.642 678.291 L152.038 678.291 L152.038 684.125 L144.642 684.125 L144.642 696.347 L137.663 696.347 L137.663 684.125 L114.26 684.125 L114.26 677.354 L135.823 644.507 Z\" fill=\"#000000\" fill-rule=\"nonzero\" fill-opacity=\"1\" /><path clip-path=\"url(#clip870)\" d=\"M134.746 407.649 Q130.024 407.649 127.246 410.878 Q124.503 414.107 124.503 419.732 Q124.503 425.323 127.246 428.587 Q130.024 431.816 134.746 431.816 Q139.468 431.816 142.211 428.587 Q144.989 425.323 144.989 419.732 Q144.989 414.107 142.211 410.878 Q139.468 407.649 134.746 407.649 M148.67 385.67 L148.67 392.059 Q146.031 390.809 143.323 390.149 Q140.649 389.49 138.01 389.49 Q131.066 389.49 127.385 394.177 Q123.739 398.864 123.218 408.344 Q125.267 405.323 128.357 403.726 Q131.448 402.094 135.163 402.094 Q142.975 402.094 147.489 406.851 Q152.038 411.573 152.038 419.732 Q152.038 427.719 147.316 432.545 Q142.593 437.371 134.746 437.371 Q125.753 437.371 120.996 430.496 Q116.239 423.587 116.239 410.496 Q116.239 398.205 122.073 390.913 Q127.906 383.587 137.732 383.587 Q140.371 383.587 143.045 384.108 Q145.753 384.628 148.67 385.67 Z\" fill=\"#000000\" fill-rule=\"nonzero\" fill-opacity=\"1\" /><path clip-path=\"url(#clip870)\" d=\"M134.26 151.764 Q129.26 151.764 126.378 154.437 Q123.531 157.111 123.531 161.799 Q123.531 166.486 126.378 169.16 Q129.26 171.833 134.26 171.833 Q139.26 171.833 142.142 169.16 Q145.024 166.451 145.024 161.799 Q145.024 157.111 142.142 154.437 Q139.295 151.764 134.26 151.764 M127.246 148.778 Q122.732 147.667 120.198 144.576 Q117.698 141.486 117.698 137.042 Q117.698 130.826 122.107 127.215 Q126.552 123.604 134.26 123.604 Q142.003 123.604 146.413 127.215 Q150.822 130.826 150.822 137.042 Q150.822 141.486 148.288 144.576 Q145.788 147.667 141.309 148.778 Q146.378 149.958 149.191 153.396 Q152.038 156.833 152.038 161.799 Q152.038 169.333 147.42 173.361 Q142.836 177.389 134.26 177.389 Q125.684 177.389 121.066 173.361 Q116.482 169.333 116.482 161.799 Q116.482 156.833 119.33 153.396 Q122.177 149.958 127.246 148.778 M124.677 137.701 Q124.677 141.729 127.177 143.986 Q129.711 146.243 134.26 146.243 Q138.774 146.243 141.309 143.986 Q143.878 141.729 143.878 137.701 Q143.878 133.674 141.309 131.417 Q138.774 129.16 134.26 129.16 Q129.711 129.16 127.177 131.417 Q124.677 133.674 124.677 137.701 Z\" fill=\"#000000\" fill-rule=\"nonzero\" fill-opacity=\"1\" /><path clip-path=\"url(#clip870)\" d=\"M20.2552 901.764 L37.0666 905.919 Q38.1294 906.209 38.2582 906.402 Q38.3871 906.563 38.3871 907.078 Q38.3871 908.077 37.7107 908.077 Q37.6463 908.077 36.809 907.98 Q35.9394 907.884 34.3613 907.884 Q28.5321 907.884 25.086 910.718 Q21.64 913.52 21.64 918.512 Q21.64 922.827 23.83 927.175 Q26.02 931.49 29.5949 934.582 Q32.3001 936.901 35.714 938.608 Q39.1278 940.283 42.2518 941.088 Q45.3757 941.861 47.7268 942.215 Q50.0778 942.569 51.7847 942.569 Q54.2645 942.569 56.3579 942.054 Q58.4513 941.506 59.9328 940.54 Q61.382 939.574 62.5092 938.35 Q63.6042 937.094 64.2484 935.645 Q64.8925 934.164 65.2145 932.682 Q65.5044 931.201 65.5044 929.655 Q65.5044 923.439 60.6735 917.513 Q56.7122 912.811 50.2388 910.847 Q49.5947 910.685 49.5947 910.009 Q49.5947 909.204 50.2388 909.204 Q50.3676 909.204 51.0118 909.365 Q51.6237 909.526 52.8797 910.009 Q54.1035 910.492 55.4884 911.233 Q56.8732 911.974 58.6123 913.359 Q60.3515 914.743 61.8651 916.45 Q64.3772 919.349 65.9553 923.02 Q67.5334 926.692 67.5334 930.718 Q67.5334 935.742 65.3112 939.8 Q63.0889 943.858 58.9344 946.241 Q54.7798 948.592 49.4659 948.592 Q43.8621 948.592 38.3548 946.015 Q32.8476 943.439 28.7575 939.349 Q24.6674 935.259 22.1231 929.848 Q19.5788 924.437 19.5788 919.027 Q19.5788 916.966 20.1263 915.13 Q20.6738 913.294 21.3502 912.199 Q22.0265 911.072 23.0249 910.074 Q23.991 909.075 24.4419 908.753 Q24.8928 908.399 25.4403 908.077 L20.384 903.471 Q19.5788 902.666 19.5788 902.473 Q19.5788 902.087 19.8043 901.925 Q20.0297 901.764 20.2552 901.764 Z\" fill=\"#000000\" fill-rule=\"nonzero\" fill-opacity=\"1\" /><path clip-path=\"url(#clip870)\" d=\"M49.5947 893.972 Q38.4515 893.972 29.466 889.818 Q25.6979 888.047 22.5418 885.567 Q19.3856 883.087 18.0007 881.444 Q16.6159 879.802 16.6159 879.351 Q16.6159 878.707 17.26 878.675 Q17.5821 878.675 18.3872 879.544 Q29.2084 890.172 49.5947 890.14 Q70.0454 890.14 80.4479 879.802 Q81.5751 878.675 81.9294 878.675 Q82.5735 878.675 82.5735 879.351 Q82.5735 879.802 81.2531 881.38 Q79.9326 882.958 76.9053 885.406 Q73.8779 887.853 70.1742 889.625 Q61.1888 893.972 49.5947 893.972 Z\" fill=\"#000000\" fill-rule=\"nonzero\" fill-opacity=\"1\" /><path clip-path=\"url(#clip870)\" d=\"M21.8332 833.952 Q22.4452 833.952 22.735 834.21 Q22.9927 834.467 23.0571 834.757 Q23.0893 835.047 23.0893 835.723 Q23.0893 837.108 23.1859 837.849 Q23.2825 838.59 23.7012 839.041 Q24.0877 839.491 24.4741 839.652 Q24.8606 839.781 25.859 840.007 L56.6478 847.736 Q61.382 848.928 64.4738 853.243 Q67.5334 857.559 67.5334 862.293 Q67.5334 866.158 65.5044 868.606 Q63.4432 871.021 60.3515 871.021 Q58.7734 871.021 57.6462 870.506 Q56.519 869.99 56.0037 869.217 Q55.4884 868.445 55.2951 867.8 Q55.0697 867.124 55.0697 866.577 Q55.0697 865.514 55.746 864.612 Q56.4223 863.678 57.8394 863.678 Q59.4175 863.678 60.7379 864.902 Q62.0584 866.126 62.0584 867.961 Q62.0584 868.573 61.994 868.767 Q63.572 868.283 64.5704 867.027 Q65.5366 865.771 65.8264 864.676 Q66.0841 863.549 66.0841 862.486 Q66.0841 859.717 63.411 856.915 Q60.7379 854.113 56.1969 852.986 L25.9234 845.417 Q24.8928 845.16 24.5385 845.16 Q23.8622 845.16 23.6368 845.578 Q23.3791 845.965 23.2181 847.189 Q23.0893 848.831 23.0893 851.021 Q23.0893 851.794 23.0893 852.116 Q23.0571 852.438 22.9927 852.76 Q22.9282 853.082 22.7994 853.179 Q22.6384 853.276 22.3485 853.276 Q21.7366 853.276 21.4468 853.018 Q21.1247 852.76 21.0925 852.535 Q21.0281 852.309 21.0281 851.891 L21.2213 842.197 Q21.2213 841.359 21.1247 838.525 Q21.0281 835.691 21.0281 834.854 Q21.0281 833.952 21.8332 833.952 Z\" fill=\"#000000\" fill-rule=\"nonzero\" fill-opacity=\"1\" /><path clip-path=\"url(#clip870)\" d=\"M81.6395 834.784 Q81.3175 834.784 80.6089 834.527 L18.3872 811.242 Q18.3228 811.242 17.9685 811.081 Q17.6143 810.92 17.3888 810.823 Q17.1312 810.727 16.938 810.533 Q16.7447 810.308 16.7447 810.05 Q16.7447 809.406 17.5499 809.406 Q17.6143 809.406 18.3872 809.599 L80.6734 832.949 Q81.8006 833.335 82.1226 833.593 Q82.4447 833.818 82.4447 834.205 Q82.4447 834.784 81.6395 834.784 Z\" fill=\"#000000\" fill-rule=\"nonzero\" fill-opacity=\"1\" /><path clip-path=\"url(#clip870)\" d=\"M49.5947 802.12 Q38.4515 802.12 29.466 797.966 Q25.6979 796.194 22.5418 793.714 Q19.3856 791.235 18.0007 789.592 Q16.6159 787.95 16.6159 787.499 Q16.6159 786.855 17.26 786.822 Q17.5821 786.822 18.3872 787.692 Q29.2084 798.32 49.5947 798.288 Q70.0454 798.288 80.4479 787.95 Q81.5751 786.822 81.9294 786.822 Q82.5735 786.822 82.5735 787.499 Q82.5735 787.95 81.2531 789.528 Q79.9326 791.106 76.9053 793.553 Q73.8779 796.001 70.1742 797.772 Q61.1888 802.12 49.5947 802.12 Z\" fill=\"#000000\" fill-rule=\"nonzero\" fill-opacity=\"1\" /><path clip-path=\"url(#clip870)\" d=\"M56.6478 727.767 Q56.9054 727.767 57.9038 728.057 Q58.9022 728.347 60.4481 729.056 Q61.994 729.732 63.411 730.698 Q64.7959 731.632 65.8264 733.178 Q66.8248 734.692 66.8248 736.431 Q66.8248 738.75 65.2789 740.295 Q63.7331 741.841 61.4142 741.841 Q60.1582 741.841 57.775 740.972 Q46.8894 736.882 42.9925 736.882 Q38.3871 736.882 38.3871 740.456 Q38.3871 742.485 39.2244 744.321 Q40.0618 746.157 41.2212 747.349 Q42.3806 748.54 43.701 749.474 Q45.0215 750.408 45.891 750.827 Q46.7606 751.213 47.147 751.31 L63.0567 755.271 Q64.4094 755.593 65.0535 755.819 Q65.6976 756.044 66.2451 756.656 Q66.8248 757.268 66.8248 758.234 Q66.8248 759.039 66.3417 759.619 Q65.8587 760.166 65.0213 760.166 Q64.8925 760.166 64.2162 760.005 Q63.5398 759.844 62.6059 759.619 Q61.6719 759.394 61.1244 759.297 Q56.7444 758.138 56.1325 757.976 L48.4675 756.141 Q44.6672 755.142 42.9925 755.142 Q38.3871 755.142 38.3871 758.717 Q38.3871 760.489 39.0634 762.163 Q39.7075 763.806 40.6093 764.933 Q41.511 766.06 42.7671 767.091 Q43.9909 768.089 44.8282 768.604 Q45.6334 769.087 46.4385 769.474 L49.7235 770.311 Q50.6253 770.505 54.1357 771.439 L60.0938 772.888 Q64.5382 773.918 64.9569 774.144 Q65.8587 774.466 66.3417 775.174 Q66.8248 775.883 66.8248 776.591 Q66.8248 777.397 66.3417 777.944 Q65.8587 778.492 65.0213 778.492 Q64.8925 778.492 64.4094 778.395 Q63.9263 778.298 63.25 778.137 Q62.5737 777.976 62.1872 777.912 L46.9538 774.079 Q44.1841 773.371 43.3146 773.21 Q42.4128 773.017 41.4144 773.017 Q38.3871 773.017 38.3871 775.078 Q38.3871 776.752 40.3838 777.847 Q42.3806 778.942 46.2453 779.876 Q47.3081 780.166 47.5335 780.36 Q47.759 780.521 47.759 781.004 Q47.7268 781.809 47.0826 781.809 Q46.9216 781.809 45.891 781.551 Q44.8604 781.294 43.3146 780.81 Q41.7365 780.295 40.7059 779.748 Q40.0296 779.426 39.5787 779.136 Q39.1278 778.846 38.4193 778.266 Q37.7107 777.686 37.3243 776.817 Q36.9378 775.947 36.9378 774.885 Q36.9378 772.534 38.4515 770.794 Q39.9651 769.023 42.6704 768.798 Q36.9378 764.514 36.9378 758.524 Q36.9378 755.142 38.6447 753.113 Q40.2872 751.213 43.3146 750.988 Q36.9378 746.543 36.9378 740.231 Q36.9378 736.592 38.8379 734.627 Q40.7059 732.663 43.9909 732.663 Q45.6978 732.663 48.9506 733.532 Q52.1712 734.402 53.7815 734.981 Q55.3917 735.561 58.4835 736.688 Q61.4465 737.88 63.1856 737.88 Q64.3128 737.88 64.8281 737.494 Q65.3434 737.107 65.3434 736.27 Q65.3434 734.981 64.6026 733.854 Q63.8297 732.727 62.5737 731.922 Q61.2854 731.085 59.9972 730.537 Q58.6767 729.99 57.1953 729.571 Q56.3901 729.313 56.1969 729.184 Q56.0037 729.023 56.0037 728.573 Q56.0037 727.767 56.6478 727.767 Z\" fill=\"#000000\" fill-rule=\"nonzero\" fill-opacity=\"1\" /><path clip-path=\"url(#clip870)\" d=\"M48.081 695.155 Q51.5915 695.155 55.0697 696.701 Q58.5157 698.247 61.0922 700.726 Q63.6364 703.174 65.2467 706.395 Q66.8248 709.615 66.8248 712.836 Q66.8248 717.441 63.7009 720.436 Q60.5447 723.399 55.6494 723.399 Q51.0762 723.399 46.7284 720.855 Q42.3484 718.279 39.6431 714.156 Q36.9378 710.034 36.9378 705.718 Q36.9378 701.177 39.9973 698.182 Q43.0569 695.155 48.081 695.155 M45.5045 699.986 Q42.3806 699.986 40.3838 701.499 Q38.3871 703.013 38.3871 705.783 Q38.3871 706.588 38.6447 707.522 Q38.8701 708.456 39.4821 709.68 Q40.094 710.871 41.3822 712.224 Q42.6382 713.544 44.4418 714.704 Q46.825 716.217 51.205 717.377 Q55.5528 718.504 58.1615 718.504 Q61.7685 718.504 63.572 716.829 Q65.3434 715.155 65.3434 712.771 Q65.3434 710.453 63.7331 708.005 Q62.0906 705.525 59.2887 703.818 Q56.3901 702.111 52.139 701.048 Q47.8556 699.986 45.5045 699.986 Z\" fill=\"#000000\" fill-rule=\"nonzero\" fill-opacity=\"1\" /><path clip-path=\"url(#clip870)\" d=\"M21.0281 677.618 L59.1598 687.119 Q60.6735 687.505 62.316 687.505 Q65.3434 687.505 65.3434 685.508 Q65.3434 684.574 64.7314 683.801 Q64.0873 683.029 62.8313 682.449 Q61.5431 681.837 60.3192 681.45 Q59.0954 681.032 57.1953 680.516 Q56.4545 680.355 56.2291 680.194 Q56.0037 680.033 56.0037 679.582 Q56.0037 678.777 56.6478 678.777 Q60.6091 679.582 63.1212 680.774 Q66.8248 682.513 66.8248 685.734 Q66.8248 688.149 65.1501 689.953 Q63.4432 691.724 60.7379 691.724 Q59.7073 691.724 58.4835 691.402 L25.5047 683.093 L24.2165 682.867 Q23.8622 682.867 23.669 682.996 Q23.4757 683.125 23.2825 683.898 Q23.0893 684.639 23.0893 686.12 Q23.0893 686.732 23.0571 687.022 Q23.0249 687.28 22.8638 687.537 Q22.7028 687.763 22.3485 687.763 Q21.7688 687.763 21.4468 687.537 Q21.1247 687.28 21.0603 687.086 Q20.9959 686.893 20.9637 686.507 Q20.9315 685.959 20.7704 684.124 Q20.5772 682.288 20.4484 680.71 Q20.3196 679.132 20.3196 678.455 Q20.3196 678.069 20.5128 677.876 Q20.6738 677.65 20.8671 677.618 L21.0281 677.618 Z\" fill=\"#000000\" fill-rule=\"nonzero\" fill-opacity=\"1\" /><path clip-path=\"url(#clip870)\" d=\"M47.147 648.005 Q48.1776 646.975 49.5947 646.975 Q51.0118 646.975 52.0745 648.005 Q53.1051 649.036 53.1051 650.453 Q53.1051 651.87 52.0745 652.933 Q51.0118 653.963 49.5947 653.963 Q48.1776 653.963 47.147 652.933 Q46.0843 651.87 46.0843 650.453 Q46.0843 649.036 47.147 648.005 Z\" fill=\"#000000\" fill-rule=\"nonzero\" fill-opacity=\"1\" /><path clip-path=\"url(#clip870)\" d=\"M21.7688 561.376 Q22.1875 561.376 22.4774 561.472 Q22.735 561.569 22.8638 561.794 Q22.9927 562.02 23.0249 562.149 Q23.0571 562.278 23.0893 562.567 Q23.2181 563.952 23.4435 564.918 Q23.669 565.852 24.8284 568.171 Q25.9878 570.458 28.0812 573.324 L37.0022 584.854 L38.5159 586.786 Q38.6125 586.786 38.8057 586.722 Q38.9668 586.657 39.1922 586.593 Q39.3854 586.496 39.4498 586.464 L61.06 577.092 Q62.7991 576.351 63.411 575.45 Q64.0229 574.548 64.0551 572.519 Q64.0551 572.197 64.0873 572.068 Q64.0873 571.907 64.1517 571.682 Q64.1839 571.424 64.345 571.327 Q64.506 571.199 64.7637 571.199 Q66.0841 571.199 66.0841 572.39 Q66.0841 573.131 65.9875 575.643 Q65.8909 578.155 65.8909 578.864 Q65.8909 580.184 65.9875 582.889 Q66.0841 585.595 66.0841 586.915 Q66.0841 587.849 65.3434 587.849 Q64.7314 587.849 64.4416 587.624 Q64.1195 587.366 64.0873 587.14 Q64.0551 586.915 64.0551 586.4 Q64.0551 586.013 64.0229 585.595 Q63.9585 585.144 63.7975 584.5 Q63.6042 583.823 63.1534 583.405 Q62.6703 582.954 61.994 582.954 Q61.4465 582.954 59.6751 583.759 L41.9297 591.392 L49.5947 601.214 L59.965 603.855 Q60.3515 603.92 61.0278 604.081 Q61.7041 604.242 62.1872 604.371 Q62.6703 604.467 62.8635 604.467 Q63.2822 604.467 63.5398 604.21 Q63.7975 603.92 63.9263 603.211 Q64.0229 602.503 64.0551 601.955 Q64.0551 601.375 64.0551 600.184 Q64.0551 598.702 64.3128 598.445 Q64.4738 598.316 64.7637 598.316 Q65.2145 598.316 65.5366 598.445 Q65.8264 598.574 65.9231 598.831 Q66.0197 599.057 66.0519 599.218 Q66.0841 599.379 66.0841 599.636 Q66.0841 600.313 66.0197 601.762 Q65.9553 603.179 65.9553 603.92 L65.8909 608.139 L66.0841 616.512 Q66.0841 617.511 65.2789 617.511 Q64.667 617.511 64.4094 617.253 Q64.1195 616.995 64.0873 616.705 Q64.0551 616.416 64.0551 615.675 Q64.0551 614.065 63.9585 613.098 Q63.8619 612.132 63.7331 611.52 Q63.572 610.876 63.1212 610.554 Q62.6703 610.2 62.2838 610.039 Q61.8651 609.878 60.9312 609.652 L25.5047 600.828 Q24.4419 600.57 24.2809 600.57 Q23.7334 600.57 23.5402 600.892 Q23.3147 601.182 23.2181 602.02 Q23.0893 603.63 23.0893 604.854 Q23.0893 605.659 23.0571 605.981 Q23.0249 606.271 22.8638 606.528 Q22.6706 606.754 22.2841 606.754 Q21.0281 606.754 21.0281 605.433 L21.2213 596.931 L21.0281 588.493 Q21.0281 587.559 21.7688 587.559 Q22.7028 587.559 22.896 588.01 Q23.0893 588.429 23.0893 589.814 Q23.0893 592.229 23.4113 593.324 Q23.7012 594.387 24.2165 594.709 Q24.6996 594.999 26.1166 595.353 L47.2759 600.635 L27.5015 574.902 Q25.5047 572.519 24.4741 572.519 Q23.7978 572.519 23.5079 573.002 Q23.1859 573.453 23.0893 574.58 Q22.9604 575.385 22.3485 575.385 Q21.7366 575.385 21.4468 575.16 Q21.1247 574.902 21.0925 574.709 Q21.0281 574.484 21.0281 574.129 Q21.0281 572.938 21.1247 570.458 Q21.2213 567.978 21.2213 566.786 Q21.2213 565.981 21.1247 564.403 Q21.0281 562.825 21.0281 562.116 Q21.0281 561.762 21.2857 561.569 Q21.5112 561.376 21.7688 561.376 Z\" fill=\"#000000\" fill-rule=\"nonzero\" fill-opacity=\"1\" /><path clip-path=\"url(#clip870)\" d=\"M81.9294 555.207 Q81.6073 555.207 80.8022 554.37 Q69.981 543.742 49.5947 543.742 Q29.144 543.742 18.8059 553.951 Q17.6143 555.207 17.26 555.207 Q16.6159 555.207 16.6159 554.563 Q16.6159 554.112 17.9363 552.534 Q19.2568 550.924 22.2841 548.508 Q25.3115 546.061 29.0151 544.257 Q38.0006 539.909 49.5947 539.909 Q60.7379 539.909 69.7234 544.064 Q73.4914 545.835 76.6476 548.315 Q79.8038 550.795 81.1886 552.437 Q82.5735 554.08 82.5735 554.563 Q82.5735 555.207 81.9294 555.207 Z\" fill=\"#000000\" fill-rule=\"nonzero\" fill-opacity=\"1\" /><path clip-path=\"url(#clip870)\" d=\"M81.9294 529.88 Q81.6073 529.88 80.8022 529.042 Q69.981 518.414 49.5947 518.414 Q29.144 518.414 18.8059 528.624 Q17.6143 529.88 17.26 529.88 Q16.6159 529.88 16.6159 529.235 Q16.6159 528.785 17.9363 527.206 Q19.2568 525.596 22.2841 523.181 Q25.3115 520.733 29.0151 518.93 Q38.0006 514.582 49.5947 514.582 Q60.7379 514.582 69.7234 518.736 Q73.4914 520.508 76.6476 522.988 Q79.8038 525.467 81.1886 527.11 Q82.5735 528.752 82.5735 529.235 Q82.5735 529.88 81.9294 529.88 Z\" fill=\"#000000\" fill-rule=\"nonzero\" fill-opacity=\"1\" /><polyline clip-path=\"url(#clip873)\" style=\"stroke:#0000ff; stroke-linecap:round; stroke-linejoin:round; stroke-width:4; stroke-opacity:1; fill:none\" points=\"249.303,1123.73 255.155,1104.53 261.006,1249.05 266.858,781.416 272.709,1005.85 278.561,1005.96 284.413,697.72 290.264,669.171 296.116,826.973 301.967,524.191 307.819,815.208 313.67,682.103 319.522,835.033 325.373,787.743 331.225,679.164 337.076,689.681 342.928,828.044 348.779,829.608 354.631,853.957 360.483,691.836 366.334,917.773 372.186,1151.25 378.037,974.868 383.889,910.287 389.74,693.924 395.592,1101.82 401.443,982.858 407.295,1040.13 413.146,901.456 418.998,675.936 424.849,704.168 430.701,1080.45 436.553,885.105 442.404,1015.87 448.256,953.432 454.107,949.275 459.959,852.919 465.81,1081.93 471.662,696.794 477.513,704.855 483.365,963.933 489.216,751.081 495.068,746.738 500.919,626.029 506.771,698.208 512.623,753.242 518.474,588.423 524.326,889.492 530.177,616.003 536.029,682.445 541.88,627.143 547.732,700.478 553.583,481.22 559.435,595.908 565.286,381.839 571.138,520.975 576.99,240.63 582.841,595.761 588.693,492.191 594.544,240.017 600.396,225.908 606.247,522.12 612.099,571.173 617.95,602.952 623.802,483.351 629.653,466.025 635.505,275.981 641.356,257.114 647.208,341.137 653.06,422.326 658.911,351.191 664.763,238.536 670.614,342.35 676.466,494.91 682.317,228.669 688.169,190.844 694.02,481.285 699.872,368.25 705.723,373.722 711.575,553.995 717.426,282.491 723.278,322.175 729.13,214.018 734.981,416.606 740.833,188.822 746.684,106.489 752.536,118.51 758.387,280.488 764.239,294.923 770.09,363.852 775.942,385.016 781.793,599.845 787.645,135.63 793.496,500.174 799.348,320.934 805.2,85.6966 811.051,552.018 816.903,604.437 822.754,591.179 828.606,475.253 834.457,85.8277 840.309,383.67 846.16,401.57 852.012,468.932 857.863,575.834 863.715,402.913 869.566,373.404 875.418,317.96 881.27,267.556 887.121,463.909 892.973,368.3 898.824,575.868 904.676,519.402 910.527,796.869 916.379,452.396 922.23,648.388 928.082,466.945 933.933,416.827 939.785,507.909 945.636,646.13 951.488,672.304 957.34,790.386 963.191,577.88 969.043,595.455 974.894,674.831 980.746,374.223 986.597,585.366 992.449,486.094 998.3,540.593 1004.15,793.316 1010,769.918 1015.85,624.763 1021.71,530.666 1027.56,387.044 1033.41,481.123 1039.26,583.516 1045.11,354.826 1050.96,622.032 1056.82,527.791 1062.67,570.583 1068.52,789.549 1074.37,503.415 1080.22,576.174 1086.07,810.467 1091.92,677.603 1097.78,641.152 1103.63,547.168 1109.48,557.384 1115.33,680.568 1121.18,635.418 1127.03,641.316 1132.89,748.932 1138.74,923.872 1144.59,853.723 1150.44,815.17 1156.29,568.667 1162.14,761.678 1167.99,608.153 1173.85,785.033 1179.7,817.581 1185.55,855.482 1191.4,897.982 1197.25,459.926 1203.1,840.636 1208.96,743.694 1214.81,611.47 1220.66,802.18 1226.51,737.266 1232.36,683.966 1238.21,682.37 1244.06,858.359 1249.92,719.576 1255.77,597.463 1261.62,734.861 1267.47,637.009 1273.32,793.789 1279.17,765.842 1285.03,837.291 1290.88,892.341 1296.73,821.82 1302.58,745.516 1308.43,699.928 1314.28,803.476 1320.13,944.188 1325.99,924.301 1331.84,744.657 1337.69,1039.39 1343.54,856.25 1349.39,1030.97 1355.24,979.938 1361.1,947.411 1366.95,891.557 1372.8,820.345 1378.65,799.798 1384.5,1045.41 1390.35,699.751 1396.2,1020.54 1402.06,1131.83 1407.91,735.207 1413.76,719.586 1419.61,629.427 1425.46,1051.46 1431.31,649.944 1437.17,1175.62 1443.02,963.594 1448.87,1015.47 1454.72,871.635 1460.57,849.012 1466.42,823.452 1472.27,1019.12 1478.13,896.685 1483.98,717.708 1489.83,1014.59 1495.68,804.08 1501.53,1072.99 1507.38,982.788 1513.24,748.559 1519.09,939.663 1524.94,916.047 1530.79,1010.49 1536.64,1275.18 1542.49,1111.05 1548.34,1195.15 1554.2,875.886 1560.05,1085.37 1565.9,1027.64 1571.75,985.536 1577.6,985.083 1583.45,1035.21 1589.31,942.198 1595.16,939.651 1601.01,1167.64 1606.86,958.477 1612.71,1099.07 1618.56,998.235 1624.41,1029.79 1630.27,1017.12 1636.12,824.091 1641.97,1289.94 1647.82,796.946 1653.67,646.987 1659.52,891.003 1665.38,982.872 1671.23,1312.52 1677.08,1161.79 1682.93,996.709 1688.78,1164.81 1694.63,976.648 1700.48,779.554 1706.34,853.147 1712.19,879.556 1718.04,801.027 1723.89,992.873 1729.74,1094.24 1735.59,1011.98 1741.45,874.204 1747.3,1013.64 1753.15,1003.86 1759,989.437 1764.85,1203.6 1770.7,944.622 1776.55,1008.54 1782.41,1093.6 1788.26,1038.45 1794.11,1211.2 1799.96,1003.83 1805.81,1110.27 1811.66,966.371 1817.52,1076.04 1823.37,1114.23 1829.22,833.32 1835.07,986.26 1840.92,1036.25 1846.77,1037.7 1852.62,1023.52 1858.48,1205.56 1864.33,899.889 1870.18,917.547 1876.03,1107.5 1881.88,986.831 1887.73,1083.56 1893.59,1096.87 1899.44,1049.45 1905.29,1214.44 1911.14,1057.66 1916.99,1224.88 1922.84,1092.82 1928.69,1163.59 1934.55,1161.7 1940.4,993.344 1946.25,874.848 1952.1,904.908 1957.95,918.135 1963.8,1324.65 1969.66,941.201 1975.51,1036.69 1981.36,786.047 1987.21,1121.91 1993.06,1070.25 1998.91,1067.02 2004.76,1297.24 2010.62,1087.55 2016.47,1043.05 2022.32,1041.06 2028.17,1150.88 2034.02,1094.83 2039.87,1066.31 2045.73,1170.89 2051.58,1257.8 2057.43,1114.6 2063.28,1347.89 2069.13,1080.67 2074.98,1178.63 2080.83,886.047 2086.69,1034.44 2092.54,1367.45 2098.39,972.224 2104.24,935.144 2110.09,1168.15 2115.94,1309.85 2121.8,1025.92 2127.65,1078.19 2133.5,1079.47 2139.35,1260.08 2145.2,1156.95 2151.05,1154.24 2156.9,1281.12 2162.76,1035.69 2168.61,911.42 2174.46,1125.41 2180.31,1080.12 2186.16,834.012 2192.01,1092.32 2197.87,1339.74 2203.72,1117.44 2209.57,998.759 2215.42,843.894 2221.27,1313.63 2227.12,1078.5 2232.97,1089.85 2238.83,1038.46 2244.68,1065.94 2250.53,1165.11 2256.38,1015.34 2262.23,1287.36 2268.08,879.067 2273.94,1171.31 2279.79,1085.32 2285.64,1167.13 2291.49,890.513 \"/>\n",
       "<path clip-path=\"url(#clip870)\" d=\"M1969.94 222.133 L2280.6 222.133 L2280.6 92.5326 L1969.94 92.5326  Z\" fill=\"#ffffff\" fill-rule=\"evenodd\" fill-opacity=\"1\"/>\n",
       "<polyline clip-path=\"url(#clip870)\" style=\"stroke:#000000; stroke-linecap:round; stroke-linejoin:round; stroke-width:4; stroke-opacity:1; fill:none\" points=\"1969.94,222.133 2280.6,222.133 2280.6,92.5326 1969.94,92.5326 1969.94,222.133 \"/>\n",
       "<polyline clip-path=\"url(#clip870)\" style=\"stroke:#0000ff; stroke-linecap:round; stroke-linejoin:round; stroke-width:5; stroke-opacity:1; fill:none\" points=\"1994,157.333 2138.31,157.333 \"/>\n",
       "<path clip-path=\"url(#clip870)\" d=\"M2185.39 147.48 L2185.39 152.515 Q2183.14 151.358 2180.71 150.779 Q2178.28 150.2 2175.67 150.2 Q2171.71 150.2 2169.71 151.415 Q2167.74 152.631 2167.74 155.061 Q2167.74 156.913 2169.16 157.984 Q2170.58 159.025 2174.86 159.98 L2176.69 160.385 Q2182.36 161.601 2184.73 163.829 Q2187.13 166.028 2187.13 169.992 Q2187.13 174.506 2183.54 177.139 Q2179.98 179.772 2173.73 179.772 Q2171.13 179.772 2168.29 179.251 Q2165.49 178.759 2162.36 177.746 L2162.36 172.249 Q2165.31 173.782 2168.18 174.563 Q2171.04 175.316 2173.85 175.316 Q2177.61 175.316 2179.64 174.043 Q2181.66 172.741 2181.66 170.397 Q2181.66 168.227 2180.19 167.069 Q2178.74 165.912 2173.79 164.841 L2171.94 164.407 Q2166.99 163.366 2164.79 161.224 Q2162.59 159.054 2162.59 155.293 Q2162.59 150.721 2165.83 148.233 Q2169.08 145.744 2175.04 145.744 Q2177.99 145.744 2180.59 146.178 Q2183.2 146.612 2185.39 147.48 Z\" fill=\"#000000\" fill-rule=\"nonzero\" fill-opacity=\"1\" /><path clip-path=\"url(#clip870)\" d=\"M2200.76 174.072 L2200.76 191.259 L2195.41 191.259 L2195.41 146.525 L2200.76 146.525 L2200.76 151.444 Q2202.44 148.551 2204.98 147.162 Q2207.56 145.744 2211.12 145.744 Q2217.02 145.744 2220.7 150.432 Q2224.4 155.119 2224.4 162.758 Q2224.4 170.397 2220.7 175.084 Q2217.02 179.772 2211.12 179.772 Q2207.56 179.772 2204.98 178.383 Q2202.44 176.965 2200.76 174.072 M2218.87 162.758 Q2218.87 156.884 2216.44 153.557 Q2214.04 150.2 2209.82 150.2 Q2205.59 150.2 2203.16 153.557 Q2200.76 156.884 2200.76 162.758 Q2200.76 168.632 2203.16 171.988 Q2205.59 175.316 2209.82 175.316 Q2214.04 175.316 2216.44 171.988 Q2218.87 168.632 2218.87 162.758 Z\" fill=\"#000000\" fill-rule=\"nonzero\" fill-opacity=\"1\" /><path clip-path=\"url(#clip870)\" d=\"M2256.55 147.77 L2256.55 152.746 Q2254.29 151.502 2252 150.895 Q2249.75 150.258 2247.43 150.258 Q2242.25 150.258 2239.39 153.557 Q2236.52 156.826 2236.52 162.758 Q2236.52 168.69 2239.39 171.988 Q2242.25 175.258 2247.43 175.258 Q2249.75 175.258 2252 174.65 Q2254.29 174.014 2256.55 172.769 L2256.55 177.688 Q2254.32 178.73 2251.92 179.251 Q2249.54 179.772 2246.85 179.772 Q2239.53 179.772 2235.22 175.171 Q2230.91 170.57 2230.91 162.758 Q2230.91 154.83 2235.25 150.287 Q2239.62 145.744 2247.2 145.744 Q2249.66 145.744 2252 146.265 Q2254.35 146.757 2256.55 147.77 Z\" fill=\"#000000\" fill-rule=\"nonzero\" fill-opacity=\"1\" /></svg>\n"
      ],
      "text/html": [
       "<?xml version=\"1.0\" encoding=\"utf-8\"?>\n",
       "<svg xmlns=\"http://www.w3.org/2000/svg\" xmlns:xlink=\"http://www.w3.org/1999/xlink\" width=\"600\" height=\"400\" viewBox=\"0 0 2400 1600\">\n",
       "<defs>\n",
       "  <clipPath id=\"clip920\">\n",
       "    <rect x=\"0\" y=\"0\" width=\"2400\" height=\"1600\"/>\n",
       "  </clipPath>\n",
       "</defs>\n",
       "<path clip-path=\"url(#clip920)\" d=\"M0 1600 L2400 1600 L2400 0 L0 0  Z\" fill=\"#ffffff\" fill-rule=\"evenodd\" fill-opacity=\"1\"/>\n",
       "<defs>\n",
       "  <clipPath id=\"clip921\">\n",
       "    <rect x=\"480\" y=\"0\" width=\"1681\" height=\"1600\"/>\n",
       "  </clipPath>\n",
       "</defs>\n",
       "<defs>\n",
       "  <clipPath id=\"clip922\">\n",
       "    <rect x=\"188\" y=\"47\" width=\"2166\" height=\"1360\"/>\n",
       "  </clipPath>\n",
       "</defs>\n",
       "<path clip-path=\"url(#clip920)\" d=\"M188.038 1405.9 L2352.76 1405.9 L2352.76 47.2441 L188.038 47.2441  Z\" fill=\"#ffffff\" fill-rule=\"evenodd\" fill-opacity=\"1\"/>\n",
       "<polyline clip-path=\"url(#clip922)\" style=\"stroke:#000000; stroke-linecap:round; stroke-linejoin:round; stroke-width:2; stroke-opacity:0.1; fill:none\" points=\"243.452,1405.9 243.452,47.2441 \"/>\n",
       "<polyline clip-path=\"url(#clip922)\" style=\"stroke:#000000; stroke-linecap:round; stroke-linejoin:round; stroke-width:2; stroke-opacity:0.1; fill:none\" points=\"828.606,1405.9 828.606,47.2441 \"/>\n",
       "<polyline clip-path=\"url(#clip922)\" style=\"stroke:#000000; stroke-linecap:round; stroke-linejoin:round; stroke-width:2; stroke-opacity:0.1; fill:none\" points=\"1413.76,1405.9 1413.76,47.2441 \"/>\n",
       "<polyline clip-path=\"url(#clip922)\" style=\"stroke:#000000; stroke-linecap:round; stroke-linejoin:round; stroke-width:2; stroke-opacity:0.1; fill:none\" points=\"1998.91,1405.9 1998.91,47.2441 \"/>\n",
       "<polyline clip-path=\"url(#clip920)\" style=\"stroke:#000000; stroke-linecap:round; stroke-linejoin:round; stroke-width:4; stroke-opacity:1; fill:none\" points=\"188.038,1405.9 2352.76,1405.9 \"/>\n",
       "<polyline clip-path=\"url(#clip920)\" style=\"stroke:#000000; stroke-linecap:round; stroke-linejoin:round; stroke-width:4; stroke-opacity:1; fill:none\" points=\"243.452,1405.9 243.452,1387 \"/>\n",
       "<polyline clip-path=\"url(#clip920)\" style=\"stroke:#000000; stroke-linecap:round; stroke-linejoin:round; stroke-width:4; stroke-opacity:1; fill:none\" points=\"828.606,1405.9 828.606,1387 \"/>\n",
       "<polyline clip-path=\"url(#clip920)\" style=\"stroke:#000000; stroke-linecap:round; stroke-linejoin:round; stroke-width:4; stroke-opacity:1; fill:none\" points=\"1413.76,1405.9 1413.76,1387 \"/>\n",
       "<polyline clip-path=\"url(#clip920)\" style=\"stroke:#000000; stroke-linecap:round; stroke-linejoin:round; stroke-width:4; stroke-opacity:1; fill:none\" points=\"1998.91,1405.9 1998.91,1387 \"/>\n",
       "<path clip-path=\"url(#clip920)\" d=\"M243.452 1442.68 Q238.035 1442.68 235.292 1448.03 Q232.584 1453.34 232.584 1464.03 Q232.584 1474.69 235.292 1480.04 Q238.035 1485.35 243.452 1485.35 Q248.903 1485.35 251.611 1480.04 Q254.355 1474.69 254.355 1464.03 Q254.355 1453.34 251.611 1448.03 Q248.903 1442.68 243.452 1442.68 M243.452 1437.12 Q252.167 1437.12 256.75 1444.03 Q261.368 1450.91 261.368 1464.03 Q261.368 1477.12 256.75 1484.03 Q252.167 1490.91 243.452 1490.91 Q234.737 1490.91 230.119 1484.03 Q225.535 1477.12 225.535 1464.03 Q225.535 1450.91 230.119 1444.03 Q234.737 1437.12 243.452 1437.12 Z\" fill=\"#000000\" fill-rule=\"nonzero\" fill-opacity=\"1\" /><path clip-path=\"url(#clip920)\" d=\"M796.766 1484 L821.245 1484 L821.245 1489.9 L788.328 1489.9 L788.328 1484 Q792.321 1479.87 799.196 1472.92 Q806.106 1465.94 807.877 1463.93 Q811.245 1460.14 812.564 1457.54 Q813.918 1454.9 813.918 1452.37 Q813.918 1448.23 811.002 1445.63 Q808.12 1443.03 803.467 1443.03 Q800.168 1443.03 796.488 1444.17 Q792.842 1445.32 788.675 1447.64 L788.675 1440.56 Q792.911 1438.86 796.592 1437.99 Q800.272 1437.12 803.328 1437.12 Q811.384 1437.12 816.175 1441.15 Q820.967 1445.18 820.967 1451.91 Q820.967 1455.11 819.752 1457.99 Q818.571 1460.84 815.411 1464.73 Q814.543 1465.73 809.89 1470.56 Q805.238 1475.35 796.766 1484 Z\" fill=\"#000000\" fill-rule=\"nonzero\" fill-opacity=\"1\" /><path clip-path=\"url(#clip920)\" d=\"M850.967 1442.68 Q845.55 1442.68 842.807 1448.03 Q840.099 1453.34 840.099 1464.03 Q840.099 1474.69 842.807 1480.04 Q845.55 1485.35 850.967 1485.35 Q856.418 1485.35 859.126 1480.04 Q861.869 1474.69 861.869 1464.03 Q861.869 1453.34 859.126 1448.03 Q856.418 1442.68 850.967 1442.68 M850.967 1437.12 Q859.682 1437.12 864.265 1444.03 Q868.883 1450.91 868.883 1464.03 Q868.883 1477.12 864.265 1484.03 Q859.682 1490.91 850.967 1490.91 Q842.251 1490.91 837.633 1484.03 Q833.05 1477.12 833.05 1464.03 Q833.05 1450.91 837.633 1444.03 Q842.251 1437.12 850.967 1437.12 Z\" fill=\"#000000\" fill-rule=\"nonzero\" fill-opacity=\"1\" /><path clip-path=\"url(#clip920)\" d=\"M1396.02 1444.17 L1378.31 1471.84 L1396.02 1471.84 L1396.02 1444.17 M1394.18 1438.06 L1403 1438.06 L1403 1471.84 L1410.39 1471.84 L1410.39 1477.68 L1403 1477.68 L1403 1489.9 L1396.02 1489.9 L1396.02 1477.68 L1372.61 1477.68 L1372.61 1470.91 L1394.18 1438.06 Z\" fill=\"#000000\" fill-rule=\"nonzero\" fill-opacity=\"1\" /><path clip-path=\"url(#clip920)\" d=\"M1436.99 1442.68 Q1431.57 1442.68 1428.83 1448.03 Q1426.12 1453.34 1426.12 1464.03 Q1426.12 1474.69 1428.83 1480.04 Q1431.57 1485.35 1436.99 1485.35 Q1442.44 1485.35 1445.15 1480.04 Q1447.89 1474.69 1447.89 1464.03 Q1447.89 1453.34 1445.15 1448.03 Q1442.44 1442.68 1436.99 1442.68 M1436.99 1437.12 Q1445.7 1437.12 1450.29 1444.03 Q1454.91 1450.91 1454.91 1464.03 Q1454.91 1477.12 1450.29 1484.03 Q1445.7 1490.91 1436.99 1490.91 Q1428.27 1490.91 1423.66 1484.03 Q1419.07 1477.12 1419.07 1464.03 Q1419.07 1450.91 1423.66 1444.03 Q1428.27 1437.12 1436.99 1437.12 Z\" fill=\"#000000\" fill-rule=\"nonzero\" fill-opacity=\"1\" /><path clip-path=\"url(#clip920)\" d=\"M1977.02 1461.18 Q1972.3 1461.18 1969.52 1464.41 Q1966.78 1467.64 1966.78 1473.27 Q1966.78 1478.86 1969.52 1482.12 Q1972.3 1485.35 1977.02 1485.35 Q1981.74 1485.35 1984.49 1482.12 Q1987.26 1478.86 1987.26 1473.27 Q1987.26 1467.64 1984.49 1464.41 Q1981.74 1461.18 1977.02 1461.18 M1990.94 1439.21 L1990.94 1445.59 Q1988.31 1444.34 1985.6 1443.68 Q1982.92 1443.03 1980.28 1443.03 Q1973.34 1443.03 1969.66 1447.71 Q1966.01 1452.4 1965.49 1461.88 Q1967.54 1458.86 1970.63 1457.26 Q1973.72 1455.63 1977.44 1455.63 Q1985.25 1455.63 1989.76 1460.39 Q1994.31 1465.11 1994.31 1473.27 Q1994.31 1481.25 1989.59 1486.08 Q1984.87 1490.91 1977.02 1490.91 Q1968.03 1490.91 1963.27 1484.03 Q1958.51 1477.12 1958.51 1464.03 Q1958.51 1451.74 1964.35 1444.45 Q1970.18 1437.12 1980.01 1437.12 Q1982.65 1437.12 1985.32 1437.64 Q1988.03 1438.16 1990.94 1439.21 Z\" fill=\"#000000\" fill-rule=\"nonzero\" fill-opacity=\"1\" /><path clip-path=\"url(#clip920)\" d=\"M2021.4 1442.68 Q2015.98 1442.68 2013.24 1448.03 Q2010.53 1453.34 2010.53 1464.03 Q2010.53 1474.69 2013.24 1480.04 Q2015.98 1485.35 2021.4 1485.35 Q2026.85 1485.35 2029.56 1480.04 Q2032.3 1474.69 2032.3 1464.03 Q2032.3 1453.34 2029.56 1448.03 Q2026.85 1442.68 2021.4 1442.68 M2021.4 1437.12 Q2030.11 1437.12 2034.69 1444.03 Q2039.31 1450.91 2039.31 1464.03 Q2039.31 1477.12 2034.69 1484.03 Q2030.11 1490.91 2021.4 1490.91 Q2012.68 1490.91 2008.06 1484.03 Q2003.48 1477.12 2003.48 1464.03 Q2003.48 1450.91 2008.06 1444.03 Q2012.68 1437.12 2021.4 1437.12 Z\" fill=\"#000000\" fill-rule=\"nonzero\" fill-opacity=\"1\" /><path clip-path=\"url(#clip920)\" d=\"M1234.82 1520.58 Q1234.82 1521.19 1234.69 1521.71 L1232.89 1533.17 Q1232.79 1534.04 1232.6 1534.36 Q1232.44 1534.69 1231.92 1534.69 Q1231.12 1534.69 1231.12 1533.85 Q1231.12 1533.36 1231.31 1532.59 Q1231.86 1528.95 1231.86 1527.31 Q1231.86 1526.22 1231.63 1525.41 Q1231.44 1524.57 1231.12 1523.99 Q1230.83 1523.41 1230.15 1523.03 Q1229.47 1522.64 1228.83 1522.41 Q1228.19 1522.19 1227.03 1522.09 Q1225.87 1521.96 1224.87 1521.93 Q1223.87 1521.9 1222.23 1521.9 Q1218.65 1521.9 1218.07 1522.03 Q1217.46 1522.19 1217.14 1522.67 Q1216.85 1523.12 1216.53 1524.48 L1207.77 1559.48 L1207.51 1560.87 Q1207.51 1561.64 1207.99 1561.9 Q1208.48 1562.16 1209.96 1562.32 Q1212.08 1562.48 1214.18 1562.48 Q1214.24 1562.48 1214.37 1562.48 Q1215.08 1562.48 1215.37 1562.51 Q1215.66 1562.51 1215.95 1562.58 Q1216.24 1562.64 1216.3 1562.8 Q1216.4 1562.93 1216.4 1563.19 Q1216.4 1563.8 1216.14 1564.12 Q1215.88 1564.41 1215.63 1564.48 Q1215.4 1564.51 1214.95 1564.51 Q1214.05 1564.51 1212.12 1564.44 Q1210.18 1564.38 1209.22 1564.38 L1203.74 1564.31 L1198.14 1564.38 Q1197.27 1564.38 1195.43 1564.44 Q1193.6 1564.51 1192.73 1564.51 Q1191.6 1564.51 1191.6 1563.7 Q1191.6 1562.8 1192.02 1562.64 Q1192.47 1562.48 1194.37 1562.48 Q1197.04 1562.48 1198.49 1562.35 Q1199.94 1562.22 1200.72 1561.77 Q1201.52 1561.32 1201.75 1560.87 Q1201.97 1560.39 1202.23 1559.29 L1211.09 1524.09 Q1211.34 1523.32 1211.34 1522.7 Q1211.34 1522.38 1211.25 1522.25 Q1211.18 1522.12 1210.76 1522.03 Q1210.34 1521.9 1209.48 1521.9 L1206.9 1521.9 Q1204.26 1521.9 1202.62 1522.03 Q1201 1522.12 1199.46 1522.61 Q1197.95 1523.09 1197.04 1523.77 Q1196.17 1524.44 1195.21 1525.83 Q1194.24 1527.21 1193.53 1528.89 Q1192.86 1530.56 1191.89 1533.3 Q1191.57 1534.2 1191.38 1534.46 Q1191.21 1534.69 1190.76 1534.69 Q1190.44 1534.69 1190.18 1534.49 Q1189.96 1534.27 1189.96 1533.98 Q1190.28 1532.91 1190.34 1532.79 L1194.31 1521.16 Q1194.63 1520.22 1194.92 1520.06 Q1195.24 1519.87 1196.43 1519.87 L1233.02 1519.87 Q1233.6 1519.87 1233.79 1519.87 Q1233.98 1519.87 1234.31 1519.93 Q1234.63 1520 1234.72 1520.16 Q1234.82 1520.32 1234.82 1520.58 Z\" fill=\"#000000\" fill-rule=\"nonzero\" fill-opacity=\"1\" /><path clip-path=\"url(#clip920)\" d=\"M1241.84 1548.02 Q1241.84 1536.88 1245.99 1527.89 Q1247.76 1524.12 1250.24 1520.97 Q1252.72 1517.81 1254.36 1516.42 Q1256.01 1515.04 1256.46 1515.04 Q1257.1 1515.04 1257.13 1515.68 Q1257.13 1516.01 1256.27 1516.81 Q1245.64 1527.63 1245.67 1548.02 Q1245.67 1568.47 1256.01 1578.87 Q1257.13 1580 1257.13 1580.35 Q1257.13 1581 1256.46 1581 Q1256.01 1581 1254.43 1579.68 Q1252.85 1578.36 1250.4 1575.33 Q1247.96 1572.3 1246.18 1568.6 Q1241.84 1559.61 1241.84 1548.02 Z\" fill=\"#000000\" fill-rule=\"nonzero\" fill-opacity=\"1\" /><path clip-path=\"url(#clip920)\" d=\"M1319.34 1520.19 Q1319.34 1520.61 1319.24 1520.9 Q1319.15 1521.16 1318.92 1521.29 Q1318.7 1521.42 1318.57 1521.45 Q1318.44 1521.48 1318.15 1521.51 Q1316.76 1521.64 1315.8 1521.87 Q1314.86 1522.09 1312.54 1523.25 Q1310.26 1524.41 1307.39 1526.5 L1295.86 1535.43 L1293.93 1536.94 Q1293.93 1537.04 1293.99 1537.23 Q1294.06 1537.39 1294.12 1537.62 Q1294.22 1537.81 1294.25 1537.87 L1303.62 1559.48 Q1304.36 1561.22 1305.27 1561.83 Q1306.17 1562.45 1308.2 1562.48 Q1308.52 1562.48 1308.65 1562.51 Q1308.81 1562.51 1309.03 1562.58 Q1309.29 1562.61 1309.39 1562.77 Q1309.52 1562.93 1309.52 1563.19 Q1309.52 1564.51 1308.32 1564.51 Q1307.58 1564.51 1305.07 1564.41 Q1302.56 1564.31 1301.85 1564.31 Q1300.53 1564.31 1297.83 1564.41 Q1295.12 1564.51 1293.8 1564.51 Q1292.87 1564.51 1292.87 1563.77 Q1292.87 1563.16 1293.09 1562.87 Q1293.35 1562.54 1293.57 1562.51 Q1293.8 1562.48 1294.32 1562.48 Q1294.7 1562.48 1295.12 1562.45 Q1295.57 1562.38 1296.22 1562.22 Q1296.89 1562.03 1297.31 1561.58 Q1297.76 1561.09 1297.76 1560.42 Q1297.76 1559.87 1296.96 1558.1 L1289.32 1540.35 L1279.5 1548.02 L1276.86 1558.39 Q1276.8 1558.78 1276.63 1559.45 Q1276.47 1560.13 1276.34 1560.61 Q1276.25 1561.09 1276.25 1561.29 Q1276.25 1561.71 1276.51 1561.96 Q1276.8 1562.22 1277.5 1562.35 Q1278.21 1562.45 1278.76 1562.48 Q1279.34 1562.48 1280.53 1562.48 Q1282.01 1562.48 1282.27 1562.74 Q1282.4 1562.9 1282.4 1563.19 Q1282.4 1563.64 1282.27 1563.96 Q1282.14 1564.25 1281.88 1564.35 Q1281.66 1564.44 1281.5 1564.48 Q1281.34 1564.51 1281.08 1564.51 Q1280.4 1564.51 1278.95 1564.44 Q1277.54 1564.38 1276.8 1564.38 L1272.58 1564.31 L1264.2 1564.51 Q1263.2 1564.51 1263.2 1563.7 Q1263.2 1563.09 1263.46 1562.83 Q1263.72 1562.54 1264.01 1562.51 Q1264.3 1562.48 1265.04 1562.48 Q1266.65 1562.48 1267.62 1562.38 Q1268.58 1562.29 1269.19 1562.16 Q1269.84 1562 1270.16 1561.54 Q1270.52 1561.09 1270.68 1560.71 Q1270.84 1560.29 1271.06 1559.35 L1279.89 1523.93 Q1280.14 1522.87 1280.14 1522.7 Q1280.14 1522.16 1279.82 1521.96 Q1279.53 1521.74 1278.7 1521.64 Q1277.09 1521.51 1275.86 1521.51 Q1275.06 1521.51 1274.73 1521.48 Q1274.44 1521.45 1274.19 1521.29 Q1273.96 1521.09 1273.96 1520.71 Q1273.96 1519.45 1275.28 1519.45 L1283.78 1519.65 L1292.22 1519.45 Q1293.16 1519.45 1293.16 1520.19 Q1293.16 1521.13 1292.7 1521.32 Q1292.29 1521.51 1290.9 1521.51 Q1288.49 1521.51 1287.39 1521.84 Q1286.33 1522.12 1286.01 1522.64 Q1285.72 1523.12 1285.36 1524.54 L1280.08 1545.7 L1305.81 1525.93 Q1308.2 1523.93 1308.2 1522.9 Q1308.2 1522.22 1307.71 1521.93 Q1307.26 1521.61 1306.13 1521.51 Q1305.33 1521.38 1305.33 1520.77 Q1305.33 1520.16 1305.56 1519.87 Q1305.81 1519.55 1306.01 1519.52 Q1306.23 1519.45 1306.59 1519.45 Q1307.78 1519.45 1310.26 1519.55 Q1312.74 1519.65 1313.93 1519.65 Q1314.73 1519.65 1316.31 1519.55 Q1317.89 1519.45 1318.6 1519.45 Q1318.95 1519.45 1319.15 1519.71 Q1319.34 1519.93 1319.34 1520.19 Z\" fill=\"#000000\" fill-rule=\"nonzero\" fill-opacity=\"1\" /><path clip-path=\"url(#clip920)\" d=\"M1325.51 1580.35 Q1325.51 1580.03 1326.35 1579.23 Q1336.97 1568.4 1336.97 1548.02 Q1336.97 1527.57 1326.76 1517.23 Q1325.51 1516.04 1325.51 1515.68 Q1325.51 1515.04 1326.15 1515.04 Q1326.6 1515.04 1328.18 1516.36 Q1329.79 1517.68 1332.21 1520.71 Q1334.65 1523.74 1336.46 1527.44 Q1340.81 1536.42 1340.81 1548.02 Q1340.81 1559.16 1336.65 1568.15 Q1334.88 1571.92 1332.4 1575.07 Q1329.92 1578.23 1328.28 1579.61 Q1326.64 1581 1326.15 1581 Q1325.51 1581 1325.51 1580.35 Z\" fill=\"#000000\" fill-rule=\"nonzero\" fill-opacity=\"1\" /><polyline clip-path=\"url(#clip922)\" style=\"stroke:#000000; stroke-linecap:round; stroke-linejoin:round; stroke-width:2; stroke-opacity:0.1; fill:none\" points=\"188.038,1190.39 2352.76,1190.39 \"/>\n",
       "<polyline clip-path=\"url(#clip922)\" style=\"stroke:#000000; stroke-linecap:round; stroke-linejoin:round; stroke-width:2; stroke-opacity:0.1; fill:none\" points=\"188.038,930.409 2352.76,930.409 \"/>\n",
       "<polyline clip-path=\"url(#clip922)\" style=\"stroke:#000000; stroke-linecap:round; stroke-linejoin:round; stroke-width:2; stroke-opacity:0.1; fill:none\" points=\"188.038,670.427 2352.76,670.427 \"/>\n",
       "<polyline clip-path=\"url(#clip922)\" style=\"stroke:#000000; stroke-linecap:round; stroke-linejoin:round; stroke-width:2; stroke-opacity:0.1; fill:none\" points=\"188.038,410.444 2352.76,410.444 \"/>\n",
       "<polyline clip-path=\"url(#clip922)\" style=\"stroke:#000000; stroke-linecap:round; stroke-linejoin:round; stroke-width:2; stroke-opacity:0.1; fill:none\" points=\"188.038,150.462 2352.76,150.462 \"/>\n",
       "<polyline clip-path=\"url(#clip920)\" style=\"stroke:#000000; stroke-linecap:round; stroke-linejoin:round; stroke-width:4; stroke-opacity:1; fill:none\" points=\"188.038,1405.9 188.038,47.2441 \"/>\n",
       "<polyline clip-path=\"url(#clip920)\" style=\"stroke:#000000; stroke-linecap:round; stroke-linejoin:round; stroke-width:4; stroke-opacity:1; fill:none\" points=\"188.038,1190.39 206.935,1190.39 \"/>\n",
       "<polyline clip-path=\"url(#clip920)\" style=\"stroke:#000000; stroke-linecap:round; stroke-linejoin:round; stroke-width:4; stroke-opacity:1; fill:none\" points=\"188.038,930.409 206.935,930.409 \"/>\n",
       "<polyline clip-path=\"url(#clip920)\" style=\"stroke:#000000; stroke-linecap:round; stroke-linejoin:round; stroke-width:4; stroke-opacity:1; fill:none\" points=\"188.038,670.427 206.935,670.427 \"/>\n",
       "<polyline clip-path=\"url(#clip920)\" style=\"stroke:#000000; stroke-linecap:round; stroke-linejoin:round; stroke-width:4; stroke-opacity:1; fill:none\" points=\"188.038,410.444 206.935,410.444 \"/>\n",
       "<polyline clip-path=\"url(#clip920)\" style=\"stroke:#000000; stroke-linecap:round; stroke-linejoin:round; stroke-width:4; stroke-opacity:1; fill:none\" points=\"188.038,150.462 206.935,150.462 \"/>\n",
       "<path clip-path=\"url(#clip920)\" d=\"M134.121 1169.09 Q128.705 1169.09 125.961 1174.44 Q123.253 1179.75 123.253 1190.44 Q123.253 1201.1 125.961 1206.45 Q128.705 1211.76 134.121 1211.76 Q139.573 1211.76 142.281 1206.45 Q145.024 1201.1 145.024 1190.44 Q145.024 1179.75 142.281 1174.44 Q139.573 1169.09 134.121 1169.09 M134.121 1163.53 Q142.836 1163.53 147.42 1170.44 Q152.038 1177.32 152.038 1190.44 Q152.038 1203.53 147.42 1210.44 Q142.836 1217.32 134.121 1217.32 Q125.406 1217.32 120.788 1210.44 Q116.205 1203.53 116.205 1190.44 Q116.205 1177.32 120.788 1170.44 Q125.406 1163.53 134.121 1163.53 Z\" fill=\"#000000\" fill-rule=\"nonzero\" fill-opacity=\"1\" /><path clip-path=\"url(#clip920)\" d=\"M127.559 950.427 L152.038 950.427 L152.038 956.329 L119.121 956.329 L119.121 950.427 Q123.114 946.295 129.989 939.35 Q136.899 932.371 138.67 930.357 Q142.038 926.572 143.357 923.968 Q144.711 921.329 144.711 918.795 Q144.711 914.663 141.795 912.059 Q138.913 909.455 134.26 909.455 Q130.961 909.455 127.281 910.6 Q123.635 911.746 119.468 914.073 L119.468 906.989 Q123.705 905.288 127.385 904.42 Q131.066 903.552 134.121 903.552 Q142.177 903.552 146.968 907.58 Q151.76 911.607 151.76 918.343 Q151.76 921.538 150.545 924.42 Q149.364 927.267 146.204 931.156 Q145.336 932.163 140.684 936.989 Q136.031 941.781 127.559 950.427 Z\" fill=\"#000000\" fill-rule=\"nonzero\" fill-opacity=\"1\" /><path clip-path=\"url(#clip920)\" d=\"M137.663 650.618 L119.955 678.291 L137.663 678.291 L137.663 650.618 M135.823 644.507 L144.642 644.507 L144.642 678.291 L152.038 678.291 L152.038 684.125 L144.642 684.125 L144.642 696.347 L137.663 696.347 L137.663 684.125 L114.26 684.125 L114.26 677.354 L135.823 644.507 Z\" fill=\"#000000\" fill-rule=\"nonzero\" fill-opacity=\"1\" /><path clip-path=\"url(#clip920)\" d=\"M134.746 407.649 Q130.024 407.649 127.246 410.878 Q124.503 414.107 124.503 419.732 Q124.503 425.323 127.246 428.587 Q130.024 431.816 134.746 431.816 Q139.468 431.816 142.211 428.587 Q144.989 425.323 144.989 419.732 Q144.989 414.107 142.211 410.878 Q139.468 407.649 134.746 407.649 M148.67 385.67 L148.67 392.059 Q146.031 390.809 143.323 390.149 Q140.649 389.49 138.01 389.49 Q131.066 389.49 127.385 394.177 Q123.739 398.864 123.218 408.344 Q125.267 405.323 128.357 403.726 Q131.448 402.094 135.163 402.094 Q142.975 402.094 147.489 406.851 Q152.038 411.573 152.038 419.732 Q152.038 427.719 147.316 432.545 Q142.593 437.371 134.746 437.371 Q125.753 437.371 120.996 430.496 Q116.239 423.587 116.239 410.496 Q116.239 398.205 122.073 390.913 Q127.906 383.587 137.732 383.587 Q140.371 383.587 143.045 384.108 Q145.753 384.628 148.67 385.67 Z\" fill=\"#000000\" fill-rule=\"nonzero\" fill-opacity=\"1\" /><path clip-path=\"url(#clip920)\" d=\"M134.26 151.764 Q129.26 151.764 126.378 154.437 Q123.531 157.111 123.531 161.799 Q123.531 166.486 126.378 169.16 Q129.26 171.833 134.26 171.833 Q139.26 171.833 142.142 169.16 Q145.024 166.451 145.024 161.799 Q145.024 157.111 142.142 154.437 Q139.295 151.764 134.26 151.764 M127.246 148.778 Q122.732 147.667 120.198 144.576 Q117.698 141.486 117.698 137.042 Q117.698 130.826 122.107 127.215 Q126.552 123.604 134.26 123.604 Q142.003 123.604 146.413 127.215 Q150.822 130.826 150.822 137.042 Q150.822 141.486 148.288 144.576 Q145.788 147.667 141.309 148.778 Q146.378 149.958 149.191 153.396 Q152.038 156.833 152.038 161.799 Q152.038 169.333 147.42 173.361 Q142.836 177.389 134.26 177.389 Q125.684 177.389 121.066 173.361 Q116.482 169.333 116.482 161.799 Q116.482 156.833 119.33 153.396 Q122.177 149.958 127.246 148.778 M124.677 137.701 Q124.677 141.729 127.177 143.986 Q129.711 146.243 134.26 146.243 Q138.774 146.243 141.309 143.986 Q143.878 141.729 143.878 137.701 Q143.878 133.674 141.309 131.417 Q138.774 129.16 134.26 129.16 Q129.711 129.16 127.177 131.417 Q124.677 133.674 124.677 137.701 Z\" fill=\"#000000\" fill-rule=\"nonzero\" fill-opacity=\"1\" /><path clip-path=\"url(#clip920)\" d=\"M20.2552 901.764 L37.0666 905.919 Q38.1294 906.209 38.2582 906.402 Q38.3871 906.563 38.3871 907.078 Q38.3871 908.077 37.7107 908.077 Q37.6463 908.077 36.809 907.98 Q35.9394 907.884 34.3613 907.884 Q28.5321 907.884 25.086 910.718 Q21.64 913.52 21.64 918.512 Q21.64 922.827 23.83 927.175 Q26.02 931.49 29.5949 934.582 Q32.3001 936.901 35.714 938.608 Q39.1278 940.283 42.2518 941.088 Q45.3757 941.861 47.7268 942.215 Q50.0778 942.569 51.7847 942.569 Q54.2645 942.569 56.3579 942.054 Q58.4513 941.506 59.9328 940.54 Q61.382 939.574 62.5092 938.35 Q63.6042 937.094 64.2484 935.645 Q64.8925 934.164 65.2145 932.682 Q65.5044 931.201 65.5044 929.655 Q65.5044 923.439 60.6735 917.513 Q56.7122 912.811 50.2388 910.847 Q49.5947 910.685 49.5947 910.009 Q49.5947 909.204 50.2388 909.204 Q50.3676 909.204 51.0118 909.365 Q51.6237 909.526 52.8797 910.009 Q54.1035 910.492 55.4884 911.233 Q56.8732 911.974 58.6123 913.359 Q60.3515 914.743 61.8651 916.45 Q64.3772 919.349 65.9553 923.02 Q67.5334 926.692 67.5334 930.718 Q67.5334 935.742 65.3112 939.8 Q63.0889 943.858 58.9344 946.241 Q54.7798 948.592 49.4659 948.592 Q43.8621 948.592 38.3548 946.015 Q32.8476 943.439 28.7575 939.349 Q24.6674 935.259 22.1231 929.848 Q19.5788 924.437 19.5788 919.027 Q19.5788 916.966 20.1263 915.13 Q20.6738 913.294 21.3502 912.199 Q22.0265 911.072 23.0249 910.074 Q23.991 909.075 24.4419 908.753 Q24.8928 908.399 25.4403 908.077 L20.384 903.471 Q19.5788 902.666 19.5788 902.473 Q19.5788 902.087 19.8043 901.925 Q20.0297 901.764 20.2552 901.764 Z\" fill=\"#000000\" fill-rule=\"nonzero\" fill-opacity=\"1\" /><path clip-path=\"url(#clip920)\" d=\"M49.5947 893.972 Q38.4515 893.972 29.466 889.818 Q25.6979 888.047 22.5418 885.567 Q19.3856 883.087 18.0007 881.444 Q16.6159 879.802 16.6159 879.351 Q16.6159 878.707 17.26 878.675 Q17.5821 878.675 18.3872 879.544 Q29.2084 890.172 49.5947 890.14 Q70.0454 890.14 80.4479 879.802 Q81.5751 878.675 81.9294 878.675 Q82.5735 878.675 82.5735 879.351 Q82.5735 879.802 81.2531 881.38 Q79.9326 882.958 76.9053 885.406 Q73.8779 887.853 70.1742 889.625 Q61.1888 893.972 49.5947 893.972 Z\" fill=\"#000000\" fill-rule=\"nonzero\" fill-opacity=\"1\" /><path clip-path=\"url(#clip920)\" d=\"M21.8332 833.952 Q22.4452 833.952 22.735 834.21 Q22.9927 834.467 23.0571 834.757 Q23.0893 835.047 23.0893 835.723 Q23.0893 837.108 23.1859 837.849 Q23.2825 838.59 23.7012 839.041 Q24.0877 839.491 24.4741 839.652 Q24.8606 839.781 25.859 840.007 L56.6478 847.736 Q61.382 848.928 64.4738 853.243 Q67.5334 857.559 67.5334 862.293 Q67.5334 866.158 65.5044 868.606 Q63.4432 871.021 60.3515 871.021 Q58.7734 871.021 57.6462 870.506 Q56.519 869.99 56.0037 869.217 Q55.4884 868.445 55.2951 867.8 Q55.0697 867.124 55.0697 866.577 Q55.0697 865.514 55.746 864.612 Q56.4223 863.678 57.8394 863.678 Q59.4175 863.678 60.7379 864.902 Q62.0584 866.126 62.0584 867.961 Q62.0584 868.573 61.994 868.767 Q63.572 868.283 64.5704 867.027 Q65.5366 865.771 65.8264 864.676 Q66.0841 863.549 66.0841 862.486 Q66.0841 859.717 63.411 856.915 Q60.7379 854.113 56.1969 852.986 L25.9234 845.417 Q24.8928 845.16 24.5385 845.16 Q23.8622 845.16 23.6368 845.578 Q23.3791 845.965 23.2181 847.189 Q23.0893 848.831 23.0893 851.021 Q23.0893 851.794 23.0893 852.116 Q23.0571 852.438 22.9927 852.76 Q22.9282 853.082 22.7994 853.179 Q22.6384 853.276 22.3485 853.276 Q21.7366 853.276 21.4468 853.018 Q21.1247 852.76 21.0925 852.535 Q21.0281 852.309 21.0281 851.891 L21.2213 842.197 Q21.2213 841.359 21.1247 838.525 Q21.0281 835.691 21.0281 834.854 Q21.0281 833.952 21.8332 833.952 Z\" fill=\"#000000\" fill-rule=\"nonzero\" fill-opacity=\"1\" /><path clip-path=\"url(#clip920)\" d=\"M81.6395 834.784 Q81.3175 834.784 80.6089 834.527 L18.3872 811.242 Q18.3228 811.242 17.9685 811.081 Q17.6143 810.92 17.3888 810.823 Q17.1312 810.727 16.938 810.533 Q16.7447 810.308 16.7447 810.05 Q16.7447 809.406 17.5499 809.406 Q17.6143 809.406 18.3872 809.599 L80.6734 832.949 Q81.8006 833.335 82.1226 833.593 Q82.4447 833.818 82.4447 834.205 Q82.4447 834.784 81.6395 834.784 Z\" fill=\"#000000\" fill-rule=\"nonzero\" fill-opacity=\"1\" /><path clip-path=\"url(#clip920)\" d=\"M49.5947 802.12 Q38.4515 802.12 29.466 797.966 Q25.6979 796.194 22.5418 793.714 Q19.3856 791.235 18.0007 789.592 Q16.6159 787.95 16.6159 787.499 Q16.6159 786.855 17.26 786.822 Q17.5821 786.822 18.3872 787.692 Q29.2084 798.32 49.5947 798.288 Q70.0454 798.288 80.4479 787.95 Q81.5751 786.822 81.9294 786.822 Q82.5735 786.822 82.5735 787.499 Q82.5735 787.95 81.2531 789.528 Q79.9326 791.106 76.9053 793.553 Q73.8779 796.001 70.1742 797.772 Q61.1888 802.12 49.5947 802.12 Z\" fill=\"#000000\" fill-rule=\"nonzero\" fill-opacity=\"1\" /><path clip-path=\"url(#clip920)\" d=\"M56.6478 727.767 Q56.9054 727.767 57.9038 728.057 Q58.9022 728.347 60.4481 729.056 Q61.994 729.732 63.411 730.698 Q64.7959 731.632 65.8264 733.178 Q66.8248 734.692 66.8248 736.431 Q66.8248 738.75 65.2789 740.295 Q63.7331 741.841 61.4142 741.841 Q60.1582 741.841 57.775 740.972 Q46.8894 736.882 42.9925 736.882 Q38.3871 736.882 38.3871 740.456 Q38.3871 742.485 39.2244 744.321 Q40.0618 746.157 41.2212 747.349 Q42.3806 748.54 43.701 749.474 Q45.0215 750.408 45.891 750.827 Q46.7606 751.213 47.147 751.31 L63.0567 755.271 Q64.4094 755.593 65.0535 755.819 Q65.6976 756.044 66.2451 756.656 Q66.8248 757.268 66.8248 758.234 Q66.8248 759.039 66.3417 759.619 Q65.8587 760.166 65.0213 760.166 Q64.8925 760.166 64.2162 760.005 Q63.5398 759.844 62.6059 759.619 Q61.6719 759.394 61.1244 759.297 Q56.7444 758.138 56.1325 757.976 L48.4675 756.141 Q44.6672 755.142 42.9925 755.142 Q38.3871 755.142 38.3871 758.717 Q38.3871 760.489 39.0634 762.163 Q39.7075 763.806 40.6093 764.933 Q41.511 766.06 42.7671 767.091 Q43.9909 768.089 44.8282 768.604 Q45.6334 769.087 46.4385 769.474 L49.7235 770.311 Q50.6253 770.505 54.1357 771.439 L60.0938 772.888 Q64.5382 773.918 64.9569 774.144 Q65.8587 774.466 66.3417 775.174 Q66.8248 775.883 66.8248 776.591 Q66.8248 777.397 66.3417 777.944 Q65.8587 778.492 65.0213 778.492 Q64.8925 778.492 64.4094 778.395 Q63.9263 778.298 63.25 778.137 Q62.5737 777.976 62.1872 777.912 L46.9538 774.079 Q44.1841 773.371 43.3146 773.21 Q42.4128 773.017 41.4144 773.017 Q38.3871 773.017 38.3871 775.078 Q38.3871 776.752 40.3838 777.847 Q42.3806 778.942 46.2453 779.876 Q47.3081 780.166 47.5335 780.36 Q47.759 780.521 47.759 781.004 Q47.7268 781.809 47.0826 781.809 Q46.9216 781.809 45.891 781.551 Q44.8604 781.294 43.3146 780.81 Q41.7365 780.295 40.7059 779.748 Q40.0296 779.426 39.5787 779.136 Q39.1278 778.846 38.4193 778.266 Q37.7107 777.686 37.3243 776.817 Q36.9378 775.947 36.9378 774.885 Q36.9378 772.534 38.4515 770.794 Q39.9651 769.023 42.6704 768.798 Q36.9378 764.514 36.9378 758.524 Q36.9378 755.142 38.6447 753.113 Q40.2872 751.213 43.3146 750.988 Q36.9378 746.543 36.9378 740.231 Q36.9378 736.592 38.8379 734.627 Q40.7059 732.663 43.9909 732.663 Q45.6978 732.663 48.9506 733.532 Q52.1712 734.402 53.7815 734.981 Q55.3917 735.561 58.4835 736.688 Q61.4465 737.88 63.1856 737.88 Q64.3128 737.88 64.8281 737.494 Q65.3434 737.107 65.3434 736.27 Q65.3434 734.981 64.6026 733.854 Q63.8297 732.727 62.5737 731.922 Q61.2854 731.085 59.9972 730.537 Q58.6767 729.99 57.1953 729.571 Q56.3901 729.313 56.1969 729.184 Q56.0037 729.023 56.0037 728.573 Q56.0037 727.767 56.6478 727.767 Z\" fill=\"#000000\" fill-rule=\"nonzero\" fill-opacity=\"1\" /><path clip-path=\"url(#clip920)\" d=\"M48.081 695.155 Q51.5915 695.155 55.0697 696.701 Q58.5157 698.247 61.0922 700.726 Q63.6364 703.174 65.2467 706.395 Q66.8248 709.615 66.8248 712.836 Q66.8248 717.441 63.7009 720.436 Q60.5447 723.399 55.6494 723.399 Q51.0762 723.399 46.7284 720.855 Q42.3484 718.279 39.6431 714.156 Q36.9378 710.034 36.9378 705.718 Q36.9378 701.177 39.9973 698.182 Q43.0569 695.155 48.081 695.155 M45.5045 699.986 Q42.3806 699.986 40.3838 701.499 Q38.3871 703.013 38.3871 705.783 Q38.3871 706.588 38.6447 707.522 Q38.8701 708.456 39.4821 709.68 Q40.094 710.871 41.3822 712.224 Q42.6382 713.544 44.4418 714.704 Q46.825 716.217 51.205 717.377 Q55.5528 718.504 58.1615 718.504 Q61.7685 718.504 63.572 716.829 Q65.3434 715.155 65.3434 712.771 Q65.3434 710.453 63.7331 708.005 Q62.0906 705.525 59.2887 703.818 Q56.3901 702.111 52.139 701.048 Q47.8556 699.986 45.5045 699.986 Z\" fill=\"#000000\" fill-rule=\"nonzero\" fill-opacity=\"1\" /><path clip-path=\"url(#clip920)\" d=\"M21.0281 677.618 L59.1598 687.119 Q60.6735 687.505 62.316 687.505 Q65.3434 687.505 65.3434 685.508 Q65.3434 684.574 64.7314 683.801 Q64.0873 683.029 62.8313 682.449 Q61.5431 681.837 60.3192 681.45 Q59.0954 681.032 57.1953 680.516 Q56.4545 680.355 56.2291 680.194 Q56.0037 680.033 56.0037 679.582 Q56.0037 678.777 56.6478 678.777 Q60.6091 679.582 63.1212 680.774 Q66.8248 682.513 66.8248 685.734 Q66.8248 688.149 65.1501 689.953 Q63.4432 691.724 60.7379 691.724 Q59.7073 691.724 58.4835 691.402 L25.5047 683.093 L24.2165 682.867 Q23.8622 682.867 23.669 682.996 Q23.4757 683.125 23.2825 683.898 Q23.0893 684.639 23.0893 686.12 Q23.0893 686.732 23.0571 687.022 Q23.0249 687.28 22.8638 687.537 Q22.7028 687.763 22.3485 687.763 Q21.7688 687.763 21.4468 687.537 Q21.1247 687.28 21.0603 687.086 Q20.9959 686.893 20.9637 686.507 Q20.9315 685.959 20.7704 684.124 Q20.5772 682.288 20.4484 680.71 Q20.3196 679.132 20.3196 678.455 Q20.3196 678.069 20.5128 677.876 Q20.6738 677.65 20.8671 677.618 L21.0281 677.618 Z\" fill=\"#000000\" fill-rule=\"nonzero\" fill-opacity=\"1\" /><path clip-path=\"url(#clip920)\" d=\"M47.147 648.005 Q48.1776 646.975 49.5947 646.975 Q51.0118 646.975 52.0745 648.005 Q53.1051 649.036 53.1051 650.453 Q53.1051 651.87 52.0745 652.933 Q51.0118 653.963 49.5947 653.963 Q48.1776 653.963 47.147 652.933 Q46.0843 651.87 46.0843 650.453 Q46.0843 649.036 47.147 648.005 Z\" fill=\"#000000\" fill-rule=\"nonzero\" fill-opacity=\"1\" /><path clip-path=\"url(#clip920)\" d=\"M21.7688 561.376 Q22.1875 561.376 22.4774 561.472 Q22.735 561.569 22.8638 561.794 Q22.9927 562.02 23.0249 562.149 Q23.0571 562.278 23.0893 562.567 Q23.2181 563.952 23.4435 564.918 Q23.669 565.852 24.8284 568.171 Q25.9878 570.458 28.0812 573.324 L37.0022 584.854 L38.5159 586.786 Q38.6125 586.786 38.8057 586.722 Q38.9668 586.657 39.1922 586.593 Q39.3854 586.496 39.4498 586.464 L61.06 577.092 Q62.7991 576.351 63.411 575.45 Q64.0229 574.548 64.0551 572.519 Q64.0551 572.197 64.0873 572.068 Q64.0873 571.907 64.1517 571.682 Q64.1839 571.424 64.345 571.327 Q64.506 571.199 64.7637 571.199 Q66.0841 571.199 66.0841 572.39 Q66.0841 573.131 65.9875 575.643 Q65.8909 578.155 65.8909 578.864 Q65.8909 580.184 65.9875 582.889 Q66.0841 585.595 66.0841 586.915 Q66.0841 587.849 65.3434 587.849 Q64.7314 587.849 64.4416 587.624 Q64.1195 587.366 64.0873 587.14 Q64.0551 586.915 64.0551 586.4 Q64.0551 586.013 64.0229 585.595 Q63.9585 585.144 63.7975 584.5 Q63.6042 583.823 63.1534 583.405 Q62.6703 582.954 61.994 582.954 Q61.4465 582.954 59.6751 583.759 L41.9297 591.392 L49.5947 601.214 L59.965 603.855 Q60.3515 603.92 61.0278 604.081 Q61.7041 604.242 62.1872 604.371 Q62.6703 604.467 62.8635 604.467 Q63.2822 604.467 63.5398 604.21 Q63.7975 603.92 63.9263 603.211 Q64.0229 602.503 64.0551 601.955 Q64.0551 601.375 64.0551 600.184 Q64.0551 598.702 64.3128 598.445 Q64.4738 598.316 64.7637 598.316 Q65.2145 598.316 65.5366 598.445 Q65.8264 598.574 65.9231 598.831 Q66.0197 599.057 66.0519 599.218 Q66.0841 599.379 66.0841 599.636 Q66.0841 600.313 66.0197 601.762 Q65.9553 603.179 65.9553 603.92 L65.8909 608.139 L66.0841 616.512 Q66.0841 617.511 65.2789 617.511 Q64.667 617.511 64.4094 617.253 Q64.1195 616.995 64.0873 616.705 Q64.0551 616.416 64.0551 615.675 Q64.0551 614.065 63.9585 613.098 Q63.8619 612.132 63.7331 611.52 Q63.572 610.876 63.1212 610.554 Q62.6703 610.2 62.2838 610.039 Q61.8651 609.878 60.9312 609.652 L25.5047 600.828 Q24.4419 600.57 24.2809 600.57 Q23.7334 600.57 23.5402 600.892 Q23.3147 601.182 23.2181 602.02 Q23.0893 603.63 23.0893 604.854 Q23.0893 605.659 23.0571 605.981 Q23.0249 606.271 22.8638 606.528 Q22.6706 606.754 22.2841 606.754 Q21.0281 606.754 21.0281 605.433 L21.2213 596.931 L21.0281 588.493 Q21.0281 587.559 21.7688 587.559 Q22.7028 587.559 22.896 588.01 Q23.0893 588.429 23.0893 589.814 Q23.0893 592.229 23.4113 593.324 Q23.7012 594.387 24.2165 594.709 Q24.6996 594.999 26.1166 595.353 L47.2759 600.635 L27.5015 574.902 Q25.5047 572.519 24.4741 572.519 Q23.7978 572.519 23.5079 573.002 Q23.1859 573.453 23.0893 574.58 Q22.9604 575.385 22.3485 575.385 Q21.7366 575.385 21.4468 575.16 Q21.1247 574.902 21.0925 574.709 Q21.0281 574.484 21.0281 574.129 Q21.0281 572.938 21.1247 570.458 Q21.2213 567.978 21.2213 566.786 Q21.2213 565.981 21.1247 564.403 Q21.0281 562.825 21.0281 562.116 Q21.0281 561.762 21.2857 561.569 Q21.5112 561.376 21.7688 561.376 Z\" fill=\"#000000\" fill-rule=\"nonzero\" fill-opacity=\"1\" /><path clip-path=\"url(#clip920)\" d=\"M81.9294 555.207 Q81.6073 555.207 80.8022 554.37 Q69.981 543.742 49.5947 543.742 Q29.144 543.742 18.8059 553.951 Q17.6143 555.207 17.26 555.207 Q16.6159 555.207 16.6159 554.563 Q16.6159 554.112 17.9363 552.534 Q19.2568 550.924 22.2841 548.508 Q25.3115 546.061 29.0151 544.257 Q38.0006 539.909 49.5947 539.909 Q60.7379 539.909 69.7234 544.064 Q73.4914 545.835 76.6476 548.315 Q79.8038 550.795 81.1886 552.437 Q82.5735 554.08 82.5735 554.563 Q82.5735 555.207 81.9294 555.207 Z\" fill=\"#000000\" fill-rule=\"nonzero\" fill-opacity=\"1\" /><path clip-path=\"url(#clip920)\" d=\"M81.9294 529.88 Q81.6073 529.88 80.8022 529.042 Q69.981 518.414 49.5947 518.414 Q29.144 518.414 18.8059 528.624 Q17.6143 529.88 17.26 529.88 Q16.6159 529.88 16.6159 529.235 Q16.6159 528.785 17.9363 527.206 Q19.2568 525.596 22.2841 523.181 Q25.3115 520.733 29.0151 518.93 Q38.0006 514.582 49.5947 514.582 Q60.7379 514.582 69.7234 518.736 Q73.4914 520.508 76.6476 522.988 Q79.8038 525.467 81.1886 527.11 Q82.5735 528.752 82.5735 529.235 Q82.5735 529.88 81.9294 529.88 Z\" fill=\"#000000\" fill-rule=\"nonzero\" fill-opacity=\"1\" /><polyline clip-path=\"url(#clip922)\" style=\"stroke:#0000ff; stroke-linecap:round; stroke-linejoin:round; stroke-width:4; stroke-opacity:1; fill:none\" points=\"249.303,1123.73 255.155,1104.53 261.006,1249.05 266.858,781.416 272.709,1005.85 278.561,1005.96 284.413,697.72 290.264,669.171 296.116,826.973 301.967,524.191 307.819,815.208 313.67,682.103 319.522,835.033 325.373,787.743 331.225,679.164 337.076,689.681 342.928,828.044 348.779,829.608 354.631,853.957 360.483,691.836 366.334,917.773 372.186,1151.25 378.037,974.868 383.889,910.287 389.74,693.924 395.592,1101.82 401.443,982.858 407.295,1040.13 413.146,901.456 418.998,675.936 424.849,704.168 430.701,1080.45 436.553,885.105 442.404,1015.87 448.256,953.432 454.107,949.275 459.959,852.919 465.81,1081.93 471.662,696.794 477.513,704.855 483.365,963.933 489.216,751.081 495.068,746.738 500.919,626.029 506.771,698.208 512.623,753.242 518.474,588.423 524.326,889.492 530.177,616.003 536.029,682.445 541.88,627.143 547.732,700.478 553.583,481.22 559.435,595.908 565.286,381.839 571.138,520.975 576.99,240.63 582.841,595.761 588.693,492.191 594.544,240.017 600.396,225.908 606.247,522.12 612.099,571.173 617.95,602.952 623.802,483.351 629.653,466.025 635.505,275.981 641.356,257.114 647.208,341.137 653.06,422.326 658.911,351.191 664.763,238.536 670.614,342.35 676.466,494.91 682.317,228.669 688.169,190.844 694.02,481.285 699.872,368.25 705.723,373.722 711.575,553.995 717.426,282.491 723.278,322.175 729.13,214.018 734.981,416.606 740.833,188.822 746.684,106.489 752.536,118.51 758.387,280.488 764.239,294.923 770.09,363.852 775.942,385.016 781.793,599.845 787.645,135.63 793.496,500.174 799.348,320.934 805.2,85.6966 811.051,552.018 816.903,604.437 822.754,591.179 828.606,475.253 834.457,85.8277 840.309,383.67 846.16,401.57 852.012,468.932 857.863,575.834 863.715,402.913 869.566,373.404 875.418,317.96 881.27,267.556 887.121,463.909 892.973,368.3 898.824,575.868 904.676,519.402 910.527,796.869 916.379,452.396 922.23,648.388 928.082,466.945 933.933,416.827 939.785,507.909 945.636,646.13 951.488,672.304 957.34,790.386 963.191,577.88 969.043,595.455 974.894,674.831 980.746,374.223 986.597,585.366 992.449,486.094 998.3,540.593 1004.15,793.316 1010,769.918 1015.85,624.763 1021.71,530.666 1027.56,387.044 1033.41,481.123 1039.26,583.516 1045.11,354.826 1050.96,622.032 1056.82,527.791 1062.67,570.583 1068.52,789.549 1074.37,503.415 1080.22,576.174 1086.07,810.467 1091.92,677.603 1097.78,641.152 1103.63,547.168 1109.48,557.384 1115.33,680.568 1121.18,635.418 1127.03,641.316 1132.89,748.932 1138.74,923.872 1144.59,853.723 1150.44,815.17 1156.29,568.667 1162.14,761.678 1167.99,608.153 1173.85,785.033 1179.7,817.581 1185.55,855.482 1191.4,897.982 1197.25,459.926 1203.1,840.636 1208.96,743.694 1214.81,611.47 1220.66,802.18 1226.51,737.266 1232.36,683.966 1238.21,682.37 1244.06,858.359 1249.92,719.576 1255.77,597.463 1261.62,734.861 1267.47,637.009 1273.32,793.789 1279.17,765.842 1285.03,837.291 1290.88,892.341 1296.73,821.82 1302.58,745.516 1308.43,699.928 1314.28,803.476 1320.13,944.188 1325.99,924.301 1331.84,744.657 1337.69,1039.39 1343.54,856.25 1349.39,1030.97 1355.24,979.938 1361.1,947.411 1366.95,891.557 1372.8,820.345 1378.65,799.798 1384.5,1045.41 1390.35,699.751 1396.2,1020.54 1402.06,1131.83 1407.91,735.207 1413.76,719.586 1419.61,629.427 1425.46,1051.46 1431.31,649.944 1437.17,1175.62 1443.02,963.594 1448.87,1015.47 1454.72,871.635 1460.57,849.012 1466.42,823.452 1472.27,1019.12 1478.13,896.685 1483.98,717.708 1489.83,1014.59 1495.68,804.08 1501.53,1072.99 1507.38,982.788 1513.24,748.559 1519.09,939.663 1524.94,916.047 1530.79,1010.49 1536.64,1275.18 1542.49,1111.05 1548.34,1195.15 1554.2,875.886 1560.05,1085.37 1565.9,1027.64 1571.75,985.536 1577.6,985.083 1583.45,1035.21 1589.31,942.198 1595.16,939.651 1601.01,1167.64 1606.86,958.477 1612.71,1099.07 1618.56,998.235 1624.41,1029.79 1630.27,1017.12 1636.12,824.091 1641.97,1289.94 1647.82,796.946 1653.67,646.987 1659.52,891.003 1665.38,982.872 1671.23,1312.52 1677.08,1161.79 1682.93,996.709 1688.78,1164.81 1694.63,976.648 1700.48,779.554 1706.34,853.147 1712.19,879.556 1718.04,801.027 1723.89,992.873 1729.74,1094.24 1735.59,1011.98 1741.45,874.204 1747.3,1013.64 1753.15,1003.86 1759,989.437 1764.85,1203.6 1770.7,944.622 1776.55,1008.54 1782.41,1093.6 1788.26,1038.45 1794.11,1211.2 1799.96,1003.83 1805.81,1110.27 1811.66,966.371 1817.52,1076.04 1823.37,1114.23 1829.22,833.32 1835.07,986.26 1840.92,1036.25 1846.77,1037.7 1852.62,1023.52 1858.48,1205.56 1864.33,899.889 1870.18,917.547 1876.03,1107.5 1881.88,986.831 1887.73,1083.56 1893.59,1096.87 1899.44,1049.45 1905.29,1214.44 1911.14,1057.66 1916.99,1224.88 1922.84,1092.82 1928.69,1163.59 1934.55,1161.7 1940.4,993.344 1946.25,874.848 1952.1,904.908 1957.95,918.135 1963.8,1324.65 1969.66,941.201 1975.51,1036.69 1981.36,786.047 1987.21,1121.91 1993.06,1070.25 1998.91,1067.02 2004.76,1297.24 2010.62,1087.55 2016.47,1043.05 2022.32,1041.06 2028.17,1150.88 2034.02,1094.83 2039.87,1066.31 2045.73,1170.89 2051.58,1257.8 2057.43,1114.6 2063.28,1347.89 2069.13,1080.67 2074.98,1178.63 2080.83,886.047 2086.69,1034.44 2092.54,1367.45 2098.39,972.224 2104.24,935.144 2110.09,1168.15 2115.94,1309.85 2121.8,1025.92 2127.65,1078.19 2133.5,1079.47 2139.35,1260.08 2145.2,1156.95 2151.05,1154.24 2156.9,1281.12 2162.76,1035.69 2168.61,911.42 2174.46,1125.41 2180.31,1080.12 2186.16,834.012 2192.01,1092.32 2197.87,1339.74 2203.72,1117.44 2209.57,998.759 2215.42,843.894 2221.27,1313.63 2227.12,1078.5 2232.97,1089.85 2238.83,1038.46 2244.68,1065.94 2250.53,1165.11 2256.38,1015.34 2262.23,1287.36 2268.08,879.067 2273.94,1171.31 2279.79,1085.32 2285.64,1167.13 2291.49,890.513 \"/>\n",
       "<path clip-path=\"url(#clip920)\" d=\"M1969.94 222.133 L2280.6 222.133 L2280.6 92.5326 L1969.94 92.5326  Z\" fill=\"#ffffff\" fill-rule=\"evenodd\" fill-opacity=\"1\"/>\n",
       "<polyline clip-path=\"url(#clip920)\" style=\"stroke:#000000; stroke-linecap:round; stroke-linejoin:round; stroke-width:4; stroke-opacity:1; fill:none\" points=\"1969.94,222.133 2280.6,222.133 2280.6,92.5326 1969.94,92.5326 1969.94,222.133 \"/>\n",
       "<polyline clip-path=\"url(#clip920)\" style=\"stroke:#0000ff; stroke-linecap:round; stroke-linejoin:round; stroke-width:5; stroke-opacity:1; fill:none\" points=\"1994,157.333 2138.31,157.333 \"/>\n",
       "<path clip-path=\"url(#clip920)\" d=\"M2185.39 147.48 L2185.39 152.515 Q2183.14 151.358 2180.71 150.779 Q2178.28 150.2 2175.67 150.2 Q2171.71 150.2 2169.71 151.415 Q2167.74 152.631 2167.74 155.061 Q2167.74 156.913 2169.16 157.984 Q2170.58 159.025 2174.86 159.98 L2176.69 160.385 Q2182.36 161.601 2184.73 163.829 Q2187.13 166.028 2187.13 169.992 Q2187.13 174.506 2183.54 177.139 Q2179.98 179.772 2173.73 179.772 Q2171.13 179.772 2168.29 179.251 Q2165.49 178.759 2162.36 177.746 L2162.36 172.249 Q2165.31 173.782 2168.18 174.563 Q2171.04 175.316 2173.85 175.316 Q2177.61 175.316 2179.64 174.043 Q2181.66 172.741 2181.66 170.397 Q2181.66 168.227 2180.19 167.069 Q2178.74 165.912 2173.79 164.841 L2171.94 164.407 Q2166.99 163.366 2164.79 161.224 Q2162.59 159.054 2162.59 155.293 Q2162.59 150.721 2165.83 148.233 Q2169.08 145.744 2175.04 145.744 Q2177.99 145.744 2180.59 146.178 Q2183.2 146.612 2185.39 147.48 Z\" fill=\"#000000\" fill-rule=\"nonzero\" fill-opacity=\"1\" /><path clip-path=\"url(#clip920)\" d=\"M2200.76 174.072 L2200.76 191.259 L2195.41 191.259 L2195.41 146.525 L2200.76 146.525 L2200.76 151.444 Q2202.44 148.551 2204.98 147.162 Q2207.56 145.744 2211.12 145.744 Q2217.02 145.744 2220.7 150.432 Q2224.4 155.119 2224.4 162.758 Q2224.4 170.397 2220.7 175.084 Q2217.02 179.772 2211.12 179.772 Q2207.56 179.772 2204.98 178.383 Q2202.44 176.965 2200.76 174.072 M2218.87 162.758 Q2218.87 156.884 2216.44 153.557 Q2214.04 150.2 2209.82 150.2 Q2205.59 150.2 2203.16 153.557 Q2200.76 156.884 2200.76 162.758 Q2200.76 168.632 2203.16 171.988 Q2205.59 175.316 2209.82 175.316 Q2214.04 175.316 2216.44 171.988 Q2218.87 168.632 2218.87 162.758 Z\" fill=\"#000000\" fill-rule=\"nonzero\" fill-opacity=\"1\" /><path clip-path=\"url(#clip920)\" d=\"M2256.55 147.77 L2256.55 152.746 Q2254.29 151.502 2252 150.895 Q2249.75 150.258 2247.43 150.258 Q2242.25 150.258 2239.39 153.557 Q2236.52 156.826 2236.52 162.758 Q2236.52 168.69 2239.39 171.988 Q2242.25 175.258 2247.43 175.258 Q2249.75 175.258 2252 174.65 Q2254.29 174.014 2256.55 172.769 L2256.55 177.688 Q2254.32 178.73 2251.92 179.251 Q2249.54 179.772 2246.85 179.772 Q2239.53 179.772 2235.22 175.171 Q2230.91 170.57 2230.91 162.758 Q2230.91 154.83 2235.25 150.287 Q2239.62 145.744 2247.2 145.744 Q2249.66 145.744 2252 146.265 Q2254.35 146.757 2256.55 147.77 Z\" fill=\"#000000\" fill-rule=\"nonzero\" fill-opacity=\"1\" /></svg>\n"
      ]
     },
     "execution_count": 19,
     "metadata": {},
     "output_type": "execute_result"
    }
   ],
   "source": [
    "#spc\n",
    "plot(Temp_table_spc,  SpcHeat_Temp_noise ,label=\"spc\",color=\"blue\")\n",
    "plot!(xlabel=L\"T(K)\",ylabel=L\"C(J/(mol \\cdot K))\")\n",
    "plot!(legendfontsize=10,xtickfont=font(12), ytickfont=font(12))\n",
    "plot!(legend=:topright)"
   ]
  },
  {
   "cell_type": "code",
   "execution_count": 20,
   "id": "549fe63b",
   "metadata": {
    "ExecuteTime": {
     "end_time": "2022-01-24T16:35:12.751000+09:00",
     "start_time": "2022-01-24T07:35:12.726Z"
    }
   },
   "outputs": [],
   "source": [
    "#save_path_spc = path * \"data_spc_001.pdf\"\n",
    "#savefig(save_path_spc)"
   ]
  },
  {
   "cell_type": "markdown",
   "id": "7668a645",
   "metadata": {},
   "source": [
    "# データ保存"
   ]
  },
  {
   "cell_type": "code",
   "execution_count": 21,
   "id": "a628a07e",
   "metadata": {
    "ExecuteTime": {
     "end_time": "2022-01-20T18:10:28.047000+09:00",
     "start_time": "2022-01-20T09:10:22.493Z"
    }
   },
   "outputs": [],
   "source": [
    "#=\n",
    "df_chi = DataFrame(\n",
    "    true_data = chi_inv_Temp,\n",
    "    noise_data = chi_inv_Temp_noise\n",
    ")\n",
    "=#"
   ]
  },
  {
   "cell_type": "code",
   "execution_count": 22,
   "id": "78f78868",
   "metadata": {
    "ExecuteTime": {
     "end_time": "2022-01-20T18:11:51.522000+09:00",
     "start_time": "2022-01-20T09:11:50.410Z"
    }
   },
   "outputs": [],
   "source": [
    "#df_chi |> CSV.write(path * \"chi_data.csv\",delim=\",\",writeheader=true)"
   ]
  },
  {
   "cell_type": "markdown",
   "id": "b9277f97",
   "metadata": {},
   "source": [
    "# hyper parameter chi"
   ]
  },
  {
   "cell_type": "code",
   "execution_count": 23,
   "id": "e000d2b8",
   "metadata": {
    "ExecuteTime": {
     "end_time": "2022-01-20T18:12:22.535000+09:00",
     "start_time": "2022-01-20T09:12:22.232Z"
    }
   },
   "outputs": [
    {
     "data": {
      "text/plain": [
       "(70, 1.3)"
      ]
     },
     "execution_count": 23,
     "metadata": {},
     "output_type": "execute_result"
    }
   ],
   "source": [
    "function para_chi()\n",
    "    L = 70\n",
    "    gamma = 1.3\n",
    "    return L, gamma\n",
    "end\n",
    "L_chi, gamma_chi = para_chi()"
   ]
  },
  {
   "cell_type": "code",
   "execution_count": 24,
   "id": "c60cbd32",
   "metadata": {
    "ExecuteTime": {
     "end_time": "2022-01-20T18:12:55.681000+09:00",
     "start_time": "2022-01-20T09:12:55.339Z"
    }
   },
   "outputs": [
    {
     "data": {
      "text/plain": [
       "(0.05, 1.2)"
      ]
     },
     "execution_count": 24,
     "metadata": {},
     "output_type": "execute_result"
    }
   ],
   "source": [
    "#chi_parameter_B40\n",
    "function para_chi_B40()\n",
    "    C = 0.05 #stepsize\n",
    "    d = 1.2\n",
    "    return C, d\n",
    "end\n",
    "C_chi_B40, d_chi_B40 = para_chi_B40()"
   ]
  },
  {
   "cell_type": "code",
   "execution_count": 25,
   "id": "00bde1c2",
   "metadata": {
    "ExecuteTime": {
     "end_time": "2022-01-20T18:13:29.320000+09:00",
     "start_time": "2022-01-20T09:13:29.098Z"
    }
   },
   "outputs": [],
   "source": [
    "#=\n",
    "df_chi_para = DataFrame(\n",
    "    name = [\"L\",\"gamma\",\"d\"],\n",
    "    B40 = [L_chi, gamma_chi, d_chi_B40],\n",
    ")\n",
    "=#"
   ]
  },
  {
   "cell_type": "code",
   "execution_count": 26,
   "id": "063b80b4",
   "metadata": {
    "ExecuteTime": {
     "end_time": "2022-01-20T18:13:45.049000+09:00",
     "start_time": "2022-01-20T09:13:44.915Z"
    }
   },
   "outputs": [],
   "source": [
    "#df_chi_para |> CSV.write(path * \"chi_para.csv\",delim=\",\",writeheader=true)"
   ]
  },
  {
   "cell_type": "markdown",
   "id": "1f3f4f51",
   "metadata": {},
   "source": [
    "# 逆温度リスト"
   ]
  },
  {
   "cell_type": "code",
   "execution_count": 27,
   "id": "6e819a72",
   "metadata": {
    "ExecuteTime": {
     "end_time": "2022-01-20T18:14:23.343000+09:00",
     "start_time": "2022-01-20T09:14:22.032Z"
    }
   },
   "outputs": [
    {
     "data": {
      "text/plain": [
       "70-element Vector{Float64}:\n",
       " 0.0\n",
       " 1.7858790520831557e-8\n",
       " 2.3216427677081022e-8\n",
       " 3.0181355980205335e-8\n",
       " 3.923576277426693e-8\n",
       " 5.100649160654702e-8\n",
       " 6.630843908851112e-8\n",
       " 8.620097081506447e-8\n",
       " 1.120612620595838e-7\n",
       " 1.4567964067745895e-7\n",
       " 1.8938353288069665e-7\n",
       " 2.4619859274490565e-7\n",
       " 3.200581705683773e-7\n",
       " ⋮\n",
       " 0.05579857714338899\n",
       " 0.07253815028640569\n",
       " 0.0942995953723274\n",
       " 0.12258947398402563\n",
       " 0.15936631617923333\n",
       " 0.20717621103300332\n",
       " 0.2693290743429043\n",
       " 0.35012779664577565\n",
       " 0.45516613563950836\n",
       " 0.5917159763313609\n",
       " 0.7692307692307692\n",
       " 1.0"
      ]
     },
     "execution_count": 27,
     "metadata": {},
     "output_type": "execute_result"
    }
   ],
   "source": [
    "function beta_list_chi()\n",
    "    beta_chi = zeros(L_chi)\n",
    "    \n",
    "    for i in 2:L_chi\n",
    "        beta_chi[i] = gamma_chi^(i - L_chi)\n",
    "    end\n",
    "    \n",
    "    return beta_chi\n",
    "end\n",
    "beta_chi = beta_list_chi()"
   ]
  },
  {
   "cell_type": "code",
   "execution_count": 28,
   "id": "87b251ac",
   "metadata": {
    "ExecuteTime": {
     "end_time": "2022-01-20T18:15:11.039000+09:00",
     "start_time": "2022-01-20T09:15:10.997Z"
    }
   },
   "outputs": [
    {
     "data": {
      "text/plain": [
       "70-element Vector{Float64}:\n",
       " 0.05\n",
       " 0.05\n",
       " 0.05\n",
       " 0.05\n",
       " 0.05\n",
       " 0.05\n",
       " 0.05\n",
       " 0.05\n",
       " 0.05\n",
       " 0.05\n",
       " 0.05\n",
       " 0.05\n",
       " 0.05\n",
       " ⋮\n",
       " 0.0014129949235473155\n",
       " 0.0010313559509019467\n",
       " 0.0007527947055821391\n",
       " 0.0005494706926904399\n",
       " 0.00040106291912910994\n",
       " 0.000292738934469401\n",
       " 0.00021367241813420555\n",
       " 0.00015596115478821293\n",
       " 0.00011383725618528509\n",
       " 8.309069597100485e-5\n",
       " 6.064854326520916e-5\n",
       " 4.42678419913043e-5"
      ]
     },
     "execution_count": 28,
     "metadata": {},
     "output_type": "execute_result"
    }
   ],
   "source": [
    "function step_list_chi()\n",
    "    step_chi_B40 = ones(L_chi) * C_chi_B40\n",
    "    \n",
    "    for i in 1:L_chi\n",
    "        if n_chi * beta_chi[i]  > 1\n",
    "            step_chi_B40[i] = C_chi_B40 / (n_chi * beta_chi[i])^d_chi_B40\n",
    "        end\n",
    "    end\n",
    "    \n",
    "    return step_chi_B40\n",
    "    \n",
    "end\n",
    "\n",
    "step_chi_B40 = step_list_chi()"
   ]
  },
  {
   "cell_type": "code",
   "execution_count": 29,
   "id": "fcfabec4",
   "metadata": {
    "ExecuteTime": {
     "end_time": "2022-01-20T18:15:35.492000+09:00",
     "start_time": "2022-01-20T09:15:35.451Z"
    }
   },
   "outputs": [],
   "source": [
    "#=\n",
    "df_chi_step = DataFrame(\n",
    "    B40 = step_chi_B40\n",
    ")\n",
    "=#"
   ]
  },
  {
   "cell_type": "code",
   "execution_count": 30,
   "id": "c86f7079",
   "metadata": {
    "ExecuteTime": {
     "end_time": "2022-01-20T18:15:55.087000+09:00",
     "start_time": "2022-01-20T09:15:54.950Z"
    }
   },
   "outputs": [],
   "source": [
    "#df_chi_step |> CSV.write(path * \"chi_step.csv\",delim=\",\",writeheader=true)"
   ]
  },
  {
   "cell_type": "markdown",
   "id": "988ea3b4",
   "metadata": {},
   "source": [
    "# 誤差関数"
   ]
  },
  {
   "cell_type": "code",
   "execution_count": 31,
   "id": "20400a4e",
   "metadata": {
    "ExecuteTime": {
     "end_time": "2022-01-20T18:16:52.540000+09:00",
     "start_time": "2022-01-20T09:16:52.431Z"
    }
   },
   "outputs": [
    {
     "data": {
      "text/plain": [
       "error_chi (generic function with 1 method)"
      ]
     },
     "execution_count": 31,
     "metadata": {},
     "output_type": "execute_result"
    }
   ],
   "source": [
    "function error_chi(B40)\n",
    "    error_value = sum((chi_inv_Temp_noise - chi(Onn_make(B40))).^2)/(2*n_chi)\n",
    "    return error_value\n",
    "end"
   ]
  },
  {
   "cell_type": "code",
   "execution_count": 32,
   "id": "26d1ce2c",
   "metadata": {
    "ExecuteTime": {
     "end_time": "2022-01-20T18:17:01.003000+09:00",
     "start_time": "2022-01-20T09:17:00.842Z"
    }
   },
   "outputs": [
    {
     "data": {
      "text/plain": [
       "error_list_chi (generic function with 1 method)"
      ]
     },
     "execution_count": 32,
     "metadata": {},
     "output_type": "execute_result"
    }
   ],
   "source": [
    "function error_list_chi(B40_list)\n",
    "    error_ls = zeros(L_chi)\n",
    "    @threads for i in 1:L_chi\n",
    "        error_ls[i] = error_chi(B40_list[i])\n",
    "    end\n",
    "    return error_ls\n",
    "end"
   ]
  },
  {
   "cell_type": "markdown",
   "id": "8f5a6603",
   "metadata": {},
   "source": [
    "# 誤差関数最小パラメータ確認"
   ]
  },
  {
   "cell_type": "code",
   "execution_count": 33,
   "id": "baf6e56f",
   "metadata": {
    "ExecuteTime": {
     "end_time": "2022-01-24T16:45:13.871000+09:00",
     "start_time": "2022-01-24T07:45:13.861Z"
    }
   },
   "outputs": [],
   "source": [
    "#B40_sample = collect(-100:0.01:100)"
   ]
  },
  {
   "cell_type": "code",
   "execution_count": 34,
   "id": "c92cec75",
   "metadata": {
    "ExecuteTime": {
     "end_time": "2022-01-24T16:48:14.825000+09:00",
     "start_time": "2022-01-24T07:48:03.861Z"
    }
   },
   "outputs": [],
   "source": [
    "#=\n",
    "error_sample_list = zeros(length(B40_sample))\n",
    "@threads for i in 1:length(B40_sample)\n",
    "    error_sample_list[i] = error_chi(B40_sample[i])\n",
    "end\n",
    "=#"
   ]
  },
  {
   "cell_type": "code",
   "execution_count": 35,
   "id": "3397e39e",
   "metadata": {
    "ExecuteTime": {
     "end_time": "2022-01-24T16:48:16.653000+09:00",
     "start_time": "2022-01-24T07:48:16.601Z"
    }
   },
   "outputs": [],
   "source": [
    "#plot(B40_sample,error_sample_list,legend=:false)\n",
    "#plot!(xlabel=L\"B40\",ylabel=\"error\")"
   ]
  },
  {
   "cell_type": "code",
   "execution_count": 36,
   "id": "5ab1a425",
   "metadata": {
    "ExecuteTime": {
     "end_time": "2022-01-24T16:50:48.419000+09:00",
     "start_time": "2022-01-24T07:50:48.374Z"
    }
   },
   "outputs": [],
   "source": [
    "#savefig(path * \"chi_error_B40.pdf\")"
   ]
  },
  {
   "cell_type": "code",
   "execution_count": 37,
   "id": "45210b5e",
   "metadata": {
    "ExecuteTime": {
     "end_time": "2022-01-24T16:50:55.736000+09:00",
     "start_time": "2022-01-24T07:50:55.733Z"
    }
   },
   "outputs": [],
   "source": [
    "#B40_sample = collect(0:0.0001:1)"
   ]
  },
  {
   "cell_type": "code",
   "execution_count": 38,
   "id": "e372327b",
   "metadata": {
    "ExecuteTime": {
     "end_time": "2022-01-24T16:51:03.043000+09:00",
     "start_time": "2022-01-24T07:50:57.457Z"
    }
   },
   "outputs": [],
   "source": [
    "#=\n",
    "error_sample_list = zeros(length(B40_sample))\n",
    "@threads for i in 1:length(B40_sample)\n",
    "    error_sample_list[i] = error_chi(B40_sample[i])\n",
    "end\n",
    "=#"
   ]
  },
  {
   "cell_type": "code",
   "execution_count": 39,
   "id": "49a415e6",
   "metadata": {
    "ExecuteTime": {
     "end_time": "2022-01-24T16:51:03.075000+09:00",
     "start_time": "2022-01-24T07:50:58.477Z"
    }
   },
   "outputs": [],
   "source": [
    "#plot(B40_sample,error_sample_list,legend=:false)\n",
    "#plot!(xlabel=L\"B40\",ylabel=\"error\")"
   ]
  },
  {
   "cell_type": "code",
   "execution_count": 40,
   "id": "ec905b17",
   "metadata": {
    "ExecuteTime": {
     "end_time": "2022-01-24T16:51:07.469000+09:00",
     "start_time": "2022-01-24T07:51:07.438Z"
    }
   },
   "outputs": [],
   "source": [
    "#savefig(path * \"chi_error_B40_focus.pdf\")"
   ]
  },
  {
   "cell_type": "code",
   "execution_count": 41,
   "id": "2301e626",
   "metadata": {
    "ExecuteTime": {
     "end_time": "2022-01-24T16:51:10.014000+09:00",
     "start_time": "2022-01-24T07:51:10.008Z"
    }
   },
   "outputs": [],
   "source": [
    "#=\n",
    "para_min = B40_sample[argmin(error_sample_list)]\n",
    "para_dif = abs(para_min - B40_true)\n",
    "println(\"para_min:\",para_min)\n",
    "println(\"true_para:\",B40_true)\n",
    "println(\"dif:\", para_dif)\n",
    "=#"
   ]
  },
  {
   "cell_type": "code",
   "execution_count": 42,
   "id": "e4131a9a",
   "metadata": {
    "ExecuteTime": {
     "end_time": "2022-01-24T16:58:01.629000+09:00",
     "start_time": "2022-01-24T07:58:01.544Z"
    }
   },
   "outputs": [],
   "source": [
    "#=\n",
    "df_chi_para_error = DataFrame(\n",
    "    true_para = B40_true,\n",
    "    min_para = para_min\n",
    ")\n",
    "=#"
   ]
  },
  {
   "cell_type": "code",
   "execution_count": 43,
   "id": "35a91d35",
   "metadata": {
    "ExecuteTime": {
     "end_time": "2022-01-24T16:58:56.434000+09:00",
     "start_time": "2022-01-24T07:58:56.282Z"
    }
   },
   "outputs": [],
   "source": [
    "#df_chi_para_error |> CSV.write(path * \"chi_para_error.csv\",delim=\",\",writeheader=true)"
   ]
  },
  {
   "cell_type": "code",
   "execution_count": null,
   "id": "b9cba795",
   "metadata": {},
   "outputs": [],
   "source": []
  },
  {
   "cell_type": "markdown",
   "id": "7d75462b",
   "metadata": {},
   "source": [
    "# 事前分布"
   ]
  },
  {
   "cell_type": "code",
   "execution_count": 44,
   "id": "238cffc4",
   "metadata": {
    "ExecuteTime": {
     "end_time": "2022-01-20T18:20:01.554000+09:00",
     "start_time": "2022-01-20T09:20:01.446Z"
    }
   },
   "outputs": [
    {
     "data": {
      "text/plain": [
       "cauchy (generic function with 1 method)"
      ]
     },
     "execution_count": 44,
     "metadata": {},
     "output_type": "execute_result"
    }
   ],
   "source": [
    "function cauchy(x,x0,gamma)\n",
    "    f = (1/pi) * (gamma/((x-x0)^2+gamma^2))\n",
    "    return f\n",
    "end"
   ]
  },
  {
   "cell_type": "code",
   "execution_count": 45,
   "id": "2578e790",
   "metadata": {
    "ExecuteTime": {
     "end_time": "2022-01-20T18:20:11.894000+09:00",
     "start_time": "2022-01-20T09:20:11.787Z"
    }
   },
   "outputs": [
    {
     "data": {
      "text/plain": [
       "prior (generic function with 1 method)"
      ]
     },
     "execution_count": 45,
     "metadata": {},
     "output_type": "execute_result"
    }
   ],
   "source": [
    "function prior(B40)\n",
    "    prior_B40 = cauchy(B40,0,5)\n",
    "    return prior_B40\n",
    "end"
   ]
  },
  {
   "cell_type": "code",
   "execution_count": 46,
   "id": "77860f3b",
   "metadata": {
    "ExecuteTime": {
     "end_time": "2022-01-20T18:21:02.261000+09:00",
     "start_time": "2022-01-20T09:21:02.146Z"
    }
   },
   "outputs": [
    {
     "data": {
      "text/plain": [
       "prior_list (generic function with 1 method)"
      ]
     },
     "execution_count": 46,
     "metadata": {},
     "output_type": "execute_result"
    }
   ],
   "source": [
    "function prior_list(B40_list)\n",
    "    prior_list = zeros(L_chi)\n",
    "    for i in 1:L_chi\n",
    "        prior_list[i] = prior(B40_list[i])\n",
    "    end\n",
    "    return prior_list\n",
    "end"
   ]
  },
  {
   "cell_type": "markdown",
   "id": "1ad6645e",
   "metadata": {},
   "source": [
    "# EXMC"
   ]
  },
  {
   "cell_type": "code",
   "execution_count": 47,
   "id": "d980f8a0",
   "metadata": {
    "ExecuteTime": {
     "end_time": "2022-01-20T18:21:35.541000+09:00",
     "start_time": "2022-01-20T09:21:35.429Z"
    }
   },
   "outputs": [
    {
     "data": {
      "text/plain": [
       "metropolis_chi (generic function with 1 method)"
      ]
     },
     "execution_count": 47,
     "metadata": {},
     "output_type": "execute_result"
    }
   ],
   "source": [
    "# metropolis\n",
    "function metropolis_chi(B40_list, saitaku)\n",
    "    \n",
    "    B40_proposed = B40_list + rand(L_chi) .* rand([-1,1],L_chi) .* step_chi_B40\n",
    "    \n",
    "    #事前分布\n",
    "    prior_ratio = prior_list(B40_proposed) ./ prior_list(B40_list)\n",
    "    \n",
    "    err_proposed = error_list_chi(B40_proposed)\n",
    "    err_ini = error_list_chi(B40_list)\n",
    "    \n",
    "    error_dif = err_proposed - err_ini\n",
    "    \n",
    "    bit_vec = rand(L_chi) .< exp.(- n_chi * b_chi * beta_chi .* error_dif) .* prior_ratio\n",
    "    \n",
    "    for i in 1:L_chi\n",
    "        if bit_vec[i] == 0 # 交換しない\n",
    "            B40_proposed[i] = B40_list[i]\n",
    "        else #交換\n",
    "            saitaku[i] += 1\n",
    "        end\n",
    "    end\n",
    "    \n",
    "    return B40_proposed, saitaku, err_ini\n",
    "end"
   ]
  },
  {
   "cell_type": "code",
   "execution_count": 48,
   "id": "7f1a7f0c",
   "metadata": {
    "ExecuteTime": {
     "end_time": "2022-01-20T18:21:39.460000+09:00",
     "start_time": "2022-01-20T09:21:39.337Z"
    }
   },
   "outputs": [
    {
     "data": {
      "text/plain": [
       "exchange_chi (generic function with 1 method)"
      ]
     },
     "execution_count": 48,
     "metadata": {},
     "output_type": "execute_result"
    }
   ],
   "source": [
    "function exchange_chi(B40_list, koukann, koukann_total)\n",
    "\n",
    "    for l in 1:L_chi-1\n",
    "        #レプリカからランダムに選択\n",
    "        #l = rand(collect(1:L_chi-1))\n",
    "        #ランダムに選ぶことをやめて、順番に行う\n",
    "        \n",
    "        beta_dif = beta_chi[l + 1] - beta_chi[l]\n",
    "        error_dif = error_chi(B40_list[l + 1]) - error_chi(B40_list[l])\n",
    "        v = exp(n_chi * b_chi * beta_dif * error_dif)\n",
    "        u = minimum([1,v])\n",
    "        items = [1,0]\n",
    "        weights = [u,1 - u]\n",
    "        item = sample(items, Weights(weights)) # 1で交換\n",
    "        \n",
    "        #交換\n",
    "        if item == 1\n",
    "            B40_list[l + 1], B40_list[l] = B40_list[l], B40_list[l + 1]\n",
    "            koukann[l] += 1\n",
    "        else\n",
    "            koukann[l] += 0\n",
    "        end\n",
    "\n",
    "        #レプリカ選択の記録\n",
    "        koukann_total[l] += 1\n",
    "    end\n",
    "\n",
    "    return B40_list, koukann, koukann_total\n",
    "end"
   ]
  },
  {
   "cell_type": "code",
   "execution_count": 51,
   "id": "0370ca0a",
   "metadata": {
    "ExecuteTime": {
     "end_time": "2022-01-20T18:26:52.513000+09:00",
     "start_time": "2022-01-20T09:26:52.507Z"
    }
   },
   "outputs": [
    {
     "data": {
      "text/plain": [
       "emc_chi (generic function with 1 method)"
      ]
     },
     "execution_count": 51,
     "metadata": {},
     "output_type": "execute_result"
    }
   ],
   "source": [
    "# exmc\n",
    "function emc_chi(size_simu, frequency_exchange)\n",
    "    # 初期パラメータ値\n",
    "    #真値付近からスタート\n",
    "    B40_list = B40_true .+ rand(L_chi) * 5\n",
    "    \n",
    "    #格納用(beta=1の値を保存)\n",
    "    B40_keep = zeros(size_simu,L_chi)\n",
    "    \n",
    "    #採択率,交換率記録\n",
    "    saitaku = zeros(L_chi)\n",
    "    koukann = zeros(L_chi)\n",
    "    koukann_total = zeros(L_chi)\n",
    "    \n",
    "    #各温度誤差関数の値記録\n",
    "    error_func_list = zeros(size_simu,L_chi)\n",
    "    \n",
    "    # 更新\n",
    "    #r = Progress(size_simu; showspeed=true)\n",
    "\n",
    "    show_iter = Int64(size_simu / 10)\n",
    "    for iter in 1:size_simu\n",
    "        B40_list, saitaku, error_ini = metropolis_chi(B40_list, saitaku)\n",
    "        error_func_list[iter, :] = error_ini\n",
    "        \n",
    "        if iter % frequency_exchange == 0\n",
    "           B40_list, koukann, koukann_total = exchange_chi(B40_list, koukann, koukann_total)\n",
    "        end\n",
    "        \n",
    "        B40_keep[iter,:] = B40_list\n",
    "        \n",
    "        #ProgressMeter.next!(r)\n",
    "        if iter % show_iter == 0\n",
    "            print_num = iter / show_iter * 10\n",
    "            print(\"finish\", print_num \"percent\")\n",
    "    end\n",
    "    \n",
    "    saitaku = saitaku / size_simu\n",
    "    \n",
    "    koukann = koukann ./ koukann_total\n",
    "    \n",
    "    return B40_keep, saitaku, koukann, error_func_list\n",
    "end"
   ]
  },
  {
   "cell_type": "code",
   "execution_count": 52,
   "id": "36ba3216",
   "metadata": {
    "ExecuteTime": {
     "end_time": "2022-01-20T18:26:53.058000+09:00",
     "start_time": "2022-01-20T09:26:53.056Z"
    }
   },
   "outputs": [
    {
     "data": {
      "text/plain": [
       "3"
      ]
     },
     "execution_count": 52,
     "metadata": {},
     "output_type": "execute_result"
    }
   ],
   "source": [
    "mc_step = 100000\n",
    "exchange_frequency = 3"
   ]
  },
  {
   "cell_type": "code",
   "execution_count": 53,
   "id": "a306b9a1",
   "metadata": {
    "ExecuteTime": {
     "end_time": "2022-01-20T22:28:49.198000+09:00",
     "start_time": "2022-01-20T09:26:54.310Z"
    }
   },
   "outputs": [
    {
     "name": "stderr",
     "output_type": "stream",
     "text": [
      "\u001b[32mProgress: 100%|███████████████████████████| Time: 4:01:54 ( 0.15  s/it)\u001b[39m\n"
     ]
    },
    {
     "data": {
      "text/plain": [
       "([0.7459891977723145 0.7459891977723145 … 0.6959285492290492 0.6959449299303232; 0.7959891977723146 0.6959891977723145 … 0.695867900685784 0.6959449299303232; … ; -6.732702676969787 1.6791464420817919 … 0.11650537106305092 0.11728605992412994; -6.7827026769697865 1.6291464420817918 … 0.11644472251978571 0.11733032776612125], [0.99651, 0.99663, 0.9965, 0.99604, 0.99622, 0.9961, 0.99646, 0.99654, 0.99615, 0.99593  …  0.89381, 0.91104, 0.92598, 0.93549, 0.94831, 0.95506, 0.9623, 0.96794, 0.97263, 0.97769], [0.9942840041897352, 0.9983583559681223, 0.9979621804669004, 0.9974990960588165, 0.9966679674601507, 0.994981779078798, 0.9933628986031918, 0.9923296143584769, 0.9903803065156992, 0.9885627258339057  …  0.9141964285714286, 0.9159449821701477, 0.9125890878600946, 0.9112363930788376, 0.9107684909686533, 0.9091421954333561, 0.90350405921681, 0.9080359820089955, 0.9023136246786633, NaN], [914.9413566113552 914.9413566113552 … 914.9413566113552 914.9413566113552; 1057.8094733231223 1057.8094733231223 … 914.7705940771651 914.8167150268597; … ; 358.8514970228392 3517.8014401448486 … 0.5151915151067025 0.5127539329447637; 359.2671823799578 3636.4033815180355 … 0.5149345728678145 0.5128085880910825])"
      ]
     },
     "execution_count": 53,
     "metadata": {},
     "output_type": "execute_result"
    }
   ],
   "source": [
    "B40_list_chi, saitaku_chi, koukann_chi, error_func_list_chi = emc_chi(mc_step, exchange_frequency)"
   ]
  },
  {
   "cell_type": "markdown",
   "id": "825c004c",
   "metadata": {},
   "source": [
    "# 温度、採択率、交換率"
   ]
  },
  {
   "cell_type": "code",
   "execution_count": 54,
   "id": "fc1150c1",
   "metadata": {
    "ExecuteTime": {
     "end_time": "2022-01-20T22:42:54.568000+09:00",
     "start_time": "2022-01-20T13:42:54.518Z"
    }
   },
   "outputs": [
    {
     "data": {
      "text/html": [
       "<div class=\"data-frame\"><p>70 rows × 4 columns</p><table class=\"data-frame\"><thead><tr><th></th><th>beta_temp</th><th>B40</th><th>採択率_B40</th><th>交換率</th></tr><tr><th></th><th title=\"Float64\">Float64</th><th title=\"Float64\">Float64</th><th title=\"Float64\">Float64</th><th title=\"Float64\">Float64</th></tr></thead><tbody><tr><th>1</th><td>0.0</td><td>0.05</td><td>0.99651</td><td>0.994284</td></tr><tr><th>2</th><td>1.78588e-8</td><td>0.05</td><td>0.99663</td><td>0.998358</td></tr><tr><th>3</th><td>2.32164e-8</td><td>0.05</td><td>0.9965</td><td>0.997962</td></tr><tr><th>4</th><td>3.01814e-8</td><td>0.05</td><td>0.99604</td><td>0.997499</td></tr><tr><th>5</th><td>3.92358e-8</td><td>0.05</td><td>0.99622</td><td>0.996668</td></tr><tr><th>6</th><td>5.10065e-8</td><td>0.05</td><td>0.9961</td><td>0.994982</td></tr><tr><th>7</th><td>6.63084e-8</td><td>0.05</td><td>0.99646</td><td>0.993363</td></tr><tr><th>8</th><td>8.6201e-8</td><td>0.05</td><td>0.99654</td><td>0.99233</td></tr><tr><th>9</th><td>1.12061e-7</td><td>0.05</td><td>0.99615</td><td>0.99038</td></tr><tr><th>10</th><td>1.4568e-7</td><td>0.05</td><td>0.99593</td><td>0.988563</td></tr><tr><th>11</th><td>1.89384e-7</td><td>0.05</td><td>0.99583</td><td>0.984678</td></tr><tr><th>12</th><td>2.46199e-7</td><td>0.05</td><td>0.99559</td><td>0.980494</td></tr><tr><th>13</th><td>3.20058e-7</td><td>0.05</td><td>0.99517</td><td>0.977618</td></tr><tr><th>14</th><td>4.16076e-7</td><td>0.05</td><td>0.99504</td><td>0.974567</td></tr><tr><th>15</th><td>5.40898e-7</td><td>0.05</td><td>0.99444</td><td>0.971679</td></tr><tr><th>16</th><td>7.03168e-7</td><td>0.05</td><td>0.99384</td><td>0.966874</td></tr><tr><th>17</th><td>9.14118e-7</td><td>0.05</td><td>0.99318</td><td>0.962874</td></tr><tr><th>18</th><td>1.18835e-6</td><td>0.05</td><td>0.99235</td><td>0.965057</td></tr><tr><th>19</th><td>1.54486e-6</td><td>0.05</td><td>0.9918</td><td>0.967563</td></tr><tr><th>20</th><td>2.00832e-6</td><td>0.05</td><td>0.99073</td><td>0.966967</td></tr><tr><th>21</th><td>2.61081e-6</td><td>0.05</td><td>0.9904</td><td>0.96624</td></tr><tr><th>22</th><td>3.39406e-6</td><td>0.05</td><td>0.9891</td><td>0.966462</td></tr><tr><th>23</th><td>4.41227e-6</td><td>0.05</td><td>0.98851</td><td>0.960524</td></tr><tr><th>24</th><td>5.73596e-6</td><td>0.05</td><td>0.98693</td><td>0.956552</td></tr><tr><th>25</th><td>7.45674e-6</td><td>0.05</td><td>0.98565</td><td>0.945469</td></tr><tr><th>26</th><td>9.69377e-6</td><td>0.05</td><td>0.98298</td><td>0.93248</td></tr><tr><th>27</th><td>1.26019e-5</td><td>0.05</td><td>0.97972</td><td>0.911767</td></tr><tr><th>28</th><td>1.63825e-5</td><td>0.05</td><td>0.97521</td><td>0.890708</td></tr><tr><th>29</th><td>2.12972e-5</td><td>0.05</td><td>0.96992</td><td>0.859859</td></tr><tr><th>30</th><td>2.76864e-5</td><td>0.05</td><td>0.96181</td><td>0.842137</td></tr><tr><th>&vellip;</th><td>&vellip;</td><td>&vellip;</td><td>&vellip;</td><td>&vellip;</td></tr></tbody></table></div>"
      ],
      "text/latex": [
       "\\begin{tabular}{r|cccc}\n",
       "\t& beta\\_temp & B40 & 採択率\\_B40 & 交換率\\\\\n",
       "\t\\hline\n",
       "\t& Float64 & Float64 & Float64 & Float64\\\\\n",
       "\t\\hline\n",
       "\t1 & 0.0 & 0.05 & 0.99651 & 0.994284 \\\\\n",
       "\t2 & 1.78588e-8 & 0.05 & 0.99663 & 0.998358 \\\\\n",
       "\t3 & 2.32164e-8 & 0.05 & 0.9965 & 0.997962 \\\\\n",
       "\t4 & 3.01814e-8 & 0.05 & 0.99604 & 0.997499 \\\\\n",
       "\t5 & 3.92358e-8 & 0.05 & 0.99622 & 0.996668 \\\\\n",
       "\t6 & 5.10065e-8 & 0.05 & 0.9961 & 0.994982 \\\\\n",
       "\t7 & 6.63084e-8 & 0.05 & 0.99646 & 0.993363 \\\\\n",
       "\t8 & 8.6201e-8 & 0.05 & 0.99654 & 0.99233 \\\\\n",
       "\t9 & 1.12061e-7 & 0.05 & 0.99615 & 0.99038 \\\\\n",
       "\t10 & 1.4568e-7 & 0.05 & 0.99593 & 0.988563 \\\\\n",
       "\t11 & 1.89384e-7 & 0.05 & 0.99583 & 0.984678 \\\\\n",
       "\t12 & 2.46199e-7 & 0.05 & 0.99559 & 0.980494 \\\\\n",
       "\t13 & 3.20058e-7 & 0.05 & 0.99517 & 0.977618 \\\\\n",
       "\t14 & 4.16076e-7 & 0.05 & 0.99504 & 0.974567 \\\\\n",
       "\t15 & 5.40898e-7 & 0.05 & 0.99444 & 0.971679 \\\\\n",
       "\t16 & 7.03168e-7 & 0.05 & 0.99384 & 0.966874 \\\\\n",
       "\t17 & 9.14118e-7 & 0.05 & 0.99318 & 0.962874 \\\\\n",
       "\t18 & 1.18835e-6 & 0.05 & 0.99235 & 0.965057 \\\\\n",
       "\t19 & 1.54486e-6 & 0.05 & 0.9918 & 0.967563 \\\\\n",
       "\t20 & 2.00832e-6 & 0.05 & 0.99073 & 0.966967 \\\\\n",
       "\t21 & 2.61081e-6 & 0.05 & 0.9904 & 0.96624 \\\\\n",
       "\t22 & 3.39406e-6 & 0.05 & 0.9891 & 0.966462 \\\\\n",
       "\t23 & 4.41227e-6 & 0.05 & 0.98851 & 0.960524 \\\\\n",
       "\t24 & 5.73596e-6 & 0.05 & 0.98693 & 0.956552 \\\\\n",
       "\t25 & 7.45674e-6 & 0.05 & 0.98565 & 0.945469 \\\\\n",
       "\t26 & 9.69377e-6 & 0.05 & 0.98298 & 0.93248 \\\\\n",
       "\t27 & 1.26019e-5 & 0.05 & 0.97972 & 0.911767 \\\\\n",
       "\t28 & 1.63825e-5 & 0.05 & 0.97521 & 0.890708 \\\\\n",
       "\t29 & 2.12972e-5 & 0.05 & 0.96992 & 0.859859 \\\\\n",
       "\t30 & 2.76864e-5 & 0.05 & 0.96181 & 0.842137 \\\\\n",
       "\t$\\dots$ & $\\dots$ & $\\dots$ & $\\dots$ & $\\dots$ \\\\\n",
       "\\end{tabular}\n"
      ],
      "text/plain": [
       "\u001b[1m70×4 DataFrame\u001b[0m\n",
       "\u001b[1m Row \u001b[0m│\u001b[1m beta_temp  \u001b[0m\u001b[1m B40         \u001b[0m\u001b[1m 採択率_B40 \u001b[0m\u001b[1m 交換率     \u001b[0m\n",
       "\u001b[1m     \u001b[0m│\u001b[90m Float64    \u001b[0m\u001b[90m Float64     \u001b[0m\u001b[90m Float64    \u001b[0m\u001b[90m Float64    \u001b[0m\n",
       "─────┼─────────────────────────────────────────────────\n",
       "   1 │ 0.0         0.05            0.99651    0.994284\n",
       "   2 │ 1.78588e-8  0.05            0.99663    0.998358\n",
       "   3 │ 2.32164e-8  0.05            0.9965     0.997962\n",
       "   4 │ 3.01814e-8  0.05            0.99604    0.997499\n",
       "   5 │ 3.92358e-8  0.05            0.99622    0.996668\n",
       "   6 │ 5.10065e-8  0.05            0.9961     0.994982\n",
       "   7 │ 6.63084e-8  0.05            0.99646    0.993363\n",
       "   8 │ 8.6201e-8   0.05            0.99654    0.99233\n",
       "   9 │ 1.12061e-7  0.05            0.99615    0.99038\n",
       "  10 │ 1.4568e-7   0.05            0.99593    0.988563\n",
       "  11 │ 1.89384e-7  0.05            0.99583    0.984678\n",
       "  ⋮  │     ⋮            ⋮           ⋮           ⋮\n",
       "  61 │ 0.0942996   0.000752795     0.89381    0.914196\n",
       "  62 │ 0.122589    0.000549471     0.91104    0.915945\n",
       "  63 │ 0.159366    0.000401063     0.92598    0.912589\n",
       "  64 │ 0.207176    0.000292739     0.93549    0.911236\n",
       "  65 │ 0.269329    0.000213672     0.94831    0.910768\n",
       "  66 │ 0.350128    0.000155961     0.95506    0.909142\n",
       "  67 │ 0.455166    0.000113837     0.9623     0.903504\n",
       "  68 │ 0.591716    8.30907e-5      0.96794    0.908036\n",
       "  69 │ 0.769231    6.06485e-5      0.97263    0.902314\n",
       "  70 │ 1.0         4.42678e-5      0.97769  NaN\n",
       "\u001b[36m                                        49 rows omitted\u001b[0m"
      ]
     },
     "execution_count": 54,
     "metadata": {},
     "output_type": "execute_result"
    }
   ],
   "source": [
    "df_vin_chi = DataFrame(\n",
    "    beta_temp = beta_chi,\n",
    "    \n",
    "    B40 = step_chi_B40,\n",
    "    採択率_B40 = saitaku_chi,\n",
    "     \n",
    "    交換率 = koukann_chi\n",
    ")"
   ]
  },
  {
   "cell_type": "code",
   "execution_count": 55,
   "id": "fc4c5d81",
   "metadata": {
    "ExecuteTime": {
     "end_time": "2022-01-20T22:42:56.609000+09:00",
     "start_time": "2022-01-20T13:42:56.601Z"
    }
   },
   "outputs": [
    {
     "data": {
      "text/plain": [
       "\"/Users/nishimurarei/home/lab/data/cubic_data/check/chi/vin_chi.csv\""
      ]
     },
     "execution_count": 55,
     "metadata": {},
     "output_type": "execute_result"
    }
   ],
   "source": [
    "df_vin_chi |> CSV.write(path * \"vin_chi.csv\",delim=\",\",writeheader=true)"
   ]
  },
  {
   "cell_type": "code",
   "execution_count": 56,
   "id": "c30be0e2",
   "metadata": {
    "ExecuteTime": {
     "end_time": "2022-01-20T22:49:05.579000+09:00",
     "start_time": "2022-01-20T13:49:05.567Z"
    }
   },
   "outputs": [
    {
     "data": {
      "text/latex": [
       "\\begin{tabular}{cccc}\n",
       "beta_temp & B40 & 採択率_B40 & 交換率\\\\\n",
       "0.0 & 0.05 & 0.99651 & 0.9942840041897352\\\\\n",
       "1.7858790520831557e-8 & 0.05 & 0.99663 & 0.9983583559681223\\\\\n",
       "2.3216427677081025e-8 & 0.05 & 0.9965 & 0.9979621804669004\\\\\n",
       "3.0181355980205335e-8 & 0.05 & 0.99604 & 0.9974990960588165\\\\\n",
       "3.923576277426693e-8 & 0.05 & 0.99622 & 0.9966679674601507\\\\\n",
       "5.100649160654702e-8 & 0.05 & 0.9961 & 0.994981779078798\\\\\n",
       "6.630843908851112e-8 & 0.05 & 0.99646 & 0.9933628986031918\\\\\n",
       "8.620097081506447e-8 & 0.05 & 0.99654 & 0.9923296143584769\\\\\n",
       "1.120612620595838e-7 & 0.05 & 0.99615 & 0.9903803065156992\\\\\n",
       "1.4567964067745895e-7 & 0.05 & 0.99593 & 0.9885627258339057\\\\\n",
       "1.8938353288069665e-7 & 0.05 & 0.99583 & 0.9846784570727474\\\\\n",
       "2.4619859274490565e-7 & 0.05 & 0.99559 & 0.9804939155332856\\\\\n",
       "3.2005817056837737e-7 & 0.05 & 0.99517 & 0.9776178328474247\\\\\n",
       "4.1607562173889056e-7 & 0.05 & 0.99504 & 0.9745670995670995\\\\\n",
       "5.408983082605578e-7 & 0.05 & 0.99444 & 0.9716792503506521\\\\\n",
       "7.031678007387251e-7 & 0.05 & 0.99384 & 0.9668743261051875\\\\\n",
       "9.141181409603427e-7 & 0.05 & 0.99318 & 0.9628735015208445\\\\\n",
       "1.1883535832484456e-6 & 0.05 & 0.99235 & 0.9650568700200718\\\\\n",
       "1.5448596582229793e-6 & 0.05 & 0.9918 & 0.9675626127324877\\\\\n",
       "2.008317555689873e-6 & 0.05 & 0.99073 & 0.9669669669669669\\\\\n",
       "2.610812822396835e-6 & 0.05 & 0.9904 & 0.9662404092071611\\\\\n",
       "3.3940566691158856e-6 & 0.05 & 0.9891 & 0.9664616596479535\\\\\n",
       "4.412273669850652e-6 & 0.05 & 0.98851 & 0.9605243332831098\\\\\n",
       "5.735955770805848e-6 & 0.05 & 0.98693 & 0.9565518278922822\\\\\n",
       "7.456742502047602e-6 & 0.05 & 0.98565 & 0.9454692945559428\\\\\n",
       "9.693765252661883e-6 & 0.05 & 0.98298 & 0.932480326785607\\\\\n",
       "1.2601894828460448e-5 & 0.05 & 0.97972 & 0.9117673647732409\\\\\n",
       "1.6382463276998585e-5 & 0.05 & 0.97521 & 0.8907080968031073\\\\\n",
       "2.129720226009816e-5 & 0.05 & 0.96992 & 0.8598591973042903\\\\\n",
       "2.7686362938127606e-5 & 0.05 & 0.96181 & 0.8421367112810707\\\\\n",
       "3.599227181956589e-5 & 0.05 & 0.95138 & 0.8381027048216386\\\\\n",
       "4.678995336543566e-5 & 0.05 & 0.93695 & 0.8591984172187416\\\\\n",
       "6.082693937506636e-5 & 0.05 & 0.92287 & 0.8877391878111691\\\\\n",
       "7.907502118758627e-5 & 0.05 & 0.90836 & 0.9127129593461735\\\\\n",
       "0.00010279752754386215 & 0.05 & 0.89141 & 0.9269273474777181\\\\\n",
       "0.0001336367858070208 & 0.05 & 0.87159 & 0.932319323193232\\\\\n",
       "0.00017372782154912705 & 0.05 & 0.8522 & 0.9338995678736403\\\\\n",
       "0.00022584616801386517 & 0.05 & 0.82399 & 0.9346434961938556\\\\\n",
       "0.00029360001841802474 & 0.05 & 0.79064 & 0.9275470794287596\\\\\n",
       "0.00038168002394343216 & 0.05 & 0.75208 & 0.92349743189259\\\\\n",
       "0.0004961840311264619 & 0.05 & 0.70368 & 0.9145742275810098\\\\\n",
       "0.0006450392404644004 & 0.05 & 0.65001 & 0.9080896541487309\\\\\n",
       "0.0008385510126037206 & 0.05 & 0.57955 & 0.892898295833586\\\\\n",
       "0.0010901163163848369 & 0.05 & 0.50376 & 0.8872395519691678\\\\\n",
       "0.0014171512113002878 & 0.05 & 0.42762 & 0.8722984458474988\\\\\n",
       "0.0018422965746903743 & 0.05 & 0.34405 & 0.8625254273309652\\\\\n",
       "0.0023949855470974868 & 0.05 & 0.2653 & 0.8470959027465106\\\\\n",
       "0.0031134812112267327 & 0.045101693784004054 & 0.22261 & 0.8498758934178654\\\\\n",
       "0.004047525574594753 & 0.03292007600643889 & 0.27629 & 0.8566300675675675\\\\\n",
       "0.005261783246973179 & 0.024028618735690895 & 0.34582 & 0.8768661208764749\\\\\n",
       "0.006840318221065132 & 0.01753867513040571 & 0.42355 & 0.898260426958891\\\\\n",
       "0.008892413687384672 & 0.012801614970610468 & 0.49792 & 0.9147170715633706\\\\\n",
       "0.011560137793600074 & 0.009343998029340722 & 0.57201 & 0.9198127453941407\\\\\n",
       "0.015028179131680098 & 0.006820256613932493 & 0.63856 & 0.9215214251324025\\\\\n",
       "0.019536632871184127 & 0.004978158186017075 & 0.69452 & 0.9177041758503603\\\\\n",
       "0.025397622732539368 & 0.0036335962600562207 & 0.74311 & 0.9200931893134853\\\\\n",
       "0.03301690955230118 & 0.002652190084714449 & 0.78365 & 0.9182416393738169\\\\\n",
       "0.042921982417991535 & 0.0019358541076186606 & 0.81884 & 0.9176865850731941\\\\\n",
       "0.055798577143389 & 0.0014129949235473151 & 0.84915 & 0.9183169806777824\\\\\n",
       "0.0725381502864057 & 0.0010313559509019465 & 0.87303 & 0.9178053331728164\\\\\n",
       "0.0942995953723274 & 0.0007527947055821391 & 0.89381 & 0.9141964285714286\\\\\n",
       "0.12258947398402563 & 0.0005494706926904399 & 0.91104 & 0.9159449821701477\\\\\n",
       "0.15936631617923333 & 0.00040106291912910994 & 0.92598 & 0.9125890878600946\\\\\n",
       "0.20717621103300332 & 0.000292738934469401 & 0.93549 & 0.9112363930788376\\\\\n",
       "0.2693290743429043 & 0.00021367241813420555 & 0.94831 & 0.9107684909686533\\\\\n",
       "0.35012779664577565 & 0.00015596115478821293 & 0.95506 & 0.9091421954333561\\\\\n",
       "0.45516613563950836 & 0.00011383725618528509 & 0.9623 & 0.90350405921681\\\\\n",
       "0.5917159763313609 & 8.309069597100485e-5 & 0.96794 & 0.9080359820089955\\\\\n",
       "0.7692307692307692 & 6.064854326520916e-5 & 0.97263 & 0.9023136246786633\\\\\n",
       "1.0 & 4.42678419913043e-5 & 0.97769 & NaN\\\\\n",
       "\\end{tabular}\n"
      ],
      "text/plain": [
       "L\"\\begin{tabular}{cccc}\n",
       "beta_temp & B40 & 採択率_B40 & 交換率\\\\\n",
       "0.0 & 0.05 & 0.99651 & 0.9942840041897352\\\\\n",
       "1.7858790520831557e-8 & 0.05 & 0.99663 & 0.9983583559681223\\\\\n",
       "2.3216427677081025e-8 & 0.05 & 0.9965 & 0.9979621804669004\\\\\n",
       "3.0181355980205335e-8 & 0.05 & 0.99604 & 0.9974990960588165\\\\\n",
       "3.923576277426693e-8 & 0.05 & 0.99622 & 0.9966679674601507\\\\\n",
       "5.100649160654702e-8 & 0.05 & 0.9961 & 0.994981779078798\\\\\n",
       "6.630843908851112e-8 & 0.05 & 0.99646 & 0.9933628986031918\\\\\n",
       "8.620097081506447e-8 & 0.05 & 0.99654 & 0.9923296143584769\\\\\n",
       "1.120612620595838e-7 & 0.05 & 0.99615 & 0.9903803065156992\\\\\n",
       "1.4567964067745895e-7 & 0.05 & 0.99593 & 0.9885627258339057\\\\\n",
       "1.8938353288069665e-7 & 0.05 & 0.99583 & 0.9846784570727474\\\\\n",
       "2.4619859274490565e-7 & 0.05 & 0.99559 & 0.9804939155332856\\\\\n",
       "3.2005817056837737e-7 & 0.05 & 0.99517 & 0.9776178328474247\\\\\n",
       "4.1607562173889056e-7 & 0.05 & 0.99504 & 0.9745670995670995\\\\\n",
       "5.408983082605578e-7 & 0.05 & 0.99444 & 0.9716792503506521\\\\\n",
       "7.031678007387251e-7 & 0.05 & 0.99384 & 0.9668743261051875\\\\\n",
       "9.141181409603427e-7 & 0.05 & 0.99318 & 0.9628735015208445\\\\\n",
       "1.1883535832484456e-6 & 0.05 & 0.99235 & 0.9650568700200718\\\\\n",
       "1.5448596582229793e-6 & 0.05 & 0.9918 & 0.9675626127324877\\\\\n",
       "2.008317555689873e-6 & 0.05 & 0.99073 & 0.9669669669669669\\\\\n",
       "2.610812822396835e-6 & 0.05 & 0.9904 & 0.9662404092071611\\\\\n",
       "3.3940566691158856e-6 & 0.05 & 0.9891 & 0.9664616596479535\\\\\n",
       "4.412273669850652e-6 & 0.05 & 0.98851 & 0.9605243332831098\\\\\n",
       "5.735955770805848e-6 & 0.05 & 0.98693 & 0.9565518278922822\\\\\n",
       "7.456742502047602e-6 & 0.05 & 0.98565 & 0.9454692945559428\\\\\n",
       "9.693765252661883e-6 & 0.05 & 0.98298 & 0.932480326785607\\\\\n",
       "1.2601894828460448e-5 & 0.05 & 0.97972 & 0.9117673647732409\\\\\n",
       "1.6382463276998585e-5 & 0.05 & 0.97521 & 0.8907080968031073\\\\\n",
       "2.129720226009816e-5 & 0.05 & 0.96992 & 0.8598591973042903\\\\\n",
       "2.7686362938127606e-5 & 0.05 & 0.96181 & 0.8421367112810707\\\\\n",
       "3.599227181956589e-5 & 0.05 & 0.95138 & 0.8381027048216386\\\\\n",
       "4.678995336543566e-5 & 0.05 & 0.93695 & 0.8591984172187416\\\\\n",
       "6.082693937506636e-5 & 0.05 & 0.92287 & 0.8877391878111691\\\\\n",
       "7.907502118758627e-5 & 0.05 & 0.90836 & 0.9127129593461735\\\\\n",
       "0.00010279752754386215 & 0.05 & 0.89141 & 0.9269273474777181\\\\\n",
       "0.0001336367858070208 & 0.05 & 0.87159 & 0.932319323193232\\\\\n",
       "0.00017372782154912705 & 0.05 & 0.8522 & 0.9338995678736403\\\\\n",
       "0.00022584616801386517 & 0.05 & 0.82399 & 0.9346434961938556\\\\\n",
       "0.00029360001841802474 & 0.05 & 0.79064 & 0.9275470794287596\\\\\n",
       "0.00038168002394343216 & 0.05 & 0.75208 & 0.92349743189259\\\\\n",
       "0.0004961840311264619 & 0.05 & 0.70368 & 0.9145742275810098\\\\\n",
       "0.0006450392404644004 & 0.05 & 0.65001 & 0.9080896541487309\\\\\n",
       "0.0008385510126037206 & 0.05 & 0.57955 & 0.892898295833586\\\\\n",
       "0.0010901163163848369 & 0.05 & 0.50376 & 0.8872395519691678\\\\\n",
       "0.0014171512113002878 & 0.05 & 0.42762 & 0.8722984458474988\\\\\n",
       "0.0018422965746903743 & 0.05 & 0.34405 & 0.8625254273309652\\\\\n",
       "0.0023949855470974868 & 0.05 & 0.2653 & 0.8470959027465106\\\\\n",
       "0.0031134812112267327 & 0.045101693784004054 & 0.22261 & 0.8498758934178654\\\\\n",
       "0.004047525574594753 & 0.03292007600643889 & 0.27629 & 0.8566300675675675\\\\\n",
       "0.005261783246973179 & 0.024028618735690895 & 0.34582 & 0.8768661208764749\\\\\n",
       "0.006840318221065132 & 0.01753867513040571 & 0.42355 & 0.898260426958891\\\\\n",
       "0.008892413687384672 & 0.012801614970610468 & 0.49792 & 0.9147170715633706\\\\\n",
       "0.011560137793600074 & 0.009343998029340722 & 0.57201 & 0.9198127453941407\\\\\n",
       "0.015028179131680098 & 0.006820256613932493 & 0.63856 & 0.9215214251324025\\\\\n",
       "0.019536632871184127 & 0.004978158186017075 & 0.69452 & 0.9177041758503603\\\\\n",
       "0.025397622732539368 & 0.0036335962600562207 & 0.74311 & 0.9200931893134853\\\\\n",
       "0.03301690955230118 & 0.002652190084714449 & 0.78365 & 0.9182416393738169\\\\\n",
       "0.042921982417991535 & 0.0019358541076186606 & 0.81884 & 0.9176865850731941\\\\\n",
       "0.055798577143389 & 0.0014129949235473151 & 0.84915 & 0.9183169806777824\\\\\n",
       "0.0725381502864057 & 0.0010313559509019465 & 0.87303 & 0.9178053331728164\\\\\n",
       "0.0942995953723274 & 0.0007527947055821391 & 0.89381 & 0.9141964285714286\\\\\n",
       "0.12258947398402563 & 0.0005494706926904399 & 0.91104 & 0.9159449821701477\\\\\n",
       "0.15936631617923333 & 0.00040106291912910994 & 0.92598 & 0.9125890878600946\\\\\n",
       "0.20717621103300332 & 0.000292738934469401 & 0.93549 & 0.9112363930788376\\\\\n",
       "0.2693290743429043 & 0.00021367241813420555 & 0.94831 & 0.9107684909686533\\\\\n",
       "0.35012779664577565 & 0.00015596115478821293 & 0.95506 & 0.9091421954333561\\\\\n",
       "0.45516613563950836 & 0.00011383725618528509 & 0.9623 & 0.90350405921681\\\\\n",
       "0.5917159763313609 & 8.309069597100485e-5 & 0.96794 & 0.9080359820089955\\\\\n",
       "0.7692307692307692 & 6.064854326520916e-5 & 0.97263 & 0.9023136246786633\\\\\n",
       "1.0 & 4.42678419913043e-5 & 0.97769 & NaN\\\\\n",
       "\\end{tabular}\n",
       "\""
      ]
     },
     "execution_count": 56,
     "metadata": {},
     "output_type": "execute_result"
    }
   ],
   "source": [
    "latexify(df_vin_chi; env=:table, latex=false)"
   ]
  },
  {
   "cell_type": "markdown",
   "id": "94a7a391",
   "metadata": {},
   "source": [
    "# 保存"
   ]
  },
  {
   "cell_type": "code",
   "execution_count": null,
   "id": "6fe56bf1",
   "metadata": {},
   "outputs": [],
   "source": []
  },
  {
   "cell_type": "code",
   "execution_count": 57,
   "id": "a178a8be",
   "metadata": {
    "ExecuteTime": {
     "end_time": "2022-01-20T22:51:45.883000+09:00",
     "start_time": "2022-01-20T13:51:45.268Z"
    }
   },
   "outputs": [
    {
     "data": {
      "text/html": [
       "<div class=\"data-frame\"><p>100,000 rows × 70 columns (omitted printing of 62 columns)</p><table class=\"data-frame\"><thead><tr><th></th><th>x1</th><th>x2</th><th>x3</th><th>x4</th><th>x5</th><th>x6</th><th>x7</th><th>x8</th></tr><tr><th></th><th title=\"Float64\">Float64</th><th title=\"Float64\">Float64</th><th title=\"Float64\">Float64</th><th title=\"Float64\">Float64</th><th title=\"Float64\">Float64</th><th title=\"Float64\">Float64</th><th title=\"Float64\">Float64</th><th title=\"Float64\">Float64</th></tr></thead><tbody><tr><th>1</th><td>0.745989</td><td>0.745989</td><td>0.645989</td><td>0.645989</td><td>0.645989</td><td>0.745989</td><td>0.645989</td><td>0.745989</td></tr><tr><th>2</th><td>0.795989</td><td>0.695989</td><td>0.595989</td><td>0.595989</td><td>0.695989</td><td>0.695989</td><td>0.595989</td><td>0.695989</td></tr><tr><th>3</th><td>0.545989</td><td>0.745989</td><td>0.745989</td><td>0.545989</td><td>0.745989</td><td>0.545989</td><td>0.745989</td><td>0.645989</td></tr><tr><th>4</th><td>0.495989</td><td>0.695989</td><td>0.695989</td><td>0.595989</td><td>0.695989</td><td>0.595989</td><td>0.695989</td><td>0.695989</td></tr><tr><th>5</th><td>0.545989</td><td>0.745989</td><td>0.745989</td><td>0.645989</td><td>0.745989</td><td>0.545989</td><td>0.745989</td><td>0.645989</td></tr><tr><th>6</th><td>0.795989</td><td>0.795989</td><td>0.495989</td><td>0.695989</td><td>0.695989</td><td>0.495989</td><td>0.695989</td><td>0.695989</td></tr><tr><th>7</th><td>0.845989</td><td>0.845989</td><td>0.545989</td><td>0.745989</td><td>0.645989</td><td>0.545989</td><td>0.745989</td><td>0.745989</td></tr><tr><th>8</th><td>0.895989</td><td>0.895989</td><td>0.595989</td><td>0.695989</td><td>0.595989</td><td>0.595989</td><td>0.795989</td><td>0.795989</td></tr><tr><th>9</th><td>0.945989</td><td>0.645989</td><td>0.845989</td><td>0.545989</td><td>0.845989</td><td>0.645989</td><td>0.845989</td><td>0.645989</td></tr><tr><th>10</th><td>0.995989</td><td>0.695989</td><td>0.895989</td><td>0.595989</td><td>0.795989</td><td>0.695989</td><td>0.795989</td><td>0.695989</td></tr><tr><th>11</th><td>0.945989</td><td>0.745989</td><td>0.845989</td><td>0.545989</td><td>0.845989</td><td>0.745989</td><td>0.745989</td><td>0.745989</td></tr><tr><th>12</th><td>0.795989</td><td>0.495989</td><td>0.995989</td><td>0.895989</td><td>0.695989</td><td>0.895989</td><td>0.695989</td><td>0.695989</td></tr><tr><th>13</th><td>0.845989</td><td>0.445989</td><td>0.945989</td><td>0.945989</td><td>0.745989</td><td>0.945989</td><td>0.645989</td><td>0.645989</td></tr><tr><th>14</th><td>0.895989</td><td>0.495989</td><td>0.895989</td><td>0.895989</td><td>0.695989</td><td>0.895989</td><td>0.595989</td><td>0.595989</td></tr><tr><th>15</th><td>0.545989</td><td>0.945989</td><td>0.845989</td><td>0.845989</td><td>0.745989</td><td>0.945989</td><td>0.645989</td><td>0.895989</td></tr><tr><th>16</th><td>0.595989</td><td>0.995989</td><td>0.895989</td><td>0.795989</td><td>0.795989</td><td>0.995989</td><td>0.695989</td><td>0.845989</td></tr><tr><th>17</th><td>0.645989</td><td>0.945989</td><td>0.945989</td><td>0.845989</td><td>0.745989</td><td>1.04599</td><td>0.745989</td><td>0.795989</td></tr><tr><th>18</th><td>0.695989</td><td>0.895989</td><td>0.995989</td><td>0.795989</td><td>1.09599</td><td>0.695989</td><td>0.745989</td><td>0.795989</td></tr><tr><th>19</th><td>0.745989</td><td>0.845989</td><td>1.04599</td><td>0.845989</td><td>1.14599</td><td>0.745989</td><td>0.795989</td><td>0.745989</td></tr><tr><th>20</th><td>0.695989</td><td>0.795989</td><td>0.995989</td><td>0.795989</td><td>1.19599</td><td>0.695989</td><td>0.845989</td><td>0.695989</td></tr><tr><th>21</th><td>0.645989</td><td>0.845989</td><td>1.24599</td><td>0.845989</td><td>1.04599</td><td>0.745989</td><td>0.795989</td><td>0.745989</td></tr><tr><th>22</th><td>0.695989</td><td>0.795989</td><td>1.19599</td><td>0.895989</td><td>1.09599</td><td>0.695989</td><td>0.845989</td><td>0.795989</td></tr><tr><th>23</th><td>0.645989</td><td>0.745989</td><td>1.14599</td><td>0.945989</td><td>1.04599</td><td>0.745989</td><td>0.795989</td><td>0.845989</td></tr><tr><th>24</th><td>0.595989</td><td>0.895989</td><td>1.09599</td><td>0.795989</td><td>0.845989</td><td>0.795989</td><td>1.09599</td><td>0.695989</td></tr><tr><th>25</th><td>0.545989</td><td>0.945989</td><td>1.14599</td><td>0.745989</td><td>0.895989</td><td>0.745989</td><td>1.14599</td><td>0.645989</td></tr><tr><th>26</th><td>0.595989</td><td>0.895989</td><td>1.09599</td><td>0.695989</td><td>0.845989</td><td>0.795989</td><td>1.19599</td><td>0.695989</td></tr><tr><th>27</th><td>0.645989</td><td>1.14599</td><td>0.945989</td><td>0.645989</td><td>0.745989</td><td>0.895989</td><td>1.24599</td><td>0.745989</td></tr><tr><th>28</th><td>0.595989</td><td>1.09599</td><td>0.895989</td><td>0.595989</td><td>0.795989</td><td>0.845989</td><td>1.29599</td><td>0.695989</td></tr><tr><th>29</th><td>0.645989</td><td>1.04599</td><td>0.945989</td><td>0.545989</td><td>0.745989</td><td>0.795989</td><td>1.34599</td><td>0.745989</td></tr><tr><th>30</th><td>0.695989</td><td>0.995989</td><td>0.595989</td><td>0.995989</td><td>0.695989</td><td>1.29599</td><td>0.745989</td><td>0.795989</td></tr><tr><th>&vellip;</th><td>&vellip;</td><td>&vellip;</td><td>&vellip;</td><td>&vellip;</td><td>&vellip;</td><td>&vellip;</td><td>&vellip;</td><td>&vellip;</td></tr></tbody></table></div>"
      ],
      "text/latex": [
       "\\begin{tabular}{r|ccccccccc}\n",
       "\t& x1 & x2 & x3 & x4 & x5 & x6 & x7 & x8 & \\\\\n",
       "\t\\hline\n",
       "\t& Float64 & Float64 & Float64 & Float64 & Float64 & Float64 & Float64 & Float64 & \\\\\n",
       "\t\\hline\n",
       "\t1 & 0.745989 & 0.745989 & 0.645989 & 0.645989 & 0.645989 & 0.745989 & 0.645989 & 0.745989 & $\\dots$ \\\\\n",
       "\t2 & 0.795989 & 0.695989 & 0.595989 & 0.595989 & 0.695989 & 0.695989 & 0.595989 & 0.695989 & $\\dots$ \\\\\n",
       "\t3 & 0.545989 & 0.745989 & 0.745989 & 0.545989 & 0.745989 & 0.545989 & 0.745989 & 0.645989 & $\\dots$ \\\\\n",
       "\t4 & 0.495989 & 0.695989 & 0.695989 & 0.595989 & 0.695989 & 0.595989 & 0.695989 & 0.695989 & $\\dots$ \\\\\n",
       "\t5 & 0.545989 & 0.745989 & 0.745989 & 0.645989 & 0.745989 & 0.545989 & 0.745989 & 0.645989 & $\\dots$ \\\\\n",
       "\t6 & 0.795989 & 0.795989 & 0.495989 & 0.695989 & 0.695989 & 0.495989 & 0.695989 & 0.695989 & $\\dots$ \\\\\n",
       "\t7 & 0.845989 & 0.845989 & 0.545989 & 0.745989 & 0.645989 & 0.545989 & 0.745989 & 0.745989 & $\\dots$ \\\\\n",
       "\t8 & 0.895989 & 0.895989 & 0.595989 & 0.695989 & 0.595989 & 0.595989 & 0.795989 & 0.795989 & $\\dots$ \\\\\n",
       "\t9 & 0.945989 & 0.645989 & 0.845989 & 0.545989 & 0.845989 & 0.645989 & 0.845989 & 0.645989 & $\\dots$ \\\\\n",
       "\t10 & 0.995989 & 0.695989 & 0.895989 & 0.595989 & 0.795989 & 0.695989 & 0.795989 & 0.695989 & $\\dots$ \\\\\n",
       "\t11 & 0.945989 & 0.745989 & 0.845989 & 0.545989 & 0.845989 & 0.745989 & 0.745989 & 0.745989 & $\\dots$ \\\\\n",
       "\t12 & 0.795989 & 0.495989 & 0.995989 & 0.895989 & 0.695989 & 0.895989 & 0.695989 & 0.695989 & $\\dots$ \\\\\n",
       "\t13 & 0.845989 & 0.445989 & 0.945989 & 0.945989 & 0.745989 & 0.945989 & 0.645989 & 0.645989 & $\\dots$ \\\\\n",
       "\t14 & 0.895989 & 0.495989 & 0.895989 & 0.895989 & 0.695989 & 0.895989 & 0.595989 & 0.595989 & $\\dots$ \\\\\n",
       "\t15 & 0.545989 & 0.945989 & 0.845989 & 0.845989 & 0.745989 & 0.945989 & 0.645989 & 0.895989 & $\\dots$ \\\\\n",
       "\t16 & 0.595989 & 0.995989 & 0.895989 & 0.795989 & 0.795989 & 0.995989 & 0.695989 & 0.845989 & $\\dots$ \\\\\n",
       "\t17 & 0.645989 & 0.945989 & 0.945989 & 0.845989 & 0.745989 & 1.04599 & 0.745989 & 0.795989 & $\\dots$ \\\\\n",
       "\t18 & 0.695989 & 0.895989 & 0.995989 & 0.795989 & 1.09599 & 0.695989 & 0.745989 & 0.795989 & $\\dots$ \\\\\n",
       "\t19 & 0.745989 & 0.845989 & 1.04599 & 0.845989 & 1.14599 & 0.745989 & 0.795989 & 0.745989 & $\\dots$ \\\\\n",
       "\t20 & 0.695989 & 0.795989 & 0.995989 & 0.795989 & 1.19599 & 0.695989 & 0.845989 & 0.695989 & $\\dots$ \\\\\n",
       "\t21 & 0.645989 & 0.845989 & 1.24599 & 0.845989 & 1.04599 & 0.745989 & 0.795989 & 0.745989 & $\\dots$ \\\\\n",
       "\t22 & 0.695989 & 0.795989 & 1.19599 & 0.895989 & 1.09599 & 0.695989 & 0.845989 & 0.795989 & $\\dots$ \\\\\n",
       "\t23 & 0.645989 & 0.745989 & 1.14599 & 0.945989 & 1.04599 & 0.745989 & 0.795989 & 0.845989 & $\\dots$ \\\\\n",
       "\t24 & 0.595989 & 0.895989 & 1.09599 & 0.795989 & 0.845989 & 0.795989 & 1.09599 & 0.695989 & $\\dots$ \\\\\n",
       "\t25 & 0.545989 & 0.945989 & 1.14599 & 0.745989 & 0.895989 & 0.745989 & 1.14599 & 0.645989 & $\\dots$ \\\\\n",
       "\t26 & 0.595989 & 0.895989 & 1.09599 & 0.695989 & 0.845989 & 0.795989 & 1.19599 & 0.695989 & $\\dots$ \\\\\n",
       "\t27 & 0.645989 & 1.14599 & 0.945989 & 0.645989 & 0.745989 & 0.895989 & 1.24599 & 0.745989 & $\\dots$ \\\\\n",
       "\t28 & 0.595989 & 1.09599 & 0.895989 & 0.595989 & 0.795989 & 0.845989 & 1.29599 & 0.695989 & $\\dots$ \\\\\n",
       "\t29 & 0.645989 & 1.04599 & 0.945989 & 0.545989 & 0.745989 & 0.795989 & 1.34599 & 0.745989 & $\\dots$ \\\\\n",
       "\t30 & 0.695989 & 0.995989 & 0.595989 & 0.995989 & 0.695989 & 1.29599 & 0.745989 & 0.795989 & $\\dots$ \\\\\n",
       "\t$\\dots$ & $\\dots$ & $\\dots$ & $\\dots$ & $\\dots$ & $\\dots$ & $\\dots$ & $\\dots$ & $\\dots$ &  \\\\\n",
       "\\end{tabular}\n"
      ],
      "text/plain": [
       "\u001b[1m100000×70 DataFrame\u001b[0m\n",
       "\u001b[1m    Row \u001b[0m│\u001b[1m x1        \u001b[0m\u001b[1m x2        \u001b[0m\u001b[1m x3        \u001b[0m\u001b[1m x4        \u001b[0m\u001b[1m x5        \u001b[0m\u001b[1m x6        \u001b[0m\u001b[1m x7\u001b[0m ⋯\n",
       "\u001b[1m        \u001b[0m│\u001b[90m Float64   \u001b[0m\u001b[90m Float64   \u001b[0m\u001b[90m Float64   \u001b[0m\u001b[90m Float64   \u001b[0m\u001b[90m Float64   \u001b[0m\u001b[90m Float64   \u001b[0m\u001b[90m Fl\u001b[0m ⋯\n",
       "────────┼───────────────────────────────────────────────────────────────────────\n",
       "      1 │  0.745989   0.745989   0.645989   0.645989   0.645989   0.745989  0. ⋯\n",
       "      2 │  0.795989   0.695989   0.595989   0.595989   0.695989   0.695989  0.\n",
       "      3 │  0.545989   0.745989   0.745989   0.545989   0.745989   0.545989  0.\n",
       "      4 │  0.495989   0.695989   0.695989   0.595989   0.695989   0.595989  0.\n",
       "      5 │  0.545989   0.745989   0.745989   0.645989   0.745989   0.545989  0. ⋯\n",
       "      6 │  0.795989   0.795989   0.495989   0.695989   0.695989   0.495989  0.\n",
       "      7 │  0.845989   0.845989   0.545989   0.745989   0.645989   0.545989  0.\n",
       "      8 │  0.895989   0.895989   0.595989   0.695989   0.595989   0.595989  0.\n",
       "      9 │  0.945989   0.645989   0.845989   0.545989   0.845989   0.645989  0. ⋯\n",
       "     10 │  0.995989   0.695989   0.895989   0.595989   0.795989   0.695989  0.\n",
       "     11 │  0.945989   0.745989   0.845989   0.545989   0.845989   0.745989  0.\n",
       "   ⋮    │     ⋮          ⋮          ⋮          ⋮          ⋮          ⋮         ⋱\n",
       "  99991 │ -7.5327    -6.7327     4.04805    1.57915   -0.829019  -2.63058   3.\n",
       "  99992 │ -7.5827    -6.7827     4.09805    1.52915   -0.779019  -2.68058   3. ⋯\n",
       "  99993 │ -6.8327    -7.5327     1.47915    4.04805   -2.09265   -0.729019  3.\n",
       "  99994 │ -6.7827    -7.4827     1.52915    3.99805   -2.04265   -0.679019  3.\n",
       "  99995 │ -6.8327    -7.5327     1.57915    4.04805   -1.99265   -0.629019  3.\n",
       "  99996 │ -6.7827     1.62915    3.99805   -7.4827    -2.68058   -0.579019  2. ⋯\n",
       "  99997 │ -6.7327     1.67915    3.94805   -7.4327    -2.63058   -0.629019  2.\n",
       "  99998 │ -6.6827     1.62915    3.99805   -7.3827    -2.68058   -0.679019  1.\n",
       "  99999 │ -6.7327     1.67915    4.04805   -7.3327    -2.73058   -0.729019  1.\n",
       " 100000 │ -6.7827     1.62915    4.09805   -7.2827    -2.78058   -0.679019  1. ⋯\n",
       "\u001b[36m                                               64 columns and 99979 rows omitted\u001b[0m"
      ]
     },
     "execution_count": 57,
     "metadata": {},
     "output_type": "execute_result"
    }
   ],
   "source": [
    "df_B40_chi = DataFrame(\n",
    "    B40_list_chi, :auto\n",
    ")"
   ]
  },
  {
   "cell_type": "code",
   "execution_count": 59,
   "id": "bf190760",
   "metadata": {
    "ExecuteTime": {
     "end_time": "2022-01-20T22:51:53.820000+09:00",
     "start_time": "2022-01-20T13:51:52.144Z"
    }
   },
   "outputs": [
    {
     "data": {
      "text/plain": [
       "\"/Users/nishimurarei/home/lab/data/cubic_data/check/chi/para_B40_chi.csv\""
      ]
     },
     "execution_count": 59,
     "metadata": {},
     "output_type": "execute_result"
    }
   ],
   "source": [
    "df_B40_chi |> CSV.write(path * \"para_B40_chi.csv\",delim=\",\",writeheader=true)"
   ]
  },
  {
   "cell_type": "code",
   "execution_count": 60,
   "id": "3b588025",
   "metadata": {
    "ExecuteTime": {
     "end_time": "2022-01-20T22:52:05.638000+09:00",
     "start_time": "2022-01-20T13:52:03.867Z"
    }
   },
   "outputs": [
    {
     "data": {
      "text/plain": [
       "\"/Users/nishimurarei/home/lab/data/cubic_data/check/chi/error_chi.csv\""
      ]
     },
     "execution_count": 60,
     "metadata": {},
     "output_type": "execute_result"
    }
   ],
   "source": [
    "df_error_chi = DataFrame(\n",
    "    error_func_list_chi, :auto\n",
    ")\n",
    "df_error_chi |> CSV.write(path * \"error_chi.csv\",delim=\",\",writeheader=true)"
   ]
  },
  {
   "cell_type": "markdown",
   "id": "1dbbecef",
   "metadata": {},
   "source": [
    "# 自由エネルギー"
   ]
  },
  {
   "cell_type": "code",
   "execution_count": 61,
   "id": "be4efaf6",
   "metadata": {
    "ExecuteTime": {
     "end_time": "2022-01-20T22:52:33.738000+09:00",
     "start_time": "2022-01-20T13:52:33.627Z"
    }
   },
   "outputs": [
    {
     "data": {
      "text/plain": [
       "find_free_energy_chi (generic function with 1 method)"
      ]
     },
     "execution_count": 61,
     "metadata": {},
     "output_type": "execute_result"
    }
   ],
   "source": [
    "#check_free_energy\n",
    "function find_free_energy_chi(error_func_list,burn_in)\n",
    "    #バーンイン後のエネルギー関数抽出\n",
    "    error_func_check = error_func_list[burn_in+1:end,1:end-1]\n",
    "    \n",
    "    #温度差\n",
    "    beta_dif = beta_chi[2:end] - beta_chi[1:end-1]\n",
    "    \n",
    "    #温度差をかける\n",
    "    for replica in 1:L_chi-1\n",
    "        error_func_check[:,replica] *= beta_dif[replica]\n",
    "    end\n",
    "    \n",
    "    #n,noiseをかける\n",
    "    error_func_check *= - n_chi* b_chi\n",
    "    \n",
    "    #最大値取得\n",
    "    error_func_check_max = zeros(L_chi-1)\n",
    "    for replica in 1:L_chi-1\n",
    "        error_func_check_max[replica] = maximum(error_func_check[:,replica])\n",
    "    end\n",
    "    \n",
    "    #最大値で引いたエネルギー関数\n",
    "    error_func_check_dif = copy(error_func_check)\n",
    "    for replica in 1:L_chi-1\n",
    "        error_func_check_dif[:,replica] = error_func_check[:,replica] .- error_func_check_max[replica]\n",
    "    end\n",
    "    \n",
    "    #expの肩にのせる\n",
    "    error_func_check_dif = exp.(error_func_check_dif)\n",
    "    \n",
    "    #各レプリカごとで先程の最大値を引いた差の和をとる\n",
    "    sum_for_replica = zeros(L_chi-1)\n",
    "    for replica in 1:L_chi-1\n",
    "        sum_for_replica[replica] = sum(error_func_check_dif[:,replica])\n",
    "    end\n",
    "    \n",
    "    #各レプリカごとで計算\n",
    "    for_replica = zeros(L_chi-1)\n",
    "    for replica in 1:L_chi-1\n",
    "        for_replica[replica] = error_func_check_max[replica] + log(sum_for_replica[replica]) - log(size(error_func_list)[1] - burn_in)\n",
    "    end\n",
    "    \n",
    "    #自由エネルギー\n",
    "    free_energy = - n_chi/2*(log(b_chi)-log(2*pi)) - sum(for_replica)\n",
    "    \n",
    "    return free_energy\n",
    "end"
   ]
  },
  {
   "cell_type": "code",
   "execution_count": 62,
   "id": "820a1f45",
   "metadata": {
    "ExecuteTime": {
     "end_time": "2022-01-20T22:52:48.657000+09:00",
     "start_time": "2022-01-20T13:52:48.162Z"
    }
   },
   "outputs": [
    {
     "data": {
      "text/plain": [
       "510.0813112481385"
      ]
     },
     "execution_count": 62,
     "metadata": {},
     "output_type": "execute_result"
    }
   ],
   "source": [
    "free_energy_chi = find_free_energy_chi(error_func_list_chi, Int(mc_step/2))\n",
    "free_energy_chi"
   ]
  },
  {
   "cell_type": "code",
   "execution_count": 63,
   "id": "ba9dd531",
   "metadata": {
    "ExecuteTime": {
     "end_time": "2022-01-20T22:53:08.899000+09:00",
     "start_time": "2022-01-20T13:53:08.750Z"
    }
   },
   "outputs": [
    {
     "data": {
      "text/plain": [
       "\"/Users/nishimurarei/home/lab/data/cubic_data/check/chi/free_energy.csv\""
      ]
     },
     "execution_count": 63,
     "metadata": {},
     "output_type": "execute_result"
    }
   ],
   "source": [
    "df_free_energy = DataFrame(自由エネルギー = free_energy_chi)\n",
    "df_free_energy |> CSV.write(path * \"free_energy.csv\",delim=\",\",writeheader=true)"
   ]
  },
  {
   "cell_type": "markdown",
   "id": "d4c69ae3",
   "metadata": {},
   "source": [
    "# 自由エネルギー変化"
   ]
  },
  {
   "cell_type": "code",
   "execution_count": 76,
   "id": "92115a0e",
   "metadata": {
    "ExecuteTime": {
     "end_time": "2022-01-20T22:55:57.973000+09:00",
     "start_time": "2022-01-20T13:55:57.970Z"
    }
   },
   "outputs": [
    {
     "data": {
      "text/plain": [
       "10-element Vector{Int64}:\n",
       "  10000\n",
       "  20000\n",
       "  30000\n",
       "  40000\n",
       "  50000\n",
       "  60000\n",
       "  70000\n",
       "  80000\n",
       "  90000\n",
       " 100000"
      ]
     },
     "execution_count": 76,
     "metadata": {},
     "output_type": "execute_result"
    }
   ],
   "source": [
    "list_end = Vector(10000:10000:mc_step)"
   ]
  },
  {
   "cell_type": "code",
   "execution_count": 77,
   "id": "d74ff82b",
   "metadata": {
    "ExecuteTime": {
     "end_time": "2022-01-20T22:56:00.849000+09:00",
     "start_time": "2022-01-20T13:56:00.845Z"
    }
   },
   "outputs": [
    {
     "data": {
      "text/plain": [
       "10-element Vector{Int64}:\n",
       "     1\n",
       " 10001\n",
       " 20001\n",
       " 30001\n",
       " 40001\n",
       " 50001\n",
       " 60001\n",
       " 70001\n",
       " 80001\n",
       " 90001"
      ]
     },
     "execution_count": 77,
     "metadata": {},
     "output_type": "execute_result"
    }
   ],
   "source": [
    "list_start = Vector(1:10000:mc_step)\n",
    "list_start = list_start[1:length(list_end)]"
   ]
  },
  {
   "cell_type": "code",
   "execution_count": 78,
   "id": "3cf933c5",
   "metadata": {
    "ExecuteTime": {
     "end_time": "2022-01-20T22:56:01.517000+09:00",
     "start_time": "2022-01-20T13:56:01.290Z"
    }
   },
   "outputs": [],
   "source": [
    "free_energy_list = zeros(length(list_start))\n",
    "for i in 1:length(list_start)\n",
    "    free_energy_list[i] = find_free_energy_chi(error_func_list_chi[list_start[i]:list_end[i],:],0)\n",
    "end"
   ]
  },
  {
   "cell_type": "code",
   "execution_count": 79,
   "id": "90637dc8",
   "metadata": {
    "ExecuteTime": {
     "end_time": "2022-01-20T22:56:02.442000+09:00",
     "start_time": "2022-01-20T13:56:02.439Z"
    }
   },
   "outputs": [
    {
     "data": {
      "text/plain": [
       "10-element Vector{Float64}:\n",
       " 509.64453954333\n",
       " 510.0622165880547\n",
       " 509.91197535333043\n",
       " 510.8417960326417\n",
       " 511.8576076068447\n",
       " 511.2001082927348\n",
       " 509.8703193205462\n",
       " 509.7378188815461\n",
       " 509.78540415353694\n",
       " 509.9237719862012"
      ]
     },
     "execution_count": 79,
     "metadata": {},
     "output_type": "execute_result"
    }
   ],
   "source": [
    "free_energy_list"
   ]
  },
  {
   "cell_type": "code",
   "execution_count": 84,
   "id": "5a062b93",
   "metadata": {
    "ExecuteTime": {
     "end_time": "2022-01-20T22:56:44.736000+09:00",
     "start_time": "2022-01-20T13:56:44.725Z"
    }
   },
   "outputs": [
    {
     "data": {
      "image/svg+xml": [
       "<?xml version=\"1.0\" encoding=\"utf-8\"?>\n",
       "<svg xmlns=\"http://www.w3.org/2000/svg\" xmlns:xlink=\"http://www.w3.org/1999/xlink\" width=\"600\" height=\"400\" viewBox=\"0 0 2400 1600\">\n",
       "<defs>\n",
       "  <clipPath id=\"clip3500\">\n",
       "    <rect x=\"0\" y=\"0\" width=\"2400\" height=\"1600\"/>\n",
       "  </clipPath>\n",
       "</defs>\n",
       "<path clip-path=\"url(#clip3500)\" d=\"\n",
       "M0 1600 L2400 1600 L2400 0 L0 0  Z\n",
       "  \" fill=\"#ffffff\" fill-rule=\"evenodd\" fill-opacity=\"1\"/>\n",
       "<defs>\n",
       "  <clipPath id=\"clip3501\">\n",
       "    <rect x=\"480\" y=\"0\" width=\"1681\" height=\"1600\"/>\n",
       "  </clipPath>\n",
       "</defs>\n",
       "<path clip-path=\"url(#clip3500)\" d=\"\n",
       "M269.279 1425.62 L2352.76 1425.62 L2352.76 47.2441 L269.279 47.2441  Z\n",
       "  \" fill=\"#ffffff\" fill-rule=\"evenodd\" fill-opacity=\"1\"/>\n",
       "<defs>\n",
       "  <clipPath id=\"clip3502\">\n",
       "    <rect x=\"269\" y=\"47\" width=\"2084\" height=\"1379\"/>\n",
       "  </clipPath>\n",
       "</defs>\n",
       "<polyline clip-path=\"url(#clip3502)\" style=\"stroke:#000000; stroke-width:2; stroke-opacity:0.1; fill:none\" points=\"\n",
       "  328.245,1425.62 328.245,47.2441 \n",
       "  \"/>\n",
       "<polyline clip-path=\"url(#clip3502)\" style=\"stroke:#000000; stroke-width:2; stroke-opacity:0.1; fill:none\" points=\"\n",
       "  721.354,1425.62 721.354,47.2441 \n",
       "  \"/>\n",
       "<polyline clip-path=\"url(#clip3502)\" style=\"stroke:#000000; stroke-width:2; stroke-opacity:0.1; fill:none\" points=\"\n",
       "  1114.46,1425.62 1114.46,47.2441 \n",
       "  \"/>\n",
       "<polyline clip-path=\"url(#clip3502)\" style=\"stroke:#000000; stroke-width:2; stroke-opacity:0.1; fill:none\" points=\"\n",
       "  1507.57,1425.62 1507.57,47.2441 \n",
       "  \"/>\n",
       "<polyline clip-path=\"url(#clip3502)\" style=\"stroke:#000000; stroke-width:2; stroke-opacity:0.1; fill:none\" points=\"\n",
       "  1900.68,1425.62 1900.68,47.2441 \n",
       "  \"/>\n",
       "<polyline clip-path=\"url(#clip3502)\" style=\"stroke:#000000; stroke-width:2; stroke-opacity:0.1; fill:none\" points=\"\n",
       "  2293.79,1425.62 2293.79,47.2441 \n",
       "  \"/>\n",
       "<polyline clip-path=\"url(#clip3502)\" style=\"stroke:#000000; stroke-width:2; stroke-opacity:0.1; fill:none\" points=\"\n",
       "  269.279,1225.78 2352.76,1225.78 \n",
       "  \"/>\n",
       "<polyline clip-path=\"url(#clip3502)\" style=\"stroke:#000000; stroke-width:2; stroke-opacity:0.1; fill:none\" points=\"\n",
       "  269.279,919.059 2352.76,919.059 \n",
       "  \"/>\n",
       "<polyline clip-path=\"url(#clip3502)\" style=\"stroke:#000000; stroke-width:2; stroke-opacity:0.1; fill:none\" points=\"\n",
       "  269.279,612.342 2352.76,612.342 \n",
       "  \"/>\n",
       "<polyline clip-path=\"url(#clip3502)\" style=\"stroke:#000000; stroke-width:2; stroke-opacity:0.1; fill:none\" points=\"\n",
       "  269.279,305.624 2352.76,305.624 \n",
       "  \"/>\n",
       "<polyline clip-path=\"url(#clip3500)\" style=\"stroke:#000000; stroke-width:4; stroke-opacity:1; fill:none\" points=\"\n",
       "  269.279,1425.62 2352.76,1425.62 \n",
       "  \"/>\n",
       "<polyline clip-path=\"url(#clip3500)\" style=\"stroke:#000000; stroke-width:4; stroke-opacity:1; fill:none\" points=\"\n",
       "  269.279,1425.62 269.279,47.2441 \n",
       "  \"/>\n",
       "<polyline clip-path=\"url(#clip3500)\" style=\"stroke:#000000; stroke-width:4; stroke-opacity:1; fill:none\" points=\"\n",
       "  328.245,1425.62 328.245,1409.08 \n",
       "  \"/>\n",
       "<polyline clip-path=\"url(#clip3500)\" style=\"stroke:#000000; stroke-width:4; stroke-opacity:1; fill:none\" points=\"\n",
       "  721.354,1425.62 721.354,1409.08 \n",
       "  \"/>\n",
       "<polyline clip-path=\"url(#clip3500)\" style=\"stroke:#000000; stroke-width:4; stroke-opacity:1; fill:none\" points=\"\n",
       "  1114.46,1425.62 1114.46,1409.08 \n",
       "  \"/>\n",
       "<polyline clip-path=\"url(#clip3500)\" style=\"stroke:#000000; stroke-width:4; stroke-opacity:1; fill:none\" points=\"\n",
       "  1507.57,1425.62 1507.57,1409.08 \n",
       "  \"/>\n",
       "<polyline clip-path=\"url(#clip3500)\" style=\"stroke:#000000; stroke-width:4; stroke-opacity:1; fill:none\" points=\"\n",
       "  1900.68,1425.62 1900.68,1409.08 \n",
       "  \"/>\n",
       "<polyline clip-path=\"url(#clip3500)\" style=\"stroke:#000000; stroke-width:4; stroke-opacity:1; fill:none\" points=\"\n",
       "  2293.79,1425.62 2293.79,1409.08 \n",
       "  \"/>\n",
       "<polyline clip-path=\"url(#clip3500)\" style=\"stroke:#000000; stroke-width:4; stroke-opacity:1; fill:none\" points=\"\n",
       "  269.279,1225.78 294.28,1225.78 \n",
       "  \"/>\n",
       "<polyline clip-path=\"url(#clip3500)\" style=\"stroke:#000000; stroke-width:4; stroke-opacity:1; fill:none\" points=\"\n",
       "  269.279,919.059 294.28,919.059 \n",
       "  \"/>\n",
       "<polyline clip-path=\"url(#clip3500)\" style=\"stroke:#000000; stroke-width:4; stroke-opacity:1; fill:none\" points=\"\n",
       "  269.279,612.342 294.28,612.342 \n",
       "  \"/>\n",
       "<polyline clip-path=\"url(#clip3500)\" style=\"stroke:#000000; stroke-width:4; stroke-opacity:1; fill:none\" points=\"\n",
       "  269.279,305.624 294.28,305.624 \n",
       "  \"/>\n",
       "<g clip-path=\"url(#clip3500)\">\n",
       "<text style=\"fill:#000000; fill-opacity:1; font-family:Arial,Helvetica Neue,Helvetica,sans-serif; font-size:48px; text-anchor:start;\" transform=\"rotate(0, 263.174, 1500.63)\" x=\"263.174\" y=\"1500.63\">5×10</text>\n",
       "</g>\n",
       "<g clip-path=\"url(#clip3500)\">\n",
       "<text style=\"fill:#000000; fill-opacity:1; font-family:Arial,Helvetica Neue,Helvetica,sans-serif; font-size:38px; text-anchor:start;\" transform=\"rotate(0, 371.571, 1473.22)\" x=\"371.571\" y=\"1473.22\">4</text>\n",
       "</g>\n",
       "<g clip-path=\"url(#clip3500)\">\n",
       "<text style=\"fill:#000000; fill-opacity:1; font-family:Arial,Helvetica Neue,Helvetica,sans-serif; font-size:48px; text-anchor:start;\" transform=\"rotate(0, 656.283, 1500.63)\" x=\"656.283\" y=\"1500.63\">6×10</text>\n",
       "</g>\n",
       "<g clip-path=\"url(#clip3500)\">\n",
       "<text style=\"fill:#000000; fill-opacity:1; font-family:Arial,Helvetica Neue,Helvetica,sans-serif; font-size:38px; text-anchor:start;\" transform=\"rotate(0, 764.68, 1473.22)\" x=\"764.68\" y=\"1473.22\">4</text>\n",
       "</g>\n",
       "<g clip-path=\"url(#clip3500)\">\n",
       "<text style=\"fill:#000000; fill-opacity:1; font-family:Arial,Helvetica Neue,Helvetica,sans-serif; font-size:48px; text-anchor:start;\" transform=\"rotate(0, 1049.39, 1500.63)\" x=\"1049.39\" y=\"1500.63\">7×10</text>\n",
       "</g>\n",
       "<g clip-path=\"url(#clip3500)\">\n",
       "<text style=\"fill:#000000; fill-opacity:1; font-family:Arial,Helvetica Neue,Helvetica,sans-serif; font-size:38px; text-anchor:start;\" transform=\"rotate(0, 1157.79, 1473.22)\" x=\"1157.79\" y=\"1473.22\">4</text>\n",
       "</g>\n",
       "<g clip-path=\"url(#clip3500)\">\n",
       "<text style=\"fill:#000000; fill-opacity:1; font-family:Arial,Helvetica Neue,Helvetica,sans-serif; font-size:48px; text-anchor:start;\" transform=\"rotate(0, 1442.5, 1500.63)\" x=\"1442.5\" y=\"1500.63\">8×10</text>\n",
       "</g>\n",
       "<g clip-path=\"url(#clip3500)\">\n",
       "<text style=\"fill:#000000; fill-opacity:1; font-family:Arial,Helvetica Neue,Helvetica,sans-serif; font-size:38px; text-anchor:start;\" transform=\"rotate(0, 1550.9, 1473.22)\" x=\"1550.9\" y=\"1473.22\">4</text>\n",
       "</g>\n",
       "<g clip-path=\"url(#clip3500)\">\n",
       "<text style=\"fill:#000000; fill-opacity:1; font-family:Arial,Helvetica Neue,Helvetica,sans-serif; font-size:48px; text-anchor:start;\" transform=\"rotate(0, 1835.61, 1500.63)\" x=\"1835.61\" y=\"1500.63\">9×10</text>\n",
       "</g>\n",
       "<g clip-path=\"url(#clip3500)\">\n",
       "<text style=\"fill:#000000; fill-opacity:1; font-family:Arial,Helvetica Neue,Helvetica,sans-serif; font-size:38px; text-anchor:start;\" transform=\"rotate(0, 1944.01, 1473.22)\" x=\"1944.01\" y=\"1473.22\">4</text>\n",
       "</g>\n",
       "<g clip-path=\"url(#clip3500)\">\n",
       "<text style=\"fill:#000000; fill-opacity:1; font-family:Arial,Helvetica Neue,Helvetica,sans-serif; font-size:48px; text-anchor:start;\" transform=\"rotate(0, 2228.72, 1500.63)\" x=\"2228.72\" y=\"1500.63\">1×10</text>\n",
       "</g>\n",
       "<g clip-path=\"url(#clip3500)\">\n",
       "<text style=\"fill:#000000; fill-opacity:1; font-family:Arial,Helvetica Neue,Helvetica,sans-serif; font-size:38px; text-anchor:start;\" transform=\"rotate(0, 2337.12, 1473.22)\" x=\"2337.12\" y=\"1473.22\">5</text>\n",
       "</g>\n",
       "<g clip-path=\"url(#clip3500)\">\n",
       "<text style=\"fill:#000000; fill-opacity:1; font-family:Arial,Helvetica Neue,Helvetica,sans-serif; font-size:48px; text-anchor:end;\" transform=\"rotate(0, 245.279, 1243.28)\" x=\"245.279\" y=\"1243.28\">510.0</text>\n",
       "</g>\n",
       "<g clip-path=\"url(#clip3500)\">\n",
       "<text style=\"fill:#000000; fill-opacity:1; font-family:Arial,Helvetica Neue,Helvetica,sans-serif; font-size:48px; text-anchor:end;\" transform=\"rotate(0, 245.279, 936.559)\" x=\"245.279\" y=\"936.559\">510.5</text>\n",
       "</g>\n",
       "<g clip-path=\"url(#clip3500)\">\n",
       "<text style=\"fill:#000000; fill-opacity:1; font-family:Arial,Helvetica Neue,Helvetica,sans-serif; font-size:48px; text-anchor:end;\" transform=\"rotate(0, 245.279, 629.842)\" x=\"245.279\" y=\"629.842\">511.0</text>\n",
       "</g>\n",
       "<g clip-path=\"url(#clip3500)\">\n",
       "<text style=\"fill:#000000; fill-opacity:1; font-family:Arial,Helvetica Neue,Helvetica,sans-serif; font-size:48px; text-anchor:end;\" transform=\"rotate(0, 245.279, 323.124)\" x=\"245.279\" y=\"323.124\">511.5</text>\n",
       "</g>\n",
       "<g clip-path=\"url(#clip3500)\">\n",
       "<text style=\"fill:#000000; fill-opacity:1; font-family:Arial,Helvetica Neue,Helvetica,sans-serif; font-size:66px; text-anchor:middle;\" transform=\"rotate(0, 1311.02, 1559.48)\" x=\"1311.02\" y=\"1559.48\">mc step</text>\n",
       "</g>\n",
       "<g clip-path=\"url(#clip3500)\">\n",
       "<text style=\"fill:#000000; fill-opacity:1; font-family:Arial,Helvetica Neue,Helvetica,sans-serif; font-size:66px; text-anchor:middle;\" transform=\"rotate(-90, 89.2861, 736.431)\" x=\"89.2861\" y=\"736.431\">free energy</text>\n",
       "</g>\n",
       "<polyline clip-path=\"url(#clip3502)\" style=\"stroke:#009af9; stroke-width:4; stroke-opacity:1; fill:none\" points=\"\n",
       "  328.245,86.2547 721.354,489.588 1114.46,1305.33 1507.57,1386.61 1900.68,1357.42 2293.79,1272.54 \n",
       "  \"/>\n",
       "</svg>\n"
      ]
     },
     "execution_count": 84,
     "metadata": {},
     "output_type": "execute_result"
    }
   ],
   "source": [
    "start_num = 5\n",
    "plot(list_end[start_num:end],free_energy_list[start_num:end])\n",
    "plot!(xlabel=\"mc step\",ylabel=\"free energy\")\n",
    "plot!(legend=false)"
   ]
  },
  {
   "cell_type": "code",
   "execution_count": 85,
   "id": "54262171",
   "metadata": {
    "ExecuteTime": {
     "end_time": "2022-01-20T22:56:52.096000+09:00",
     "start_time": "2022-01-20T13:56:52.087Z"
    }
   },
   "outputs": [],
   "source": [
    "savefig(path * \"free_energy_change.pdf\")"
   ]
  },
  {
   "cell_type": "markdown",
   "id": "762b8437",
   "metadata": {},
   "source": [
    "# 事後分布"
   ]
  },
  {
   "cell_type": "code",
   "execution_count": 87,
   "id": "08a6e9ba",
   "metadata": {
    "ExecuteTime": {
     "end_time": "2022-01-20T22:57:57.371000+09:00",
     "start_time": "2022-01-20T13:57:57.131Z"
    }
   },
   "outputs": [
    {
     "data": {
      "image/svg+xml": [
       "<?xml version=\"1.0\" encoding=\"utf-8\"?>\n",
       "<svg xmlns=\"http://www.w3.org/2000/svg\" xmlns:xlink=\"http://www.w3.org/1999/xlink\" width=\"600\" height=\"400\" viewBox=\"0 0 2400 1600\">\n",
       "<defs>\n",
       "  <clipPath id=\"clip4400\">\n",
       "    <rect x=\"0\" y=\"0\" width=\"2400\" height=\"1600\"/>\n",
       "  </clipPath>\n",
       "</defs>\n",
       "<path clip-path=\"url(#clip4400)\" d=\"\n",
       "M0 1600 L2400 1600 L2400 0 L0 0  Z\n",
       "  \" fill=\"#ffffff\" fill-rule=\"evenodd\" fill-opacity=\"1\"/>\n",
       "<defs>\n",
       "  <clipPath id=\"clip4401\">\n",
       "    <rect x=\"480\" y=\"0\" width=\"1681\" height=\"1600\"/>\n",
       "  </clipPath>\n",
       "</defs>\n",
       "<path clip-path=\"url(#clip4400)\" d=\"\n",
       "M255.898 1425.62 L2352.76 1425.62 L2352.76 47.2441 L255.898 47.2441  Z\n",
       "  \" fill=\"#ffffff\" fill-rule=\"evenodd\" fill-opacity=\"1\"/>\n",
       "<defs>\n",
       "  <clipPath id=\"clip4402\">\n",
       "    <rect x=\"255\" y=\"47\" width=\"2098\" height=\"1379\"/>\n",
       "  </clipPath>\n",
       "</defs>\n",
       "<polyline clip-path=\"url(#clip4402)\" style=\"stroke:#000000; stroke-width:2; stroke-opacity:0.1; fill:none\" points=\"\n",
       "  417.307,1425.62 417.307,47.2441 \n",
       "  \"/>\n",
       "<polyline clip-path=\"url(#clip4402)\" style=\"stroke:#000000; stroke-width:2; stroke-opacity:0.1; fill:none\" points=\"\n",
       "  878.097,1425.62 878.097,47.2441 \n",
       "  \"/>\n",
       "<polyline clip-path=\"url(#clip4402)\" style=\"stroke:#000000; stroke-width:2; stroke-opacity:0.1; fill:none\" points=\"\n",
       "  1338.89,1425.62 1338.89,47.2441 \n",
       "  \"/>\n",
       "<polyline clip-path=\"url(#clip4402)\" style=\"stroke:#000000; stroke-width:2; stroke-opacity:0.1; fill:none\" points=\"\n",
       "  1799.68,1425.62 1799.68,47.2441 \n",
       "  \"/>\n",
       "<polyline clip-path=\"url(#clip4402)\" style=\"stroke:#000000; stroke-width:2; stroke-opacity:0.1; fill:none\" points=\"\n",
       "  2260.46,1425.62 2260.46,47.2441 \n",
       "  \"/>\n",
       "<polyline clip-path=\"url(#clip4402)\" style=\"stroke:#000000; stroke-width:2; stroke-opacity:0.1; fill:none\" points=\"\n",
       "  255.898,1386.61 2352.76,1386.61 \n",
       "  \"/>\n",
       "<polyline clip-path=\"url(#clip4402)\" style=\"stroke:#000000; stroke-width:2; stroke-opacity:0.1; fill:none\" points=\"\n",
       "  255.898,1136.54 2352.76,1136.54 \n",
       "  \"/>\n",
       "<polyline clip-path=\"url(#clip4402)\" style=\"stroke:#000000; stroke-width:2; stroke-opacity:0.1; fill:none\" points=\"\n",
       "  255.898,886.472 2352.76,886.472 \n",
       "  \"/>\n",
       "<polyline clip-path=\"url(#clip4402)\" style=\"stroke:#000000; stroke-width:2; stroke-opacity:0.1; fill:none\" points=\"\n",
       "  255.898,636.404 2352.76,636.404 \n",
       "  \"/>\n",
       "<polyline clip-path=\"url(#clip4402)\" style=\"stroke:#000000; stroke-width:2; stroke-opacity:0.1; fill:none\" points=\"\n",
       "  255.898,386.336 2352.76,386.336 \n",
       "  \"/>\n",
       "<polyline clip-path=\"url(#clip4402)\" style=\"stroke:#000000; stroke-width:2; stroke-opacity:0.1; fill:none\" points=\"\n",
       "  255.898,136.268 2352.76,136.268 \n",
       "  \"/>\n",
       "<polyline clip-path=\"url(#clip4400)\" style=\"stroke:#000000; stroke-width:4; stroke-opacity:1; fill:none\" points=\"\n",
       "  255.898,1425.62 2352.76,1425.62 \n",
       "  \"/>\n",
       "<polyline clip-path=\"url(#clip4400)\" style=\"stroke:#000000; stroke-width:4; stroke-opacity:1; fill:none\" points=\"\n",
       "  255.898,1425.62 255.898,47.2441 \n",
       "  \"/>\n",
       "<polyline clip-path=\"url(#clip4400)\" style=\"stroke:#000000; stroke-width:4; stroke-opacity:1; fill:none\" points=\"\n",
       "  417.307,1425.62 417.307,1409.08 \n",
       "  \"/>\n",
       "<polyline clip-path=\"url(#clip4400)\" style=\"stroke:#000000; stroke-width:4; stroke-opacity:1; fill:none\" points=\"\n",
       "  878.097,1425.62 878.097,1409.08 \n",
       "  \"/>\n",
       "<polyline clip-path=\"url(#clip4400)\" style=\"stroke:#000000; stroke-width:4; stroke-opacity:1; fill:none\" points=\"\n",
       "  1338.89,1425.62 1338.89,1409.08 \n",
       "  \"/>\n",
       "<polyline clip-path=\"url(#clip4400)\" style=\"stroke:#000000; stroke-width:4; stroke-opacity:1; fill:none\" points=\"\n",
       "  1799.68,1425.62 1799.68,1409.08 \n",
       "  \"/>\n",
       "<polyline clip-path=\"url(#clip4400)\" style=\"stroke:#000000; stroke-width:4; stroke-opacity:1; fill:none\" points=\"\n",
       "  2260.46,1425.62 2260.46,1409.08 \n",
       "  \"/>\n",
       "<polyline clip-path=\"url(#clip4400)\" style=\"stroke:#000000; stroke-width:4; stroke-opacity:1; fill:none\" points=\"\n",
       "  255.898,1386.61 281.06,1386.61 \n",
       "  \"/>\n",
       "<polyline clip-path=\"url(#clip4400)\" style=\"stroke:#000000; stroke-width:4; stroke-opacity:1; fill:none\" points=\"\n",
       "  255.898,1136.54 281.06,1136.54 \n",
       "  \"/>\n",
       "<polyline clip-path=\"url(#clip4400)\" style=\"stroke:#000000; stroke-width:4; stroke-opacity:1; fill:none\" points=\"\n",
       "  255.898,886.472 281.06,886.472 \n",
       "  \"/>\n",
       "<polyline clip-path=\"url(#clip4400)\" style=\"stroke:#000000; stroke-width:4; stroke-opacity:1; fill:none\" points=\"\n",
       "  255.898,636.404 281.06,636.404 \n",
       "  \"/>\n",
       "<polyline clip-path=\"url(#clip4400)\" style=\"stroke:#000000; stroke-width:4; stroke-opacity:1; fill:none\" points=\"\n",
       "  255.898,386.336 281.06,386.336 \n",
       "  \"/>\n",
       "<polyline clip-path=\"url(#clip4400)\" style=\"stroke:#000000; stroke-width:4; stroke-opacity:1; fill:none\" points=\"\n",
       "  255.898,136.268 281.06,136.268 \n",
       "  \"/>\n",
       "<g clip-path=\"url(#clip4400)\">\n",
       "<text style=\"fill:#000000; fill-opacity:1; font-family:Arial,Helvetica Neue,Helvetica,sans-serif; font-size:48px; text-anchor:middle;\" transform=\"rotate(0, 417.307, 1479.62)\" x=\"417.307\" y=\"1479.62\">0.114</text>\n",
       "</g>\n",
       "<g clip-path=\"url(#clip4400)\">\n",
       "<text style=\"fill:#000000; fill-opacity:1; font-family:Arial,Helvetica Neue,Helvetica,sans-serif; font-size:48px; text-anchor:middle;\" transform=\"rotate(0, 878.097, 1479.62)\" x=\"878.097\" y=\"1479.62\">0.116</text>\n",
       "</g>\n",
       "<g clip-path=\"url(#clip4400)\">\n",
       "<text style=\"fill:#000000; fill-opacity:1; font-family:Arial,Helvetica Neue,Helvetica,sans-serif; font-size:48px; text-anchor:middle;\" transform=\"rotate(0, 1338.89, 1479.62)\" x=\"1338.89\" y=\"1479.62\">0.118</text>\n",
       "</g>\n",
       "<g clip-path=\"url(#clip4400)\">\n",
       "<text style=\"fill:#000000; fill-opacity:1; font-family:Arial,Helvetica Neue,Helvetica,sans-serif; font-size:48px; text-anchor:middle;\" transform=\"rotate(0, 1799.68, 1479.62)\" x=\"1799.68\" y=\"1479.62\">0.120</text>\n",
       "</g>\n",
       "<g clip-path=\"url(#clip4400)\">\n",
       "<text style=\"fill:#000000; fill-opacity:1; font-family:Arial,Helvetica Neue,Helvetica,sans-serif; font-size:48px; text-anchor:middle;\" transform=\"rotate(0, 2260.46, 1479.62)\" x=\"2260.46\" y=\"1479.62\">0.122</text>\n",
       "</g>\n",
       "<g clip-path=\"url(#clip4400)\">\n",
       "<text style=\"fill:#000000; fill-opacity:1; font-family:Arial,Helvetica Neue,Helvetica,sans-serif; font-size:48px; text-anchor:end;\" transform=\"rotate(0, 231.898, 1404.11)\" x=\"231.898\" y=\"1404.11\">0</text>\n",
       "</g>\n",
       "<g clip-path=\"url(#clip4400)\">\n",
       "<text style=\"fill:#000000; fill-opacity:1; font-family:Arial,Helvetica Neue,Helvetica,sans-serif; font-size:48px; text-anchor:end;\" transform=\"rotate(0, 231.898, 1154.04)\" x=\"231.898\" y=\"1154.04\">500</text>\n",
       "</g>\n",
       "<g clip-path=\"url(#clip4400)\">\n",
       "<text style=\"fill:#000000; fill-opacity:1; font-family:Arial,Helvetica Neue,Helvetica,sans-serif; font-size:48px; text-anchor:end;\" transform=\"rotate(0, 231.898, 903.972)\" x=\"231.898\" y=\"903.972\">1000</text>\n",
       "</g>\n",
       "<g clip-path=\"url(#clip4400)\">\n",
       "<text style=\"fill:#000000; fill-opacity:1; font-family:Arial,Helvetica Neue,Helvetica,sans-serif; font-size:48px; text-anchor:end;\" transform=\"rotate(0, 231.898, 653.904)\" x=\"231.898\" y=\"653.904\">1500</text>\n",
       "</g>\n",
       "<g clip-path=\"url(#clip4400)\">\n",
       "<text style=\"fill:#000000; fill-opacity:1; font-family:Arial,Helvetica Neue,Helvetica,sans-serif; font-size:48px; text-anchor:end;\" transform=\"rotate(0, 231.898, 403.836)\" x=\"231.898\" y=\"403.836\">2000</text>\n",
       "</g>\n",
       "<g clip-path=\"url(#clip4400)\">\n",
       "<text style=\"fill:#000000; fill-opacity:1; font-family:Arial,Helvetica Neue,Helvetica,sans-serif; font-size:48px; text-anchor:end;\" transform=\"rotate(0, 231.898, 153.768)\" x=\"231.898\" y=\"153.768\">2500</text>\n",
       "</g>\n",
       "<g clip-path=\"url(#clip4400)\">\n",
       "<text style=\"fill:#000000; fill-opacity:1; font-family:Arial,Helvetica Neue,Helvetica,sans-serif; font-size:66px; text-anchor:middle;\" transform=\"rotate(0, 1304.33, 1559.48)\" x=\"1304.33\" y=\"1559.48\">B40</text>\n",
       "</g>\n",
       "<g clip-path=\"url(#clip4400)\">\n",
       "<text style=\"fill:#000000; fill-opacity:1; font-family:Arial,Helvetica Neue,Helvetica,sans-serif; font-size:66px; text-anchor:middle;\" transform=\"rotate(-90, 89.2861, 736.431)\" x=\"89.2861\" y=\"736.431\">Number of acceptance</text>\n",
       "</g>\n",
       "<path clip-path=\"url(#clip4402)\" d=\"\n",
       "M371.229 1386.11 L371.229 1386.61 L394.268 1386.61 L394.268 1386.11 L371.229 1386.11 L371.229 1386.11  Z\n",
       "  \" fill=\"#009af9\" fill-rule=\"evenodd\" fill-opacity=\"0.5\"/>\n",
       "<polyline clip-path=\"url(#clip4402)\" style=\"stroke:#000000; stroke-width:4; stroke-opacity:0.5; fill:none\" points=\"\n",
       "  371.229,1386.11 371.229,1386.61 394.268,1386.61 394.268,1386.11 371.229,1386.11 \n",
       "  \"/>\n",
       "<path clip-path=\"url(#clip4402)\" d=\"\n",
       "M394.268 1385.61 L394.268 1386.61 L417.307 1386.61 L417.307 1385.61 L394.268 1385.61 L394.268 1385.61  Z\n",
       "  \" fill=\"#009af9\" fill-rule=\"evenodd\" fill-opacity=\"0.5\"/>\n",
       "<polyline clip-path=\"url(#clip4402)\" style=\"stroke:#000000; stroke-width:4; stroke-opacity:0.5; fill:none\" points=\"\n",
       "  394.268,1385.61 394.268,1386.61 417.307,1386.61 417.307,1385.61 394.268,1385.61 \n",
       "  \"/>\n",
       "<path clip-path=\"url(#clip4402)\" d=\"\n",
       "M417.307 1386.61 L417.307 1386.61 L440.347 1386.61 L440.347 1386.61 L417.307 1386.61 L417.307 1386.61  Z\n",
       "  \" fill=\"#009af9\" fill-rule=\"evenodd\" fill-opacity=\"0.5\"/>\n",
       "<polyline clip-path=\"url(#clip4402)\" style=\"stroke:#000000; stroke-width:4; stroke-opacity:0.5; fill:none\" points=\"\n",
       "  417.307,1386.61 417.307,1386.61 440.347,1386.61 417.307,1386.61 \n",
       "  \"/>\n",
       "<path clip-path=\"url(#clip4402)\" d=\"\n",
       "M440.347 1385.11 L440.347 1386.61 L463.386 1386.61 L463.386 1385.11 L440.347 1385.11 L440.347 1385.11  Z\n",
       "  \" fill=\"#009af9\" fill-rule=\"evenodd\" fill-opacity=\"0.5\"/>\n",
       "<polyline clip-path=\"url(#clip4402)\" style=\"stroke:#000000; stroke-width:4; stroke-opacity:0.5; fill:none\" points=\"\n",
       "  440.347,1385.11 440.347,1386.61 463.386,1386.61 463.386,1385.11 440.347,1385.11 \n",
       "  \"/>\n",
       "<path clip-path=\"url(#clip4402)\" d=\"\n",
       "M463.386 1380.11 L463.386 1386.61 L486.426 1386.61 L486.426 1380.11 L463.386 1380.11 L463.386 1380.11  Z\n",
       "  \" fill=\"#009af9\" fill-rule=\"evenodd\" fill-opacity=\"0.5\"/>\n",
       "<polyline clip-path=\"url(#clip4402)\" style=\"stroke:#000000; stroke-width:4; stroke-opacity:0.5; fill:none\" points=\"\n",
       "  463.386,1380.11 463.386,1386.61 486.426,1386.61 486.426,1380.11 463.386,1380.11 \n",
       "  \"/>\n",
       "<path clip-path=\"url(#clip4402)\" d=\"\n",
       "M486.426 1377.61 L486.426 1386.61 L509.465 1386.61 L509.465 1377.61 L486.426 1377.61 L486.426 1377.61  Z\n",
       "  \" fill=\"#009af9\" fill-rule=\"evenodd\" fill-opacity=\"0.5\"/>\n",
       "<polyline clip-path=\"url(#clip4402)\" style=\"stroke:#000000; stroke-width:4; stroke-opacity:0.5; fill:none\" points=\"\n",
       "  486.426,1377.61 486.426,1386.61 509.465,1386.61 509.465,1377.61 486.426,1377.61 \n",
       "  \"/>\n",
       "<path clip-path=\"url(#clip4402)\" d=\"\n",
       "M509.465 1378.61 L509.465 1386.61 L532.505 1386.61 L532.505 1378.61 L509.465 1378.61 L509.465 1378.61  Z\n",
       "  \" fill=\"#009af9\" fill-rule=\"evenodd\" fill-opacity=\"0.5\"/>\n",
       "<polyline clip-path=\"url(#clip4402)\" style=\"stroke:#000000; stroke-width:4; stroke-opacity:0.5; fill:none\" points=\"\n",
       "  509.465,1378.61 509.465,1386.61 532.505,1386.61 532.505,1378.61 509.465,1378.61 \n",
       "  \"/>\n",
       "<path clip-path=\"url(#clip4402)\" d=\"\n",
       "M532.505 1382.61 L532.505 1386.61 L555.544 1386.61 L555.544 1382.61 L532.505 1382.61 L532.505 1382.61  Z\n",
       "  \" fill=\"#009af9\" fill-rule=\"evenodd\" fill-opacity=\"0.5\"/>\n",
       "<polyline clip-path=\"url(#clip4402)\" style=\"stroke:#000000; stroke-width:4; stroke-opacity:0.5; fill:none\" points=\"\n",
       "  532.505,1382.61 532.505,1386.61 555.544,1386.61 555.544,1382.61 532.505,1382.61 \n",
       "  \"/>\n",
       "<path clip-path=\"url(#clip4402)\" d=\"\n",
       "M555.544 1379.61 L555.544 1386.61 L578.584 1386.61 L578.584 1379.61 L555.544 1379.61 L555.544 1379.61  Z\n",
       "  \" fill=\"#009af9\" fill-rule=\"evenodd\" fill-opacity=\"0.5\"/>\n",
       "<polyline clip-path=\"url(#clip4402)\" style=\"stroke:#000000; stroke-width:4; stroke-opacity:0.5; fill:none\" points=\"\n",
       "  555.544,1379.61 555.544,1386.61 578.584,1386.61 578.584,1379.61 555.544,1379.61 \n",
       "  \"/>\n",
       "<path clip-path=\"url(#clip4402)\" d=\"\n",
       "M578.584 1372.6 L578.584 1386.61 L601.623 1386.61 L601.623 1372.6 L578.584 1372.6 L578.584 1372.6  Z\n",
       "  \" fill=\"#009af9\" fill-rule=\"evenodd\" fill-opacity=\"0.5\"/>\n",
       "<polyline clip-path=\"url(#clip4402)\" style=\"stroke:#000000; stroke-width:4; stroke-opacity:0.5; fill:none\" points=\"\n",
       "  578.584,1372.6 578.584,1386.61 601.623,1386.61 601.623,1372.6 578.584,1372.6 \n",
       "  \"/>\n",
       "<path clip-path=\"url(#clip4402)\" d=\"\n",
       "M601.623 1372.1 L601.623 1386.61 L624.663 1386.61 L624.663 1372.1 L601.623 1372.1 L601.623 1372.1  Z\n",
       "  \" fill=\"#009af9\" fill-rule=\"evenodd\" fill-opacity=\"0.5\"/>\n",
       "<polyline clip-path=\"url(#clip4402)\" style=\"stroke:#000000; stroke-width:4; stroke-opacity:0.5; fill:none\" points=\"\n",
       "  601.623,1372.1 601.623,1386.61 624.663,1386.61 624.663,1372.1 601.623,1372.1 \n",
       "  \"/>\n",
       "<path clip-path=\"url(#clip4402)\" d=\"\n",
       "M624.663 1359.6 L624.663 1386.61 L647.702 1386.61 L647.702 1359.6 L624.663 1359.6 L624.663 1359.6  Z\n",
       "  \" fill=\"#009af9\" fill-rule=\"evenodd\" fill-opacity=\"0.5\"/>\n",
       "<polyline clip-path=\"url(#clip4402)\" style=\"stroke:#000000; stroke-width:4; stroke-opacity:0.5; fill:none\" points=\"\n",
       "  624.663,1359.6 624.663,1386.61 647.702,1386.61 647.702,1359.6 624.663,1359.6 \n",
       "  \"/>\n",
       "<path clip-path=\"url(#clip4402)\" d=\"\n",
       "M647.702 1348.1 L647.702 1386.61 L670.742 1386.61 L670.742 1348.1 L647.702 1348.1 L647.702 1348.1  Z\n",
       "  \" fill=\"#009af9\" fill-rule=\"evenodd\" fill-opacity=\"0.5\"/>\n",
       "<polyline clip-path=\"url(#clip4402)\" style=\"stroke:#000000; stroke-width:4; stroke-opacity:0.5; fill:none\" points=\"\n",
       "  647.702,1348.1 647.702,1386.61 670.742,1386.61 670.742,1348.1 647.702,1348.1 \n",
       "  \"/>\n",
       "<path clip-path=\"url(#clip4402)\" d=\"\n",
       "M670.742 1351.6 L670.742 1386.61 L693.781 1386.61 L693.781 1351.6 L670.742 1351.6 L670.742 1351.6  Z\n",
       "  \" fill=\"#009af9\" fill-rule=\"evenodd\" fill-opacity=\"0.5\"/>\n",
       "<polyline clip-path=\"url(#clip4402)\" style=\"stroke:#000000; stroke-width:4; stroke-opacity:0.5; fill:none\" points=\"\n",
       "  670.742,1351.6 670.742,1386.61 693.781,1386.61 693.781,1351.6 670.742,1351.6 \n",
       "  \"/>\n",
       "<path clip-path=\"url(#clip4402)\" d=\"\n",
       "M693.781 1329.09 L693.781 1386.61 L716.82 1386.61 L716.82 1329.09 L693.781 1329.09 L693.781 1329.09  Z\n",
       "  \" fill=\"#009af9\" fill-rule=\"evenodd\" fill-opacity=\"0.5\"/>\n",
       "<polyline clip-path=\"url(#clip4402)\" style=\"stroke:#000000; stroke-width:4; stroke-opacity:0.5; fill:none\" points=\"\n",
       "  693.781,1329.09 693.781,1386.61 716.82,1386.61 716.82,1329.09 693.781,1329.09 \n",
       "  \"/>\n",
       "<path clip-path=\"url(#clip4402)\" d=\"\n",
       "M716.82 1324.09 L716.82 1386.61 L739.86 1386.61 L739.86 1324.09 L716.82 1324.09 L716.82 1324.09  Z\n",
       "  \" fill=\"#009af9\" fill-rule=\"evenodd\" fill-opacity=\"0.5\"/>\n",
       "<polyline clip-path=\"url(#clip4402)\" style=\"stroke:#000000; stroke-width:4; stroke-opacity:0.5; fill:none\" points=\"\n",
       "  716.82,1324.09 716.82,1386.61 739.86,1386.61 739.86,1324.09 716.82,1324.09 \n",
       "  \"/>\n",
       "<path clip-path=\"url(#clip4402)\" d=\"\n",
       "M739.86 1301.58 L739.86 1386.61 L762.899 1386.61 L762.899 1301.58 L739.86 1301.58 L739.86 1301.58  Z\n",
       "  \" fill=\"#009af9\" fill-rule=\"evenodd\" fill-opacity=\"0.5\"/>\n",
       "<polyline clip-path=\"url(#clip4402)\" style=\"stroke:#000000; stroke-width:4; stroke-opacity:0.5; fill:none\" points=\"\n",
       "  739.86,1301.58 739.86,1386.61 762.899,1386.61 762.899,1301.58 739.86,1301.58 \n",
       "  \"/>\n",
       "<path clip-path=\"url(#clip4402)\" d=\"\n",
       "M762.899 1263.57 L762.899 1386.61 L785.939 1386.61 L785.939 1263.57 L762.899 1263.57 L762.899 1263.57  Z\n",
       "  \" fill=\"#009af9\" fill-rule=\"evenodd\" fill-opacity=\"0.5\"/>\n",
       "<polyline clip-path=\"url(#clip4402)\" style=\"stroke:#000000; stroke-width:4; stroke-opacity:0.5; fill:none\" points=\"\n",
       "  762.899,1263.57 762.899,1386.61 785.939,1386.61 785.939,1263.57 762.899,1263.57 \n",
       "  \"/>\n",
       "<path clip-path=\"url(#clip4402)\" d=\"\n",
       "M785.939 1235.57 L785.939 1386.61 L808.978 1386.61 L808.978 1235.57 L785.939 1235.57 L785.939 1235.57  Z\n",
       "  \" fill=\"#009af9\" fill-rule=\"evenodd\" fill-opacity=\"0.5\"/>\n",
       "<polyline clip-path=\"url(#clip4402)\" style=\"stroke:#000000; stroke-width:4; stroke-opacity:0.5; fill:none\" points=\"\n",
       "  785.939,1235.57 785.939,1386.61 808.978,1386.61 808.978,1235.57 785.939,1235.57 \n",
       "  \"/>\n",
       "<path clip-path=\"url(#clip4402)\" d=\"\n",
       "M808.978 1211.56 L808.978 1386.61 L832.018 1386.61 L832.018 1211.56 L808.978 1211.56 L808.978 1211.56  Z\n",
       "  \" fill=\"#009af9\" fill-rule=\"evenodd\" fill-opacity=\"0.5\"/>\n",
       "<polyline clip-path=\"url(#clip4402)\" style=\"stroke:#000000; stroke-width:4; stroke-opacity:0.5; fill:none\" points=\"\n",
       "  808.978,1211.56 808.978,1386.61 832.018,1386.61 832.018,1211.56 808.978,1211.56 \n",
       "  \"/>\n",
       "<path clip-path=\"url(#clip4402)\" d=\"\n",
       "M832.018 1191.56 L832.018 1386.61 L855.057 1386.61 L855.057 1191.56 L832.018 1191.56 L832.018 1191.56  Z\n",
       "  \" fill=\"#009af9\" fill-rule=\"evenodd\" fill-opacity=\"0.5\"/>\n",
       "<polyline clip-path=\"url(#clip4402)\" style=\"stroke:#000000; stroke-width:4; stroke-opacity:0.5; fill:none\" points=\"\n",
       "  832.018,1191.56 832.018,1386.61 855.057,1386.61 855.057,1191.56 832.018,1191.56 \n",
       "  \"/>\n",
       "<path clip-path=\"url(#clip4402)\" d=\"\n",
       "M855.057 1130.04 L855.057 1386.61 L878.097 1386.61 L878.097 1130.04 L855.057 1130.04 L855.057 1130.04  Z\n",
       "  \" fill=\"#009af9\" fill-rule=\"evenodd\" fill-opacity=\"0.5\"/>\n",
       "<polyline clip-path=\"url(#clip4402)\" style=\"stroke:#000000; stroke-width:4; stroke-opacity:0.5; fill:none\" points=\"\n",
       "  855.057,1130.04 855.057,1386.61 878.097,1386.61 878.097,1130.04 855.057,1130.04 \n",
       "  \"/>\n",
       "<path clip-path=\"url(#clip4402)\" d=\"\n",
       "M878.097 1121.54 L878.097 1386.61 L901.136 1386.61 L901.136 1121.54 L878.097 1121.54 L878.097 1121.54  Z\n",
       "  \" fill=\"#009af9\" fill-rule=\"evenodd\" fill-opacity=\"0.5\"/>\n",
       "<polyline clip-path=\"url(#clip4402)\" style=\"stroke:#000000; stroke-width:4; stroke-opacity:0.5; fill:none\" points=\"\n",
       "  878.097,1121.54 878.097,1386.61 901.136,1386.61 901.136,1121.54 878.097,1121.54 \n",
       "  \"/>\n",
       "<path clip-path=\"url(#clip4402)\" d=\"\n",
       "M901.136 1052.02 L901.136 1386.61 L924.176 1386.61 L924.176 1052.02 L901.136 1052.02 L901.136 1052.02  Z\n",
       "  \" fill=\"#009af9\" fill-rule=\"evenodd\" fill-opacity=\"0.5\"/>\n",
       "<polyline clip-path=\"url(#clip4402)\" style=\"stroke:#000000; stroke-width:4; stroke-opacity:0.5; fill:none\" points=\"\n",
       "  901.136,1052.02 901.136,1386.61 924.176,1386.61 924.176,1052.02 901.136,1052.02 \n",
       "  \"/>\n",
       "<path clip-path=\"url(#clip4402)\" d=\"\n",
       "M924.176 997.502 L924.176 1386.61 L947.215 1386.61 L947.215 997.502 L924.176 997.502 L924.176 997.502  Z\n",
       "  \" fill=\"#009af9\" fill-rule=\"evenodd\" fill-opacity=\"0.5\"/>\n",
       "<polyline clip-path=\"url(#clip4402)\" style=\"stroke:#000000; stroke-width:4; stroke-opacity:0.5; fill:none\" points=\"\n",
       "  924.176,997.502 924.176,1386.61 947.215,1386.61 947.215,997.502 924.176,997.502 \n",
       "  \"/>\n",
       "<path clip-path=\"url(#clip4402)\" d=\"\n",
       "M947.215 897.975 L947.215 1386.61 L970.255 1386.61 L970.255 897.975 L947.215 897.975 L947.215 897.975  Z\n",
       "  \" fill=\"#009af9\" fill-rule=\"evenodd\" fill-opacity=\"0.5\"/>\n",
       "<polyline clip-path=\"url(#clip4402)\" style=\"stroke:#000000; stroke-width:4; stroke-opacity:0.5; fill:none\" points=\"\n",
       "  947.215,897.975 947.215,1386.61 970.255,1386.61 970.255,897.975 947.215,897.975 \n",
       "  \"/>\n",
       "<path clip-path=\"url(#clip4402)\" d=\"\n",
       "M970.255 862.966 L970.255 1386.61 L993.294 1386.61 L993.294 862.966 L970.255 862.966 L970.255 862.966  Z\n",
       "  \" fill=\"#009af9\" fill-rule=\"evenodd\" fill-opacity=\"0.5\"/>\n",
       "<polyline clip-path=\"url(#clip4402)\" style=\"stroke:#000000; stroke-width:4; stroke-opacity:0.5; fill:none\" points=\"\n",
       "  970.255,862.966 970.255,1386.61 993.294,1386.61 993.294,862.966 970.255,862.966 \n",
       "  \"/>\n",
       "<path clip-path=\"url(#clip4402)\" d=\"\n",
       "M993.294 802.949 L993.294 1386.61 L1016.33 1386.61 L1016.33 802.949 L993.294 802.949 L993.294 802.949  Z\n",
       "  \" fill=\"#009af9\" fill-rule=\"evenodd\" fill-opacity=\"0.5\"/>\n",
       "<polyline clip-path=\"url(#clip4402)\" style=\"stroke:#000000; stroke-width:4; stroke-opacity:0.5; fill:none\" points=\"\n",
       "  993.294,802.949 993.294,1386.61 1016.33,1386.61 1016.33,802.949 993.294,802.949 \n",
       "  \"/>\n",
       "<path clip-path=\"url(#clip4402)\" d=\"\n",
       "M1016.33 750.935 L1016.33 1386.61 L1039.37 1386.61 L1039.37 750.935 L1016.33 750.935 L1016.33 750.935  Z\n",
       "  \" fill=\"#009af9\" fill-rule=\"evenodd\" fill-opacity=\"0.5\"/>\n",
       "<polyline clip-path=\"url(#clip4402)\" style=\"stroke:#000000; stroke-width:4; stroke-opacity:0.5; fill:none\" points=\"\n",
       "  1016.33,750.935 1016.33,1386.61 1039.37,1386.61 1039.37,750.935 1016.33,750.935 \n",
       "  \"/>\n",
       "<path clip-path=\"url(#clip4402)\" d=\"\n",
       "M1039.37 703.923 L1039.37 1386.61 L1062.41 1386.61 L1062.41 703.923 L1039.37 703.923 L1039.37 703.923  Z\n",
       "  \" fill=\"#009af9\" fill-rule=\"evenodd\" fill-opacity=\"0.5\"/>\n",
       "<polyline clip-path=\"url(#clip4402)\" style=\"stroke:#000000; stroke-width:4; stroke-opacity:0.5; fill:none\" points=\"\n",
       "  1039.37,703.923 1039.37,1386.61 1062.41,1386.61 1062.41,703.923 1039.37,703.923 \n",
       "  \"/>\n",
       "<path clip-path=\"url(#clip4402)\" d=\"\n",
       "M1062.41 647.907 L1062.41 1386.61 L1085.45 1386.61 L1085.45 647.907 L1062.41 647.907 L1062.41 647.907  Z\n",
       "  \" fill=\"#009af9\" fill-rule=\"evenodd\" fill-opacity=\"0.5\"/>\n",
       "<polyline clip-path=\"url(#clip4402)\" style=\"stroke:#000000; stroke-width:4; stroke-opacity:0.5; fill:none\" points=\"\n",
       "  1062.41,647.907 1062.41,1386.61 1085.45,1386.61 1085.45,647.907 1062.41,647.907 \n",
       "  \"/>\n",
       "<path clip-path=\"url(#clip4402)\" d=\"\n",
       "M1085.45 632.403 L1085.45 1386.61 L1108.49 1386.61 L1108.49 632.403 L1085.45 632.403 L1085.45 632.403  Z\n",
       "  \" fill=\"#009af9\" fill-rule=\"evenodd\" fill-opacity=\"0.5\"/>\n",
       "<polyline clip-path=\"url(#clip4402)\" style=\"stroke:#000000; stroke-width:4; stroke-opacity:0.5; fill:none\" points=\"\n",
       "  1085.45,632.403 1085.45,1386.61 1108.49,1386.61 1108.49,632.403 1085.45,632.403 \n",
       "  \"/>\n",
       "<path clip-path=\"url(#clip4402)\" d=\"\n",
       "M1108.49 500.367 L1108.49 1386.61 L1131.53 1386.61 L1131.53 500.367 L1108.49 500.367 L1108.49 500.367  Z\n",
       "  \" fill=\"#009af9\" fill-rule=\"evenodd\" fill-opacity=\"0.5\"/>\n",
       "<polyline clip-path=\"url(#clip4402)\" style=\"stroke:#000000; stroke-width:4; stroke-opacity:0.5; fill:none\" points=\"\n",
       "  1108.49,500.367 1108.49,1386.61 1131.53,1386.61 1131.53,500.367 1108.49,500.367 \n",
       "  \"/>\n",
       "<path clip-path=\"url(#clip4402)\" d=\"\n",
       "M1131.53 466.358 L1131.53 1386.61 L1154.57 1386.61 L1154.57 466.358 L1131.53 466.358 L1131.53 466.358  Z\n",
       "  \" fill=\"#009af9\" fill-rule=\"evenodd\" fill-opacity=\"0.5\"/>\n",
       "<polyline clip-path=\"url(#clip4402)\" style=\"stroke:#000000; stroke-width:4; stroke-opacity:0.5; fill:none\" points=\"\n",
       "  1131.53,466.358 1131.53,1386.61 1154.57,1386.61 1154.57,466.358 1131.53,466.358 \n",
       "  \"/>\n",
       "<path clip-path=\"url(#clip4402)\" d=\"\n",
       "M1154.57 415.344 L1154.57 1386.61 L1177.61 1386.61 L1177.61 415.344 L1154.57 415.344 L1154.57 415.344  Z\n",
       "  \" fill=\"#009af9\" fill-rule=\"evenodd\" fill-opacity=\"0.5\"/>\n",
       "<polyline clip-path=\"url(#clip4402)\" style=\"stroke:#000000; stroke-width:4; stroke-opacity:0.5; fill:none\" points=\"\n",
       "  1154.57,415.344 1154.57,1386.61 1177.61,1386.61 1177.61,415.344 1154.57,415.344 \n",
       "  \"/>\n",
       "<path clip-path=\"url(#clip4402)\" d=\"\n",
       "M1177.61 438.85 L1177.61 1386.61 L1200.65 1386.61 L1200.65 438.85 L1177.61 438.85 L1177.61 438.85  Z\n",
       "  \" fill=\"#009af9\" fill-rule=\"evenodd\" fill-opacity=\"0.5\"/>\n",
       "<polyline clip-path=\"url(#clip4402)\" style=\"stroke:#000000; stroke-width:4; stroke-opacity:0.5; fill:none\" points=\"\n",
       "  1177.61,438.85 1177.61,1386.61 1200.65,1386.61 1200.65,438.85 1177.61,438.85 \n",
       "  \"/>\n",
       "<path clip-path=\"url(#clip4402)\" d=\"\n",
       "M1200.65 303.314 L1200.65 1386.61 L1223.69 1386.61 L1223.69 303.314 L1200.65 303.314 L1200.65 303.314  Z\n",
       "  \" fill=\"#009af9\" fill-rule=\"evenodd\" fill-opacity=\"0.5\"/>\n",
       "<polyline clip-path=\"url(#clip4402)\" style=\"stroke:#000000; stroke-width:4; stroke-opacity:0.5; fill:none\" points=\"\n",
       "  1200.65,303.314 1200.65,1386.61 1223.69,1386.61 1223.69,303.314 1200.65,303.314 \n",
       "  \"/>\n",
       "<path clip-path=\"url(#clip4402)\" d=\"\n",
       "M1223.69 275.806 L1223.69 1386.61 L1246.73 1386.61 L1246.73 275.806 L1223.69 275.806 L1223.69 275.806  Z\n",
       "  \" fill=\"#009af9\" fill-rule=\"evenodd\" fill-opacity=\"0.5\"/>\n",
       "<polyline clip-path=\"url(#clip4402)\" style=\"stroke:#000000; stroke-width:4; stroke-opacity:0.5; fill:none\" points=\"\n",
       "  1223.69,275.806 1223.69,1386.61 1246.73,1386.61 1246.73,275.806 1223.69,275.806 \n",
       "  \"/>\n",
       "<path clip-path=\"url(#clip4402)\" d=\"\n",
       "M1246.73 301.313 L1246.73 1386.61 L1269.77 1386.61 L1269.77 301.313 L1246.73 301.313 L1246.73 301.313  Z\n",
       "  \" fill=\"#009af9\" fill-rule=\"evenodd\" fill-opacity=\"0.5\"/>\n",
       "<polyline clip-path=\"url(#clip4402)\" style=\"stroke:#000000; stroke-width:4; stroke-opacity:0.5; fill:none\" points=\"\n",
       "  1246.73,301.313 1246.73,1386.61 1269.77,1386.61 1269.77,301.313 1246.73,301.313 \n",
       "  \"/>\n",
       "<path clip-path=\"url(#clip4402)\" d=\"\n",
       "M1269.77 332.822 L1269.77 1386.61 L1292.81 1386.61 L1292.81 332.822 L1269.77 332.822 L1269.77 332.822  Z\n",
       "  \" fill=\"#009af9\" fill-rule=\"evenodd\" fill-opacity=\"0.5\"/>\n",
       "<polyline clip-path=\"url(#clip4402)\" style=\"stroke:#000000; stroke-width:4; stroke-opacity:0.5; fill:none\" points=\"\n",
       "  1269.77,332.822 1269.77,1386.61 1292.81,1386.61 1292.81,332.822 1269.77,332.822 \n",
       "  \"/>\n",
       "<path clip-path=\"url(#clip4402)\" d=\"\n",
       "M1292.81 407.842 L1292.81 1386.61 L1315.85 1386.61 L1315.85 407.842 L1292.81 407.842 L1292.81 407.842  Z\n",
       "  \" fill=\"#009af9\" fill-rule=\"evenodd\" fill-opacity=\"0.5\"/>\n",
       "<polyline clip-path=\"url(#clip4402)\" style=\"stroke:#000000; stroke-width:4; stroke-opacity:0.5; fill:none\" points=\"\n",
       "  1292.81,407.842 1292.81,1386.61 1315.85,1386.61 1315.85,407.842 1292.81,407.842 \n",
       "  \"/>\n",
       "<path clip-path=\"url(#clip4402)\" d=\"\n",
       "M1315.85 438.85 L1315.85 1386.61 L1338.89 1386.61 L1338.89 438.85 L1315.85 438.85 L1315.85 438.85  Z\n",
       "  \" fill=\"#009af9\" fill-rule=\"evenodd\" fill-opacity=\"0.5\"/>\n",
       "<polyline clip-path=\"url(#clip4402)\" style=\"stroke:#000000; stroke-width:4; stroke-opacity:0.5; fill:none\" points=\"\n",
       "  1315.85,438.85 1315.85,1386.61 1338.89,1386.61 1338.89,438.85 1315.85,438.85 \n",
       "  \"/>\n",
       "<path clip-path=\"url(#clip4402)\" d=\"\n",
       "M1338.89 385.836 L1338.89 1386.61 L1361.93 1386.61 L1361.93 385.836 L1338.89 385.836 L1338.89 385.836  Z\n",
       "  \" fill=\"#009af9\" fill-rule=\"evenodd\" fill-opacity=\"0.5\"/>\n",
       "<polyline clip-path=\"url(#clip4402)\" style=\"stroke:#000000; stroke-width:4; stroke-opacity:0.5; fill:none\" points=\"\n",
       "  1338.89,385.836 1338.89,1386.61 1361.93,1386.61 1361.93,385.836 1338.89,385.836 \n",
       "  \"/>\n",
       "<path clip-path=\"url(#clip4402)\" d=\"\n",
       "M1361.93 507.369 L1361.93 1386.61 L1384.96 1386.61 L1384.96 507.369 L1361.93 507.369 L1361.93 507.369  Z\n",
       "  \" fill=\"#009af9\" fill-rule=\"evenodd\" fill-opacity=\"0.5\"/>\n",
       "<polyline clip-path=\"url(#clip4402)\" style=\"stroke:#000000; stroke-width:4; stroke-opacity:0.5; fill:none\" points=\"\n",
       "  1361.93,507.369 1361.93,1386.61 1384.96,1386.61 1384.96,507.369 1361.93,507.369 \n",
       "  \"/>\n",
       "<path clip-path=\"url(#clip4402)\" d=\"\n",
       "M1384.96 585.89 L1384.96 1386.61 L1408 1386.61 L1408 585.89 L1384.96 585.89 L1384.96 585.89  Z\n",
       "  \" fill=\"#009af9\" fill-rule=\"evenodd\" fill-opacity=\"0.5\"/>\n",
       "<polyline clip-path=\"url(#clip4402)\" style=\"stroke:#000000; stroke-width:4; stroke-opacity:0.5; fill:none\" points=\"\n",
       "  1384.96,585.89 1384.96,1386.61 1408,1386.61 1408,585.89 1384.96,585.89 \n",
       "  \"/>\n",
       "<path clip-path=\"url(#clip4402)\" d=\"\n",
       "M1408 607.896 L1408 1386.61 L1431.04 1386.61 L1431.04 607.896 L1408 607.896 L1408 607.896  Z\n",
       "  \" fill=\"#009af9\" fill-rule=\"evenodd\" fill-opacity=\"0.5\"/>\n",
       "<polyline clip-path=\"url(#clip4402)\" style=\"stroke:#000000; stroke-width:4; stroke-opacity:0.5; fill:none\" points=\"\n",
       "  1408,607.896 1408,1386.61 1431.04,1386.61 1431.04,607.896 1408,607.896 \n",
       "  \"/>\n",
       "<path clip-path=\"url(#clip4402)\" d=\"\n",
       "M1431.04 656.91 L1431.04 1386.61 L1454.08 1386.61 L1454.08 656.91 L1431.04 656.91 L1431.04 656.91  Z\n",
       "  \" fill=\"#009af9\" fill-rule=\"evenodd\" fill-opacity=\"0.5\"/>\n",
       "<polyline clip-path=\"url(#clip4402)\" style=\"stroke:#000000; stroke-width:4; stroke-opacity:0.5; fill:none\" points=\"\n",
       "  1431.04,656.91 1431.04,1386.61 1454.08,1386.61 1454.08,656.91 1431.04,656.91 \n",
       "  \"/>\n",
       "<path clip-path=\"url(#clip4402)\" d=\"\n",
       "M1454.08 784.444 L1454.08 1386.61 L1477.12 1386.61 L1477.12 784.444 L1454.08 784.444 L1454.08 784.444  Z\n",
       "  \" fill=\"#009af9\" fill-rule=\"evenodd\" fill-opacity=\"0.5\"/>\n",
       "<polyline clip-path=\"url(#clip4402)\" style=\"stroke:#000000; stroke-width:4; stroke-opacity:0.5; fill:none\" points=\"\n",
       "  1454.08,784.444 1454.08,1386.61 1477.12,1386.61 1477.12,784.444 1454.08,784.444 \n",
       "  \"/>\n",
       "<path clip-path=\"url(#clip4402)\" d=\"\n",
       "M1477.12 890.973 L1477.12 1386.61 L1500.16 1386.61 L1500.16 890.973 L1477.12 890.973 L1477.12 890.973  Z\n",
       "  \" fill=\"#009af9\" fill-rule=\"evenodd\" fill-opacity=\"0.5\"/>\n",
       "<polyline clip-path=\"url(#clip4402)\" style=\"stroke:#000000; stroke-width:4; stroke-opacity:0.5; fill:none\" points=\"\n",
       "  1477.12,890.973 1477.12,1386.61 1500.16,1386.61 1500.16,890.973 1477.12,890.973 \n",
       "  \"/>\n",
       "<path clip-path=\"url(#clip4402)\" d=\"\n",
       "M1500.16 906.478 L1500.16 1386.61 L1523.2 1386.61 L1523.2 906.478 L1500.16 906.478 L1500.16 906.478  Z\n",
       "  \" fill=\"#009af9\" fill-rule=\"evenodd\" fill-opacity=\"0.5\"/>\n",
       "<polyline clip-path=\"url(#clip4402)\" style=\"stroke:#000000; stroke-width:4; stroke-opacity:0.5; fill:none\" points=\"\n",
       "  1500.16,906.478 1500.16,1386.61 1523.2,1386.61 1523.2,906.478 1500.16,906.478 \n",
       "  \"/>\n",
       "<path clip-path=\"url(#clip4402)\" d=\"\n",
       "M1523.2 957.992 L1523.2 1386.61 L1546.24 1386.61 L1546.24 957.992 L1523.2 957.992 L1523.2 957.992  Z\n",
       "  \" fill=\"#009af9\" fill-rule=\"evenodd\" fill-opacity=\"0.5\"/>\n",
       "<polyline clip-path=\"url(#clip4402)\" style=\"stroke:#000000; stroke-width:4; stroke-opacity:0.5; fill:none\" points=\"\n",
       "  1523.2,957.992 1523.2,1386.61 1546.24,1386.61 1546.24,957.992 1523.2,957.992 \n",
       "  \"/>\n",
       "<path clip-path=\"url(#clip4402)\" d=\"\n",
       "M1546.24 1051.52 L1546.24 1386.61 L1569.28 1386.61 L1569.28 1051.52 L1546.24 1051.52 L1546.24 1051.52  Z\n",
       "  \" fill=\"#009af9\" fill-rule=\"evenodd\" fill-opacity=\"0.5\"/>\n",
       "<polyline clip-path=\"url(#clip4402)\" style=\"stroke:#000000; stroke-width:4; stroke-opacity:0.5; fill:none\" points=\"\n",
       "  1546.24,1051.52 1546.24,1386.61 1569.28,1386.61 1569.28,1051.52 1546.24,1051.52 \n",
       "  \"/>\n",
       "<path clip-path=\"url(#clip4402)\" d=\"\n",
       "M1569.28 1110.53 L1569.28 1386.61 L1592.32 1386.61 L1592.32 1110.53 L1569.28 1110.53 L1569.28 1110.53  Z\n",
       "  \" fill=\"#009af9\" fill-rule=\"evenodd\" fill-opacity=\"0.5\"/>\n",
       "<polyline clip-path=\"url(#clip4402)\" style=\"stroke:#000000; stroke-width:4; stroke-opacity:0.5; fill:none\" points=\"\n",
       "  1569.28,1110.53 1569.28,1386.61 1592.32,1386.61 1592.32,1110.53 1569.28,1110.53 \n",
       "  \"/>\n",
       "<path clip-path=\"url(#clip4402)\" d=\"\n",
       "M1592.32 1123.04 L1592.32 1386.61 L1615.36 1386.61 L1615.36 1123.04 L1592.32 1123.04 L1592.32 1123.04  Z\n",
       "  \" fill=\"#009af9\" fill-rule=\"evenodd\" fill-opacity=\"0.5\"/>\n",
       "<polyline clip-path=\"url(#clip4402)\" style=\"stroke:#000000; stroke-width:4; stroke-opacity:0.5; fill:none\" points=\"\n",
       "  1592.32,1123.04 1592.32,1386.61 1615.36,1386.61 1615.36,1123.04 1592.32,1123.04 \n",
       "  \"/>\n",
       "<path clip-path=\"url(#clip4402)\" d=\"\n",
       "M1615.36 1168.55 L1615.36 1386.61 L1638.4 1386.61 L1638.4 1168.55 L1615.36 1168.55 L1615.36 1168.55  Z\n",
       "  \" fill=\"#009af9\" fill-rule=\"evenodd\" fill-opacity=\"0.5\"/>\n",
       "<polyline clip-path=\"url(#clip4402)\" style=\"stroke:#000000; stroke-width:4; stroke-opacity:0.5; fill:none\" points=\"\n",
       "  1615.36,1168.55 1615.36,1386.61 1638.4,1386.61 1638.4,1168.55 1615.36,1168.55 \n",
       "  \"/>\n",
       "<path clip-path=\"url(#clip4402)\" d=\"\n",
       "M1638.4 1193.56 L1638.4 1386.61 L1661.44 1386.61 L1661.44 1193.56 L1638.4 1193.56 L1638.4 1193.56  Z\n",
       "  \" fill=\"#009af9\" fill-rule=\"evenodd\" fill-opacity=\"0.5\"/>\n",
       "<polyline clip-path=\"url(#clip4402)\" style=\"stroke:#000000; stroke-width:4; stroke-opacity:0.5; fill:none\" points=\"\n",
       "  1638.4,1193.56 1638.4,1386.61 1661.44,1386.61 1661.44,1193.56 1638.4,1193.56 \n",
       "  \"/>\n",
       "<path clip-path=\"url(#clip4402)\" d=\"\n",
       "M1661.44 1223.06 L1661.44 1386.61 L1684.48 1386.61 L1684.48 1223.06 L1661.44 1223.06 L1661.44 1223.06  Z\n",
       "  \" fill=\"#009af9\" fill-rule=\"evenodd\" fill-opacity=\"0.5\"/>\n",
       "<polyline clip-path=\"url(#clip4402)\" style=\"stroke:#000000; stroke-width:4; stroke-opacity:0.5; fill:none\" points=\"\n",
       "  1661.44,1223.06 1661.44,1386.61 1684.48,1386.61 1684.48,1223.06 1661.44,1223.06 \n",
       "  \"/>\n",
       "<path clip-path=\"url(#clip4402)\" d=\"\n",
       "M1684.48 1249.57 L1684.48 1386.61 L1707.52 1386.61 L1707.52 1249.57 L1684.48 1249.57 L1684.48 1249.57  Z\n",
       "  \" fill=\"#009af9\" fill-rule=\"evenodd\" fill-opacity=\"0.5\"/>\n",
       "<polyline clip-path=\"url(#clip4402)\" style=\"stroke:#000000; stroke-width:4; stroke-opacity:0.5; fill:none\" points=\"\n",
       "  1684.48,1249.57 1684.48,1386.61 1707.52,1386.61 1707.52,1249.57 1684.48,1249.57 \n",
       "  \"/>\n",
       "<path clip-path=\"url(#clip4402)\" d=\"\n",
       "M1707.52 1258.07 L1707.52 1386.61 L1730.56 1386.61 L1730.56 1258.07 L1707.52 1258.07 L1707.52 1258.07  Z\n",
       "  \" fill=\"#009af9\" fill-rule=\"evenodd\" fill-opacity=\"0.5\"/>\n",
       "<polyline clip-path=\"url(#clip4402)\" style=\"stroke:#000000; stroke-width:4; stroke-opacity:0.5; fill:none\" points=\"\n",
       "  1707.52,1258.07 1707.52,1386.61 1730.56,1386.61 1730.56,1258.07 1707.52,1258.07 \n",
       "  \"/>\n",
       "<path clip-path=\"url(#clip4402)\" d=\"\n",
       "M1730.56 1271.58 L1730.56 1386.61 L1753.6 1386.61 L1753.6 1271.58 L1730.56 1271.58 L1730.56 1271.58  Z\n",
       "  \" fill=\"#009af9\" fill-rule=\"evenodd\" fill-opacity=\"0.5\"/>\n",
       "<polyline clip-path=\"url(#clip4402)\" style=\"stroke:#000000; stroke-width:4; stroke-opacity:0.5; fill:none\" points=\"\n",
       "  1730.56,1271.58 1730.56,1386.61 1753.6,1386.61 1753.6,1271.58 1730.56,1271.58 \n",
       "  \"/>\n",
       "<path clip-path=\"url(#clip4402)\" d=\"\n",
       "M1753.6 1319.59 L1753.6 1386.61 L1776.64 1386.61 L1776.64 1319.59 L1753.6 1319.59 L1753.6 1319.59  Z\n",
       "  \" fill=\"#009af9\" fill-rule=\"evenodd\" fill-opacity=\"0.5\"/>\n",
       "<polyline clip-path=\"url(#clip4402)\" style=\"stroke:#000000; stroke-width:4; stroke-opacity:0.5; fill:none\" points=\"\n",
       "  1753.6,1319.59 1753.6,1386.61 1776.64,1386.61 1776.64,1319.59 1753.6,1319.59 \n",
       "  \"/>\n",
       "<path clip-path=\"url(#clip4402)\" d=\"\n",
       "M1776.64 1322.09 L1776.64 1386.61 L1799.68 1386.61 L1799.68 1322.09 L1776.64 1322.09 L1776.64 1322.09  Z\n",
       "  \" fill=\"#009af9\" fill-rule=\"evenodd\" fill-opacity=\"0.5\"/>\n",
       "<polyline clip-path=\"url(#clip4402)\" style=\"stroke:#000000; stroke-width:4; stroke-opacity:0.5; fill:none\" points=\"\n",
       "  1776.64,1322.09 1776.64,1386.61 1799.68,1386.61 1799.68,1322.09 1776.64,1322.09 \n",
       "  \"/>\n",
       "<path clip-path=\"url(#clip4402)\" d=\"\n",
       "M1799.68 1312.09 L1799.68 1386.61 L1822.71 1386.61 L1822.71 1312.09 L1799.68 1312.09 L1799.68 1312.09  Z\n",
       "  \" fill=\"#009af9\" fill-rule=\"evenodd\" fill-opacity=\"0.5\"/>\n",
       "<polyline clip-path=\"url(#clip4402)\" style=\"stroke:#000000; stroke-width:4; stroke-opacity:0.5; fill:none\" points=\"\n",
       "  1799.68,1312.09 1799.68,1386.61 1822.71,1386.61 1822.71,1312.09 1799.68,1312.09 \n",
       "  \"/>\n",
       "<path clip-path=\"url(#clip4402)\" d=\"\n",
       "M1822.71 1342.6 L1822.71 1386.61 L1845.75 1386.61 L1845.75 1342.6 L1822.71 1342.6 L1822.71 1342.6  Z\n",
       "  \" fill=\"#009af9\" fill-rule=\"evenodd\" fill-opacity=\"0.5\"/>\n",
       "<polyline clip-path=\"url(#clip4402)\" style=\"stroke:#000000; stroke-width:4; stroke-opacity:0.5; fill:none\" points=\"\n",
       "  1822.71,1342.6 1822.71,1386.61 1845.75,1386.61 1845.75,1342.6 1822.71,1342.6 \n",
       "  \"/>\n",
       "<path clip-path=\"url(#clip4402)\" d=\"\n",
       "M1845.75 1356.6 L1845.75 1386.61 L1868.79 1386.61 L1868.79 1356.6 L1845.75 1356.6 L1845.75 1356.6  Z\n",
       "  \" fill=\"#009af9\" fill-rule=\"evenodd\" fill-opacity=\"0.5\"/>\n",
       "<polyline clip-path=\"url(#clip4402)\" style=\"stroke:#000000; stroke-width:4; stroke-opacity:0.5; fill:none\" points=\"\n",
       "  1845.75,1356.6 1845.75,1386.61 1868.79,1386.61 1868.79,1356.6 1845.75,1356.6 \n",
       "  \"/>\n",
       "<path clip-path=\"url(#clip4402)\" d=\"\n",
       "M1868.79 1373.6 L1868.79 1386.61 L1891.83 1386.61 L1891.83 1373.6 L1868.79 1373.6 L1868.79 1373.6  Z\n",
       "  \" fill=\"#009af9\" fill-rule=\"evenodd\" fill-opacity=\"0.5\"/>\n",
       "<polyline clip-path=\"url(#clip4402)\" style=\"stroke:#000000; stroke-width:4; stroke-opacity:0.5; fill:none\" points=\"\n",
       "  1868.79,1373.6 1868.79,1386.61 1891.83,1386.61 1891.83,1373.6 1868.79,1373.6 \n",
       "  \"/>\n",
       "<path clip-path=\"url(#clip4402)\" d=\"\n",
       "M1891.83 1382.11 L1891.83 1386.61 L1914.87 1386.61 L1914.87 1382.11 L1891.83 1382.11 L1891.83 1382.11  Z\n",
       "  \" fill=\"#009af9\" fill-rule=\"evenodd\" fill-opacity=\"0.5\"/>\n",
       "<polyline clip-path=\"url(#clip4402)\" style=\"stroke:#000000; stroke-width:4; stroke-opacity:0.5; fill:none\" points=\"\n",
       "  1891.83,1382.11 1891.83,1386.61 1914.87,1386.61 1914.87,1382.11 1891.83,1382.11 \n",
       "  \"/>\n",
       "<path clip-path=\"url(#clip4402)\" d=\"\n",
       "M1914.87 1383.11 L1914.87 1386.61 L1937.91 1386.61 L1937.91 1383.11 L1914.87 1383.11 L1914.87 1383.11  Z\n",
       "  \" fill=\"#009af9\" fill-rule=\"evenodd\" fill-opacity=\"0.5\"/>\n",
       "<polyline clip-path=\"url(#clip4402)\" style=\"stroke:#000000; stroke-width:4; stroke-opacity:0.5; fill:none\" points=\"\n",
       "  1914.87,1383.11 1914.87,1386.61 1937.91,1386.61 1937.91,1383.11 1914.87,1383.11 \n",
       "  \"/>\n",
       "<path clip-path=\"url(#clip4402)\" d=\"\n",
       "M1937.91 1386.61 L1937.91 1386.61 L1960.95 1386.61 L1960.95 1386.61 L1937.91 1386.61 L1937.91 1386.61  Z\n",
       "  \" fill=\"#009af9\" fill-rule=\"evenodd\" fill-opacity=\"0.5\"/>\n",
       "<polyline clip-path=\"url(#clip4402)\" style=\"stroke:#000000; stroke-width:4; stroke-opacity:0.5; fill:none\" points=\"\n",
       "  1937.91,1386.61 1937.91,1386.61 1960.95,1386.61 1937.91,1386.61 \n",
       "  \"/>\n",
       "<path clip-path=\"url(#clip4402)\" d=\"\n",
       "M1960.95 1384.11 L1960.95 1386.61 L1983.99 1386.61 L1983.99 1384.11 L1960.95 1384.11 L1960.95 1384.11  Z\n",
       "  \" fill=\"#009af9\" fill-rule=\"evenodd\" fill-opacity=\"0.5\"/>\n",
       "<polyline clip-path=\"url(#clip4402)\" style=\"stroke:#000000; stroke-width:4; stroke-opacity:0.5; fill:none\" points=\"\n",
       "  1960.95,1384.11 1960.95,1386.61 1983.99,1386.61 1983.99,1384.11 1960.95,1384.11 \n",
       "  \"/>\n",
       "<path clip-path=\"url(#clip4402)\" d=\"\n",
       "M1983.99 1379.11 L1983.99 1386.61 L2007.03 1386.61 L2007.03 1379.11 L1983.99 1379.11 L1983.99 1379.11  Z\n",
       "  \" fill=\"#009af9\" fill-rule=\"evenodd\" fill-opacity=\"0.5\"/>\n",
       "<polyline clip-path=\"url(#clip4402)\" style=\"stroke:#000000; stroke-width:4; stroke-opacity:0.5; fill:none\" points=\"\n",
       "  1983.99,1379.11 1983.99,1386.61 2007.03,1386.61 2007.03,1379.11 1983.99,1379.11 \n",
       "  \"/>\n",
       "<path clip-path=\"url(#clip4402)\" d=\"\n",
       "M2007.03 1383.61 L2007.03 1386.61 L2030.07 1386.61 L2030.07 1383.61 L2007.03 1383.61 L2007.03 1383.61  Z\n",
       "  \" fill=\"#009af9\" fill-rule=\"evenodd\" fill-opacity=\"0.5\"/>\n",
       "<polyline clip-path=\"url(#clip4402)\" style=\"stroke:#000000; stroke-width:4; stroke-opacity:0.5; fill:none\" points=\"\n",
       "  2007.03,1383.61 2007.03,1386.61 2030.07,1386.61 2030.07,1383.61 2007.03,1383.61 \n",
       "  \"/>\n",
       "<path clip-path=\"url(#clip4402)\" d=\"\n",
       "M2030.07 1378.11 L2030.07 1386.61 L2053.11 1386.61 L2053.11 1378.11 L2030.07 1378.11 L2030.07 1378.11  Z\n",
       "  \" fill=\"#009af9\" fill-rule=\"evenodd\" fill-opacity=\"0.5\"/>\n",
       "<polyline clip-path=\"url(#clip4402)\" style=\"stroke:#000000; stroke-width:4; stroke-opacity:0.5; fill:none\" points=\"\n",
       "  2030.07,1378.11 2030.07,1386.61 2053.11,1386.61 2053.11,1378.11 2030.07,1378.11 \n",
       "  \"/>\n",
       "<path clip-path=\"url(#clip4402)\" d=\"\n",
       "M2053.11 1385.61 L2053.11 1386.61 L2076.15 1386.61 L2076.15 1385.61 L2053.11 1385.61 L2053.11 1385.61  Z\n",
       "  \" fill=\"#009af9\" fill-rule=\"evenodd\" fill-opacity=\"0.5\"/>\n",
       "<polyline clip-path=\"url(#clip4402)\" style=\"stroke:#000000; stroke-width:4; stroke-opacity:0.5; fill:none\" points=\"\n",
       "  2053.11,1385.61 2053.11,1386.61 2076.15,1386.61 2076.15,1385.61 2053.11,1385.61 \n",
       "  \"/>\n",
       "<path clip-path=\"url(#clip4402)\" d=\"\n",
       "M2076.15 1386.11 L2076.15 1386.61 L2099.19 1386.61 L2099.19 1386.11 L2076.15 1386.11 L2076.15 1386.11  Z\n",
       "  \" fill=\"#009af9\" fill-rule=\"evenodd\" fill-opacity=\"0.5\"/>\n",
       "<polyline clip-path=\"url(#clip4402)\" style=\"stroke:#000000; stroke-width:4; stroke-opacity:0.5; fill:none\" points=\"\n",
       "  2076.15,1386.11 2076.15,1386.61 2099.19,1386.61 2099.19,1386.11 2076.15,1386.11 \n",
       "  \"/>\n",
       "<path clip-path=\"url(#clip4402)\" d=\"\n",
       "M2099.19 1385.61 L2099.19 1386.61 L2122.23 1386.61 L2122.23 1385.61 L2099.19 1385.61 L2099.19 1385.61  Z\n",
       "  \" fill=\"#009af9\" fill-rule=\"evenodd\" fill-opacity=\"0.5\"/>\n",
       "<polyline clip-path=\"url(#clip4402)\" style=\"stroke:#000000; stroke-width:4; stroke-opacity:0.5; fill:none\" points=\"\n",
       "  2099.19,1385.61 2099.19,1386.61 2122.23,1386.61 2122.23,1385.61 2099.19,1385.61 \n",
       "  \"/>\n",
       "<path clip-path=\"url(#clip4402)\" d=\"\n",
       "M2122.23 1386.61 L2122.23 1386.61 L2145.27 1386.61 L2145.27 1386.61 L2122.23 1386.61 L2122.23 1386.61  Z\n",
       "  \" fill=\"#009af9\" fill-rule=\"evenodd\" fill-opacity=\"0.5\"/>\n",
       "<polyline clip-path=\"url(#clip4402)\" style=\"stroke:#000000; stroke-width:4; stroke-opacity:0.5; fill:none\" points=\"\n",
       "  2122.23,1386.61 2122.23,1386.61 2145.27,1386.61 2122.23,1386.61 \n",
       "  \"/>\n",
       "<path clip-path=\"url(#clip4402)\" d=\"\n",
       "M2145.27 1385.11 L2145.27 1386.61 L2168.31 1386.61 L2168.31 1385.11 L2145.27 1385.11 L2145.27 1385.11  Z\n",
       "  \" fill=\"#009af9\" fill-rule=\"evenodd\" fill-opacity=\"0.5\"/>\n",
       "<polyline clip-path=\"url(#clip4402)\" style=\"stroke:#000000; stroke-width:4; stroke-opacity:0.5; fill:none\" points=\"\n",
       "  2145.27,1385.11 2145.27,1386.61 2168.31,1386.61 2168.31,1385.11 2145.27,1385.11 \n",
       "  \"/>\n",
       "<path clip-path=\"url(#clip4402)\" d=\"\n",
       "M2168.31 1386.61 L2168.31 1386.61 L2191.35 1386.61 L2191.35 1386.61 L2168.31 1386.61 L2168.31 1386.61  Z\n",
       "  \" fill=\"#009af9\" fill-rule=\"evenodd\" fill-opacity=\"0.5\"/>\n",
       "<polyline clip-path=\"url(#clip4402)\" style=\"stroke:#000000; stroke-width:4; stroke-opacity:0.5; fill:none\" points=\"\n",
       "  2168.31,1386.61 2168.31,1386.61 2191.35,1386.61 2168.31,1386.61 \n",
       "  \"/>\n",
       "<path clip-path=\"url(#clip4402)\" d=\"\n",
       "M2191.35 1386.61 L2191.35 1386.61 L2214.39 1386.61 L2214.39 1386.61 L2191.35 1386.61 L2191.35 1386.61  Z\n",
       "  \" fill=\"#009af9\" fill-rule=\"evenodd\" fill-opacity=\"0.5\"/>\n",
       "<polyline clip-path=\"url(#clip4402)\" style=\"stroke:#000000; stroke-width:4; stroke-opacity:0.5; fill:none\" points=\"\n",
       "  2191.35,1386.61 2191.35,1386.61 2214.39,1386.61 2191.35,1386.61 \n",
       "  \"/>\n",
       "<path clip-path=\"url(#clip4402)\" d=\"\n",
       "M2214.39 1385.11 L2214.39 1386.61 L2237.42 1386.61 L2237.42 1385.11 L2214.39 1385.11 L2214.39 1385.11  Z\n",
       "  \" fill=\"#009af9\" fill-rule=\"evenodd\" fill-opacity=\"0.5\"/>\n",
       "<polyline clip-path=\"url(#clip4402)\" style=\"stroke:#000000; stroke-width:4; stroke-opacity:0.5; fill:none\" points=\"\n",
       "  2214.39,1385.11 2214.39,1386.61 2237.42,1386.61 2237.42,1385.11 2214.39,1385.11 \n",
       "  \"/>\n",
       "<polyline clip-path=\"url(#clip4402)\" style=\"stroke:#000000; stroke-width:12; stroke-opacity:1; fill:none\" stroke-dasharray=\"6, 12\" points=\"\n",
       "  1039.37,1386.11 1039.37,1385.61 1039.37,1385.11 1039.37,1384.61 1039.37,1384.11 1039.37,1383.61 1039.37,1383.11 1039.37,1382.61 1039.37,1382.11 1039.37,1381.61 \n",
       "  1039.37,1381.11 1039.37,1380.61 1039.37,1380.11 1039.37,1379.61 1039.37,1379.11 1039.37,1378.61 1039.37,1378.11 1039.37,1377.61 1039.37,1377.11 1039.37,1376.61 \n",
       "  1039.37,1376.11 1039.37,1375.61 1039.37,1375.1 1039.37,1374.6 1039.37,1374.1 1039.37,1373.6 1039.37,1373.1 1039.37,1372.6 1039.37,1372.1 1039.37,1371.6 \n",
       "  1039.37,1371.1 1039.37,1370.6 1039.37,1370.1 1039.37,1369.6 1039.37,1369.1 1039.37,1368.6 1039.37,1368.1 1039.37,1367.6 1039.37,1367.1 1039.37,1366.6 \n",
       "  1039.37,1366.1 1039.37,1365.6 1039.37,1365.1 1039.37,1364.6 1039.37,1364.1 1039.37,1363.6 1039.37,1363.1 1039.37,1362.6 1039.37,1362.1 1039.37,1361.6 \n",
       "  1039.37,1361.1 1039.37,1360.6 1039.37,1360.1 1039.37,1359.6 1039.37,1359.1 1039.37,1358.6 1039.37,1358.1 1039.37,1357.6 1039.37,1357.1 1039.37,1356.6 \n",
       "  1039.37,1356.1 1039.37,1355.6 1039.37,1355.1 1039.37,1354.6 1039.37,1354.1 1039.37,1353.6 1039.37,1353.1 1039.37,1352.6 1039.37,1352.1 1039.37,1351.6 \n",
       "  1039.37,1351.1 1039.37,1350.6 1039.37,1350.1 1039.37,1349.6 1039.37,1349.1 1039.37,1348.6 1039.37,1348.1 1039.37,1347.6 1039.37,1347.1 1039.37,1346.6 \n",
       "  1039.37,1346.1 1039.37,1345.6 1039.37,1345.1 1039.37,1344.6 1039.37,1344.1 1039.37,1343.6 1039.37,1343.1 1039.37,1342.6 1039.37,1342.1 1039.37,1341.6 \n",
       "  1039.37,1341.1 1039.37,1340.6 1039.37,1340.1 1039.37,1339.6 1039.37,1339.1 1039.37,1338.59 1039.37,1338.09 1039.37,1337.59 1039.37,1337.09 1039.37,1336.59 \n",
       "  1039.37,1336.09 1039.37,1335.59 1039.37,1335.09 1039.37,1334.59 1039.37,1334.09 1039.37,1333.59 1039.37,1333.09 1039.37,1332.59 1039.37,1332.09 1039.37,1331.59 \n",
       "  1039.37,1331.09 1039.37,1330.59 1039.37,1330.09 1039.37,1329.59 1039.37,1329.09 1039.37,1328.59 1039.37,1328.09 1039.37,1327.59 1039.37,1327.09 1039.37,1326.59 \n",
       "  1039.37,1326.09 1039.37,1325.59 1039.37,1325.09 1039.37,1324.59 1039.37,1324.09 1039.37,1323.59 1039.37,1323.09 1039.37,1322.59 1039.37,1322.09 1039.37,1321.59 \n",
       "  1039.37,1321.09 1039.37,1320.59 1039.37,1320.09 1039.37,1319.59 1039.37,1319.09 1039.37,1318.59 1039.37,1318.09 1039.37,1317.59 1039.37,1317.09 1039.37,1316.59 \n",
       "  1039.37,1316.09 1039.37,1315.59 1039.37,1315.09 1039.37,1314.59 1039.37,1314.09 1039.37,1313.59 1039.37,1313.09 1039.37,1312.59 1039.37,1312.09 1039.37,1311.59 \n",
       "  1039.37,1311.09 1039.37,1310.59 1039.37,1310.09 1039.37,1309.59 1039.37,1309.09 1039.37,1308.59 1039.37,1308.09 1039.37,1307.59 1039.37,1307.09 1039.37,1306.59 \n",
       "  1039.37,1306.09 1039.37,1305.59 1039.37,1305.09 1039.37,1304.59 1039.37,1304.09 1039.37,1303.59 1039.37,1303.09 1039.37,1302.59 1039.37,1302.09 1039.37,1301.58 \n",
       "  1039.37,1301.08 1039.37,1300.58 1039.37,1300.08 1039.37,1299.58 1039.37,1299.08 1039.37,1298.58 1039.37,1298.08 1039.37,1297.58 1039.37,1297.08 1039.37,1296.58 \n",
       "  1039.37,1296.08 1039.37,1295.58 1039.37,1295.08 1039.37,1294.58 1039.37,1294.08 1039.37,1293.58 1039.37,1293.08 1039.37,1292.58 1039.37,1292.08 1039.37,1291.58 \n",
       "  1039.37,1291.08 1039.37,1290.58 1039.37,1290.08 1039.37,1289.58 1039.37,1289.08 1039.37,1288.58 1039.37,1288.08 1039.37,1287.58 1039.37,1287.08 1039.37,1286.58 \n",
       "  1039.37,1286.08 1039.37,1285.58 1039.37,1285.08 1039.37,1284.58 1039.37,1284.08 1039.37,1283.58 1039.37,1283.08 1039.37,1282.58 1039.37,1282.08 1039.37,1281.58 \n",
       "  1039.37,1281.08 1039.37,1280.58 1039.37,1280.08 1039.37,1279.58 1039.37,1279.08 1039.37,1278.58 1039.37,1278.08 1039.37,1277.58 1039.37,1277.08 1039.37,1276.58 \n",
       "  1039.37,1276.08 1039.37,1275.58 1039.37,1275.08 1039.37,1274.58 1039.37,1274.08 1039.37,1273.58 1039.37,1273.08 1039.37,1272.58 1039.37,1272.08 1039.37,1271.58 \n",
       "  1039.37,1271.08 1039.37,1270.58 1039.37,1270.08 1039.37,1269.58 1039.37,1269.08 1039.37,1268.58 1039.37,1268.08 1039.37,1267.58 1039.37,1267.08 1039.37,1266.58 \n",
       "  1039.37,1266.08 1039.37,1265.58 1039.37,1265.07 1039.37,1264.57 1039.37,1264.07 1039.37,1263.57 1039.37,1263.07 1039.37,1262.57 1039.37,1262.07 1039.37,1261.57 \n",
       "  1039.37,1261.07 1039.37,1260.57 1039.37,1260.07 1039.37,1259.57 1039.37,1259.07 1039.37,1258.57 1039.37,1258.07 1039.37,1257.57 1039.37,1257.07 1039.37,1256.57 \n",
       "  1039.37,1256.07 1039.37,1255.57 1039.37,1255.07 1039.37,1254.57 1039.37,1254.07 1039.37,1253.57 1039.37,1253.07 1039.37,1252.57 1039.37,1252.07 1039.37,1251.57 \n",
       "  1039.37,1251.07 1039.37,1250.57 1039.37,1250.07 1039.37,1249.57 1039.37,1249.07 1039.37,1248.57 1039.37,1248.07 1039.37,1247.57 1039.37,1247.07 1039.37,1246.57 \n",
       "  1039.37,1246.07 1039.37,1245.57 1039.37,1245.07 1039.37,1244.57 1039.37,1244.07 1039.37,1243.57 1039.37,1243.07 1039.37,1242.57 1039.37,1242.07 1039.37,1241.57 \n",
       "  1039.37,1241.07 1039.37,1240.57 1039.37,1240.07 1039.37,1239.57 1039.37,1239.07 1039.37,1238.57 1039.37,1238.07 1039.37,1237.57 1039.37,1237.07 1039.37,1236.57 \n",
       "  1039.37,1236.07 1039.37,1235.57 1039.37,1235.07 1039.37,1234.57 1039.37,1234.07 1039.37,1233.57 1039.37,1233.07 1039.37,1232.57 1039.37,1232.07 1039.37,1231.57 \n",
       "  1039.37,1231.07 1039.37,1230.57 1039.37,1230.07 1039.37,1229.57 1039.37,1229.07 1039.37,1228.57 1039.37,1228.06 1039.37,1227.56 1039.37,1227.06 1039.37,1226.56 \n",
       "  1039.37,1226.06 1039.37,1225.56 1039.37,1225.06 1039.37,1224.56 1039.37,1224.06 1039.37,1223.56 1039.37,1223.06 1039.37,1222.56 1039.37,1222.06 1039.37,1221.56 \n",
       "  1039.37,1221.06 1039.37,1220.56 1039.37,1220.06 1039.37,1219.56 1039.37,1219.06 1039.37,1218.56 1039.37,1218.06 1039.37,1217.56 1039.37,1217.06 1039.37,1216.56 \n",
       "  1039.37,1216.06 1039.37,1215.56 1039.37,1215.06 1039.37,1214.56 1039.37,1214.06 1039.37,1213.56 1039.37,1213.06 1039.37,1212.56 1039.37,1212.06 1039.37,1211.56 \n",
       "  1039.37,1211.06 1039.37,1210.56 1039.37,1210.06 1039.37,1209.56 1039.37,1209.06 1039.37,1208.56 1039.37,1208.06 1039.37,1207.56 1039.37,1207.06 1039.37,1206.56 \n",
       "  1039.37,1206.06 1039.37,1205.56 1039.37,1205.06 1039.37,1204.56 1039.37,1204.06 1039.37,1203.56 1039.37,1203.06 1039.37,1202.56 1039.37,1202.06 1039.37,1201.56 \n",
       "  1039.37,1201.06 1039.37,1200.56 1039.37,1200.06 1039.37,1199.56 1039.37,1199.06 1039.37,1198.56 1039.37,1198.06 1039.37,1197.56 1039.37,1197.06 1039.37,1196.56 \n",
       "  1039.37,1196.06 1039.37,1195.56 1039.37,1195.06 1039.37,1194.56 1039.37,1194.06 1039.37,1193.56 1039.37,1193.06 1039.37,1192.56 1039.37,1192.06 1039.37,1191.56 \n",
       "  1039.37,1191.05 1039.37,1190.55 1039.37,1190.05 1039.37,1189.55 1039.37,1189.05 1039.37,1188.55 1039.37,1188.05 1039.37,1187.55 1039.37,1187.05 1039.37,1186.55 \n",
       "  1039.37,1186.05 1039.37,1185.55 1039.37,1185.05 1039.37,1184.55 1039.37,1184.05 1039.37,1183.55 1039.37,1183.05 1039.37,1182.55 1039.37,1182.05 1039.37,1181.55 \n",
       "  1039.37,1181.05 1039.37,1180.55 1039.37,1180.05 1039.37,1179.55 1039.37,1179.05 1039.37,1178.55 1039.37,1178.05 1039.37,1177.55 1039.37,1177.05 1039.37,1176.55 \n",
       "  1039.37,1176.05 1039.37,1175.55 1039.37,1175.05 1039.37,1174.55 1039.37,1174.05 1039.37,1173.55 1039.37,1173.05 1039.37,1172.55 1039.37,1172.05 1039.37,1171.55 \n",
       "  1039.37,1171.05 1039.37,1170.55 1039.37,1170.05 1039.37,1169.55 1039.37,1169.05 1039.37,1168.55 1039.37,1168.05 1039.37,1167.55 1039.37,1167.05 1039.37,1166.55 \n",
       "  1039.37,1166.05 1039.37,1165.55 1039.37,1165.05 1039.37,1164.55 1039.37,1164.05 1039.37,1163.55 1039.37,1163.05 1039.37,1162.55 1039.37,1162.05 1039.37,1161.55 \n",
       "  1039.37,1161.05 1039.37,1160.55 1039.37,1160.05 1039.37,1159.55 1039.37,1159.05 1039.37,1158.55 1039.37,1158.05 1039.37,1157.55 1039.37,1157.05 1039.37,1156.55 \n",
       "  1039.37,1156.05 1039.37,1155.55 1039.37,1155.05 1039.37,1154.54 1039.37,1154.04 1039.37,1153.54 1039.37,1153.04 1039.37,1152.54 1039.37,1152.04 1039.37,1151.54 \n",
       "  1039.37,1151.04 1039.37,1150.54 1039.37,1150.04 1039.37,1149.54 1039.37,1149.04 1039.37,1148.54 1039.37,1148.04 1039.37,1147.54 1039.37,1147.04 1039.37,1146.54 \n",
       "  1039.37,1146.04 1039.37,1145.54 1039.37,1145.04 1039.37,1144.54 1039.37,1144.04 1039.37,1143.54 1039.37,1143.04 1039.37,1142.54 1039.37,1142.04 1039.37,1141.54 \n",
       "  1039.37,1141.04 1039.37,1140.54 1039.37,1140.04 1039.37,1139.54 1039.37,1139.04 1039.37,1138.54 1039.37,1138.04 1039.37,1137.54 1039.37,1137.04 1039.37,1136.54 \n",
       "  1039.37,1136.04 1039.37,1135.54 1039.37,1135.04 1039.37,1134.54 1039.37,1134.04 1039.37,1133.54 1039.37,1133.04 1039.37,1132.54 1039.37,1132.04 1039.37,1131.54 \n",
       "  1039.37,1131.04 1039.37,1130.54 1039.37,1130.04 1039.37,1129.54 1039.37,1129.04 1039.37,1128.54 1039.37,1128.04 1039.37,1127.54 1039.37,1127.04 1039.37,1126.54 \n",
       "  1039.37,1126.04 1039.37,1125.54 1039.37,1125.04 1039.37,1124.54 1039.37,1124.04 1039.37,1123.54 1039.37,1123.04 1039.37,1122.54 1039.37,1122.04 1039.37,1121.54 \n",
       "  1039.37,1121.04 1039.37,1120.54 1039.37,1120.04 1039.37,1119.54 1039.37,1119.04 1039.37,1118.54 1039.37,1118.04 1039.37,1117.53 1039.37,1117.03 1039.37,1116.53 \n",
       "  1039.37,1116.03 1039.37,1115.53 1039.37,1115.03 1039.37,1114.53 1039.37,1114.03 1039.37,1113.53 1039.37,1113.03 1039.37,1112.53 1039.37,1112.03 1039.37,1111.53 \n",
       "  1039.37,1111.03 1039.37,1110.53 1039.37,1110.03 1039.37,1109.53 1039.37,1109.03 1039.37,1108.53 1039.37,1108.03 1039.37,1107.53 1039.37,1107.03 1039.37,1106.53 \n",
       "  1039.37,1106.03 1039.37,1105.53 1039.37,1105.03 1039.37,1104.53 1039.37,1104.03 1039.37,1103.53 1039.37,1103.03 1039.37,1102.53 1039.37,1102.03 1039.37,1101.53 \n",
       "  1039.37,1101.03 1039.37,1100.53 1039.37,1100.03 1039.37,1099.53 1039.37,1099.03 1039.37,1098.53 1039.37,1098.03 1039.37,1097.53 1039.37,1097.03 1039.37,1096.53 \n",
       "  1039.37,1096.03 1039.37,1095.53 1039.37,1095.03 1039.37,1094.53 1039.37,1094.03 1039.37,1093.53 1039.37,1093.03 1039.37,1092.53 1039.37,1092.03 1039.37,1091.53 \n",
       "  1039.37,1091.03 1039.37,1090.53 1039.37,1090.03 1039.37,1089.53 1039.37,1089.03 1039.37,1088.53 1039.37,1088.03 1039.37,1087.53 1039.37,1087.03 1039.37,1086.53 \n",
       "  1039.37,1086.03 1039.37,1085.53 1039.37,1085.03 1039.37,1084.53 1039.37,1084.03 1039.37,1083.53 1039.37,1083.03 1039.37,1082.53 1039.37,1082.03 1039.37,1081.53 \n",
       "  1039.37,1081.02 1039.37,1080.52 1039.37,1080.02 1039.37,1079.52 1039.37,1079.02 1039.37,1078.52 1039.37,1078.02 1039.37,1077.52 1039.37,1077.02 1039.37,1076.52 \n",
       "  1039.37,1076.02 1039.37,1075.52 1039.37,1075.02 1039.37,1074.52 1039.37,1074.02 1039.37,1073.52 1039.37,1073.02 1039.37,1072.52 1039.37,1072.02 1039.37,1071.52 \n",
       "  1039.37,1071.02 1039.37,1070.52 1039.37,1070.02 1039.37,1069.52 1039.37,1069.02 1039.37,1068.52 1039.37,1068.02 1039.37,1067.52 1039.37,1067.02 1039.37,1066.52 \n",
       "  1039.37,1066.02 1039.37,1065.52 1039.37,1065.02 1039.37,1064.52 1039.37,1064.02 1039.37,1063.52 1039.37,1063.02 1039.37,1062.52 1039.37,1062.02 1039.37,1061.52 \n",
       "  1039.37,1061.02 1039.37,1060.52 1039.37,1060.02 1039.37,1059.52 1039.37,1059.02 1039.37,1058.52 1039.37,1058.02 1039.37,1057.52 1039.37,1057.02 1039.37,1056.52 \n",
       "  1039.37,1056.02 1039.37,1055.52 1039.37,1055.02 1039.37,1054.52 1039.37,1054.02 1039.37,1053.52 1039.37,1053.02 1039.37,1052.52 1039.37,1052.02 1039.37,1051.52 \n",
       "  1039.37,1051.02 1039.37,1050.52 1039.37,1050.02 1039.37,1049.52 1039.37,1049.02 1039.37,1048.52 1039.37,1048.02 1039.37,1047.52 1039.37,1047.02 1039.37,1046.52 \n",
       "  1039.37,1046.02 1039.37,1045.52 1039.37,1045.02 1039.37,1044.52 1039.37,1044.01 1039.37,1043.51 1039.37,1043.01 1039.37,1042.51 1039.37,1042.01 1039.37,1041.51 \n",
       "  1039.37,1041.01 1039.37,1040.51 1039.37,1040.01 1039.37,1039.51 1039.37,1039.01 1039.37,1038.51 1039.37,1038.01 1039.37,1037.51 1039.37,1037.01 1039.37,1036.51 \n",
       "  1039.37,1036.01 1039.37,1035.51 1039.37,1035.01 1039.37,1034.51 1039.37,1034.01 1039.37,1033.51 1039.37,1033.01 1039.37,1032.51 1039.37,1032.01 1039.37,1031.51 \n",
       "  1039.37,1031.01 1039.37,1030.51 1039.37,1030.01 1039.37,1029.51 1039.37,1029.01 1039.37,1028.51 1039.37,1028.01 1039.37,1027.51 1039.37,1027.01 1039.37,1026.51 \n",
       "  1039.37,1026.01 1039.37,1025.51 1039.37,1025.01 1039.37,1024.51 1039.37,1024.01 1039.37,1023.51 1039.37,1023.01 1039.37,1022.51 1039.37,1022.01 1039.37,1021.51 \n",
       "  1039.37,1021.01 1039.37,1020.51 1039.37,1020.01 1039.37,1019.51 1039.37,1019.01 1039.37,1018.51 1039.37,1018.01 1039.37,1017.51 1039.37,1017.01 1039.37,1016.51 \n",
       "  1039.37,1016.01 1039.37,1015.51 1039.37,1015.01 1039.37,1014.51 1039.37,1014.01 1039.37,1013.51 1039.37,1013.01 1039.37,1012.51 1039.37,1012.01 1039.37,1011.51 \n",
       "  1039.37,1011.01 1039.37,1010.51 1039.37,1010.01 1039.37,1009.51 1039.37,1009.01 1039.37,1008.51 1039.37,1008.01 1039.37,1007.51 1039.37,1007 1039.37,1006.5 \n",
       "  1039.37,1006 1039.37,1005.5 1039.37,1005 1039.37,1004.5 1039.37,1004 1039.37,1003.5 1039.37,1003 1039.37,1002.5 1039.37,1002 1039.37,1001.5 \n",
       "  1039.37,1001 1039.37,1000.5 1039.37,1000 1039.37,999.503 1039.37,999.003 1039.37,998.503 1039.37,998.002 1039.37,997.502 1039.37,997.002 1039.37,996.502 \n",
       "  1039.37,996.002 1039.37,995.502 1039.37,995.002 1039.37,994.501 1039.37,994.001 1039.37,993.501 1039.37,993.001 1039.37,992.501 1039.37,992.001 1039.37,991.501 \n",
       "  1039.37,991.001 1039.37,990.5 1039.37,990 1039.37,989.5 1039.37,989 1039.37,988.5 1039.37,988 1039.37,987.5 1039.37,986.999 1039.37,986.499 \n",
       "  1039.37,985.999 1039.37,985.499 1039.37,984.999 1039.37,984.499 1039.37,983.999 1039.37,983.498 1039.37,982.998 1039.37,982.498 1039.37,981.998 1039.37,981.498 \n",
       "  1039.37,980.998 1039.37,980.498 1039.37,979.998 1039.37,979.497 1039.37,978.997 1039.37,978.497 1039.37,977.997 1039.37,977.497 1039.37,976.997 1039.37,976.497 \n",
       "  1039.37,975.996 1039.37,975.496 1039.37,974.996 1039.37,974.496 1039.37,973.996 1039.37,973.496 1039.37,972.996 1039.37,972.495 1039.37,971.995 1039.37,971.495 \n",
       "  1039.37,970.995 1039.37,970.495 1039.37,969.995 1039.37,969.495 1039.37,968.995 1039.37,968.494 1039.37,967.994 1039.37,967.494 1039.37,966.994 1039.37,966.494 \n",
       "  1039.37,965.994 1039.37,965.494 1039.37,964.993 1039.37,964.493 1039.37,963.993 1039.37,963.493 1039.37,962.993 1039.37,962.493 1039.37,961.993 1039.37,961.493 \n",
       "  1039.37,960.992 1039.37,960.492 1039.37,959.992 1039.37,959.492 1039.37,958.992 1039.37,958.492 1039.37,957.992 1039.37,957.491 1039.37,956.991 1039.37,956.491 \n",
       "  1039.37,955.991 1039.37,955.491 1039.37,954.991 1039.37,954.491 1039.37,953.99 1039.37,953.49 1039.37,952.99 1039.37,952.49 1039.37,951.99 1039.37,951.49 \n",
       "  1039.37,950.99 1039.37,950.49 1039.37,949.989 1039.37,949.489 1039.37,948.989 1039.37,948.489 1039.37,947.989 1039.37,947.489 1039.37,946.989 1039.37,946.488 \n",
       "  1039.37,945.988 1039.37,945.488 1039.37,944.988 1039.37,944.488 1039.37,943.988 1039.37,943.488 1039.37,942.987 1039.37,942.487 1039.37,941.987 1039.37,941.487 \n",
       "  1039.37,940.987 1039.37,940.487 1039.37,939.987 1039.37,939.487 1039.37,938.986 1039.37,938.486 1039.37,937.986 1039.37,937.486 1039.37,936.986 1039.37,936.486 \n",
       "  1039.37,935.986 1039.37,935.485 1039.37,934.985 1039.37,934.485 1039.37,933.985 1039.37,933.485 1039.37,932.985 1039.37,932.485 1039.37,931.984 1039.37,931.484 \n",
       "  1039.37,930.984 1039.37,930.484 1039.37,929.984 1039.37,929.484 1039.37,928.984 1039.37,928.484 1039.37,927.983 1039.37,927.483 1039.37,926.983 1039.37,926.483 \n",
       "  1039.37,925.983 1039.37,925.483 1039.37,924.983 1039.37,924.482 1039.37,923.982 1039.37,923.482 1039.37,922.982 1039.37,922.482 1039.37,921.982 1039.37,921.482 \n",
       "  1039.37,920.982 1039.37,920.481 1039.37,919.981 1039.37,919.481 1039.37,918.981 1039.37,918.481 1039.37,917.981 1039.37,917.481 1039.37,916.98 1039.37,916.48 \n",
       "  1039.37,915.98 1039.37,915.48 1039.37,914.98 1039.37,914.48 1039.37,913.98 1039.37,913.479 1039.37,912.979 1039.37,912.479 1039.37,911.979 1039.37,911.479 \n",
       "  1039.37,910.979 1039.37,910.479 1039.37,909.979 1039.37,909.478 1039.37,908.978 1039.37,908.478 1039.37,907.978 1039.37,907.478 1039.37,906.978 1039.37,906.478 \n",
       "  1039.37,905.977 1039.37,905.477 1039.37,904.977 1039.37,904.477 1039.37,903.977 1039.37,903.477 1039.37,902.977 1039.37,902.476 1039.37,901.976 1039.37,901.476 \n",
       "  1039.37,900.976 1039.37,900.476 1039.37,899.976 1039.37,899.476 1039.37,898.976 1039.37,898.475 1039.37,897.975 1039.37,897.475 1039.37,896.975 1039.37,896.475 \n",
       "  1039.37,895.975 1039.37,895.475 1039.37,894.974 1039.37,894.474 1039.37,893.974 1039.37,893.474 1039.37,892.974 1039.37,892.474 1039.37,891.974 1039.37,891.473 \n",
       "  1039.37,890.973 1039.37,890.473 1039.37,889.973 1039.37,889.473 1039.37,888.973 1039.37,888.473 1039.37,887.973 1039.37,887.472 1039.37,886.972 1039.37,886.472 \n",
       "  1039.37,885.972 1039.37,885.472 1039.37,884.972 1039.37,884.472 1039.37,883.971 1039.37,883.471 1039.37,882.971 1039.37,882.471 1039.37,881.971 1039.37,881.471 \n",
       "  1039.37,880.971 1039.37,880.47 1039.37,879.97 1039.37,879.47 1039.37,878.97 1039.37,878.47 1039.37,877.97 1039.37,877.47 1039.37,876.97 1039.37,876.469 \n",
       "  1039.37,875.969 1039.37,875.469 1039.37,874.969 1039.37,874.469 1039.37,873.969 1039.37,873.469 1039.37,872.968 1039.37,872.468 1039.37,871.968 1039.37,871.468 \n",
       "  1039.37,870.968 1039.37,870.468 1039.37,869.968 1039.37,869.468 1039.37,868.967 1039.37,868.467 1039.37,867.967 1039.37,867.467 1039.37,866.967 1039.37,866.467 \n",
       "  1039.37,865.967 1039.37,865.466 1039.37,864.966 1039.37,864.466 1039.37,863.966 1039.37,863.466 1039.37,862.966 1039.37,862.466 1039.37,861.965 1039.37,861.465 \n",
       "  1039.37,860.965 1039.37,860.465 1039.37,859.965 1039.37,859.465 1039.37,858.965 1039.37,858.465 1039.37,857.964 1039.37,857.464 1039.37,856.964 1039.37,856.464 \n",
       "  1039.37,855.964 1039.37,855.464 1039.37,854.964 1039.37,854.463 1039.37,853.963 1039.37,853.463 1039.37,852.963 1039.37,852.463 1039.37,851.963 1039.37,851.463 \n",
       "  1039.37,850.962 1039.37,850.462 1039.37,849.962 1039.37,849.462 1039.37,848.962 1039.37,848.462 1039.37,847.962 1039.37,847.462 1039.37,846.961 1039.37,846.461 \n",
       "  1039.37,845.961 1039.37,845.461 1039.37,844.961 1039.37,844.461 1039.37,843.961 1039.37,843.46 1039.37,842.96 1039.37,842.46 1039.37,841.96 1039.37,841.46 \n",
       "  1039.37,840.96 1039.37,840.46 1039.37,839.959 1039.37,839.459 1039.37,838.959 1039.37,838.459 1039.37,837.959 1039.37,837.459 1039.37,836.959 1039.37,836.459 \n",
       "  1039.37,835.958 1039.37,835.458 1039.37,834.958 1039.37,834.458 1039.37,833.958 1039.37,833.458 1039.37,832.958 1039.37,832.457 1039.37,831.957 1039.37,831.457 \n",
       "  1039.37,830.957 1039.37,830.457 1039.37,829.957 1039.37,829.457 1039.37,828.956 1039.37,828.456 1039.37,827.956 1039.37,827.456 1039.37,826.956 1039.37,826.456 \n",
       "  1039.37,825.956 1039.37,825.456 1039.37,824.955 1039.37,824.455 1039.37,823.955 1039.37,823.455 1039.37,822.955 1039.37,822.455 1039.37,821.955 1039.37,821.454 \n",
       "  1039.37,820.954 1039.37,820.454 1039.37,819.954 1039.37,819.454 1039.37,818.954 1039.37,818.454 1039.37,817.954 1039.37,817.453 1039.37,816.953 1039.37,816.453 \n",
       "  1039.37,815.953 1039.37,815.453 1039.37,814.953 1039.37,814.453 1039.37,813.952 1039.37,813.452 1039.37,812.952 1039.37,812.452 1039.37,811.952 1039.37,811.452 \n",
       "  1039.37,810.952 1039.37,810.451 1039.37,809.951 1039.37,809.451 1039.37,808.951 1039.37,808.451 1039.37,807.951 1039.37,807.451 1039.37,806.951 1039.37,806.45 \n",
       "  1039.37,805.95 1039.37,805.45 1039.37,804.95 1039.37,804.45 1039.37,803.95 1039.37,803.45 1039.37,802.949 1039.37,802.449 1039.37,801.949 1039.37,801.449 \n",
       "  1039.37,800.949 1039.37,800.449 1039.37,799.949 1039.37,799.448 1039.37,798.948 1039.37,798.448 1039.37,797.948 1039.37,797.448 1039.37,796.948 1039.37,796.448 \n",
       "  1039.37,795.948 1039.37,795.447 1039.37,794.947 1039.37,794.447 1039.37,793.947 1039.37,793.447 1039.37,792.947 1039.37,792.447 1039.37,791.946 1039.37,791.446 \n",
       "  1039.37,790.946 1039.37,790.446 1039.37,789.946 1039.37,789.446 1039.37,788.946 1039.37,788.445 1039.37,787.945 1039.37,787.445 1039.37,786.945 1039.37,786.445 \n",
       "  1039.37,785.945 1039.37,785.445 1039.37,784.945 1039.37,784.444 1039.37,783.944 1039.37,783.444 1039.37,782.944 1039.37,782.444 1039.37,781.944 1039.37,781.444 \n",
       "  1039.37,780.943 1039.37,780.443 1039.37,779.943 1039.37,779.443 1039.37,778.943 1039.37,778.443 1039.37,777.943 1039.37,777.442 1039.37,776.942 1039.37,776.442 \n",
       "  1039.37,775.942 1039.37,775.442 1039.37,774.942 1039.37,774.442 1039.37,773.942 1039.37,773.441 1039.37,772.941 1039.37,772.441 1039.37,771.941 1039.37,771.441 \n",
       "  1039.37,770.941 1039.37,770.441 1039.37,769.94 1039.37,769.44 1039.37,768.94 1039.37,768.44 1039.37,767.94 1039.37,767.44 1039.37,766.94 1039.37,766.44 \n",
       "  1039.37,765.939 1039.37,765.439 1039.37,764.939 1039.37,764.439 1039.37,763.939 1039.37,763.439 1039.37,762.939 1039.37,762.438 1039.37,761.938 1039.37,761.438 \n",
       "  1039.37,760.938 1039.37,760.438 1039.37,759.938 1039.37,759.438 1039.37,758.937 1039.37,758.437 1039.37,757.937 1039.37,757.437 1039.37,756.937 1039.37,756.437 \n",
       "  1039.37,755.937 1039.37,755.437 1039.37,754.936 1039.37,754.436 1039.37,753.936 1039.37,753.436 1039.37,752.936 1039.37,752.436 1039.37,751.936 1039.37,751.435 \n",
       "  1039.37,750.935 1039.37,750.435 1039.37,749.935 1039.37,749.435 1039.37,748.935 1039.37,748.435 1039.37,747.934 1039.37,747.434 1039.37,746.934 1039.37,746.434 \n",
       "  1039.37,745.934 1039.37,745.434 1039.37,744.934 1039.37,744.434 1039.37,743.933 1039.37,743.433 1039.37,742.933 1039.37,742.433 1039.37,741.933 1039.37,741.433 \n",
       "  1039.37,740.933 1039.37,740.432 1039.37,739.932 1039.37,739.432 1039.37,738.932 1039.37,738.432 1039.37,737.932 1039.37,737.432 1039.37,736.931 1039.37,736.431 \n",
       "  1039.37,735.931 1039.37,735.431 1039.37,734.931 1039.37,734.431 1039.37,733.931 1039.37,733.431 1039.37,732.93 1039.37,732.43 1039.37,731.93 1039.37,731.43 \n",
       "  1039.37,730.93 1039.37,730.43 1039.37,729.93 1039.37,729.429 1039.37,728.929 1039.37,728.429 1039.37,727.929 1039.37,727.429 1039.37,726.929 1039.37,726.429 \n",
       "  1039.37,725.929 1039.37,725.428 1039.37,724.928 1039.37,724.428 1039.37,723.928 1039.37,723.428 1039.37,722.928 1039.37,722.428 1039.37,721.927 1039.37,721.427 \n",
       "  1039.37,720.927 1039.37,720.427 1039.37,719.927 1039.37,719.427 1039.37,718.927 1039.37,718.426 1039.37,717.926 1039.37,717.426 1039.37,716.926 1039.37,716.426 \n",
       "  1039.37,715.926 1039.37,715.426 1039.37,714.926 1039.37,714.425 1039.37,713.925 1039.37,713.425 1039.37,712.925 1039.37,712.425 1039.37,711.925 1039.37,711.425 \n",
       "  1039.37,710.924 1039.37,710.424 1039.37,709.924 1039.37,709.424 1039.37,708.924 1039.37,708.424 1039.37,707.924 1039.37,707.423 1039.37,706.923 1039.37,706.423 \n",
       "  1039.37,705.923 1039.37,705.423 1039.37,704.923 1039.37,704.423 1039.37,703.923 1039.37,703.422 1039.37,702.922 1039.37,702.422 1039.37,701.922 1039.37,701.422 \n",
       "  1039.37,700.922 1039.37,700.422 1039.37,699.921 1039.37,699.421 1039.37,698.921 1039.37,698.421 1039.37,697.921 1039.37,697.421 1039.37,696.921 1039.37,696.42 \n",
       "  1039.37,695.92 1039.37,695.42 1039.37,694.92 1039.37,694.42 1039.37,693.92 1039.37,693.42 1039.37,692.92 1039.37,692.419 1039.37,691.919 1039.37,691.419 \n",
       "  1039.37,690.919 1039.37,690.419 1039.37,689.919 1039.37,689.419 1039.37,688.918 1039.37,688.418 1039.37,687.918 1039.37,687.418 1039.37,686.918 1039.37,686.418 \n",
       "  1039.37,685.918 1039.37,685.417 1039.37,684.917 1039.37,684.417 1039.37,683.917 1039.37,683.417 1039.37,682.917 1039.37,682.417 1039.37,681.917 1039.37,681.416 \n",
       "  1039.37,680.916 1039.37,680.416 1039.37,679.916 1039.37,679.416 1039.37,678.916 1039.37,678.416 1039.37,677.915 1039.37,677.415 1039.37,676.915 1039.37,676.415 \n",
       "  1039.37,675.915 1039.37,675.415 1039.37,674.915 1039.37,674.415 1039.37,673.914 1039.37,673.414 1039.37,672.914 1039.37,672.414 1039.37,671.914 1039.37,671.414 \n",
       "  1039.37,670.914 1039.37,670.413 1039.37,669.913 1039.37,669.413 1039.37,668.913 1039.37,668.413 1039.37,667.913 1039.37,667.413 1039.37,666.912 1039.37,666.412 \n",
       "  1039.37,665.912 1039.37,665.412 1039.37,664.912 1039.37,664.412 1039.37,663.912 1039.37,663.412 1039.37,662.911 1039.37,662.411 1039.37,661.911 1039.37,661.411 \n",
       "  1039.37,660.911 1039.37,660.411 1039.37,659.911 1039.37,659.41 1039.37,658.91 1039.37,658.41 1039.37,657.91 1039.37,657.41 1039.37,656.91 1039.37,656.41 \n",
       "  1039.37,655.909 1039.37,655.409 1039.37,654.909 1039.37,654.409 1039.37,653.909 1039.37,653.409 1039.37,652.909 1039.37,652.409 1039.37,651.908 1039.37,651.408 \n",
       "  1039.37,650.908 1039.37,650.408 1039.37,649.908 1039.37,649.408 1039.37,648.908 1039.37,648.407 1039.37,647.907 1039.37,647.407 1039.37,646.907 1039.37,646.407 \n",
       "  1039.37,645.907 1039.37,645.407 1039.37,644.906 1039.37,644.406 1039.37,643.906 1039.37,643.406 1039.37,642.906 1039.37,642.406 1039.37,641.906 1039.37,641.406 \n",
       "  1039.37,640.905 1039.37,640.405 1039.37,639.905 1039.37,639.405 1039.37,638.905 1039.37,638.405 1039.37,637.905 1039.37,637.404 1039.37,636.904 1039.37,636.404 \n",
       "  1039.37,635.904 1039.37,635.404 1039.37,634.904 1039.37,634.404 1039.37,633.903 1039.37,633.403 1039.37,632.903 1039.37,632.403 1039.37,631.903 1039.37,631.403 \n",
       "  1039.37,630.903 1039.37,630.403 1039.37,629.902 1039.37,629.402 1039.37,628.902 1039.37,628.402 1039.37,627.902 1039.37,627.402 1039.37,626.902 1039.37,626.401 \n",
       "  1039.37,625.901 1039.37,625.401 1039.37,624.901 1039.37,624.401 1039.37,623.901 1039.37,623.401 1039.37,622.901 1039.37,622.4 1039.37,621.9 1039.37,621.4 \n",
       "  1039.37,620.9 1039.37,620.4 1039.37,619.9 1039.37,619.4 1039.37,618.899 1039.37,618.399 1039.37,617.899 1039.37,617.399 1039.37,616.899 1039.37,616.399 \n",
       "  1039.37,615.899 1039.37,615.398 1039.37,614.898 1039.37,614.398 1039.37,613.898 1039.37,613.398 1039.37,612.898 1039.37,612.398 1039.37,611.898 1039.37,611.397 \n",
       "  1039.37,610.897 1039.37,610.397 1039.37,609.897 1039.37,609.397 1039.37,608.897 1039.37,608.397 1039.37,607.896 1039.37,607.396 1039.37,606.896 1039.37,606.396 \n",
       "  1039.37,605.896 1039.37,605.396 1039.37,604.896 1039.37,604.395 1039.37,603.895 1039.37,603.395 1039.37,602.895 1039.37,602.395 1039.37,601.895 1039.37,601.395 \n",
       "  1039.37,600.895 1039.37,600.394 1039.37,599.894 1039.37,599.394 1039.37,598.894 1039.37,598.394 1039.37,597.894 1039.37,597.394 1039.37,596.893 1039.37,596.393 \n",
       "  1039.37,595.893 1039.37,595.393 1039.37,594.893 1039.37,594.393 1039.37,593.893 1039.37,593.392 1039.37,592.892 1039.37,592.392 1039.37,591.892 1039.37,591.392 \n",
       "  1039.37,590.892 1039.37,590.392 1039.37,589.892 1039.37,589.391 1039.37,588.891 1039.37,588.391 1039.37,587.891 1039.37,587.391 1039.37,586.891 1039.37,586.391 \n",
       "  1039.37,585.89 1039.37,585.39 1039.37,584.89 1039.37,584.39 1039.37,583.89 1039.37,583.39 1039.37,582.89 1039.37,582.39 1039.37,581.889 1039.37,581.389 \n",
       "  1039.37,580.889 1039.37,580.389 1039.37,579.889 1039.37,579.389 1039.37,578.889 1039.37,578.388 1039.37,577.888 1039.37,577.388 1039.37,576.888 1039.37,576.388 \n",
       "  1039.37,575.888 1039.37,575.388 1039.37,574.887 1039.37,574.387 1039.37,573.887 1039.37,573.387 1039.37,572.887 1039.37,572.387 1039.37,571.887 1039.37,571.387 \n",
       "  1039.37,570.886 1039.37,570.386 1039.37,569.886 1039.37,569.386 1039.37,568.886 1039.37,568.386 1039.37,567.886 1039.37,567.385 1039.37,566.885 1039.37,566.385 \n",
       "  1039.37,565.885 1039.37,565.385 1039.37,564.885 1039.37,564.385 1039.37,563.884 1039.37,563.384 1039.37,562.884 1039.37,562.384 1039.37,561.884 1039.37,561.384 \n",
       "  1039.37,560.884 1039.37,560.384 1039.37,559.883 1039.37,559.383 1039.37,558.883 1039.37,558.383 1039.37,557.883 1039.37,557.383 1039.37,556.883 1039.37,556.382 \n",
       "  1039.37,555.882 1039.37,555.382 1039.37,554.882 1039.37,554.382 1039.37,553.882 1039.37,553.382 1039.37,552.881 1039.37,552.381 1039.37,551.881 1039.37,551.381 \n",
       "  1039.37,550.881 1039.37,550.381 1039.37,549.881 1039.37,549.381 1039.37,548.88 1039.37,548.38 1039.37,547.88 1039.37,547.38 1039.37,546.88 1039.37,546.38 \n",
       "  1039.37,545.88 1039.37,545.379 1039.37,544.879 1039.37,544.379 1039.37,543.879 1039.37,543.379 1039.37,542.879 1039.37,542.379 1039.37,541.878 1039.37,541.378 \n",
       "  1039.37,540.878 1039.37,540.378 1039.37,539.878 1039.37,539.378 1039.37,538.878 1039.37,538.378 1039.37,537.877 1039.37,537.377 1039.37,536.877 1039.37,536.377 \n",
       "  1039.37,535.877 1039.37,535.377 1039.37,534.877 1039.37,534.376 1039.37,533.876 1039.37,533.376 1039.37,532.876 1039.37,532.376 1039.37,531.876 1039.37,531.376 \n",
       "  1039.37,530.876 1039.37,530.375 1039.37,529.875 1039.37,529.375 1039.37,528.875 1039.37,528.375 1039.37,527.875 1039.37,527.375 1039.37,526.874 1039.37,526.374 \n",
       "  1039.37,525.874 1039.37,525.374 1039.37,524.874 1039.37,524.374 1039.37,523.874 1039.37,523.373 1039.37,522.873 1039.37,522.373 1039.37,521.873 1039.37,521.373 \n",
       "  1039.37,520.873 1039.37,520.373 1039.37,519.873 1039.37,519.372 1039.37,518.872 1039.37,518.372 1039.37,517.872 1039.37,517.372 1039.37,516.872 1039.37,516.372 \n",
       "  1039.37,515.871 1039.37,515.371 1039.37,514.871 1039.37,514.371 1039.37,513.871 1039.37,513.371 1039.37,512.871 1039.37,512.37 1039.37,511.87 1039.37,511.37 \n",
       "  1039.37,510.87 1039.37,510.37 1039.37,509.87 1039.37,509.37 1039.37,508.87 1039.37,508.369 1039.37,507.869 1039.37,507.369 1039.37,506.869 1039.37,506.369 \n",
       "  1039.37,505.869 1039.37,505.369 1039.37,504.868 1039.37,504.368 1039.37,503.868 1039.37,503.368 1039.37,502.868 1039.37,502.368 1039.37,501.868 1039.37,501.367 \n",
       "  1039.37,500.867 1039.37,500.367 1039.37,499.867 1039.37,499.367 1039.37,498.867 1039.37,498.367 1039.37,497.867 1039.37,497.366 1039.37,496.866 1039.37,496.366 \n",
       "  1039.37,495.866 1039.37,495.366 1039.37,494.866 1039.37,494.366 1039.37,493.865 1039.37,493.365 1039.37,492.865 1039.37,492.365 1039.37,491.865 1039.37,491.365 \n",
       "  1039.37,490.865 1039.37,490.364 1039.37,489.864 1039.37,489.364 1039.37,488.864 1039.37,488.364 1039.37,487.864 1039.37,487.364 1039.37,486.864 1039.37,486.363 \n",
       "  1039.37,485.863 1039.37,485.363 1039.37,484.863 1039.37,484.363 1039.37,483.863 1039.37,483.363 1039.37,482.862 1039.37,482.362 1039.37,481.862 1039.37,481.362 \n",
       "  1039.37,480.862 1039.37,480.362 1039.37,479.862 1039.37,479.362 1039.37,478.861 1039.37,478.361 1039.37,477.861 1039.37,477.361 1039.37,476.861 1039.37,476.361 \n",
       "  1039.37,475.861 1039.37,475.36 1039.37,474.86 1039.37,474.36 1039.37,473.86 1039.37,473.36 1039.37,472.86 1039.37,472.36 1039.37,471.859 1039.37,471.359 \n",
       "  1039.37,470.859 1039.37,470.359 1039.37,469.859 1039.37,469.359 1039.37,468.859 1039.37,468.359 1039.37,467.858 1039.37,467.358 1039.37,466.858 1039.37,466.358 \n",
       "  1039.37,465.858 1039.37,465.358 1039.37,464.858 1039.37,464.357 1039.37,463.857 1039.37,463.357 1039.37,462.857 1039.37,462.357 1039.37,461.857 1039.37,461.357 \n",
       "  1039.37,460.856 1039.37,460.356 1039.37,459.856 1039.37,459.356 1039.37,458.856 1039.37,458.356 1039.37,457.856 1039.37,457.356 1039.37,456.855 1039.37,456.355 \n",
       "  1039.37,455.855 1039.37,455.355 1039.37,454.855 1039.37,454.355 1039.37,453.855 1039.37,453.354 1039.37,452.854 1039.37,452.354 1039.37,451.854 1039.37,451.354 \n",
       "  1039.37,450.854 1039.37,450.354 1039.37,449.853 1039.37,449.353 1039.37,448.853 1039.37,448.353 1039.37,447.853 1039.37,447.353 1039.37,446.853 1039.37,446.353 \n",
       "  1039.37,445.852 1039.37,445.352 1039.37,444.852 1039.37,444.352 1039.37,443.852 1039.37,443.352 1039.37,442.852 1039.37,442.351 1039.37,441.851 1039.37,441.351 \n",
       "  1039.37,440.851 1039.37,440.351 1039.37,439.851 1039.37,439.351 1039.37,438.85 1039.37,438.35 1039.37,437.85 1039.37,437.35 1039.37,436.85 1039.37,436.35 \n",
       "  1039.37,435.85 1039.37,435.35 1039.37,434.849 1039.37,434.349 1039.37,433.849 1039.37,433.349 1039.37,432.849 1039.37,432.349 1039.37,431.849 1039.37,431.348 \n",
       "  1039.37,430.848 1039.37,430.348 1039.37,429.848 1039.37,429.348 1039.37,428.848 1039.37,428.348 1039.37,427.848 1039.37,427.347 1039.37,426.847 1039.37,426.347 \n",
       "  1039.37,425.847 1039.37,425.347 1039.37,424.847 1039.37,424.347 1039.37,423.846 1039.37,423.346 1039.37,422.846 1039.37,422.346 1039.37,421.846 1039.37,421.346 \n",
       "  1039.37,420.846 1039.37,420.345 1039.37,419.845 1039.37,419.345 1039.37,418.845 1039.37,418.345 1039.37,417.845 1039.37,417.345 1039.37,416.845 1039.37,416.344 \n",
       "  1039.37,415.844 1039.37,415.344 1039.37,414.844 1039.37,414.344 1039.37,413.844 1039.37,413.344 1039.37,412.843 1039.37,412.343 1039.37,411.843 1039.37,411.343 \n",
       "  1039.37,410.843 1039.37,410.343 1039.37,409.843 1039.37,409.342 1039.37,408.842 1039.37,408.342 1039.37,407.842 1039.37,407.342 1039.37,406.842 1039.37,406.342 \n",
       "  1039.37,405.842 1039.37,405.341 1039.37,404.841 1039.37,404.341 1039.37,403.841 1039.37,403.341 1039.37,402.841 1039.37,402.341 1039.37,401.84 1039.37,401.34 \n",
       "  1039.37,400.84 1039.37,400.34 1039.37,399.84 1039.37,399.34 1039.37,398.84 1039.37,398.339 1039.37,397.839 1039.37,397.339 1039.37,396.839 1039.37,396.339 \n",
       "  1039.37,395.839 1039.37,395.339 1039.37,394.839 1039.37,394.338 1039.37,393.838 1039.37,393.338 1039.37,392.838 1039.37,392.338 1039.37,391.838 1039.37,391.338 \n",
       "  1039.37,390.837 1039.37,390.337 1039.37,389.837 1039.37,389.337 1039.37,388.837 1039.37,388.337 1039.37,387.837 1039.37,387.337 1039.37,386.836 1039.37,386.336 \n",
       "  1039.37,385.836 1039.37,385.336 1039.37,384.836 1039.37,384.336 1039.37,383.836 1039.37,383.335 1039.37,382.835 1039.37,382.335 1039.37,381.835 1039.37,381.335 \n",
       "  1039.37,380.835 1039.37,380.335 1039.37,379.834 1039.37,379.334 1039.37,378.834 1039.37,378.334 1039.37,377.834 1039.37,377.334 1039.37,376.834 1039.37,376.334 \n",
       "  1039.37,375.833 1039.37,375.333 1039.37,374.833 1039.37,374.333 1039.37,373.833 1039.37,373.333 1039.37,372.833 1039.37,372.332 1039.37,371.832 1039.37,371.332 \n",
       "  1039.37,370.832 1039.37,370.332 1039.37,369.832 1039.37,369.332 1039.37,368.831 1039.37,368.331 1039.37,367.831 1039.37,367.331 1039.37,366.831 1039.37,366.331 \n",
       "  1039.37,365.831 1039.37,365.331 1039.37,364.83 1039.37,364.33 1039.37,363.83 1039.37,363.33 1039.37,362.83 1039.37,362.33 1039.37,361.83 1039.37,361.329 \n",
       "  1039.37,360.829 1039.37,360.329 1039.37,359.829 1039.37,359.329 1039.37,358.829 1039.37,358.329 1039.37,357.828 1039.37,357.328 1039.37,356.828 1039.37,356.328 \n",
       "  1039.37,355.828 1039.37,355.328 1039.37,354.828 1039.37,354.328 1039.37,353.827 1039.37,353.327 1039.37,352.827 1039.37,352.327 1039.37,351.827 1039.37,351.327 \n",
       "  1039.37,350.827 1039.37,350.326 1039.37,349.826 1039.37,349.326 1039.37,348.826 1039.37,348.326 1039.37,347.826 1039.37,347.326 1039.37,346.825 1039.37,346.325 \n",
       "  1039.37,345.825 1039.37,345.325 1039.37,344.825 1039.37,344.325 1039.37,343.825 1039.37,343.325 1039.37,342.824 1039.37,342.324 1039.37,341.824 1039.37,341.324 \n",
       "  1039.37,340.824 1039.37,340.324 1039.37,339.824 1039.37,339.323 1039.37,338.823 1039.37,338.323 1039.37,337.823 1039.37,337.323 1039.37,336.823 1039.37,336.323 \n",
       "  1039.37,335.823 1039.37,335.322 1039.37,334.822 1039.37,334.322 1039.37,333.822 1039.37,333.322 1039.37,332.822 1039.37,332.322 1039.37,331.821 1039.37,331.321 \n",
       "  1039.37,330.821 1039.37,330.321 1039.37,329.821 1039.37,329.321 1039.37,328.821 1039.37,328.32 1039.37,327.82 1039.37,327.32 1039.37,326.82 1039.37,326.32 \n",
       "  1039.37,325.82 1039.37,325.32 1039.37,324.82 1039.37,324.319 1039.37,323.819 1039.37,323.319 1039.37,322.819 1039.37,322.319 1039.37,321.819 1039.37,321.319 \n",
       "  1039.37,320.818 1039.37,320.318 1039.37,319.818 1039.37,319.318 1039.37,318.818 1039.37,318.318 1039.37,317.818 1039.37,317.317 1039.37,316.817 1039.37,316.317 \n",
       "  1039.37,315.817 1039.37,315.317 1039.37,314.817 1039.37,314.317 1039.37,313.817 1039.37,313.316 1039.37,312.816 1039.37,312.316 1039.37,311.816 1039.37,311.316 \n",
       "  1039.37,310.816 1039.37,310.316 1039.37,309.815 1039.37,309.315 1039.37,308.815 1039.37,308.315 1039.37,307.815 1039.37,307.315 1039.37,306.815 1039.37,306.314 \n",
       "  1039.37,305.814 1039.37,305.314 1039.37,304.814 1039.37,304.314 1039.37,303.814 1039.37,303.314 1039.37,302.814 1039.37,302.313 1039.37,301.813 1039.37,301.313 \n",
       "  1039.37,300.813 1039.37,300.313 1039.37,299.813 1039.37,299.313 1039.37,298.812 1039.37,298.312 1039.37,297.812 1039.37,297.312 1039.37,296.812 1039.37,296.312 \n",
       "  1039.37,295.812 1039.37,295.311 1039.37,294.811 1039.37,294.311 1039.37,293.811 1039.37,293.311 1039.37,292.811 1039.37,292.311 1039.37,291.811 1039.37,291.31 \n",
       "  1039.37,290.81 1039.37,290.31 1039.37,289.81 1039.37,289.31 1039.37,288.81 1039.37,288.31 1039.37,287.809 1039.37,287.309 1039.37,286.809 1039.37,286.309 \n",
       "  1039.37,285.809 1039.37,285.309 1039.37,284.809 1039.37,284.309 1039.37,283.808 1039.37,283.308 1039.37,282.808 1039.37,282.308 1039.37,281.808 1039.37,281.308 \n",
       "  1039.37,280.808 1039.37,280.307 1039.37,279.807 1039.37,279.307 1039.37,278.807 1039.37,278.307 1039.37,277.807 1039.37,277.307 1039.37,276.806 1039.37,276.306 \n",
       "  1039.37,275.806 1039.37,275.306 1039.37,274.806 1039.37,274.306 1039.37,273.806 1039.37,273.306 1039.37,272.805 1039.37,272.305 1039.37,271.805 1039.37,271.305 \n",
       "  1039.37,270.805 1039.37,270.305 1039.37,269.805 1039.37,269.304 1039.37,268.804 1039.37,268.304 1039.37,267.804 1039.37,267.304 1039.37,266.804 1039.37,266.304 \n",
       "  1039.37,265.803 1039.37,265.303 1039.37,264.803 1039.37,264.303 1039.37,263.803 1039.37,263.303 1039.37,262.803 1039.37,262.303 1039.37,261.802 1039.37,261.302 \n",
       "  1039.37,260.802 1039.37,260.302 1039.37,259.802 1039.37,259.302 1039.37,258.802 1039.37,258.301 1039.37,257.801 1039.37,257.301 1039.37,256.801 1039.37,256.301 \n",
       "  1039.37,255.801 1039.37,255.301 1039.37,254.8 1039.37,254.3 1039.37,253.8 1039.37,253.3 1039.37,252.8 1039.37,252.3 1039.37,251.8 1039.37,251.3 \n",
       "  1039.37,250.799 1039.37,250.299 1039.37,249.799 1039.37,249.299 1039.37,248.799 1039.37,248.299 1039.37,247.799 1039.37,247.298 1039.37,246.798 1039.37,246.298 \n",
       "  1039.37,245.798 1039.37,245.298 1039.37,244.798 1039.37,244.298 1039.37,243.798 1039.37,243.297 1039.37,242.797 1039.37,242.297 1039.37,241.797 1039.37,241.297 \n",
       "  1039.37,240.797 1039.37,240.297 1039.37,239.796 1039.37,239.296 1039.37,238.796 1039.37,238.296 1039.37,237.796 1039.37,237.296 1039.37,236.796 1039.37,236.295 \n",
       "  1039.37,235.795 1039.37,235.295 1039.37,234.795 1039.37,234.295 1039.37,233.795 1039.37,233.295 1039.37,232.795 1039.37,232.294 1039.37,231.794 1039.37,231.294 \n",
       "  1039.37,230.794 1039.37,230.294 1039.37,229.794 1039.37,229.294 1039.37,228.793 1039.37,228.293 1039.37,227.793 1039.37,227.293 1039.37,226.793 1039.37,226.293 \n",
       "  1039.37,225.793 1039.37,225.292 1039.37,224.792 1039.37,224.292 1039.37,223.792 1039.37,223.292 1039.37,222.792 1039.37,222.292 1039.37,221.792 1039.37,221.291 \n",
       "  1039.37,220.791 1039.37,220.291 1039.37,219.791 1039.37,219.291 1039.37,218.791 1039.37,218.291 1039.37,217.79 1039.37,217.29 1039.37,216.79 1039.37,216.29 \n",
       "  1039.37,215.79 1039.37,215.29 1039.37,214.79 1039.37,214.289 1039.37,213.789 1039.37,213.289 1039.37,212.789 1039.37,212.289 1039.37,211.789 1039.37,211.289 \n",
       "  1039.37,210.789 1039.37,210.288 1039.37,209.788 1039.37,209.288 1039.37,208.788 1039.37,208.288 1039.37,207.788 1039.37,207.288 1039.37,206.787 1039.37,206.287 \n",
       "  1039.37,205.787 1039.37,205.287 1039.37,204.787 1039.37,204.287 1039.37,203.787 1039.37,203.286 1039.37,202.786 1039.37,202.286 1039.37,201.786 1039.37,201.286 \n",
       "  1039.37,200.786 1039.37,200.286 1039.37,199.786 1039.37,199.285 1039.37,198.785 1039.37,198.285 1039.37,197.785 1039.37,197.285 1039.37,196.785 1039.37,196.285 \n",
       "  1039.37,195.784 1039.37,195.284 1039.37,194.784 1039.37,194.284 1039.37,193.784 1039.37,193.284 1039.37,192.784 1039.37,192.284 1039.37,191.783 1039.37,191.283 \n",
       "  1039.37,190.783 1039.37,190.283 1039.37,189.783 1039.37,189.283 1039.37,188.783 1039.37,188.282 1039.37,187.782 1039.37,187.282 1039.37,186.782 1039.37,186.282 \n",
       "  1039.37,185.782 1039.37,185.282 1039.37,184.781 1039.37,184.281 1039.37,183.781 1039.37,183.281 1039.37,182.781 1039.37,182.281 1039.37,181.781 1039.37,181.281 \n",
       "  1039.37,180.78 1039.37,180.28 1039.37,179.78 1039.37,179.28 1039.37,178.78 1039.37,178.28 1039.37,177.78 1039.37,177.279 1039.37,176.779 1039.37,176.279 \n",
       "  1039.37,175.779 1039.37,175.279 1039.37,174.779 1039.37,174.279 1039.37,173.778 1039.37,173.278 1039.37,172.778 1039.37,172.278 1039.37,171.778 1039.37,171.278 \n",
       "  1039.37,170.778 1039.37,170.278 1039.37,169.777 1039.37,169.277 1039.37,168.777 1039.37,168.277 1039.37,167.777 1039.37,167.277 1039.37,166.777 1039.37,166.276 \n",
       "  1039.37,165.776 1039.37,165.276 1039.37,164.776 1039.37,164.276 1039.37,163.776 1039.37,163.276 1039.37,162.775 1039.37,162.275 1039.37,161.775 1039.37,161.275 \n",
       "  1039.37,160.775 1039.37,160.275 1039.37,159.775 1039.37,159.275 1039.37,158.774 1039.37,158.274 1039.37,157.774 1039.37,157.274 1039.37,156.774 1039.37,156.274 \n",
       "  1039.37,155.774 1039.37,155.273 1039.37,154.773 1039.37,154.273 1039.37,153.773 1039.37,153.273 1039.37,152.773 1039.37,152.273 1039.37,151.772 1039.37,151.272 \n",
       "  1039.37,150.772 1039.37,150.272 1039.37,149.772 1039.37,149.272 1039.37,148.772 1039.37,148.272 1039.37,147.771 1039.37,147.271 1039.37,146.771 1039.37,146.271 \n",
       "  1039.37,145.771 1039.37,145.271 1039.37,144.771 1039.37,144.27 1039.37,143.77 1039.37,143.27 1039.37,142.77 1039.37,142.27 1039.37,141.77 1039.37,141.27 \n",
       "  1039.37,140.77 1039.37,140.269 1039.37,139.769 1039.37,139.269 1039.37,138.769 1039.37,138.269 1039.37,137.769 1039.37,137.269 1039.37,136.768 1039.37,136.268 \n",
       "  1039.37,135.768 1039.37,135.268 1039.37,134.768 1039.37,134.268 1039.37,133.768 1039.37,133.267 1039.37,132.767 1039.37,132.267 1039.37,131.767 1039.37,131.267 \n",
       "  1039.37,130.767 1039.37,130.267 1039.37,129.767 1039.37,129.266 1039.37,128.766 1039.37,128.266 1039.37,127.766 1039.37,127.266 1039.37,126.766 1039.37,126.266 \n",
       "  1039.37,125.765 1039.37,125.265 1039.37,124.765 1039.37,124.265 1039.37,123.765 1039.37,123.265 1039.37,122.765 1039.37,122.264 1039.37,121.764 1039.37,121.264 \n",
       "  1039.37,120.764 1039.37,120.264 1039.37,119.764 1039.37,119.264 1039.37,118.764 1039.37,118.263 1039.37,117.763 1039.37,117.263 1039.37,116.763 1039.37,116.263 \n",
       "  1039.37,115.763 1039.37,115.263 1039.37,114.762 1039.37,114.262 1039.37,113.762 1039.37,113.262 1039.37,112.762 1039.37,112.262 1039.37,111.762 1039.37,111.261 \n",
       "  1039.37,110.761 1039.37,110.261 1039.37,109.761 1039.37,109.261 1039.37,108.761 1039.37,108.261 1039.37,107.761 1039.37,107.26 1039.37,106.76 1039.37,106.26 \n",
       "  1039.37,105.76 1039.37,105.26 1039.37,104.76 1039.37,104.26 1039.37,103.759 1039.37,103.259 1039.37,102.759 1039.37,102.259 1039.37,101.759 1039.37,101.259 \n",
       "  1039.37,100.759 1039.37,100.258 1039.37,99.7584 1039.37,99.2582 1039.37,98.7581 1039.37,98.258 1039.37,97.7578 1039.37,97.2577 1039.37,96.7575 1039.37,96.2574 \n",
       "  1039.37,95.7573 1039.37,95.2571 1039.37,94.757 1039.37,94.2569 1039.37,93.7567 1039.37,93.2566 1039.37,92.7565 1039.37,92.2563 1039.37,91.7562 1039.37,91.2561 \n",
       "  1039.37,90.7559 1039.37,90.2558 1039.37,89.7556 1039.37,89.2555 1039.37,88.7554 1039.37,88.2552 1039.37,87.7551 1039.37,87.255 1039.37,86.7548 1039.37,86.2547 \n",
       "  \n",
       "  \"/>\n",
       "<path clip-path=\"url(#clip4400)\" d=\"\n",
       "M1957.82 312.204 L2280.76 312.204 L2280.76 130.764 L1957.82 130.764  Z\n",
       "  \" fill=\"#ffffff\" fill-rule=\"evenodd\" fill-opacity=\"1\"/>\n",
       "<polyline clip-path=\"url(#clip4400)\" style=\"stroke:#000000; stroke-width:4; stroke-opacity:1; fill:none\" points=\"\n",
       "  1957.82,312.204 2280.76,312.204 2280.76,130.764 1957.82,130.764 1957.82,312.204 \n",
       "  \"/>\n",
       "<path clip-path=\"url(#clip4400)\" d=\"\n",
       "M1981.82 215.436 L2125.82 215.436 L2125.82 167.052 L1981.82 167.052 L1981.82 215.436  Z\n",
       "  \" fill=\"#009af9\" fill-rule=\"evenodd\" fill-opacity=\"0.5\"/>\n",
       "<polyline clip-path=\"url(#clip4400)\" style=\"stroke:#000000; stroke-width:4; stroke-opacity:1; fill:none\" points=\"\n",
       "  1981.82,215.436 2125.82,215.436 2125.82,167.052 1981.82,167.052 1981.82,215.436 \n",
       "  \"/>\n",
       "<g clip-path=\"url(#clip4400)\">\n",
       "<text style=\"fill:#000000; fill-opacity:1; font-family:Arial,Helvetica Neue,Helvetica,sans-serif; font-size:48px; text-anchor:start;\" transform=\"rotate(0, 2149.82, 208.744)\" x=\"2149.82\" y=\"208.744\">chi</text>\n",
       "</g>\n",
       "<polyline clip-path=\"url(#clip4400)\" style=\"stroke:#000000; stroke-width:12; stroke-opacity:1; fill:none\" stroke-dasharray=\"6, 12\" points=\"\n",
       "  1981.82,251.724 2125.82,251.724 \n",
       "  \"/>\n",
       "<g clip-path=\"url(#clip4400)\">\n",
       "<text style=\"fill:#000000; fill-opacity:1; font-family:Arial,Helvetica Neue,Helvetica,sans-serif; font-size:48px; text-anchor:start;\" transform=\"rotate(0, 2149.82, 269.224)\" x=\"2149.82\" y=\"269.224\">true</text>\n",
       "</g>\n",
       "</svg>\n"
      ]
     },
     "execution_count": 87,
     "metadata": {},
     "output_type": "execute_result"
    }
   ],
   "source": [
    "burn_in = Int(mc_step/2)\n",
    "true_height = 2600\n",
    "\n",
    "p1 = plot(B40_list_chi[burn_in:end,end],st=:histogram,label=\"chi\",alpha=0.5,color=palette(:default)[1]) #yaxis=:logでlog\n",
    "p1 = plot!(xlabel=\"B40\",ylabel=\"Number of acceptance\")\n",
    "p1 = plot!(B40_true*ones(true_height),collect(1:true_height), linestyle=:dot,linewidth = 3,label=\"true\",color=:black)"
   ]
  },
  {
   "cell_type": "code",
   "execution_count": 89,
   "id": "c03d3399",
   "metadata": {
    "ExecuteTime": {
     "end_time": "2022-01-20T22:58:06.332000+09:00",
     "start_time": "2022-01-20T13:58:06.318Z"
    }
   },
   "outputs": [],
   "source": [
    "savefig(path * \"chi_hist.pdf\")"
   ]
  },
  {
   "cell_type": "markdown",
   "id": "73f2fcf5",
   "metadata": {},
   "source": [
    "# 平均、分散"
   ]
  },
  {
   "cell_type": "code",
   "execution_count": 90,
   "id": "47e97cb0",
   "metadata": {
    "ExecuteTime": {
     "end_time": "2022-01-20T22:58:45.042000+09:00",
     "start_time": "2022-01-20T13:58:45.037Z"
    }
   },
   "outputs": [
    {
     "data": {
      "text/plain": [
       "0.11759090382822131"
      ]
     },
     "execution_count": 90,
     "metadata": {},
     "output_type": "execute_result"
    }
   ],
   "source": [
    "chi_mean = mean(B40_list_chi[burn_in:end,end])\n",
    "chi_mean"
   ]
  },
  {
   "cell_type": "code",
   "execution_count": 91,
   "id": "77d213ab",
   "metadata": {
    "ExecuteTime": {
     "end_time": "2022-01-20T22:58:59.922000+09:00",
     "start_time": "2022-01-20T13:58:59.913Z"
    }
   },
   "outputs": [
    {
     "data": {
      "text/plain": [
       "0.0009698521108858111"
      ]
     },
     "execution_count": 91,
     "metadata": {},
     "output_type": "execute_result"
    }
   ],
   "source": [
    "chi_std = std(B40_list_chi[burn_in:end,end])\n",
    "chi_std"
   ]
  },
  {
   "cell_type": "code",
   "execution_count": 92,
   "id": "96f9e37d",
   "metadata": {
    "ExecuteTime": {
     "end_time": "2022-01-20T22:59:12.643000+09:00",
     "start_time": "2022-01-20T13:59:12.598Z"
    }
   },
   "outputs": [
    {
     "data": {
      "text/html": [
       "<div class=\"data-frame\"><p>1 rows × 2 columns</p><table class=\"data-frame\"><thead><tr><th></th><th>mean</th><th>std</th></tr><tr><th></th><th title=\"Float64\">Float64</th><th title=\"Float64\">Float64</th></tr></thead><tbody><tr><th>1</th><td>0.117591</td><td>0.000969852</td></tr></tbody></table></div>"
      ],
      "text/latex": [
       "\\begin{tabular}{r|cc}\n",
       "\t& mean & std\\\\\n",
       "\t\\hline\n",
       "\t& Float64 & Float64\\\\\n",
       "\t\\hline\n",
       "\t1 & 0.117591 & 0.000969852 \\\\\n",
       "\\end{tabular}\n"
      ],
      "text/plain": [
       "\u001b[1m1×2 DataFrame\u001b[0m\n",
       "\u001b[1m Row \u001b[0m│\u001b[1m mean     \u001b[0m\u001b[1m std         \u001b[0m\n",
       "\u001b[1m     \u001b[0m│\u001b[90m Float64  \u001b[0m\u001b[90m Float64     \u001b[0m\n",
       "─────┼───────────────────────\n",
       "   1 │ 0.117591  0.000969852"
      ]
     },
     "execution_count": 92,
     "metadata": {},
     "output_type": "execute_result"
    }
   ],
   "source": [
    "df_mean_std = DataFrame(\n",
    "    mean = chi_mean,\n",
    "    std = chi_std\n",
    ")"
   ]
  },
  {
   "cell_type": "code",
   "execution_count": 93,
   "id": "bfbaa1f4",
   "metadata": {
    "ExecuteTime": {
     "end_time": "2022-01-20T22:59:24.443000+09:00",
     "start_time": "2022-01-20T13:59:24.333Z"
    }
   },
   "outputs": [
    {
     "data": {
      "text/plain": [
       "\"/Users/nishimurarei/home/lab/data/cubic_data/check/chi/mean_std_chi.csv\""
      ]
     },
     "execution_count": 93,
     "metadata": {},
     "output_type": "execute_result"
    }
   ],
   "source": [
    "df_mean_std |> CSV.write(path * \"mean_std_chi.csv\",delim=\",\",writeheader=true)"
   ]
  },
  {
   "cell_type": "code",
   "execution_count": null,
   "id": "4cc20b54",
   "metadata": {},
   "outputs": [],
   "source": []
  }
 ],
 "metadata": {
  "kernelspec": {
   "display_name": "Julia 36 Threads 1.9.0",
   "language": "julia",
   "name": "julia-36-threads-1.9"
  },
  "language_info": {
   "file_extension": ".jl",
   "mimetype": "application/julia",
   "name": "julia",
   "version": "1.6.2"
  },
  "latex_envs": {
   "LaTeX_envs_menu_present": true,
   "autoclose": false,
   "autocomplete": true,
   "bibliofile": "biblio.bib",
   "cite_by": "apalike",
   "current_citInitial": 1,
   "eqLabelWithNumbers": true,
   "eqNumInitial": 1,
   "hotkeys": {
    "equation": "Ctrl-E",
    "itemize": "Ctrl-I"
   },
   "labels_anchors": false,
   "latex_user_defs": false,
   "report_style_numbering": false,
   "user_envs_cfg": false
  },
  "toc": {
   "base_numbering": 1,
   "nav_menu": {},
   "number_sections": true,
   "sideBar": true,
   "skip_h1_title": false,
   "title_cell": "Table of Contents",
   "title_sidebar": "Contents",
   "toc_cell": false,
   "toc_position": {
    "height": "calc(100% - 180px)",
    "left": "10px",
    "top": "150px",
    "width": "398.212px"
   },
   "toc_section_display": true,
   "toc_window_display": true
  }
 },
 "nbformat": 4,
 "nbformat_minor": 5
}
