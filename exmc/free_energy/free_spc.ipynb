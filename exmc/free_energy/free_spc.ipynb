{
 "cells": [
  {
   "cell_type": "code",
   "execution_count": 1,
   "metadata": {},
   "outputs": [
    {
     "data": {
      "text/plain": [
       "Plots.GRBackend()"
      ]
     },
     "metadata": {},
     "output_type": "display_data"
    }
   ],
   "source": [
    "using Distributions\n",
    "using Random\n",
    "using LinearAlgebra\n",
    "using Plots\n",
    "using StatsBase\n",
    "using LaTeXStrings\n",
    "using DataFrames\n",
    "using CSV\n",
    "using Base.Threads\n",
    "using HDF5\n",
    "gr()"
   ]
  },
  {
   "cell_type": "code",
   "execution_count": 2,
   "metadata": {},
   "outputs": [
    {
     "data": {
      "text/plain": [
       "read_file_spc (generic function with 1 method)"
      ]
     },
     "metadata": {},
     "output_type": "display_data"
    }
   ],
   "source": [
    "# サンプリングパラメータ読み込み\n",
    "function read_para(read_path)\n",
    "    para_df = CSV.read(read_path, DataFrame)\n",
    "    para = Matrix(para_df[:,:])\n",
    "    return para\n",
    "end\n",
    "\n",
    "# 本データ読み込み\n",
    "function read_file_spc(file_path)\n",
    "    file = h5open(file_path, \"r\")\n",
    "    data = read(file, \"spc\")\n",
    "    return data\n",
    "end"
   ]
  },
  {
   "cell_type": "code",
   "execution_count": 3,
   "metadata": {},
   "outputs": [
    {
     "data": {
      "text/plain": [
       "make_beta (generic function with 1 method)"
      ]
     },
     "metadata": {},
     "output_type": "display_data"
    }
   ],
   "source": [
    "function make_beta(gamma,L)\n",
    "    #最初は等差で決定\n",
    "    beta_list = gamma.^( (2:1:L) .- (L) )\n",
    "    beta_list = pushfirst!(beta_list, 0.0)\n",
    "    return beta_list\n",
    "end"
   ]
  },
  {
   "cell_type": "code",
   "execution_count": 37,
   "metadata": {},
   "outputs": [
    {
     "data": {
      "text/plain": [
       "error_spc_list (generic function with 1 method)"
      ]
     },
     "metadata": {},
     "output_type": "display_data"
    }
   ],
   "source": [
    "#データ数\n",
    "function data_num_spc()\n",
    "    n_spc = 350\n",
    "    return n_spc\n",
    "end\n",
    "n_spc = data_num_spc()\n",
    "\n",
    "#各種結晶場パラメータ\n",
    "function ini()\n",
    "    # Hund's Rule Ground J-Multiplet Ce3+ n4f=1\n",
    "    n4f = 1.0\n",
    "    L = 3.0\n",
    "    S = 0.5\n",
    "    J = L - S\n",
    "    g = 1.0 + (J * (J + 1.0) + S * (S + 1.0) - L * (L + 1.0)) / (2.0 * J * (J + 1.0))\n",
    "    Jz = [2.5, 1.5, 0.5, -0.5, -1.5, -2.5]\n",
    "    return J, g, Jz\n",
    "end\n",
    "\n",
    "#温度配列\n",
    "function temp()\n",
    "    Temp_table_spc = collect(0.2:0.2:70) # length 350\n",
    "    return Temp_table_spc\n",
    "end\n",
    "\n",
    "#結晶場行列\n",
    "function Onn_make(B40)\n",
    "    # O40\n",
    "    O40_vec_x = [60.0, -180.0, 120.0, 120.0, -180.0, 60.0]\n",
    "    O40_vec = O40_vec_x * B40\n",
    "    O40 = diagm(0 => O40_vec)\n",
    "    Onn = O40\n",
    "    # O44\n",
    "    B44 = 5 * B40\n",
    "    O44_value = sqrt(120.0 * 24.0) * B44 / 2.0\n",
    "    Onn[5,1] = O44_value\n",
    "    Onn[6,2] = O44_value\n",
    "    Onn[1,5] = O44_value\n",
    "    Onn[2,6] = O44_value\n",
    "    return Onn\n",
    "end\n",
    "\n",
    "function spc(Onn)\n",
    "    #パラメータ読み込み\n",
    "    _, g, _ = ini()\n",
    "\n",
    "    # 非対角要素\n",
    "    Hmag_vec_1 = sqrt.([5,8,9,8,5]) * (1 + 1*im) * 5 * g * 0.67171 / 2\n",
    "    Hmag_1 = diagm(1 => Hmag_vec_1)\n",
    "    Hmag_2 = diagm(-1 => conj.(Hmag_vec_1))\n",
    "    Hmag = Hmag_1 + Hmag_2\n",
    "\n",
    "    #結晶場＋磁場ハミルトニアンの行列要素\n",
    "    H = Onn + Hmag\n",
    "\n",
    "    eigval, eigvec = eigen(H)\n",
    "\n",
    "    Temp_table_spc = temp()\n",
    "    SpcHeat_Temp = zeros(length(Temp_table_spc))\n",
    "    \n",
    "    @inbounds for (i, Temp) in enumerate(Temp_table_spc)\n",
    "        eigval_2 = - eigval / Temp\n",
    "        eigval_2_max = maximum(eigval_2)\n",
    "        eigval_ratio = eigval_2 .- eigval_2_max\n",
    "        exp_eigval = exp.(eigval_ratio)\n",
    "\n",
    "        Z0 = sum(exp_eigval)\n",
    "        Z1 = sum(eigval_2 .* exp_eigval)\n",
    "        Z2 = sum(eigval_2.^2 .* exp_eigval)\n",
    "        \n",
    "        SpcHeat=(- (Z1/Z0)^2 + (Z2/Z0) )*8.31441\n",
    "        SpcHeat_Temp[i] = SpcHeat\n",
    "    end\n",
    "    return SpcHeat_Temp\n",
    "end\n",
    "\n",
    "function error_spc(B40, SpcHeat_Temp_noise)\n",
    "    error_value = sum((SpcHeat_Temp_noise - spc(Onn_make(B40))).^2)/(2*n_spc)\n",
    "    return error_value\n",
    "end\n",
    "\n",
    "function error_spc_list(para_list, SpcHeat_Temp_noise)\n",
    "    error_list = zeros(size(para_list)[1],size(para_list)[2])\n",
    "    @threads for i in 1:size(para_list)[1]\n",
    "        for j in 1:size(para_list)[2]\n",
    "            error_list[i,j] = error_spc(para_list[i,j], SpcHeat_Temp_noise)\n",
    "        end\n",
    "    end\n",
    "    return error_list\n",
    "end"
   ]
  },
  {
   "cell_type": "code",
   "execution_count": 38,
   "metadata": {},
   "outputs": [
    {
     "data": {
      "text/plain": [
       "find_free_energy_spc (generic function with 1 method)"
      ]
     },
     "metadata": {},
     "output_type": "display_data"
    }
   ],
   "source": [
    "function find_free_energy_spc(error, b_spc, gamma, L)\n",
    "    # 温度リスト\n",
    "    beta = make_beta(gamma, L)\n",
    "    #温度差\n",
    "    beta_dif = beta[2:end] - beta[1:end-1]\n",
    "    \n",
    "    #温度差をかける\n",
    "    for replica in 1:L-1\n",
    "        error[:,replica] *= beta_dif[replica]\n",
    "    end\n",
    "    \n",
    "    #n,noiseをかける\n",
    "    error *= - n_spc * b_spc\n",
    "    \n",
    "    #最大値取得\n",
    "    error_max = zeros(L-1)\n",
    "    for replica in 1:L-1\n",
    "        error_max[replica] = maximum(error[:,replica])\n",
    "    end\n",
    "    \n",
    "    #最大値で引いたエネルギー関数\n",
    "    error_dif = copy(error)\n",
    "    for replica in 1:L-1\n",
    "        error_dif[:,replica] = error[:,replica] .- error_max[replica]\n",
    "    end\n",
    "    \n",
    "    #期待値計算\n",
    "    log_exp_sum = zeros(L-1)\n",
    "    for replica in 1:L-1\n",
    "        log_exp_sum[replica] = log(sum(exp.(error_dif)[:,replica]))\n",
    "    end\n",
    "    \n",
    "    #各レプリカでの自由エネルギー期待値\n",
    "    free_energy_for_replica = -(- log(size(error)[1]) .+  error_max .+ log_exp_sum)\n",
    "    \n",
    "    #最終的な自由エネルギー(足し算)\n",
    "    free_energy = sum(free_energy_for_replica) - n_spc/2*(log(b_spc)-log(2*pi))\n",
    "    \n",
    "    return free_energy\n",
    "end"
   ]
  },
  {
   "cell_type": "code",
   "execution_count": 49,
   "metadata": {},
   "outputs": [
    {
     "data": {
      "text/plain": [
       "main (generic function with 3 methods)"
      ]
     },
     "metadata": {},
     "output_type": "display_data"
    }
   ],
   "source": [
    "function main(para_path, data_path, save_path)\n",
    "    para = read_para(para_path)\n",
    "    SpcHeat_Temp_noise = read_file_spc(data_path)\n",
    "\n",
    "    b_spc = 10^(5)\n",
    "    error_list = error_spc_list(para, SpcHeat_Temp_noise)\n",
    "\n",
    "    #レプリカ数\n",
    "    L = 40\n",
    "    #逆温度間隔決定\n",
    "    gamma = 1.4\n",
    "    # 自由エネルギー\n",
    "    free_energy = find_free_energy_spc(error_list, b_spc, gamma, L)\n",
    "\n",
    "    # データフレームに書き出し\n",
    "    df_error = DataFrame(error_list, :auto)\n",
    "    df_error |> CSV.write(save_path * \"error.csv\",writeheader=true)\n",
    "\n",
    "    free_path = save_path * \"free.h5\"\n",
    "    h5open(free_path, \"w\") do file\n",
    "        write(file,\"free\",free_energy)\n",
    "    end\n",
    "\n",
    "    print(\"free_energy=\", free_energy)\n",
    "end"
   ]
  },
  {
   "cell_type": "code",
   "execution_count": 50,
   "metadata": {},
   "outputs": [
    {
     "name": "stdout",
     "output_type": "stream",
     "text": [
      "free_energy=136403.31305216477"
     ]
    },
    {
     "ename": "MethodError",
     "evalue": "MethodError: no method matching iterate(::Nothing)\nClosest candidates are:\n  iterate(!Matched::Union{LinRange, StepRangeLen}) at range.jl:664\n  iterate(!Matched::Union{LinRange, StepRangeLen}, !Matched::Int64) at range.jl:664\n  iterate(!Matched::T) where T<:Union{Base.KeySet{var\"#s79\", var\"#s78\"} where {var\"#s79\", var\"#s78\"<:Dict}, Base.ValueIterator{var\"#s77\"} where var\"#s77\"<:Dict} at dict.jl:693\n  ...",
     "output_type": "error",
     "traceback": [
      "MethodError: no method matching iterate(::Nothing)\n",
      "Closest candidates are:\n",
      "  iterate(!Matched::Union{LinRange, StepRangeLen}) at range.jl:664\n",
      "  iterate(!Matched::Union{LinRange, StepRangeLen}, !Matched::Int64) at range.jl:664\n",
      "  iterate(!Matched::T) where T<:Union{Base.KeySet{var\"#s79\", var\"#s78\"} where {var\"#s79\", var\"#s78\"<:Dict}, Base.ValueIterator{var\"#s77\"} where var\"#s77\"<:Dict} at dict.jl:693\n",
      "  ...\n",
      "\n",
      "Stacktrace:\n",
      " [1] indexed_iterate(I::Nothing, i::Int64)\n",
      "   @ Base ./tuple.jl:89\n",
      " [2] top-level scope\n",
      "   @ ~/home/lab_research_1/exmc/free_energy/free_spc.ipynb:7"
     ]
    }
   ],
   "source": [
    "data_path = \"/Users/test/home/lab_research_1/data_make/data/spc/spc_1.h5\"\n",
    "\n",
    "para_path = \"/Users/test/home/lab_research_1/exmc/result/spc/spc1_B40.csv\"\n",
    "\n",
    "save_path = \"/Users/test/home/lab_research_1/exmc/free_energy_check/spc/spc1_\"\n",
    "\n",
    "para1, error_list1, free_energy1 = main(para_path, data_path, save_path)"
   ]
  },
  {
   "cell_type": "code",
   "execution_count": 42,
   "metadata": {},
   "outputs": [
    {
     "data": {
      "text/plain": [
       "136403.31305216477"
      ]
     },
     "metadata": {},
     "output_type": "display_data"
    }
   ],
   "source": [
    "free_energy1"
   ]
  },
  {
   "cell_type": "code",
   "execution_count": 43,
   "metadata": {},
   "outputs": [
    {
     "data": {
      "text/plain": [
       "100×40 Matrix{Float64}:\n",
       " 4.7079e-6   1.89361e-6  2.69469e-6  …  1.01003e-6  3.16697e-6  4.94913e-6\n",
       " 4.71739e-6  1.948e-6    2.89333e-6     2.26212e-6  3.16697e-6  2.38685e-5\n",
       " 5.12051e-6  2.07077e-6  2.63576e-6     6.66041e-6  6.81956e-6  6.26109e-6\n",
       " 5.08368e-6  1.88383e-6  2.71704e-6     1.88052e-6  3.16697e-6  6.26109e-6\n",
       " 4.74382e-6  1.89595e-6  3.0271e-6      1.27777e-6  1.41404e-6  2.38685e-5\n",
       " 4.80184e-6  2.21068e-6  2.63762e-6  …  1.01003e-6  9.32458e-6  2.38685e-5\n",
       " 5.50013e-6  1.88329e-6  3.20325e-6     1.48136e-5  1.41404e-6  3.2636e-5\n",
       " 5.42419e-6  2.70125e-6  2.66397e-6     9.97928e-6  1.78888e-6  1.10844e-5\n",
       " 6.95008e-6  2.0237e-6   2.84686e-6     6.66041e-6  1.56017e-5  9.21456e-6\n",
       " 4.96867e-6  2.02817e-6  4.17697e-6     1.11441e-5  2.10898e-6  4.94913e-6\n",
       " ⋮                                   ⋱                          \n",
       " 6.58896e-6  1.93023e-6  4.99893e-6     5.60141e-5  3.9965e-5   3.2636e-5\n",
       " 4.71739e-6  3.27173e-6  2.71304e-6     1.62647e-5  1.06201e-5  6.26109e-6\n",
       " 7.83195e-6  1.98107e-6  3.89768e-6     2.85464e-5  3.16697e-6  6.26109e-6\n",
       " 4.79437e-6  2.90098e-6  2.72952e-6     1.01003e-6  2.07391e-5  9.21456e-6\n",
       " 7.35325e-6  1.98107e-6  3.86629e-6  …  3.19976e-5  1.41404e-6  6.26109e-6\n",
       " 4.85646e-6  2.84762e-6  3.07352e-6     1.27777e-6  2.63273e-6  7.38142e-6\n",
       " 7.03189e-6  2.03459e-6  2.92126e-6     9.97928e-6  3.16697e-6  6.26109e-6\n",
       " 5.25429e-6  1.99577e-6  3.36392e-6     1.88052e-6  1.3971e-5   3.71703e-5\n",
       " 5.27898e-6  2.50889e-6  2.64458e-6     6.66041e-6  9.32458e-6  7.38142e-6"
      ]
     },
     "metadata": {},
     "output_type": "display_data"
    }
   ],
   "source": [
    "error_list1"
   ]
  },
  {
   "cell_type": "code",
   "execution_count": null,
   "metadata": {},
   "outputs": [],
   "source": [
    "## 採択率・交換率\n",
    "df_error = DataFrame(error_list, :auto)\n",
    "df_free_energy = DataFrame(free_energy, :auto)\n",
    "\n",
    "\n",
    "df_ac_ex |> CSV.write(path * \"error.csv\",writeheader=true)\n",
    "df_para_B40 |> CSV.write(path * \"free_energy.csv\",writeheader=true)"
   ]
  }
 ],
 "metadata": {
  "kernelspec": {
   "display_name": "Julia 1.6.2",
   "language": "julia",
   "name": "julia-1.6"
  },
  "language_info": {
   "file_extension": ".jl",
   "mimetype": "application/julia",
   "name": "julia",
   "version": "1.6.2"
  },
  "orig_nbformat": 4
 },
 "nbformat": 4,
 "nbformat_minor": 2
}
